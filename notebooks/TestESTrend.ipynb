{
 "cells": [
  {
   "cell_type": "markdown",
   "metadata": {},
   "source": [
    "# Test the Trend Index"
   ]
  },
  {
   "cell_type": "markdown",
   "metadata": {},
   "source": [
    "## Check if index is up!"
   ]
  },
  {
   "cell_type": "code",
   "execution_count": 1,
   "metadata": {
    "collapsed": false
   },
   "outputs": [
    {
     "name": "stdout",
     "output_type": "stream",
     "text": [
      "{\n",
      "  \"name\" : \"loGu88Z\",\n",
      "  \"cluster_name\" : \"foodmap-cluster\",\n",
      "  \"cluster_uuid\" : \"u6p1OlcKS8K0ulvvGBdVKw\",\n",
      "  \"version\" : {\n",
      "    \"number\" : \"5.4.0\",\n",
      "    \"build_hash\" : \"780f8c4\",\n",
      "    \"build_date\" : \"2017-04-28T17:43:27.229Z\",\n",
      "    \"build_snapshot\" : false,\n",
      "    \"lucene_version\" : \"6.5.0\"\n",
      "  },\n",
      "  \"tagline\" : \"You Know, for Search\"\n",
      "}\n",
      "\n"
     ]
    }
   ],
   "source": [
    "import requests\n",
    "res = requests.get('http://foodmap.isti.cnr.it:9200', auth=('elastic', 'changeme'))\n",
    "print(res.content)"
   ]
  },
  {
   "cell_type": "code",
   "execution_count": 2,
   "metadata": {
    "collapsed": false
   },
   "outputs": [
    {
     "name": "stdout",
     "output_type": "stream",
     "text": [
      "<Elasticsearch([{u'host': u'foodmap.isti.cnr.it'}])>\n"
     ]
    }
   ],
   "source": [
    "from elasticsearch import Elasticsearch\n",
    "es = Elasticsearch(['foodmap.isti.cnr.it'], http_auth=('elastic', 'changeme'), port=9200)\n",
    "print es"
   ]
  },
  {
   "cell_type": "markdown",
   "metadata": {},
   "source": [
    "## Index operations"
   ]
  },
  {
   "cell_type": "markdown",
   "metadata": {},
   "source": [
    "#### Delete index, delete tweets by id and query"
   ]
  },
  {
   "cell_type": "code",
   "execution_count": 3,
   "metadata": {
    "collapsed": false
   },
   "outputs": [
    {
     "data": {
      "text/plain": [
       "{u'acknowledged': True}"
      ]
     },
     "execution_count": 3,
     "metadata": {},
     "output_type": "execute_result"
    }
   ],
   "source": [
    "# es.indices.delete(index='trend', ignore=[400, 404])"
   ]
  },
  {
   "cell_type": "code",
   "execution_count": null,
   "metadata": {
    "collapsed": false
   },
   "outputs": [],
   "source": [
    "# es.delete_by_query(index='trend', doc_type='tweet', body={\n",
    "#     'query': {\n",
    "#         \"match_all\" : {}\n",
    "#     }\n",
    "# })"
   ]
  },
  {
   "cell_type": "markdown",
   "metadata": {},
   "source": [
    "#### Count elements in index"
   ]
  },
  {
   "cell_type": "code",
   "execution_count": 12,
   "metadata": {
    "collapsed": false
   },
   "outputs": [
    {
     "data": {
      "text/plain": [
       "{u'_shards': {u'failed': 0, u'successful': 5, u'total': 5}, u'count': 211}"
      ]
     },
     "execution_count": 12,
     "metadata": {},
     "output_type": "execute_result"
    }
   ],
   "source": [
    "es.count(index='trend', doc_type='tweet')"
   ]
  },
  {
   "cell_type": "markdown",
   "metadata": {},
   "source": [
    "#### GET all docs from index"
   ]
  },
  {
   "cell_type": "code",
   "execution_count": 8,
   "metadata": {
    "collapsed": false,
    "scrolled": false
   },
   "outputs": [
    {
     "name": "stdout",
     "output_type": "stream",
     "text": [
      "{u'_score': 1.0, u'_type': u'tweet', u'_id': u'840193402264309760', u'_source': {u'username': u'PeggySueCordoba', u'lang': u'en', u'text_categories': [u' pancakes'], u'city': u'C\\xf3rdoba', u'text': u'Partners in crime... \\U0001f52a #peggysues #peggysuescordoba #tortitas #pancakes #pancakestower #cordoba\\u2026 https://t.co/rBnOlZr29e', u'img_categories': None, u'hashtags': [u'#peggysues', u'#peggysuescordoba', u'#tortitas', u'#pancakes', u'#pancakestower', u'#cordoba\\u2026'], u'img_flag': True, u'timestamp_ms': u'1489152691795', u'bounding_box': {u'type': u'Polygon', u'coordinates': [[[-4.99701, 37.664255], [-4.99701, 38.030946], [-4.351492, 38.030946], [-4.351492, 37.664255]]]}, u'coords': [-4.78169551, 37.88771891], u'id_str': u'840193402264309760', u'country': u'Espa\\xf1a', u'id': 840193402264309760, u'created_at_day': 20170310, u'created_at_datetime': u'2017-03-10T13:31:31', u'media_url': None}, u'_index': u'trend'}\n",
      "\n",
      "{u'_score': 1.0, u'_type': u'tweet', u'_id': u'840193469863854080', u'_source': {u'username': u'itskenric', u'lang': u'en', u'text_categories': [u' ice cream'], u'city': None, u'text': u'Fav\\U0001f495\\nFollow @itskenric for more!\\n#icecream #chocolate #sweets #desserts #brown #magnum\\u2026 https://t.co/M1MuWJRRZY', u'img_categories': None, u'hashtags': [u'#icecream', u'#chocolate', u'#sweets', u'#desserts', u'#brown', u'#magnum\\u2026'], u'img_flag': True, u'timestamp_ms': u'1489152707912', u'bounding_box': None, u'coords': None, u'id_str': u'840193469863854080', u'country': u'philippines', u'id': 840193469863854080, u'created_at_day': 20170310, u'created_at_datetime': u'2017-03-10T13:31:47', u'media_url': None}, u'_index': u'trend'}\n",
      "\n",
      "{u'_score': 1.0, u'_type': u'tweet', u'_id': u'840193473563283456', u'_source': {u'username': u'avorteps', u'lang': u'en', u'text_categories': [u' pizza'], u'city': u'cardiff', u'text': u'RT @tidy_world: Chech out our amazing #recipe for #earth #pizza! View the full video on ur facebook page: https://t.co/QzO6eEvhQe https://t\\u2026', u'img_categories': None, u'hashtags': [u'#recipe', u'#earth', u'#pizza'], u'img_flag': True, u'timestamp_ms': u'1489152708794', u'bounding_box': None, u'coords': None, u'id_str': u'840193473563283456', u'country': u'united kingdom', u'id': 840193473563283456, u'created_at_day': 20170310, u'created_at_datetime': u'2017-03-10T13:31:48', u'media_url': None}, u'_index': u'trend'}\n",
      "\n",
      "{u'_score': 1.0, u'_type': u'tweet', u'_id': u'840193671605678080', u'_source': {u'username': u'hendiaditia89', u'lang': u'en', u'text_categories': [u' pizza'], u'city': None, u'text': u'again.This.. \\U0001f355\\U0001f355\\U0001f60e\\U0001f618 #notbored #pizza #sweetestthings #fridaymate #instafood https://t.co/hkdTflJZ4L', u'img_categories': None, u'hashtags': [u'#notbored', u'#pizza', u'#sweetestthings', u'#fridaymate', u'#instafood'], u'img_flag': True, u'timestamp_ms': u'1489152756011', u'bounding_box': None, u'coords': None, u'id_str': u'840193671605678080', u'country': u'indonesia', u'id': 840193671605678080, u'created_at_day': 20170310, u'created_at_datetime': u'2017-03-10T13:32:36', u'media_url': None}, u'_index': u'trend'}\n",
      "\n",
      "{u'_score': 1.0, u'_type': u'tweet', u'_id': u'840193701389488128', u'_source': {u'username': u'bakery_fantasy', u'lang': u'und', u'text_categories': [u' cup cakes'], u'city': u'san jos\\xe9', u'text': u'#bakeryfantasy #quequedesnudo #quequeboda #queque #pastel #pasteldesnudo #cupcakes #galletas #mesasdulces https://t.co/FvKeWE8rRY', u'img_categories': [], u'hashtags': [u'#bakeryfantasy', u'#quequedesnudo', u'#quequeboda', u'#queque', u'#pastel', u'#pasteldesnudo', u'#cupcakes', u'#galletas', u'#mesasdulces'], u'img_flag': False, u'timestamp_ms': u'1489152763112', u'bounding_box': None, u'coords': None, u'id_str': u'840193701389488128', u'country': u'costa rica', u'id': 840193701389488128, u'created_at_day': 20170310, u'created_at_datetime': u'2017-03-10T13:32:43', u'media_url': u'http://pbs.twimg.com/media/C6j3jGHXAAA0WSX.jpg'}, u'_index': u'trend'}\n",
      "\n",
      "{u'_score': 1.0, u'_type': u'tweet', u'_id': u'840193771904086017', u'_source': {u'username': u'49_5235272', u'lang': u'en', u'text_categories': [u' foie gras'], u'city': u'idar-oberstein', u'text': u'RT @awkward_1110: .@Fortnums Stop selling foie gras and making money from animal torture! #banfoiegras @TheSun @Telegraph #foiegras @Conser\\u2026', u'img_categories': None, u'hashtags': [u'#banfoiegras', u'#foiegras'], u'img_flag': True, u'timestamp_ms': u'1489152779924', u'bounding_box': None, u'coords': None, u'id_str': u'840193771904086017', u'country': u'germany', u'id': 840193771904086017, u'created_at_day': 20170310, u'created_at_datetime': u'2017-03-10T13:32:59', u'media_url': None}, u'_index': u'trend'}\n",
      "\n",
      "{u'_score': 1.0, u'_type': u'tweet', u'_id': u'840193847732912128', u'_source': {u'username': u'ivobaratta', u'lang': u'es', u'text_categories': [u' sushi'], u'city': None, u'text': u'RT @ferigle: Dato: nuevo delivery de #sushi en #caballito  @718sushi MUY BUENO!!!!', u'img_categories': None, u'hashtags': [u'#sushi', u'#caballito'], u'img_flag': True, u'timestamp_ms': u'1489152798003', u'bounding_box': None, u'coords': None, u'id_str': u'840193847732912128', u'country': u'argentina', u'id': 840193847732912128, u'created_at_day': 20170310, u'created_at_datetime': u'2017-03-10T13:33:18', u'media_url': None}, u'_index': u'trend'}\n",
      "\n",
      "{u'_score': 1.0, u'_type': u'tweet', u'_id': u'840193914183270407', u'_source': {u'username': u'49_5235272', u'lang': u'en', u'text_categories': [u' foie gras'], u'city': u'idar-oberstein', u'text': u'RT @awkward_1110: #banfoiegras VIDEO EXPOSING CRUELTY https://t.co/Sc70cNUmU6 @TheSun @Telegraph #foiegras @Conservatives', u'img_categories': None, u'hashtags': [u'#banfoiegras', u'#foiegras'], u'img_flag': True, u'timestamp_ms': u'1489152813846', u'bounding_box': None, u'coords': None, u'id_str': u'840193914183270407', u'country': u'germany', u'id': 840193914183270407, u'created_at_day': 20170310, u'created_at_datetime': u'2017-03-10T13:33:33', u'media_url': None}, u'_index': u'trend'}\n",
      "\n",
      "{u'_score': 1.0, u'_type': u'tweet', u'_id': u'840193945137119233', u'_source': {u'username': u'mernav', u'lang': u'en', u'text_categories': [u' pizza'], u'city': u'davao', u'text': u'Nutella Strawberry Dessert Pizza \\U0001f355\\U0001f36b\\U0001f609 #S&amp;R #strawberry #dessert #sweetness #foodpic \\u263a https://t.co/3Wp8flYfIx', u'img_categories': [], u'hashtags': [u'#s', u'#strawberry', u'#dessert', u'#sweetness', u'#foodpic'], u'img_flag': False, u'timestamp_ms': u'1489152821226', u'bounding_box': None, u'coords': None, u'id_str': u'840193945137119233', u'country': u'philippines', u'id': 840193945137119233, u'created_at_day': 20170310, u'created_at_datetime': u'2017-03-10T13:33:41', u'media_url': u'http://pbs.twimg.com/media/C6j32pnU8AAAJXQ.jpg'}, u'_index': u'trend'}\n",
      "\n",
      "{u'_score': 1.0, u'_type': u'tweet', u'_id': u'840194295776829440', u'_source': {u'username': u'MiguelCrunia', u'lang': u'en', u'text_categories': [u' paella'], u'city': u'edinburgh', u'text': u'Against #Paella terrorism! #EatSpanish https://t.co/FsLd8uVvnE', u'img_categories': None, u'hashtags': [u'#paella', u'#eatspanish'], u'img_flag': True, u'timestamp_ms': u'1489152904825', u'bounding_box': None, u'coords': None, u'id_str': u'840194295776829440', u'country': u'united kingdom', u'id': 840194295776829440, u'created_at_day': 20170310, u'created_at_datetime': u'2017-03-10T13:35:04', u'media_url': None}, u'_index': u'trend'}\n",
      "\n"
     ]
    }
   ],
   "source": [
    "res = es.search(index=\"trend\", doc_type='tweet', size=100, body={\"query\": {\"match_all\": {}}})\n",
    "# [x['_source'] for x in res['hits']['hits']]\n",
    "for r in res['hits']['hits'][:10]:\n",
    "    print r\n",
    "    print "
   ]
  },
  {
   "cell_type": "markdown",
   "metadata": {},
   "source": [
    "#### GET specific tweets"
   ]
  },
  {
   "cell_type": "code",
   "execution_count": 15,
   "metadata": {
    "collapsed": false
   },
   "outputs": [
    {
     "data": {
      "text/plain": [
       "{u'_id': u'880404048834416644',\n",
       " u'_index': u'stream',\n",
       " u'_source': {u'bounding_box': {u'coordinates': [[[120.989705, 14.589376],\n",
       "     [120.989705, 14.776648],\n",
       "     [121.135766, 14.776648],\n",
       "     [121.135766, 14.589376]]],\n",
       "   u'type': u'Polygon'},\n",
       "  u'city': u'Quezon City',\n",
       "  u'coords': [121.07463598, 14.63343778],\n",
       "  u'country': u'Republic of the Philippines',\n",
       "  u'created_at_datetime': u'2017-06-29T12:34:17',\n",
       "  u'created_at_day': 20170629,\n",
       "  u'hashtags': [u'#foodie', u'#foodporn'],\n",
       "  u'id': 880404048834416644,\n",
       "  u'id_str': u'880404048834416644',\n",
       "  u'img_categories': None,\n",
       "  u'img_flag': True,\n",
       "  u'lang': u'en',\n",
       "  u'media_url': None,\n",
       "  u'text': u'donuts on stick. \\U0001f369 #foodie #foodporn @ Kantorini Food Park https://t.co/OghzOaiJuK',\n",
       "  u'text_categories': [u' donuts'],\n",
       "  u'timestamp_ms': u'1498739657015',\n",
       "  u'username': u'oshmacaroni'},\n",
       " u'_type': u'tweet',\n",
       " u'_version': 1,\n",
       " u'found': True}"
      ]
     },
     "execution_count": 15,
     "metadata": {},
     "output_type": "execute_result"
    }
   ],
   "source": [
    "es.get(index='trend', doc_type='tweet', id=880404048834416644)"
   ]
  },
  {
   "cell_type": "code",
   "execution_count": 19,
   "metadata": {
    "collapsed": false,
    "scrolled": false
   },
   "outputs": [
    {
     "name": "stdout",
     "output_type": "stream",
     "text": [
      "{u'hits': {u'hits': [{u'_score': 0.6931472, u'_type': u'tweet', u'_id': u'880404048834416644', u'_source': {u'username': u'oshmacaroni', u'lang': u'en', u'text_categories': [u' donuts'], u'city': u'Quezon City', u'text': u'donuts on stick. \\U0001f369 #foodie #foodporn @ Kantorini Food Park https://t.co/OghzOaiJuK', u'img_categories': None, u'hashtags': [u'#foodie', u'#foodporn'], u'img_flag': True, u'timestamp_ms': u'1498739657015', u'bounding_box': {u'type': u'Polygon', u'coordinates': [[[120.989705, 14.589376], [120.989705, 14.776648], [121.135766, 14.776648], [121.135766, 14.589376]]]}, u'coords': [121.07463598, 14.63343778], u'id_str': u'880404048834416644', u'country': u'Republic of the Philippines', u'id': 880404048834416644, u'created_at_day': 20170629, u'created_at_datetime': u'2017-06-29T12:34:17', u'media_url': None}, u'_index': u'stream'}], u'total': 1, u'max_score': 0.6931472}, u'_shards': {u'successful': 5, u'failed': 0, u'total': 5}, u'took': 2, u'timed_out': False}\n",
      "1\n"
     ]
    }
   ],
   "source": [
    "results = es.search(index='trend', doc_type='tweet', size=100, body={\n",
    "  'query': {\n",
    "    'match': {\n",
    "      'text_categories': 'donuts',\n",
    "#       'day': 20170618,\n",
    "#         'sort': [\n",
    "#         {'committed_date': {'order': 'desc'}}\n",
    "#       ],\n",
    "     }\n",
    "  }\n",
    "})\n",
    "\n",
    "print results\n",
    "print len(results[\"hits\"][\"hits\"])"
   ]
  },
  {
   "cell_type": "markdown",
   "metadata": {},
   "source": [
    "#### TEST image classifier"
   ]
  },
  {
   "cell_type": "code",
   "execution_count": null,
   "metadata": {
    "collapsed": true
   },
   "outputs": [],
   "source": [
    "# test some of the urls from the indexed tweets\n",
    "# by reclassifying it with the IMG classifier hosted on our machine\n",
    "request_string = 'http://test.tripbuilder.isti.cnr.it:8080/FoodRecognition/services/IRServices/recognizeByURL?imgURL='\n",
    "for tweet in results[\"hits\"][\"hits\"]:\n",
    "    img_url = tweet[\"_source\"][\"media_url\"]\n",
    "    res = requests.get(request_string + img_url)\n",
    "\n",
    "    print tweet[\"_source\"][\"text\"]\n",
    "    print img_url\n",
    "    print res.content\n",
    "    print json.loads(res.text)[\"guessed\"]\n",
    "    print get_image_category(img_url)\n",
    "    print \n",
    "    print"
   ]
  },
  {
   "cell_type": "code",
   "execution_count": null,
   "metadata": {
    "collapsed": false
   },
   "outputs": [],
   "source": [
    "# import requests\n",
    "# import json\n",
    "\n",
    "# response = requests.get('http://test.tripbuilder.isti.cnr.it:5000/sync')\n",
    "# json_data = json.loads(response.text)\n",
    "# json_data"
   ]
  },
  {
   "cell_type": "code",
   "execution_count": null,
   "metadata": {
    "collapsed": true
   },
   "outputs": [],
   "source": []
  }
 ],
 "metadata": {
  "kernelspec": {
   "display_name": "Python 2",
   "language": "python",
   "name": "python2"
  },
  "language_info": {
   "codemirror_mode": {
    "name": "ipython",
    "version": 2
   },
   "file_extension": ".py",
   "mimetype": "text/x-python",
   "name": "python",
   "nbconvert_exporter": "python",
   "pygments_lexer": "ipython2",
   "version": "2.7.13"
  }
 },
 "nbformat": 4,
 "nbformat_minor": 0
}
