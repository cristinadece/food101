{
 "cells": [
  {
   "cell_type": "code",
   "execution_count": 1,
   "metadata": {
    "collapsed": false
   },
   "outputs": [
    {
     "name": "stdout",
     "output_type": "stream",
     "text": [
      "{\n",
      "  \"name\" : \"loGu88Z\",\n",
      "  \"cluster_name\" : \"foodmap-cluster\",\n",
      "  \"cluster_uuid\" : \"u6p1OlcKS8K0ulvvGBdVKw\",\n",
      "  \"version\" : {\n",
      "    \"number\" : \"5.4.0\",\n",
      "    \"build_hash\" : \"780f8c4\",\n",
      "    \"build_date\" : \"2017-04-28T17:43:27.229Z\",\n",
      "    \"build_snapshot\" : false,\n",
      "    \"lucene_version\" : \"6.5.0\"\n",
      "  },\n",
      "  \"tagline\" : \"You Know, for Search\"\n",
      "}\n",
      "\n"
     ]
    }
   ],
   "source": [
    "import requests\n",
    "res = requests.get('http://foodmap.isti.cnr.it:9200', auth=('elastic', 'changeme'))\n",
    "print(res.content)"
   ]
  },
  {
   "cell_type": "code",
   "execution_count": 2,
   "metadata": {
    "collapsed": false
   },
   "outputs": [
    {
     "name": "stdout",
     "output_type": "stream",
     "text": [
      "current dir:  /home/foodmap/food101/notebooks\n",
      "current dir:  /home/foodmap/food101\n"
     ]
    }
   ],
   "source": [
    "import os\n",
    "print \"current dir: \", os.getcwd()\n",
    "os.chdir(\"/home/foodmap/food101/\")\n",
    "print \"current dir: \", os.getcwd()"
   ]
  },
  {
   "cell_type": "code",
   "execution_count": 3,
   "metadata": {
    "collapsed": false
   },
   "outputs": [
    {
     "name": "stdout",
     "output_type": "stream",
     "text": [
      "All cities with all name:  22309\n",
      "All cities unique geonameid:   23516\n",
      "All countries with all names:  24782\n",
      "All countries unique geonameid:   251\n",
      "Len of country code dict 251\n"
     ]
    }
   ],
   "source": [
    "from stream2index import streamTweets\n",
    "from stream2index.Stream2Index import Stream2Index\n",
    "from elasticsearch import Elasticsearch\n",
    "import time\n",
    "from twython import TwythonRateLimitError"
   ]
  },
  {
   "cell_type": "code",
   "execution_count": null,
   "metadata": {
    "collapsed": true
   },
   "outputs": [],
   "source": [
    "#### PUT CONFIG HERE\n",
    "CONSUMER_KEY = 'JzAQ0Y2GbBg900GENP444u24K'\n",
    "CONSUMER_SECRET = '5Mu6TnLR2oC7G9Z87egRzJU2X8vV3mL17qI5jBkL75g3wuLi5c'\n",
    "ACCESS_TOKEN = '308456550-i6JR7eJo8H0VfV1X0Ujg06YhL9rJOFD3Pgey3zbi'\n",
    "ACCESS_TOKEN_SECRET = 'J2rY8MCjkDblQpI3LPCXtG7v6nNO7K3YOOZbTASUGiRni'\n",
    "\n",
    "# Minimal time accepted between two Rate Limit Errors\n",
    "TOO_SOON = 10\n",
    "# Time to wait if we receive a Rate Limit Error too soon after a previous one\n",
    "WAIT_SOME_MORE = 60"
   ]
  },
  {
   "cell_type": "code",
   "execution_count": null,
   "metadata": {
    "collapsed": true
   },
   "outputs": [],
   "source": [
    "htString = streamTweets.getKeywordsList()"
   ]
  },
  {
   "cell_type": "code",
   "execution_count": null,
   "metadata": {
    "collapsed": false
   },
   "outputs": [],
   "source": [
    "stream = Stream2Index(CONSUMER_KEY, CONSUMER_SECRET,\n",
    "                        ACCESS_TOKEN, ACCESS_TOKEN_SECRET)"
   ]
  },
  {
   "cell_type": "code",
   "execution_count": null,
   "metadata": {
    "collapsed": false
   },
   "outputs": [],
   "source": [
    "try:\n",
    "    # FILTER\n",
    "    stream.statuses.filter(track=htString)\n",
    "except TwythonRateLimitError as e:\n",
    "    # If this error is received after only few calls (10 seconds of calls) wait just a minute\n",
    "    if time.time() - start < TOO_SOON:\n",
    "        log('Waiting %s seconds more for resuming download after recurrent rate limit error ...'\n",
    "            % WAIT_SOME_MORE)\n",
    "        time.sleep(WAIT_SOME_MORE)\n",
    "    else:\n",
    "        log(e, id)\n",
    "        log('Waiting %s seconds for resuming download after rate limit error ...')\n",
    "        time.sleep(60)"
   ]
  },
  {
   "cell_type": "code",
   "execution_count": 4,
   "metadata": {
    "collapsed": false
   },
   "outputs": [],
   "source": [
    "es = Elasticsearch(['localhost'], http_auth=('elastic', 'changeme'), port=9200)"
   ]
  },
  {
   "cell_type": "code",
   "execution_count": null,
   "metadata": {
    "collapsed": false
   },
   "outputs": [],
   "source": [
    "es.get(index='stream', doc_type='tweet_snippet', id=876794234182844418)"
   ]
  },
  {
   "cell_type": "code",
   "execution_count": null,
   "metadata": {
    "collapsed": false
   },
   "outputs": [],
   "source": [
    "es.count(index='stream', doc_type='tweet_snippet')"
   ]
  },
  {
   "cell_type": "code",
   "execution_count": 7,
   "metadata": {
    "collapsed": false
   },
   "outputs": [
    {
     "name": "stderr",
     "output_type": "stream",
     "text": [
      "2017-06-20 18:18:10,228 POST http://localhost:9200/stream/tweet_snippet/_delete_by_query [status:200 request:0.058s]\n"
     ]
    },
    {
     "data": {
      "text/plain": [
       "{u'batches': 1,\n",
       " u'deleted': 49,\n",
       " u'failures': [],\n",
       " u'noops': 0,\n",
       " u'requests_per_second': -1.0,\n",
       " u'retries': {u'bulk': 0, u'search': 0},\n",
       " u'throttled_millis': 0,\n",
       " u'throttled_until_millis': 0,\n",
       " u'timed_out': False,\n",
       " u'took': 30,\n",
       " u'total': 49,\n",
       " u'version_conflicts': 0}"
      ]
     },
     "execution_count": 7,
     "metadata": {},
     "output_type": "execute_result"
    }
   ],
   "source": [
    "es.delete_by_query(index='stream', doc_type='tweet_snippet', body={\n",
    "    'query': {\n",
    "        \"match_all\" : {}\n",
    "    }\n",
    "})"
   ]
  },
  {
   "cell_type": "code",
   "execution_count": null,
   "metadata": {
    "collapsed": false,
    "scrolled": false
   },
   "outputs": [
    {
     "name": "stderr",
     "output_type": "stream",
     "text": [
      "2017-06-20 17:52:59,886 GET http://localhost:9200/stream/tweet_snippet/_search?size=100 [status:200 request:0.014s]\n"
     ]
    },
    {
     "name": "stdout",
     "output_type": "stream",
     "text": [
      "Mon #lunch @bonhomieparis in the 10th. Two thumbs up. #paris https://t.co/qyK5e3AWUX\n",
      "http://pbs.twimg.com/media/DCr_gc1XgAAGbIE.jpg\n",
      "[]\n",
      "None\n",
      "\n",
      "\n",
      "Chocolate coating with nuts? How can you say no? #SwensensIceCream #Swensens #icecream https://t.co/WDi9kqfryC\n",
      "http://pbs.twimg.com/media/DCr_2OKXkAAY1b1.jpg\n",
      "[{u'score': 10.0, u'label': u'ice_cream'}]\n",
      "ice_cream\n",
      "\n",
      "\n",
      "#vegas #buffet #restaurant #2for1 #menu #reservation #openbar #brunch #dinner #lunch https://t.co/Oom3EQTIP8\n",
      "http://pbs.twimg.com/media/DCr_s4cXUAEyu-K.jpg\n",
      "[]\n",
      "None\n",
      "\n",
      "\n",
      "Nothing Beats a Hot FRESH PIZZA !!#pizza #OrlandPark #Italianvillapizza https://t.co/jiFrAl9qDA\n",
      "http://pbs.twimg.com/media/DCr_weWXUAEKFIv.jpg\n",
      "[]\n",
      "None\n",
      "\n",
      "\n",
      "Thinking of having a Calzone? Call us @ 708-403-3335 #pizza #italianvilllapizza #OrlandPark #calzones https://t.co/PB1yZpQV0J\n",
      "http://pbs.twimg.com/media/DCr_xVCWAAAHnOg.jpg\n",
      "[{u'score': 5.0, u'label': u'omelette'}, {u'score': 5.0, u'label': u'chicken_quesadilla'}]\n",
      "omelette\n",
      "\n",
      "\n",
      "Will Amazon change the food business &amp;mdash; or will the food business change Amazon?\n",
      "#food #foods #business https://t.co/1dn5qUtfuE\n",
      "http://pbs.twimg.com/media/DCr_aOrWsAAbB5P.jpg\n",
      "[]\n",
      "None\n",
      "\n",
      "\n",
      "RT @Hamletgarcia17: Great #dinner #TONIGHT at @MajesticResorts #majesticResorts #Puntacana #Lobster https://t.co/gsFtTWv1m8\n",
      "http://pbs.twimg.com/media/DCpY05AXkAAau6m.jpg\n",
      "[]\n",
      "None\n",
      "\n",
      "\n",
      "Nothing Beats a Hot FRESH PIZZA !!#pizza #OrlandPark #Italianvillapizza https://t.co/oNwXNm16Gx\n",
      "http://pbs.twimg.com/media/DCr_uPrXYAAXLoR.jpg\n",
      "[{u'score': 5.0, u'label': u'pizza'}]\n",
      "pizza\n",
      "\n",
      "\n",
      "Ten Waitrose wines for summer #vino #food #winelover #winetasting #winelovers #terroir #vin #cellar #winecellar https://t.co/raJl7sUPcQ\n",
      "http://pbs.twimg.com/media/DCr-yhyXsAYLLmB.jpg\n",
      "[]\n",
      "None\n",
      "\n",
      "\n",
      "#Turth -\n",
      "#dogs #dog #food https://t.co/5UjM8hD2fl\n",
      "http://pbs.twimg.com/media/DCr_6qSXYAAG3Es.jpg\n",
      "[]\n",
      "None\n",
      "\n",
      "\n",
      "{in the kitchen} the most glorious summer chicken soup • https://t.co/MHTR4AlP36 #foodie #RecipeOfTheDay https://t.co/cNlkgL0gUK\n",
      "http://pbs.twimg.com/media/DCjP4TwXkAAEsNk.jpg\n",
      "[]\n",
      "None\n",
      "\n",
      "\n",
      "RT @Hamletgarcia17: Great #dinner #TONIGHT at @MajesticResorts #majesticResorts #Puntacana #Lobster https://t.co/gsFtTWv1m8\n",
      "http://pbs.twimg.com/media/DCpY05AXkAAau6m.jpg\n",
      "[]\n",
      "None\n",
      "\n",
      "\n",
      "HAMBURGUESA CON BRIE Y PATATAS de nuestro menú del día #mikitxen https://t.co/v69tysp5Zx  #madrid #foodie https://t.co/i0rgxM3wU8\n",
      "http://pbs.twimg.com/media/DCsAHT3XUAA5SjJ.jpg\n",
      "[]\n"
     ]
    }
   ],
   "source": [
    "import json\n",
    "from index.preprocess_tweet import get_image_category\n",
    "results = es.search(index='stream', doc_type='tweet_snippet', size=100, body={\n",
    "  'query': {\n",
    "    'match': {\n",
    "      'img_category': 'Sushi',\n",
    "#       'day': 20170618,\n",
    "#         'sort': [\n",
    "#         {'committed_date': {'order': 'desc'}}\n",
    "#       ],\n",
    "     }\n",
    "  }\n",
    "})\n",
    "\n",
    "# print results\n",
    "# print len(results[\"hits\"][\"hits\"])\n",
    "\n",
    "\n",
    "request_string = 'http://test.tripbuilder.isti.cnr.it:8080/FoodRecognition/services/IRServices/recognizeByURL?imgURL='\n",
    "for tweet in results[\"hits\"][\"hits\"]:\n",
    "    img_url = tweet[\"_source\"][\"media_url\"]\n",
    "    res = requests.get(request_string + img_url)\n",
    "    print tweet[\"_source\"][\"text\"]\n",
    "    print img_url\n",
    "    print json.loads(res.text)[\"guessed\"]\n",
    "    print get_image_category(img_url)\n",
    "    print \n",
    "    print"
   ]
  },
  {
   "cell_type": "markdown",
   "metadata": {},
   "source": [
    "### get all docs from index"
   ]
  },
  {
   "cell_type": "code",
   "execution_count": null,
   "metadata": {
    "collapsed": false
   },
   "outputs": [],
   "source": [
    "res = es.search(index=\"stream\", doc_type='tweet_snippet', size=100, body={\"query\": {\"match_all\": {}}})\n",
    "[x['_source'] for x in res['hits']['hits']]"
   ]
  },
  {
   "cell_type": "code",
   "execution_count": null,
   "metadata": {
    "collapsed": false
   },
   "outputs": [],
   "source": [
    "import requests\n",
    "import json\n",
    "\n",
    "response = requests.get('http://test.tripbuilder.isti.cnr.it:5000/sync')\n",
    "json_data = json.loads(response.text)\n",
    "json_data"
   ]
  }
 ],
 "metadata": {
  "kernelspec": {
   "display_name": "Python 2",
   "language": "python",
   "name": "python2"
  },
  "language_info": {
   "codemirror_mode": {
    "name": "ipython",
    "version": 2
   },
   "file_extension": ".py",
   "mimetype": "text/x-python",
   "name": "python",
   "nbconvert_exporter": "python",
   "pygments_lexer": "ipython2",
   "version": "2.7.13"
  }
 },
 "nbformat": 4,
 "nbformat_minor": 0
}
