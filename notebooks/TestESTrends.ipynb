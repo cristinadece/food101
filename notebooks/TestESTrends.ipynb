{
 "cells": [
  {
   "cell_type": "code",
   "execution_count": 1,
   "metadata": {
    "collapsed": false
   },
   "outputs": [
    {
     "name": "stdout",
     "output_type": "stream",
     "text": [
      "{\n",
      "  \"name\" : \"loGu88Z\",\n",
      "  \"cluster_name\" : \"foodmap-cluster\",\n",
      "  \"cluster_uuid\" : \"u6p1OlcKS8K0ulvvGBdVKw\",\n",
      "  \"version\" : {\n",
      "    \"number\" : \"5.4.0\",\n",
      "    \"build_hash\" : \"780f8c4\",\n",
      "    \"build_date\" : \"2017-04-28T17:43:27.229Z\",\n",
      "    \"build_snapshot\" : false,\n",
      "    \"lucene_version\" : \"6.5.0\"\n",
      "  },\n",
      "  \"tagline\" : \"You Know, for Search\"\n",
      "}\n",
      "\n"
     ]
    }
   ],
   "source": [
    "import requests\n",
    "res = requests.get('http://foodmap.isti.cnr.it:9200', auth=('elastic', 'changeme'))\n",
    "print(res.content)"
   ]
  },
  {
   "cell_type": "code",
   "execution_count": 2,
   "metadata": {
    "collapsed": false
   },
   "outputs": [],
   "source": [
    "from elasticsearch import Elasticsearch\n",
    "es = Elasticsearch(['localhost', 'otherhost'],\n",
    "    http_auth=('elastic', 'changeme'),\n",
    "    port=9200\n",
    ")"
   ]
  },
  {
   "cell_type": "code",
   "execution_count": 3,
   "metadata": {
    "collapsed": false
   },
   "outputs": [
    {
     "name": "stdout",
     "output_type": "stream",
     "text": [
      "current dir:  /home/foodmap/food101/notebooks\n",
      "current dir:  /home/foodmap/food101\n"
     ]
    }
   ],
   "source": [
    "import os\n",
    "print \"current dir: \", os.getcwd()\n",
    "os.chdir(\"/home/foodmap/food101/\")\n",
    "print \"current dir: \", os.getcwd()"
   ]
  },
  {
   "cell_type": "code",
   "execution_count": 4,
   "metadata": {
    "collapsed": false
   },
   "outputs": [
    {
     "name": "stdout",
     "output_type": "stream",
     "text": [
      "All cities with all name:  22309\n",
      "All cities unique geonameid:   23516\n",
      "All countries with all names:  24782\n",
      "All countries unique geonameid:   251\n",
      "Len of country code dict 251\n"
     ]
    }
   ],
   "source": [
    "from location.locations import Cities, Countries\n",
    "from twitter.Tweet import Tweet\n",
    "from location.get_location_from_tweet import *\n",
    "import random\n",
    "\n",
    "citiesIndex, citiesInfo = Cities.loadFromFile()\n",
    "countriesIndex, countriesInfo = Countries.loadFromFile()\n",
    "ccDict = Countries.countryCodeDict(countriesInfo)"
   ]
  },
  {
   "cell_type": "code",
   "execution_count": 5,
   "metadata": {
    "collapsed": true
   },
   "outputs": [],
   "source": [
    "inputFile = \"/home/foodmap/food-tweets-2017-04-23.json.gz\""
   ]
  },
  {
   "cell_type": "code",
   "execution_count": null,
   "metadata": {
    "collapsed": true
   },
   "outputs": [],
   "source": [
    "def get_media_url(tweet):\n",
    "    if \"media\" in tweet[\"entities\"]:\n",
    "        foundMedia = tweet[\"entities\"][\"media\"]\n",
    "        return foundMedia[0][\"media_url\"]\n",
    "    else:\n",
    "        return None"
   ]
  },
  {
   "cell_type": "code",
   "execution_count": null,
   "metadata": {
    "collapsed": true
   },
   "outputs": [],
   "source": [
    "def get_food_category(img_url):\n",
    "    categ_list = [\"Pizza\", \"Pasta\", \"Sushi\", None]\n",
    "    return random.choice(categ_list)"
   ]
  },
  {
   "cell_type": "code",
   "execution_count": null,
   "metadata": {
    "collapsed": false
   },
   "outputs": [],
   "source": [
    "a = getLocationsFromToken(\"austin\", citiesIndex, citiesInfo, countriesIndex, countriesInfo)\n",
    "print a\n",
    "print citiesIndex[\"london\"]\n",
    "print citiesInfo[5809844]\n",
    "\n",
    "cities, countries = getUserLocation(\"London, England\", citiesIndex, citiesInfo, countriesIndex, countriesInfo)\n",
    "print cities, countries"
   ]
  },
  {
   "cell_type": "code",
   "execution_count": null,
   "metadata": {
    "collapsed": false
   },
   "outputs": [],
   "source": [
    "import json, time\n",
    "tweetsAsDict = Tweet.getTweetAsDictionary(inputFile)\n",
    "i = 0\n",
    "countImg = 0\n",
    "countCategory = 0\n",
    "countPlace = 0\n",
    "\n",
    "\n",
    "for tweet in tweetsAsDict:\n",
    "    i+=1\n",
    "    hasImg = False\n",
    "    hasCategory = False\n",
    "    hasCountry = False\n",
    "\n",
    "    # 1. has photo?\n",
    "    if get_media_url(tweet) is not None:\n",
    "        hasImg = True\n",
    "        countImg += 1\n",
    "    else:\n",
    "        continue\n",
    "\n",
    "    # 2. has food category?\n",
    "    if get_food_category(tweet) is not None:\n",
    "        hasCategory = True\n",
    "        countCategory += 1\n",
    "    else:\n",
    "        continue\n",
    "\n",
    "    # 3. has location? we need city and country; record 2 separate fields\n",
    "    ## 3.1. check for place\n",
    "    tweet_coords, tweet_place_city, tweet_place_country, tweet_place_country_code, user_loc = getLocationData(tweet)\n",
    "    ## 3.2. check for user location\n",
    "    if (tweet_place_country is None):\n",
    "        user_cities, user_countries = getUserLocation(user_loc, citiesIndex, citiesInfo, countriesIndex, countriesInfo)\n",
    "        inferred_countries = inferCountryFromCity(user_cities, citiesIndex, citiesInfo, ccDict)\n",
    "        city, country = getFinalUserLocation(user_cities, user_countries, inferred_countries)\n",
    "    else:\n",
    "        city = tweet_place_city\n",
    "        country = tweet_place_country\n",
    "\n",
    "    if (tweet_place_country is not None) or (country is not None):\n",
    "        hasCountry =True\n",
    "        countPlace += 1\n",
    "\n",
    "    # 4. extract date.day as int\n",
    "    day = int(time.strftime('%Y%m%d', time.strptime(tweet['created_at'],'%a %b %d %H:%M:%S +0000 %Y')))\n",
    "\n",
    "    # 5. extract tweet_id as long!\n",
    "    tweet_id = tweet[\"id\"]\n",
    "    \n",
    "    # SEE if CONDITIONS are met -> add to index\n",
    "    if hasImg and hasCategory and hasCountry:\n",
    "        tweet_dict = dict()\n",
    "        tweet_dict[\"day\"] = day\n",
    "        tweet_dict[\"img_category\"] = get_food_category(tweet)\n",
    "        tweet_dict[\"city\"] = city\n",
    "        tweet_dict[\"country\"] = country\n",
    "        tweet_dict[\"created_at_datetime\"] = datetime.strptime(tweet[\"created_at\"], '%a %b %d %H:%M:%S +0000 %Y')\n",
    "        tweet_dict[\"tweet_body\"] = tweet\n",
    "    \n",
    "        es.index(index='trends', doc_type='tweet', id=tweet_id, body=tweet_dict)\n",
    "\n",
    "print \"Total relevant tweets in a day: \", i\n",
    "print \"Tweets with media\", countImg\n",
    "print \"Tweets with category\", countCategory\n",
    "print \"Tweets with place\", countPlace"
   ]
  },
  {
   "cell_type": "code",
   "execution_count": null,
   "metadata": {
    "collapsed": true
   },
   "outputs": [],
   "source": [
    "# es.delete_by_query(index='trends', doc_type='tweet', body={\n",
    "#     'query': {\n",
    "#         \"match_all\" : {}\n",
    "#     }\n",
    "# })"
   ]
  },
  {
   "cell_type": "code",
   "execution_count": null,
   "metadata": {
    "collapsed": false
   },
   "outputs": [],
   "source": [
    "# Search tweet text for QUERY\n",
    "es.search(index=\"trends\", body={\"query\": {\"match\": {'tweet_body.text':'lasagna'}}})"
   ]
  },
  {
   "cell_type": "code",
   "execution_count": null,
   "metadata": {
    "collapsed": false
   },
   "outputs": [],
   "source": [
    "# Search tweet for ID\n",
    "es.get(index='trends', doc_type='tweet', id=855919564705673216)\n",
    "# http://foodmap.isti.cnr.it:9200/trends/tweet/856023708892360704"
   ]
  },
  {
   "cell_type": "code",
   "execution_count": null,
   "metadata": {
    "collapsed": false
   },
   "outputs": [],
   "source": [
    "# dealing with the index \n",
    "r = requests.get('http://foodmap.isti.cnr.it:9200/',  auth=('elastic', 'changeme'))"
   ]
  },
  {
   "cell_type": "code",
   "execution_count": 6,
   "metadata": {
    "collapsed": false
   },
   "outputs": [
    {
     "name": "stdout",
     "output_type": "stream",
     "text": [
      "All cities with all name:  22309\n",
      "All cities unique geonameid:   23516\n",
      "All countries with all names:  24782\n",
      "All countries unique geonameid:   251\n",
      "Len of country code dict 251\n",
      "Opening file:  /home/foodmap/food-tweets-2017-04-23.json.gz\n",
      "Please RT #recipes #food #cooking #delicious #cook #recipe Perfectly Packable Lunches &amp;#124; Wicked... https://t.co/2dNkXG88DY\n",
      "[]\n",
      "Chelsea's Corner\n",
      "Cafe &amp; Bar\n",
      "Join us for Great Music and Great Food\n",
      "https://t.co/eXMMboEhHE\n",
      "#livemusic #pizza #bands https://t.co/UxXm8OWkKR\n",
      "[u'#pizza']\n",
      "Ven a #BistroPedregal, tenemos muchas opciones.\n",
      "#Restaurante #Food #CDMX #Sábado https://t.co/q9ufZ0prti\n",
      "[]\n",
      "#foodie［  접속 https://t.co/QlaxPUzqLt ］［#성인고스톱］［#LLC］ #nickomalley ［#카ㅈㅣ노사이트］ ［#amor］［#월드카ㅈㅣ노］ ［#6］그래서 몇\n",
      "[]\n",
      "Stonewall Kitchen Breakfast Gift Basket @ https://t.co/vvIW0mFuan  #breakfast #jelly #jam #uniquegifts… https://t.co/XU3QmQ9sdn\n",
      "[]\n",
      "@Sushi_Murai +56971247174 752570634 #Curicó #sushi #amigos https://t.co/4OZizty4qt\n",
      "[u'#sushi']\n",
      "Got an awesome surprise goodie box from dawn.bent! The #andies #cupcakes were… https://t.co/0r750YQVm5\n",
      "[u'#cupcakes']\n",
      "¿Con quién irías a comer #tacos hoy? ¡Taguéalo! #Foodies 🌮 https://t.co/O2qvXeugAE\n",
      "[u'#tacos']\n",
      "#ilovefood #health #foodie https://t.co/FLdv4f5XZB\n",
      "[]\n",
      "Small Group Day Trip from Rome to Tuscan Hilltowns, with lunch and wine tasting #Rome #food #wine https://t.co/yHPo7p4F9E\n",
      "[]\n",
      "Escape to paradise tonight with our Paradise Cheeseburger Pizza! Follow this recipe: https://t.co/4D1sCAHU7k #Paradise #Burger #Pizza #STOK\n",
      "[u'#pizza']\n",
      "Quiero todos!! 😍🍣.\n",
      ".\n",
      ".\n",
      ".\n",
      "#SushiLove #SushiLovers #Style #Friends #WhoWantsSushi #Sushi#Roll #Maki #Niguiri #Love... https://t.co/mPDspKiwDN\n",
      "[]\n",
      "Japonia are un sortiment nou de curry care vine la pachet cu trei sfere anale\n",
      "#food\n",
      "https://t.co/AOWF9sNqJC\n",
      "[]\n",
      "Please RT #recipes #food #cooking #delicious #cook #recipe Summer in New England https://t.co/RxSbpy5I7L https://t.co/xXjtMpVm1N\n",
      "[]\n",
      "We have planned the whole week for this moment.\n",
      "\n",
      "#AndiamoPizza #Miami #Pizza https://t.co/mxyPskvmVK\n",
      "[u'#pizza']\n",
      "RT @lburgcouponmama: It's not a birthday party without bbq, right? #birthday #foodie #bbq @ The Maynard House https://t.co/tXQ2lXQq05\n",
      "[]\n",
      "RT @Travelanswerman: 😋😋😋 OMG!😋😋😋 I love #crawfish! I could eat at least 50 pounds right now! 😋😋😋 #FoodPorn #foodie😋😋😋😋 #food #IAmABigPig… \n",
      "[]\n",
      "#مطعم #مأكولات #اكلات #جدة #يمي_جدة #اهل_جدة #مطاعم_جده #restaurant #food #jeddahrestaurants #jeddahfood #jeddah567… https://t.co/GvxzBEjabu\n",
      "[]\n",
      "Existe un deliciosa manera de chequear tus redes sociales disfrutando de un rico café y galletas #VanEckel #TanRico… https://t.co/BjvPCn9sPW\n",
      "[]\n",
      "Please RT #recipes #food #cooking #delicious #cook #recipe Winter Trail Mix with BROOKSIDE Dark Chocolate https://t.co/KQsh304lh1\n",
      "[]\n",
      "#springtime #icecream #foodfestival @ Govan https://t.co/k6UtLfiV5R\n",
      "[u'#icecream']\n",
      "Happy #NationalJellyBeanDay! Here are 22 of the craziest bean flavors from around the world.  Yum, lychee.… https://t.co/ddo77Hajjr\n",
      "[]\n",
      "RT @ChipotleTweets: Keep the earth green, so we can enjoy the finer things. #guacamole #EarthDay\n",
      "[u'#guacamole']\n",
      "SEAFOOD PARTY🍤🍤🍡🍡 ON MY GRILL DOING IT UP ONCE AGAIN👏👏😍👍 #HappySaturdayWorld #Staybless #Enjoyweekend #Wheremy… https://t.co/RHgAAGCpUQ\n",
      "[]\n",
      "How to Make Sandwich Rolls - Easy French Rolls Recipe  #food https://t.co/osgYtXrhTX\n",
      "[]\n",
      "RT @7crownz: Let me at it... \"Puppa Charms\" #dogs #dogsoftwitter #puppy @MerrickPetCare #BestDogEver #7crownz #doglovers #food… \n",
      "[]\n",
      "Learn cooking techniques or have a date night with your significant other https://t.co/adoBfRb8Ao #Cook #FrederickMD\n",
      "[]\n",
      "Stuck on supper? Full meal salad! Recipe at bloglovin/avriecooks.  #foodporn #getinmytummy #foodie https://t.co/3mfltyaevE\n",
      "[]\n",
      "RT @alixmaravillas: Con #sushi, las penas son menos... 😉\n",
      "Noches de #ConRedesYALoLoco \n",
      "#Teikit https://t.co/GMYFZ80cjL\n",
      "[u'#sushi']\n",
      "Treat your other half to a #romantic #dinner at the enchanting Kool Life Bar #Restaurant at Life Gallery in #Athens https://t.co/tvF0q2spu7\n",
      "[]\n",
      "#30Rock #Trivia @atwood_ny this Monday, #April 24 at 7:30pm. RSVP at; https://t.co/BZXtDOJWd4 #NYC #Midtown #Foodie\n",
      "[]\n",
      "#Howto make #chocolate #peanutbutter balls! Only 4 ingredients! @donnas92 #30Seconds #candy #sweets #food #nomnom https://t.co/bsAA5O2Rv1\n",
      "[]\n",
      "The patio is open! Margarita weather is upon us. #Tequila #Tacos #NoDo #Omaha https://t.co/9IryW4TDdz\n",
      "[u'#tacos']\n",
      "Please RT #recipes #food #cooking #delicious #cook #recipe Jeera Rice https://t.co/KOZHYyZiXo\n",
      "[]\n",
      "Pizza-the only best thing about our meal at @oakdenevinyard. #pizza #blogger #foodie… https://t.co/1qPmavCZJd\n",
      "[u'#pizza']\n",
      "Grandmother&amp;#039;s Toad in a Hole #breakfast recipies https://t.co/wiDXhdB33K\n",
      "[]\n",
      "What better combo is there than cookies, ice cream and chocolate!! 🍫 I'm in heaven! #recipe #foodporn #yummy… https://t.co/i5bCFFnjRx\n",
      "[]\n",
      "#fitness,#food,#weightloss IT is a 24-Hour Diet Transformation , Make Your Body a Fat-Burning Machine… https://t.co/Ja8bsbx5ZR\n",
      "[]\n",
      "Please RT #recipes #food #cooking #delicious #cook #recipe Have a National Peach Month with Peach... https://t.co/zB7bZisHCz\n",
      "[]\n",
      "One of my many shots during my recent visit to Japan. What an adventure! #Japan  #sushi #photographer Stop over and… https://t.co/bCVkmIdLwL\n",
      "[u'#sushi']\n",
      "Please RT #recipes #food #cooking #delicious #cook #recipe Greek style  beans soup https://t.co/iSEjPJze9Q\n",
      "[]\n",
      "Yep. #MEAT #BACON #DELICIOUS https://t.co/rjINeNijGY\n",
      "[]\n",
      "Please RT #recipes #food #cooking #delicious #cook #recipe Beef &amp;#038; Mushroom Guinness Pies https://t.co/J70zg4F0sl\n",
      "[]\n",
      "#مطعم #مأكولات #اكلات #جدة #يمي_جدة #اهل_جدة #مطاعم_جده #restaurant #food #jeddahrestaurants #jeddahfood #jeddah567… https://t.co/sy0pJzGFEg\n",
      "[]\n",
      "Picnic for #dinner? Why not? https://t.co/AlPrZW5pVB #MTL\n",
      "[]\n",
      "#fazemosdoseujeito #pratoexecutivo #empanados #strips #wings #food #pornfood #chickenfried #tatschicken #bucket… https://t.co/thOusFV2I7\n",
      "[]\n",
      "🍌🍌🍌🍌 Banana Power!! 🍌🍌🍌🍌\n",
      "#foodie #veggie #vegan #banana #brainfood https://t.co/1rREGcabmw\n",
      "[]\n",
      "Skeleton Ice Cube Tray. $0.99 @ https://t.co/kVeq7czF0q.  #food #drinks #CoolThings https://t.co/ociYnUCCFf\n",
      "[]\n",
      "RT @NafsikaCooks: Save the last bite for me\n",
      "#foodporn https://t.co/zfZK18Blgh\n",
      "[]\n",
      "RT @rparkinson246: Barbados Bu'n-Bu'n  #adventure #Foodies #FoodPorn #stories #recipes #photography #people LINK:… \n",
      "[]\n",
      "RT @Bakeabuja: My work makes me so happy #love #passion #hardwork #Entrepreneur #cheflife #canapes #desserts #MadeinNigeria… \n",
      "[]\n",
      "RT @KateBrickle: A very enjoyable evening @Epicure #Tastermenu @TheCelticManor @davies_chef #finedining #foodie #winepairing… \n",
      "[]\n",
      "#مطعم #مأكولات #اكلات #جدة #يمي_جدة #اهل_جدة #مطاعم_جده #restaurant #food #jeddahrestaurants #jeddahfood #jeddah567… https://t.co/PitaXdEXeo\n",
      "[]\n",
      "#food #cooking #レシピ #料理 #Twitter家庭料理部 #料理写真 東京オカザキッチン : もやし炒めラーメン／【music】Clark https://t.co/RBLKSqC7wQ https://t.co/VJMX8bwpzx\n",
      "[]\n",
      "#مطعم #مأكولات #اكلات #جدة #يمي_جدة #اهل_جدة #مطاعم_جده #restaurant #food #jeddahrestaurants #jeddahfood #jeddah567… https://t.co/XhdjRL4gPi\n",
      "[]\n",
      "Time for lunch everyone #TheResistance #ResistingHate #Hawaii #Lunch https://t.co/kStzdQMidn\n",
      "[]\n",
      "Skillet #Chicken with #Jalapeño Lime Sauce for Soft #Tacos https://t.co/C5yvYPX9f6 #FreeCoconutRecipes https://t.co/uc0ZxT0Qsk\n",
      "[u'#tacos']\n",
      "Lemon Ricotta Pancakes, Yo! #trythem #lovethem #foodporn #tastessogood #yassss https://t.co/X1C29fDZ1u\n",
      "[]\n",
      "Dreaming of #carrotcake !!! 🍰🍰🍰🍰🍰 Getting my #veggie nutrients for the day ;) #foodie #cake #food #foodporn https://t.co/CwdKinnsjI\n",
      "[u'#carrotcake']\n",
      "RT @xchangeKelowna: Win tickets to our @mauibrewingco #beer masters #dinner https://t.co/sglBDhQ6sx #Kelowna #nightout\n",
      "[]\n",
      "Buy &amp; Share my Book: Scent-Sational Travel: Recipes, Spices, Herbs, from Around the World https://t.co/7evTMWWeWG #foodie #travel #cruise\n",
      "[]\n",
      "RT @Bakeabuja: My awesome skills did this😬 #work #bridalshower #cake #deviledeggs #chocolatemousse #strawberryshortcake #macaron… \n",
      "[u'#deviledeggs', u'#chocolatemousse', u'#strawberryshortcake']\n",
      "#مطعم #مأكولات #اكلات #جدة #يمي_جدة #اهل_جدة #مطاعم_جده #restaurant #food #jeddahrestaurants #jeddahfood #jeddah567… https://t.co/lyueiZRbWU\n",
      "[]\n",
      "RT @recipe4cuisine: Please RT! #recipes #food #dessert Southwest Sweet Potato Hash with Vital Farms Eggs https://t.co/y8P9uWHikD https://t.…\n",
      "[]\n",
      "RT @FabFood4All: One Pot Minced Beef Hotpot, just fab! #foodie #foodporn #food #beef #87RT #PMHT @UKBloggers1… \n",
      "[]\n",
      "الحب \n",
      "#ريشة\n",
      "#فوق_ريشة\n",
      "#lamb #chops #lambchops #grill #bbq #beer #beitkhelti #pub #restopub #food… https://t.co/4M0923gi03\n",
      "[]\n",
      "Lettuce be your #lunch and #dinner choice. #Victorville #HighDesert #sandwich #salad #soup #vegetarian #vegan… https://t.co/1sQcmljDhY\n",
      "[]\n",
      "Cuz it's the #WEEKEND! #wearvintage #donuts #etsyshop #80sfashion #retrostyle #checkered #etsy #donutshop #vintage https://t.co/uzZrvRaDiU\n",
      "[u'#donuts']\n",
      "when you're asked to make cupcakes for a 8 year olds birthday party 😌 happy with the outcome 🦋🌸🎂 #girly #pink #cake… https://t.co/WvFJA66kLX\n",
      "[]\n",
      "RT @LivingSafely: Making #dinner? Check #Pavilions' food #recalls this April: https://t.co/V9suNLAJTa. More? https://t.co/xQ2tVcYbu5\n",
      "[]\n",
      "Friendship = homemade #applepie on your #cheatday courtesy theintimacydojo #carbday #icecream… https://t.co/0lYSw4V06A\n",
      "[u'#applepie']\n",
      "Futura comida\n",
      "#pescado #fish #comida #dinner #dinnertime #cena https://t.co/P9D71EErgW\n",
      "[]\n",
      "RT @rparkinson246: Barbados we are open for visits click attached #art #antiques  #barbados  #Barbadosbook #artlovers… \n",
      "[]\n",
      "What a great day to #celebrate the #earth with great #food #friends and #fun! @eatsoulgood… https://t.co/rauxh6HHC1\n",
      "[]\n",
      "salpr: ¿Con quién irías a comer #tacos hoy? ¡Taguéalo! #Foodies 🌮 https://t.co/G2WZq68w5M\n",
      "[u'#tacos']\n",
      "Be part of the #art at the #Anaheim #ArtExperienceCrawl! There will be #food, #handmade goods and lots of #fun!… https://t.co/sYwVPnCEL3\n",
      "[]\n",
      "What exactly does \"healthy\" mean when it comes to #food? ➨ https://t.co/ugehezUh35 @recipe4survival #HealthyEating #nutrition #UCLAHealth\n",
      "[]\n",
      "RT @recipes_tw: Please RT #recipes #food #cooking #delicious #cook #recipe Beef &amp;#038; Mushroom Guinness Pies https://t.co/J70zg4F0sl\n",
      "[]\n",
      "Flor de massa #kitchen #gastronomia #food #pastry https://t.co/F1TtkoWGaH\n",
      "[]\n",
      "What I Eat In A Day - Road Trip Vlog Edition | EASY &amp; HEALTHY Meals  #healthyfood https://t.co/cM9Ljmm0lT\n",
      "[]\n",
      "Al fresco #food is full on #fashionable, here's why https://t.co/5a6wd2pfQy 😊 The #indoor #outdoor lifestyle phenom… https://t.co/q3IENWfJI8\n",
      "[]\n",
      "Share #dinner with someone special &amp; split the #delivery ticket easily w/ the #Waitr Group Order feature WATCH CUTE… https://t.co/OYURi5n9lk\n",
      "[]\n",
      "What’s For #Breakfast? – The Deconstructed #Salad https://t.co/tyIsnzWGRj #themerisoiutechnique #nutrition https://t.co/BU6i0m6zpk\n",
      "[]\n",
      "RT @theMillersCabin: Life's A Beach! 😎\n",
      "#VirginiaBeach #VBoceanfront #VAbeach #pizza &amp; #Beer \n",
      "🍕🍺🍸🍹🍻 https://t.co/lauFfLDzRc\n",
      "[u'#pizza']\n",
      "Kick up your pizza! These beauty Portebello #Pizza Caps are to die for!!! Even better on your… https://t.co/D5IzDzHgpe\n",
      "[u'#pizza']\n",
      "Craving #pancakes? Try this amazing #vegan version. https://t.co/n0LSNbRM3L Healthy, easy, &amp; fluffy! #homemade #recipe #healthyeating\n",
      "[u'#pancakes']\n",
      "We have the best #wine list on #Canalside! Come have #lunch or #Dinner &amp; see/drink 4 yourself! 🍷\n",
      "[]\n",
      "Oh yeah....this hit the spot! I have a happy belly now!!!!\n",
      "#Dinner #ComfortFood https://t.co/ESIj4KYu1S\n",
      "[]\n",
      "Lunch Box Ideas for your lil Gotcha! Kids #lunch #food #yum #lunchtime #lunchbox #fruit #sandwhich #yummy #tummy... https://t.co/EuNZseX2zQ\n",
      "[]\n",
      "Yummy walk in Athens Center!! https://t.co/xZNRjK1ovI #Athens #Greece #yummy #traditionaltaste #travelblogger… https://t.co/gXvDSuDG6t\n",
      "[]\n",
      "Moruga Scorpion Vs. Ghost Pepper: PepperScale Showdown #spicy #cooking #food https://t.co/BctLqajO1v\n",
      "[]\n",
      "According to a recent study of people who searched for #food and beverage terms, 35% did so exclusively on a phone.\n",
      "\n",
      "#bethereonmobile #ppc\n",
      "[]\n",
      "CHINESE BROCCOLI WITH OYSTER SAUCE #food https://t.co/yxFmmRxnbq\n",
      "[]\n",
      "Maracas Margaritas #food #cocktail #cincodemayo @1800Tequila #food #cocktail #cincodemayo https://t.co/R0xFsgjNuV https://t.co/iuy0d7AyBJ\n",
      "[]\n",
      "#VEGETARIAN STUFFED #PIZZA ROLLS #recipe https://t.co/d803INDt6m  What’s better than pizza dough stuffed w/ fave in… https://t.co/bjzLQKIuRv\n",
      "[u'#pizza']\n",
      "Shrimp Creole!! Quick, easy, and oh so tasty! Check out @NevrEnoughThyme's version!\n",
      "https://t.co/XlWXcpx6FY\n",
      "#foodie… https://t.co/YbWqdXSXQd\n",
      "[]\n",
      "Its DragonFruit time.... #exoticfruit #DragonFruit #yummy #foodblogger https://t.co/PqZJ56EQyV\n",
      "[]\n",
      "Are You Still Eating These Energy-Draining Foods?: https://t.co/Pvrz0apKek @Our_Best_Years #energy #food #nutrition Please RT\n",
      "[]\n",
      "Contamos con menús asesorados por reconocidos profesionales de la nutrición. #Food #ITEA #School\n",
      "[]\n",
      "From Italy to your table. Live the truely Italian Cousine experience in Miami Beach. Book your table here &gt;&gt;… https://t.co/yCm8hzoOMz\n",
      "[]\n"
     ]
    }
   ],
   "source": [
    "from index.preprocess_tweet import *\n",
    "from twitter.Tweet import Tweet\n",
    "\n",
    "\n",
    "categoryList = loadCartegoryList()\n",
    "\n",
    "tweetsAsDict = Tweet.getTweetAsDictionary(inputFile)\n",
    "i=0\n",
    "for tweet in tweetsAsDict:\n",
    "    print tweet[\"text\"]\n",
    "    print get_tweet_text_category(tweet, categoryList)\n",
    "    \n",
    "    i+=1\n",
    "    if i%100==0:\n",
    "        break"
   ]
  },
  {
   "cell_type": "code",
   "execution_count": null,
   "metadata": {
    "collapsed": true
   },
   "outputs": [],
   "source": []
  }
 ],
 "metadata": {
  "kernelspec": {
   "display_name": "Python 2",
   "language": "python",
   "name": "python2"
  },
  "language_info": {
   "codemirror_mode": {
    "name": "ipython",
    "version": 2
   },
   "file_extension": ".py",
   "mimetype": "text/x-python",
   "name": "python",
   "nbconvert_exporter": "python",
   "pygments_lexer": "ipython2",
   "version": "2.7.13"
  }
 },
 "nbformat": 4,
 "nbformat_minor": 0
}
