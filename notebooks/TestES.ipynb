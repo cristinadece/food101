{
 "cells": [
  {
   "cell_type": "code",
   "execution_count": null,
   "metadata": {
    "collapsed": false
   },
   "outputs": [],
   "source": [
    "import requests\n",
    "res = requests.get('http://foodmap.isti.cnr.it:9200', auth=('elastic', 'changeme'))\n",
    "print(res.content)"
   ]
  },
  {
   "cell_type": "code",
   "execution_count": null,
   "metadata": {
    "collapsed": false
   },
   "outputs": [],
   "source": [
    "from elasticsearch import Elasticsearch\n",
    "es = Elasticsearch(['localhost', 'otherhost'],\n",
    "    http_auth=('elastic', 'changeme'),\n",
    "    port=9200\n",
    ")"
   ]
  },
  {
   "cell_type": "code",
   "execution_count": 1,
   "metadata": {
    "collapsed": false
   },
   "outputs": [
    {
     "name": "stdout",
     "output_type": "stream",
     "text": [
      "current dir:  /home/foodmap/food101/notebooks\n",
      "current dir:  /home/foodmap/food101\n"
     ]
    }
   ],
   "source": [
    "import os\n",
    "print \"current dir: \", os.getcwd()\n",
    "os.chdir(\"/home/foodmap/food101/\")\n",
    "print \"current dir: \", os.getcwd()"
   ]
  },
  {
   "cell_type": "code",
   "execution_count": 2,
   "metadata": {
    "collapsed": false
   },
   "outputs": [
    {
     "name": "stdout",
     "output_type": "stream",
     "text": [
      "All cities with all name:  22309\n",
      "All cities unique geonameid:   23516\n",
      "All countries with all names:  24782\n",
      "All countries unique geonameid:   251\n",
      "Len of country code dict 251\n"
     ]
    }
   ],
   "source": [
    "from location.locations import Cities, Countries\n",
    "from twitter.Tweet import Tweet\n",
    "from location.get_location_from_tweet import *\n",
    "import random\n",
    "\n",
    "citiesIndex, citiesInfo = Cities.loadFromFile()\n",
    "countriesIndex, countriesInfo = Countries.loadFromFile()\n",
    "ccDict = Countries.countryCodeDict(countriesInfo)"
   ]
  },
  {
   "cell_type": "code",
   "execution_count": 3,
   "metadata": {
    "collapsed": true
   },
   "outputs": [],
   "source": [
    "inputFile = \"/home/foodmap/food-tweets-2017-04-23.json.gz\""
   ]
  },
  {
   "cell_type": "code",
   "execution_count": 4,
   "metadata": {
    "collapsed": true
   },
   "outputs": [],
   "source": [
    "def get_media_url(tweet):\n",
    "    if \"media\" in tweet[\"entities\"]:\n",
    "        foundMedia = tweet[\"entities\"][\"media\"]\n",
    "        return foundMedia[0][\"media_url\"]\n",
    "    else:\n",
    "        return None"
   ]
  },
  {
   "cell_type": "code",
   "execution_count": null,
   "metadata": {
    "collapsed": true
   },
   "outputs": [],
   "source": [
    "def get_food_category(img_url):\n",
    "    categ_list = [\"Pizza\", \"Pasta\", \"Sushi\", None]\n",
    "    return random.choice(categ_list)"
   ]
  },
  {
   "cell_type": "code",
   "execution_count": null,
   "metadata": {
    "collapsed": false
   },
   "outputs": [],
   "source": [
    "a = getLocationsFromToken(\"austin\", citiesIndex, citiesInfo, countriesIndex, countriesInfo)\n",
    "print a\n",
    "print citiesIndex[\"london\"]\n",
    "print citiesInfo[5809844]\n",
    "\n",
    "cities, countries = getUserLocation(\"London, England\", citiesIndex, citiesInfo, countriesIndex, countriesInfo)\n",
    "print cities, countries"
   ]
  },
  {
   "cell_type": "code",
   "execution_count": 5,
   "metadata": {
    "collapsed": false
   },
   "outputs": [
    {
     "name": "stdout",
     "output_type": "stream",
     "text": [
      "Opening file:  /home/foodmap/food-tweets-2017-04-23.json.gz\n",
      "Total relevant tweets in a day:  69808\n",
      "Tweets with media 18234\n",
      "Tweets with category 0\n",
      "Tweets with place 7017\n",
      "Tweets in index 0\n"
     ]
    }
   ],
   "source": [
    "import codecs, json\n",
    "tweetsAsDict = Tweet.getTweetAsDictionary(inputFile)\n",
    "i = 0\n",
    "countImg = 0\n",
    "countIndexEntries = 0\n",
    "countCategory = 0\n",
    "countPlace = 0\n",
    "\n",
    "with codecs.open(\"locationresults-no-ambiguity.txt\", \"w\", \"utf-8\") as f:\n",
    "    for tweet in tweetsAsDict:\n",
    "        i+=1\n",
    "        hasImg = False\n",
    "        hasCategory = False\n",
    "        hasCountry = False\n",
    "\n",
    "        # 1. has photo?\n",
    "        if get_media_url(tweet) is not None:\n",
    "            hasImg = True\n",
    "            countImg += 1\n",
    "        else:\n",
    "            continue\n",
    "\n",
    "        # 2. has food category?\n",
    "#         if get_food_category(tweet) is not None:\n",
    "#             hasCategory = True\n",
    "#             countCategory += 1\n",
    "#         else:\n",
    "#             continue\n",
    "\n",
    "        # 3. has location? we need city and country; record 2 separate fields\n",
    "        ## 3.1. check for place\n",
    "        tweet_coords, tweet_place_city, tweet_place_country, tweet_place_country_code, user_loc = getLocationData(tweet)\n",
    "        #print tweet_coords, tweet_place_city, tweet_place_country, tweet_place_country_code\n",
    "        ## 3.2. check for user location\n",
    "        if (tweet_place_country is None):\n",
    "            user_cities, user_countries = getUserLocation(user_loc, citiesIndex, citiesInfo, countriesIndex, countriesInfo)\n",
    "            inferred_countries = inferCountryFromCity(user_cities, citiesIndex, citiesInfo, ccDict)\n",
    "            city, country = getFinalUserLocation(user_cities, user_countries, inferred_countries)\n",
    "        else:\n",
    "            city = tweet_place_city\n",
    "            country = tweet_place_country\n",
    "\n",
    "        if user_loc is not None:\n",
    "            f.write(\"User_loc:\" + json.dumps(user_loc) + \"\\n\")\n",
    "            f.write(\"If Place: \" + json.dumps(tweet_place_city) + \"\\t\" + json.dumps(tweet_place_country) + \"\\n\")\n",
    "            f.write(\"Final Loc: \" + json.dumps(city) + \"\\t\" + json.dumps(country) + \"\\n\")\n",
    "            f.write(\"\\n\")\n",
    "\n",
    "        if (tweet_place_country is not None) or (country is not None):\n",
    "            hasCountry =True\n",
    "            countPlace += 1\n",
    "\n",
    "        # SEE if CONDITIONS are met\n",
    "        if hasImg and hasCategory and hasCountry:\n",
    "            countIndexEntries +=1\n",
    "\n",
    "        # 4. extract date.day as int\n",
    "\n",
    "\n",
    "        # 5. extract tweet_id as long!\n",
    "\n",
    "print \"Total relevant tweets in a day: \", i\n",
    "print \"Tweets with media\", countImg\n",
    "print \"Tweets with category\", countCategory\n",
    "print \"Tweets with place\", countPlace\n",
    "print \"Tweets in index\", countIndexEntries"
   ]
  },
  {
   "cell_type": "code",
   "execution_count": null,
   "metadata": {
    "collapsed": false
   },
   "outputs": [],
   "source": [
    "import json, time\n",
    "tweetsAsDict = Tweet.getTweetAsDictionary(inputFile)\n",
    "i = 0\n",
    "countImg = 0\n",
    "countCategory = 0\n",
    "countPlace = 0\n",
    "\n",
    "\n",
    "for tweet in tweetsAsDict:\n",
    "    i+=1\n",
    "    hasImg = False\n",
    "    hasCategory = False\n",
    "    hasCountry = False\n",
    "\n",
    "    # 1. has photo?\n",
    "    if get_media_url(tweet) is not None:\n",
    "        hasImg = True\n",
    "        countImg += 1\n",
    "    else:\n",
    "        continue\n",
    "\n",
    "    # 2. has food category?\n",
    "    if get_food_category(tweet) is not None:\n",
    "        hasCategory = True\n",
    "        countCategory += 1\n",
    "    else:\n",
    "        continue\n",
    "\n",
    "    # 3. has location? we need city and country; record 2 separate fields\n",
    "    ## 3.1. check for place\n",
    "    tweet_coords, tweet_place_city, tweet_place_country, tweet_place_country_code, user_loc = getLocationData(tweet)\n",
    "    ## 3.2. check for user location\n",
    "    if (tweet_place_country is None):\n",
    "        user_cities, user_countries = getUserLocation(user_loc, citiesIndex, citiesInfo, countriesIndex, countriesInfo)\n",
    "        inferred_countries = inferCountryFromCity(user_cities, citiesIndex, citiesInfo, ccDict)\n",
    "        city, country = getFinalUserLocation(user_cities, user_countries, inferred_countries)\n",
    "    else:\n",
    "        city = tweet_place_city\n",
    "        country = tweet_place_country\n",
    "\n",
    "    if (tweet_place_country is not None) or (country is not None):\n",
    "        hasCountry =True\n",
    "        countPlace += 1\n",
    "\n",
    "    # 4. extract date.day as int\n",
    "    day = int(time.strftime('%Y%m%d', time.strptime(tweet['created_at'],'%a %b %d %H:%M:%S +0000 %Y')))\n",
    "\n",
    "    # 5. extract tweet_id as long!\n",
    "    tweet_id = tweet[\"id\"]\n",
    "    \n",
    "    # SEE if CONDITIONS are met -> add to index\n",
    "    if hasImg and hasCategory and hasCountry:\n",
    "        tweet_dict = dict()\n",
    "        tweet_dict[\"day\"] = day\n",
    "        tweet_dict[\"img_category\"] = get_food_category(tweet)\n",
    "        tweet_dict[\"city\"] = city\n",
    "        tweet_dict[\"country\"] = country\n",
    "        tweet_dict[\"tweet_body\"] = tweet\n",
    "    \n",
    "        es.index(index='trends', doc_type='tweet', id=tweet_id, body=tweet_dict)\n",
    "\n",
    "print \"Total relevant tweets in a day: \", i\n",
    "print \"Tweets with media\", countImg\n",
    "print \"Tweets with category\", countCategory\n",
    "print \"Tweets with place\", countPlace"
   ]
  },
  {
   "cell_type": "code",
   "execution_count": null,
   "metadata": {
    "collapsed": false
   },
   "outputs": [],
   "source": [
    "# Search tweet text for QUERY\n",
    "es.search(index=\"trends\", body={\"query\": {\"match\": {'tweet_body.text':'lasagna'}}})"
   ]
  },
  {
   "cell_type": "code",
   "execution_count": null,
   "metadata": {
    "collapsed": false
   },
   "outputs": [],
   "source": [
    "# Search tweet for ID\n",
    "es.get(index='trends', doc_type='tweet', id=855919564705673216)\n",
    "# http://foodmap.isti.cnr.it:9200/trends/tweet/856023708892360704"
   ]
  },
  {
   "cell_type": "code",
   "execution_count": null,
   "metadata": {
    "collapsed": false
   },
   "outputs": [],
   "source": [
    "# dealing with the index \n",
    "r = requests.get('http://foodmap.isti.cnr.it:9200/',  auth=('elastic', 'changeme'))"
   ]
  },
  {
   "cell_type": "code",
   "execution_count": null,
   "metadata": {
    "collapsed": true
   },
   "outputs": [],
   "source": [
    ""
   ]
  }
 ],
 "metadata": {
  "kernelspec": {
   "display_name": "Python 2",
   "language": "python",
   "name": "python2"
  },
  "language_info": {
   "codemirror_mode": {
    "name": "ipython",
    "version": 2.0
   },
   "file_extension": ".py",
   "mimetype": "text/x-python",
   "name": "python",
   "nbconvert_exporter": "python",
   "pygments_lexer": "ipython2",
   "version": "2.7.13"
  }
 },
 "nbformat": 4,
 "nbformat_minor": 0
}