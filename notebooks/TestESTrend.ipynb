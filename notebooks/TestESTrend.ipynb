{
 "cells": [
  {
   "cell_type": "markdown",
   "metadata": {},
   "source": [
    "# Test the Trend Index"
   ]
  },
  {
   "cell_type": "markdown",
   "metadata": {},
   "source": [
    "## Check if index is up!"
   ]
  },
  {
   "cell_type": "code",
   "execution_count": 17,
   "metadata": {
    "collapsed": false
   },
   "outputs": [
    {
     "name": "stdout",
     "output_type": "stream",
     "text": [
      "{\n",
      "  \"name\" : \"0PsTttc\",\n",
      "  \"cluster_name\" : \"foodmap-cluster\",\n",
      "  \"cluster_uuid\" : \"2YIbFkvuRqaPWhEjuEYnwA\",\n",
      "  \"version\" : {\n",
      "    \"number\" : \"5.4.0\",\n",
      "    \"build_hash\" : \"780f8c4\",\n",
      "    \"build_date\" : \"2017-04-28T17:43:27.229Z\",\n",
      "    \"build_snapshot\" : false,\n",
      "    \"lucene_version\" : \"6.5.0\"\n",
      "  },\n",
      "  \"tagline\" : \"You Know, for Search\"\n",
      "}\n",
      "\n"
     ]
    }
   ],
   "source": [
    "import requests\n",
    "res = requests.get('http://foodmap.isti.cnr.it:9200', auth=('elastic', 'changeme'))\n",
    "print(res.content)"
   ]
  },
  {
   "cell_type": "code",
   "execution_count": 18,
   "metadata": {
    "collapsed": false
   },
   "outputs": [
    {
     "name": "stdout",
     "output_type": "stream",
     "text": [
      "<Elasticsearch([{u'host': u'foodmap.isti.cnr.it'}])>\n"
     ]
    }
   ],
   "source": [
    "from elasticsearch import Elasticsearch\n",
    "es = Elasticsearch(['foodmap.isti.cnr.it'], http_auth=('elastic', 'changeme'), port=9200)\n",
    "print es"
   ]
  },
  {
   "cell_type": "markdown",
   "metadata": {},
   "source": [
    "## Index operations"
   ]
  },
  {
   "cell_type": "markdown",
   "metadata": {},
   "source": [
    "#### Delete index, delete tweets by id and query"
   ]
  },
  {
   "cell_type": "code",
   "execution_count": 7,
   "metadata": {
    "collapsed": false
   },
   "outputs": [
    {
     "data": {
      "text/plain": [
       "{u'acknowledged': True}"
      ]
     },
     "execution_count": 7,
     "metadata": {},
     "output_type": "execute_result"
    }
   ],
   "source": [
    "es.indices.delete(index='trend', ignore=[400, 404])"
   ]
  },
  {
   "cell_type": "code",
   "execution_count": null,
   "metadata": {
    "collapsed": false
   },
   "outputs": [],
   "source": [
    "es.delete_by_query(index='trend', doc_type='tweet', body={\n",
    "    'query': {\n",
    "        \"match_all\" : {}\n",
    "    }\n",
    "})"
   ]
  },
  {
   "cell_type": "markdown",
   "metadata": {},
   "source": [
    "#### Count elements in index"
   ]
  },
  {
   "cell_type": "code",
   "execution_count": 13,
   "metadata": {
    "collapsed": false
   },
   "outputs": [
    {
     "data": {
      "text/plain": [
       "{u'_shards': {u'failed': 0, u'successful': 5, u'total': 5}, u'count': 194978}"
      ]
     },
     "execution_count": 13,
     "metadata": {},
     "output_type": "execute_result"
    }
   ],
   "source": [
    "es.count(index='trend', doc_type='tweet')"
   ]
  },
  {
   "cell_type": "markdown",
   "metadata": {},
   "source": [
    "#### GET all docs from index"
   ]
  },
  {
   "cell_type": "code",
   "execution_count": 19,
   "metadata": {
    "collapsed": false,
    "scrolled": false
   },
   "outputs": [
    {
     "name": "stdout",
     "output_type": "stream",
     "text": [
      "{u'_score': 1.0, u'_type': u'tweet', u'_id': u'840206621422768128', u'_source': {u'username': u'theicesmith', u'lang': u'en', u'text_categories': [u'ice cream'], u'city': None, u'text': u'Dinner party sharing pots #dinnerplans #dinnerparty #dinner #home #candles #icecream #sorbet https://t.co/frEJH6BrL7', u'img_categories': None, u'hashtags': [u'#dinnerplans', u'#dinnerparty', u'#dinner', u'#home', u'#candles', u'#icecream', u'#sorbet'], u'img_flag': True, u'timestamp_ms': u'1489155843488', u'bounding_box': None, u'coords': None, u'id_str': u'840206621422768128', u'country': u'united kingdom', u'id': 840206621422768128, u'created_at_day': 20170310, u'created_at_datetime': u'2017-03-10T14:24:03', u'media_url': None}, u'_index': u'trend'}\n",
      "\n",
      "{u'_score': 1.0, u'_type': u'tweet', u'_id': u'840206630750904320', u'_source': {u'username': u'thesimpleparent', u'lang': u'en', u'text_categories': [u'pizza'], u'city': u'houston', u'text': u\"RT @seeingdandy: The @IncrediblePizza Spin Coaster in St. Louis https://t.co/9t4zNGqoX7. It's incredible! #slt #stlouis #foodie #pizza #fam\\u2026\", u'img_categories': None, u'hashtags': [u'#slt', u'#stlouis', u'#foodie', u'#pizza', u'#fam\\u2026'], u'img_flag': True, u'timestamp_ms': u'1489155845712', u'bounding_box': None, u'coords': None, u'id_str': u'840206630750904320', u'country': u'united states', u'id': 840206630750904320, u'created_at_day': 20170310, u'created_at_datetime': u'2017-03-10T14:24:05', u'media_url': None}, u'_index': u'trend'}\n",
      "\n",
      "{u'_score': 1.0, u'_type': u'tweet', u'_id': u'840206675592269829', u'_source': {u'username': u'blacklab115', u'lang': u'en', u'text_categories': [u'pancakes'], u'city': None, u'text': u'RT @rosiedoc666: #FindLucky #pancakes @GreggsOfficial @CostaCoffee @rileysfishshack @Port_of_Tyne PLS RT where is our Luckie #lost\\u2026 ', u'img_categories': None, u'hashtags': [u'#findlucky', u'#pancakes', u'#lost\\u2026'], u'img_flag': True, u'timestamp_ms': u'1489155856403', u'bounding_box': None, u'coords': None, u'id_str': u'840206675592269829', u'country': u'united kingdom', u'id': 840206675592269829, u'created_at_day': 20170310, u'created_at_datetime': u'2017-03-10T14:24:16', u'media_url': None}, u'_index': u'trend'}\n",
      "\n",
      "{u'_score': 1.0, u'_type': u'tweet', u'_id': u'840206788469374976', u'_source': {u'username': u'teteria_namaste', u'lang': u'es', u'text_categories': [u'cheesecake'], u'city': u'la serena', u'text': u'Buen d\\xeda! Te tientas con esta delicia? #CheeseCake de #Arandano para acompa\\xf1ar con un #t\\xe9 #JugoNatural o #Infusi\\xf3n\\u2026 https://t.co/GoIdYBMd5P', u'img_categories': None, u'hashtags': [u'#cheesecake', u'#arandano', u'#t\\xe9', u'#jugonatural', u'#infusi\\xf3n\\u2026'], u'img_flag': True, u'timestamp_ms': u'1489155883315', u'bounding_box': None, u'coords': None, u'id_str': u'840206788469374976', u'country': u'chile', u'id': 840206788469374976, u'created_at_day': 20170310, u'created_at_datetime': u'2017-03-10T14:24:43', u'media_url': None}, u'_index': u'trend'}\n",
      "\n",
      "{u'_score': 1.0, u'_type': u'tweet', u'_id': u'840206955369123845', u'_source': {u'username': u'green_teachen', u'lang': u'en', u'text_categories': [u'cup cakes'], u'city': u'munich', u'text': u'Red Velvet Cupcakes. \\U0001f60d #baking #bake #dessert #delicious #cake #cupcakes #cupcake #food #yummy\\u2026 https://t.co/YdAZFQTnOl', u'img_categories': None, u'hashtags': [u'#baking', u'#bake', u'#dessert', u'#delicious', u'#cake', u'#cupcakes', u'#cupcake', u'#food', u'#yummy\\u2026'], u'img_flag': True, u'timestamp_ms': u'1489155923107', u'bounding_box': None, u'coords': None, u'id_str': u'840206955369123845', u'country': u'germany', u'id': 840206955369123845, u'created_at_day': 20170310, u'created_at_datetime': u'2017-03-10T14:25:23', u'media_url': None}, u'_index': u'trend'}\n",
      "\n",
      "{u'_score': 1.0, u'_type': u'tweet', u'_id': u'840207017071529985', u'_source': {u'username': u'FairhavenTours', u'lang': u'en', u'text_categories': [u'ice cream'], u'city': u'fairhaven', u'text': u'Ice Cream is coming to Pink Bonnet. #Fairhaven #Bakery #IceCream https://t.co/dXKtTBVnbR', u'img_categories': None, u'hashtags': [u'#fairhaven', u'#bakery', u'#icecream'], u'img_flag': True, u'timestamp_ms': u'1489155937818', u'bounding_box': None, u'coords': None, u'id_str': u'840207017071529985', u'country': u'united states', u'id': 840207017071529985, u'created_at_day': 20170310, u'created_at_datetime': u'2017-03-10T14:25:37', u'media_url': None}, u'_index': u'trend'}\n",
      "\n",
      "{u'_score': 1.0, u'_type': u'tweet', u'_id': u'840207241076699136', u'_source': {u'username': u'recipesprep', u'lang': u'en', u'text_categories': [u'cheesecake'], u'city': None, u'text': u'#Food #Pastry-Bites #food https://t.co/wNqtCpuvDH #Amazing #Strawberry #Cheesecake Pastry Bites https://t.co/rfQ7bOKCaB', u'img_categories': [], u'hashtags': [u'#food', u'#pastry-bites', u'#food', u'#amazing', u'#strawberry', u'#cheesecake'], u'img_flag': False, u'timestamp_ms': u'1489155991225', u'bounding_box': None, u'coords': None, u'id_str': u'840207241076699136', u'country': u'canada', u'id': 840207241076699136, u'created_at_day': 20170310, u'created_at_datetime': u'2017-03-10T14:26:31', u'media_url': u'http://pbs.twimg.com/media/C6kECFvWkAA3JH5.jpg'}, u'_index': u'trend'}\n",
      "\n",
      "{u'_score': 1.0, u'_type': u'tweet', u'_id': u'840207422740430849', u'_source': {u'username': u'EssexFoodPorn', u'lang': u'en', u'text_categories': [u'baby back ribs'], u'city': u'essex', u'text': u'RT @ArvieTahil: Ribs for Friday! #Rub #Ribs #Friday #TGIF #NightOut #Grilled #Corn #FoodPorn #IG \\u261d\\U0001f44f\\U0001f4aa\\U0001f60d @ Rub Ribs\\u2026 https://t.co/wCGEcbCa1N', u'img_categories': None, u'hashtags': [u'#rub', u'#ribs', u'#friday', u'#tgif', u'#nightout', u'#grilled', u'#corn', u'#foodporn', u'#ig'], u'img_flag': True, u'timestamp_ms': u'1489156034537', u'bounding_box': None, u'coords': None, u'id_str': u'840207422740430849', u'country': u'united states', u'id': 840207422740430849, u'created_at_day': 20170310, u'created_at_datetime': u'2017-03-10T14:27:14', u'media_url': None}, u'_index': u'trend'}\n",
      "\n",
      "{u'_score': 1.0, u'_type': u'tweet', u'_id': u'840207613690286081', u'_source': {u'username': u'srkart', u'lang': u'en', u'text_categories': [u'sushi'], u'city': u'boston', u'text': u\"A recent commission for a friend's tattoo - cannot wait to see this lil uni sushi on skin! #tattoodesign #uni\\u2026 https://t.co/5WEeFxfcls\", u'img_categories': None, u'hashtags': [u'#tattoodesign', u'#uni\\u2026'], u'img_flag': True, u'timestamp_ms': u'1489156080063', u'bounding_box': None, u'coords': None, u'id_str': u'840207613690286081', u'country': u'united states', u'id': 840207613690286081, u'created_at_day': 20170310, u'created_at_datetime': u'2017-03-10T14:28:00', u'media_url': None}, u'_index': u'trend'}\n",
      "\n",
      "{u'_score': 1.0, u'_type': u'tweet', u'_id': u'840207732506521600', u'_source': {u'username': u'pocoapoco', u'lang': u'ja', u'text_categories': [u'ramen'], u'city': u'\\u4e16\\u7530\\u8c37\\u533a', u'text': u'\\u30d5\\u30ec\\u30f3\\u30c1\\u30b7\\u30a7\\u30d5\\u306e\\u4f5c\\u308b\\u30e9\\u30fc\\u30e1\\u30f3\\n\\n#\\u30e9\\u30fc\\u30e1\\u30f3 #ramen\\xa0#ramenlove\\xa0#\\u62c9\\u9eba\\xa0#\\ub77c\\uba74\\xa0#noodles #food #japanese\\u2026 https://t.co/NP0RHNejB1', u'img_categories': None, u'hashtags': [u'#\\u30e9\\u30fc\\u30e1\\u30f3', u'#ramen', u'#ramenlove', u'#\\u62c9\\u9eba', u'#\\ub77c\\uba74', u'#noodles', u'#food', u'#japanese\\u2026'], u'img_flag': True, u'timestamp_ms': u'1489156108391', u'bounding_box': {u'type': u'Polygon', u'coordinates': [[[139.582428, 35.590036], [139.582428, 35.682992], [139.686603, 35.682992], [139.686603, 35.590036]]]}, u'coords': [139.60751046, 35.64307386], u'id_str': u'840207732506521600', u'country': u'\\u65e5\\u672c', u'id': 840207732506521600, u'created_at_day': 20170310, u'created_at_datetime': u'2017-03-10T14:28:28', u'media_url': None}, u'_index': u'trend'}\n",
      "\n"
     ]
    }
   ],
   "source": [
    "res = es.search(index=\"trend\", doc_type='tweet', size=10, body={\"query\": {\"match_all\": {}}})\n",
    "# [x['_source'] for x in res['hits']['hits']]\n",
    "for r in res['hits']['hits'][:20]:\n",
    "    print r\n",
    "    print "
   ]
  },
  {
   "cell_type": "markdown",
   "metadata": {},
   "source": [
    "#### GET specific tweets"
   ]
  },
  {
   "cell_type": "code",
   "execution_count": null,
   "metadata": {
    "collapsed": false
   },
   "outputs": [],
   "source": [
    "es.get(index='trend', doc_type='tweet', id=880404048834416644)"
   ]
  },
  {
   "cell_type": "code",
   "execution_count": null,
   "metadata": {
    "collapsed": false,
    "scrolled": false
   },
   "outputs": [],
   "source": [
    "results = es.search(index='trend', doc_type='tweet', size=100, body={\n",
    "  'query': {\n",
    "    'match': {\n",
    "      'text_categories': 'donuts',\n",
    "#       'day': 20170618,\n",
    "#         'sort': [\n",
    "#         {'committed_date': {'order': 'desc'}}\n",
    "#       ],\n",
    "     }\n",
    "  }\n",
    "})\n",
    "\n",
    "print results\n",
    "print len(results[\"hits\"][\"hits\"])"
   ]
  },
  {
   "cell_type": "markdown",
   "metadata": {},
   "source": [
    "#### TEST image classifier"
   ]
  },
  {
   "cell_type": "code",
   "execution_count": null,
   "metadata": {
    "collapsed": true
   },
   "outputs": [],
   "source": [
    "# test some of the urls from the indexed tweets\n",
    "# by reclassifying it with the IMG classifier hosted on our machine\n",
    "request_string = 'http://test.tripbuilder.isti.cnr.it:8080/FoodRecognition/services/IRServices/recognizeByURL?imgURL='\n",
    "for tweet in results[\"hits\"][\"hits\"]:\n",
    "    img_url = tweet[\"_source\"][\"media_url\"]\n",
    "    res = requests.get(request_string + img_url)\n",
    "\n",
    "    print tweet[\"_source\"][\"text\"]\n",
    "    print img_url\n",
    "    print res.content\n",
    "    print json.loads(res.text)[\"guessed\"]\n",
    "    print get_image_category(img_url)\n",
    "    print \n",
    "    print"
   ]
  },
  {
   "cell_type": "code",
   "execution_count": null,
   "metadata": {
    "collapsed": false
   },
   "outputs": [],
   "source": [
    "# import requests\n",
    "# import json\n",
    "\n",
    "# response = requests.get('http://test.tripbuilder.isti.cnr.it:5000/sync')\n",
    "# json_data = json.loads(response.text)\n",
    "# json_data"
   ]
  },
  {
   "cell_type": "markdown",
   "metadata": {
    "collapsed": true
   },
   "source": [
    "### Index from file"
   ]
  },
  {
   "cell_type": "code",
   "execution_count": null,
   "metadata": {
    "collapsed": false
   },
   "outputs": [],
   "source": [
    "import json\n",
    "import os\n",
    "import sys\n",
    "import time\n",
    "os.chdir(\"/home/foodmap/food101/\")\n",
    "sys.path.append(os.getcwd())\n",
    "from elasticsearch import Elasticsearch, RequestError\n",
    "from processing.preprocess_tweet import process_tweet\n",
    "from processing.twitter.Tweet import Tweet"
   ]
  },
  {
   "cell_type": "code",
   "execution_count": null,
   "metadata": {
    "collapsed": false
   },
   "outputs": [],
   "source": [
    "inputFile=\"/home/foodmap/data/food-tweets/food-tweets-2017-03-10.json.gz\"\n",
    "indexName=\"trend\"\n",
    "\n",
    "tweetsAsDict = Tweet.getTweetAsDictionary(inputFile)\n",
    "i = 0\n",
    "numIndex = 0\n",
    "for tweet in tweetsAsDict:\n",
    "    i += 1\n",
    "    if i % 10 == 0:\n",
    "        print \"Processed tweets: \", i\n",
    "        print \"Indexed tweets: \", numIndex\n",
    "\n",
    "    new_tweet = process_tweet(tweet, forStream=False)\n",
    "    if new_tweet is None:\n",
    "        continue\n",
    "\n",
    "    try:\n",
    "        if i > 1480:\n",
    "            print new_tweet\n",
    "        # added request_timeout to avoid elasticsearch.exceptions.ConnectionTimeout\n",
    "        es.index(index=indexName, doc_type='tweet', id=new_tweet[\"id\"], body=new_tweet)\n",
    "        numIndex += 1\n",
    "        # print \"Indexed tweet: \", new_tweet[\"id\"]\n",
    "    except RequestError as e:\n",
    "        print \"Couldn't index tweet id: \", new_tweet[\"id\"]\n",
    "        print e.status_code, e.message\n",
    "        time.sleep(60)\n",
    "\n",
    "print \"Processed tweets: \", i\n",
    "print \"Indexed tweets: \", numIndex"
   ]
  },
  {
   "cell_type": "code",
   "execution_count": null,
   "metadata": {
    "collapsed": true
   },
   "outputs": [],
   "source": []
  }
 ],
 "metadata": {
  "kernelspec": {
   "display_name": "Python 2",
   "language": "python",
   "name": "python2"
  },
  "language_info": {
   "codemirror_mode": {
    "name": "ipython",
    "version": 2
   },
   "file_extension": ".py",
   "mimetype": "text/x-python",
   "name": "python",
   "nbconvert_exporter": "python",
   "pygments_lexer": "ipython2",
   "version": "2.7.13"
  }
 },
 "nbformat": 4,
 "nbformat_minor": 0
}
