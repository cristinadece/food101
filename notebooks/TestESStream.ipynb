{
 "cells": [
  {
   "cell_type": "markdown",
   "metadata": {},
   "source": [
    "# Test the Stream Index"
   ]
  },
  {
   "cell_type": "markdown",
   "metadata": {},
   "source": [
    "## Check if index is up!"
   ]
  },
  {
   "cell_type": "code",
   "execution_count": 1,
   "metadata": {
    "collapsed": false
   },
   "outputs": [
    {
     "name": "stdout",
     "output_type": "stream",
     "text": [
      "{\n",
      "  \"name\" : \"loGu88Z\",\n",
      "  \"cluster_name\" : \"foodmap-cluster\",\n",
      "  \"cluster_uuid\" : \"u6p1OlcKS8K0ulvvGBdVKw\",\n",
      "  \"version\" : {\n",
      "    \"number\" : \"5.4.0\",\n",
      "    \"build_hash\" : \"780f8c4\",\n",
      "    \"build_date\" : \"2017-04-28T17:43:27.229Z\",\n",
      "    \"build_snapshot\" : false,\n",
      "    \"lucene_version\" : \"6.5.0\"\n",
      "  },\n",
      "  \"tagline\" : \"You Know, for Search\"\n",
      "}\n",
      "\n"
     ]
    }
   ],
   "source": [
    "import requests\n",
    "res = requests.get('http://foodmap.isti.cnr.it:9200', auth=('elastic', 'changeme'))\n",
    "print(res.content)"
   ]
  },
  {
   "cell_type": "code",
   "execution_count": 2,
   "metadata": {
    "collapsed": false
   },
   "outputs": [],
   "source": [
    "from elasticsearch import Elasticsearch\n",
    "es = Elasticsearch(['localhost'], http_auth=('elastic', 'changeme'), port=9200)"
   ]
  },
  {
   "cell_type": "markdown",
   "metadata": {},
   "source": [
    "## Index operations"
   ]
  },
  {
   "cell_type": "markdown",
   "metadata": {},
   "source": [
    "#### Delete index, delete tweets by id and query"
   ]
  },
  {
   "cell_type": "code",
   "execution_count": 7,
   "metadata": {
    "collapsed": false
   },
   "outputs": [
    {
     "data": {
      "text/plain": [
       "{u'acknowledged': True}"
      ]
     },
     "execution_count": 7,
     "metadata": {},
     "output_type": "execute_result"
    }
   ],
   "source": [
    "es.indices.delete(index='stream', ignore=[400, 404])"
   ]
  },
  {
   "cell_type": "code",
   "execution_count": null,
   "metadata": {
    "collapsed": false
   },
   "outputs": [],
   "source": [
    "# es.delete_by_query(index='stream', doc_type='tweet', body={\n",
    "#     'query': {\n",
    "#         \"match_all\" : {}\n",
    "#     }\n",
    "# })"
   ]
  },
  {
   "cell_type": "markdown",
   "metadata": {},
   "source": [
    "#### Count elements in index"
   ]
  },
  {
   "cell_type": "code",
   "execution_count": 11,
   "metadata": {
    "collapsed": false
   },
   "outputs": [
    {
     "data": {
      "text/plain": [
       "{u'_shards': {u'failed': 0, u'successful': 5, u'total': 5}, u'count': 4}"
      ]
     },
     "execution_count": 11,
     "metadata": {},
     "output_type": "execute_result"
    }
   ],
   "source": [
    "es.count(index='stream', doc_type='tweet')"
   ]
  },
  {
   "cell_type": "markdown",
   "metadata": {},
   "source": [
    "#### GET all docs from index"
   ]
  },
  {
   "cell_type": "code",
   "execution_count": 12,
   "metadata": {
    "collapsed": false,
    "scrolled": true
   },
   "outputs": [
    {
     "name": "stdout",
     "output_type": "stream",
     "text": [
      "{u'_score': 1.0, u'_type': u'tweet', u'_id': u'880200119806824448', u'_source': {u'username': u'Ktanasushiwok', u'lang': u'es', u'text_categories': [u' sushi'], u'city': u'Candelaria', u'text': u'Ya estamos listos para entregarte como siempre, lo mejor del #Sushi y el #Wok en #CaliCo\\u2026 https://t.co/hODbwmPyhF', u'img_categories': None, u'hashtags': [u'#sushi', u'#wok', u'#calico\\u2026'], u'img_flag': True, u'timestamp_ms': u'1498691036546', u'bounding_box': {u'type': u'Polygon', u'coordinates': [[[-76.584528, 3.266369], [-76.584528, 3.461995], [-76.407632, 3.461995], [-76.407632, 3.266369]]]}, u'coords': [-76.53565396, 3.40648448], u'id_str': u'880200119806824448', u'country': u'Colombia', u'id': 880200119806824448, u'created_at_day': 20170628, u'created_at_datetime': u'2017-06-28T23:03:56', u'media_url': None}, u'_index': u'stream'}\n",
      "\n",
      "{u'_score': 1.0, u'_type': u'tweet', u'_id': u'880199694093348864', u'_source': {u'username': u'Gabyoc31', u'lang': u'fr', u'text_categories': [u' poutine'], u'city': u'Toulouse', u'text': u\"Remember 2014 PR @fhollande \\xe0 l'initiative pour r\\xe9gler conflit en Ukraine ! #Poutine La France existait av #Macron ! https://t.co/WjchezP3nV\", u'img_categories': None, u'hashtags': [u'#poutine', u'#macron'], u'img_flag': True, u'timestamp_ms': u'1498690935048', u'bounding_box': {u'type': u'Polygon', u'coordinates': [[[1.350425, 43.53284], [1.350425, 43.668674], [1.515376, 43.668674], [1.515376, 43.53284]]]}, u'coords': None, u'id_str': u'880199694093348864', u'country': u'France', u'id': 880199694093348864, u'created_at_day': 20170628, u'created_at_datetime': u'2017-06-28T23:02:15', u'media_url': None}, u'_index': u'stream'}\n",
      "\n",
      "{u'_score': 1.0, u'_type': u'tweet', u'_id': u'880200021479751680', u'_source': {u'username': u'ijustwanttoeat', u'lang': u'en', u'text_categories': [u' fish and chips'], u'city': u'Manhattan', u'text': u'Opening tomorrow: @IceFishChips direct from Reykjavik! #eatlikeanislander #fishandchips #fish\\u2026 https://t.co/WQeA4VnPlo', u'img_categories': None, u'hashtags': [u'#eatlikeanislander', u'#fishandchips', u'#fish\\u2026'], u'img_flag': True, u'timestamp_ms': u'1498691013103', u'bounding_box': {u'type': u'Polygon', u'coordinates': [[[-74.026675, 40.683935], [-74.026675, 40.877483], [-73.910408, 40.877483], [-73.910408, 40.683935]]]}, u'coords': [-74.00477529, 40.73048653], u'id_str': u'880200021479751680', u'country': u'United States', u'id': 880200021479751680, u'created_at_day': 20170628, u'created_at_datetime': u'2017-06-28T23:03:33', u'media_url': None}, u'_index': u'stream'}\n",
      "\n",
      "{u'_score': 1.0, u'_type': u'tweet', u'_id': u'880200620078125056', u'_source': {u'username': u'SDilligaf', u'lang': u'en', u'text_categories': [u' tacos'], u'city': u'Jonesboro', u'text': u'Is this cannibalism me taco eatin a taco #tacos #TacoNation #tacobell https://t.co/twAShAFoaD', u'img_categories': [], u'hashtags': [u'#tacos', u'#taconation', u'#tacobell'], u'img_flag': False, u'timestamp_ms': u'1498691155820', u'bounding_box': {u'type': u'Polygon', u'coordinates': [[[-90.782468, 35.763136], [-90.782468, 35.894116], [-90.611214, 35.894116], [-90.611214, 35.763136]]]}, u'coords': None, u'id_str': u'880200620078125056', u'country': u'United States', u'id': 880200620078125056, u'created_at_day': 20170628, u'created_at_datetime': u'2017-06-28T23:05:55', u'media_url': u'http://pbs.twimg.com/media/DDcZynNVYAAklQw.jpg'}, u'_index': u'stream'}\n",
      "\n"
     ]
    }
   ],
   "source": [
    "res = es.search(index=\"stream\", doc_type='tweet', size=100, body={\"query\": {\"match_all\": {}}})\n",
    "# [x['_source'] for x in res['hits']['hits']]\n",
    "for r in res['hits']['hits']:\n",
    "    print r\n",
    "    print "
   ]
  },
  {
   "cell_type": "markdown",
   "metadata": {},
   "source": [
    "#### GET specific tweets"
   ]
  },
  {
   "cell_type": "code",
   "execution_count": null,
   "metadata": {
    "collapsed": false
   },
   "outputs": [],
   "source": [
    "es.get(index='stream', doc_type='tweet_snippet', id=877436391956860928)"
   ]
  },
  {
   "cell_type": "code",
   "execution_count": null,
   "metadata": {
    "collapsed": false,
    "scrolled": false
   },
   "outputs": [],
   "source": [
    "import json\n",
    "from index.preprocess_tweet import get_image_category\n",
    "results = es.search(index='stream', doc_type='tweet_snippet', size=100, body={\n",
    "  'query': {\n",
    "    'match': {\n",
    "      'img_category': 'Sushi',\n",
    "#       'day': 20170618,\n",
    "#         'sort': [\n",
    "#         {'committed_date': {'order': 'desc'}}\n",
    "#       ],\n",
    "     }\n",
    "  }\n",
    "})\n",
    "\n",
    "# print results\n",
    "# print len(results[\"hits\"][\"hits\"])"
   ]
  },
  {
   "cell_type": "markdown",
   "metadata": {},
   "source": [
    "#### TEST image classifier"
   ]
  },
  {
   "cell_type": "code",
   "execution_count": null,
   "metadata": {
    "collapsed": true
   },
   "outputs": [],
   "source": [
    "# test some of the urls from the indexed tweets\n",
    "# by reclassifying it with the IMG classifier hosted on our machine\n",
    "request_string = 'http://test.tripbuilder.isti.cnr.it:8080/FoodRecognition/services/IRServices/recognizeByURL?imgURL='\n",
    "for tweet in results[\"hits\"][\"hits\"]:\n",
    "    img_url = tweet[\"_source\"][\"media_url\"]\n",
    "    res = requests.get(request_string + img_url)\n",
    "\n",
    "    print tweet[\"_source\"][\"text\"]\n",
    "    print img_url\n",
    "    print res.content\n",
    "    print json.loads(res.text)[\"guessed\"]\n",
    "    print get_image_category(img_url)\n",
    "    print \n",
    "    print"
   ]
  },
  {
   "cell_type": "code",
   "execution_count": null,
   "metadata": {
    "collapsed": false
   },
   "outputs": [],
   "source": [
    "# import requests\n",
    "# import json\n",
    "\n",
    "# response = requests.get('http://test.tripbuilder.isti.cnr.it:5000/sync')\n",
    "# json_data = json.loads(response.text)\n",
    "# json_data"
   ]
  },
  {
   "cell_type": "code",
   "execution_count": null,
   "metadata": {
    "collapsed": true
   },
   "outputs": [],
   "source": []
  }
 ],
 "metadata": {
  "kernelspec": {
   "display_name": "Python 2",
   "language": "python",
   "name": "python2"
  },
  "language_info": {
   "codemirror_mode": {
    "name": "ipython",
    "version": 2
   },
   "file_extension": ".py",
   "mimetype": "text/x-python",
   "name": "python",
   "nbconvert_exporter": "python",
   "pygments_lexer": "ipython2",
   "version": "2.7.13"
  }
 },
 "nbformat": 4,
 "nbformat_minor": 0
}
