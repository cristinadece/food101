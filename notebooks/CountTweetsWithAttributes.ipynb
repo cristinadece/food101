{
 "cells": [
  {
   "cell_type": "code",
   "execution_count": 1,
   "metadata": {
    "collapsed": false
   },
   "outputs": [
    {
     "name": "stdout",
     "output_type": "stream",
     "text": [
      "current dir:  /home/foodmap/food101/notebooks\n",
      "current dir:  /home/foodmap/food101\n"
     ]
    }
   ],
   "source": [
    "import os\n",
    "print \"current dir: \", os.getcwd()\n",
    "os.chdir(\"/home/foodmap/food101/\")\n",
    "print \"current dir: \", os.getcwd()"
   ]
  },
  {
   "cell_type": "code",
   "execution_count": 2,
   "metadata": {
    "collapsed": false
   },
   "outputs": [
    {
     "name": "stdout",
     "output_type": "stream",
     "text": [
      "All cities with all name:  22309\n",
      "All cities unique geonameid:   23516\n",
      "All countries with all names:  24782\n",
      "All countries unique geonameid:   251\n",
      "Len of country code dict 251\n"
     ]
    }
   ],
   "source": [
    "from location.locations import Cities, Countries\n",
    "from twitter.Tweet import Tweet\n",
    "from location.get_location_from_tweet import *\n",
    "import random\n",
    "\n",
    "citiesIndex, citiesInfo = Cities.loadFromFile()\n",
    "countriesIndex, countriesInfo = Countries.loadFromFile()\n",
    "ccDict = Countries.countryCodeDict(countriesInfo)"
   ]
  },
  {
   "cell_type": "code",
   "execution_count": 7,
   "metadata": {
    "collapsed": true
   },
   "outputs": [],
   "source": [
    "inputFile = \"/home/foodmap/data/food-tweets/food-tweets-2017-06-15.json.gz\""
   ]
  },
  {
   "cell_type": "code",
   "execution_count": 8,
   "metadata": {
    "collapsed": true
   },
   "outputs": [],
   "source": [
    "def get_media_url(tweet):\n",
    "    if \"entities\" in tweet:\n",
    "        if \"media\" in tweet[\"entities\"]:\n",
    "            foundMedia = tweet[\"entities\"][\"media\"]\n",
    "            return foundMedia[0][\"media_url\"]\n",
    "        else:\n",
    "            return None\n",
    "    else:\n",
    "        print tweet\n",
    "        "
   ]
  },
  {
   "cell_type": "code",
   "execution_count": 9,
   "metadata": {
    "collapsed": true
   },
   "outputs": [],
   "source": [
    "def get_food_category(img_url):\n",
    "    categ_list = [\"Pizza\", \"Pasta\", \"Sushi\", None]\n",
    "    return random.choice(categ_list)"
   ]
  },
  {
   "cell_type": "code",
   "execution_count": 10,
   "metadata": {
    "collapsed": false
   },
   "outputs": [
    {
     "name": "stdout",
     "output_type": "stream",
     "text": [
      "Opening file:  /home/foodmap/data/food-tweets/food-tweets-2017-06-15.json.gz\n"
     ]
    },
    {
     "ename": "KeyError",
     "evalue": "'entities'",
     "output_type": "error",
     "traceback": [
      "\u001b[0;31m---------------------------------------------------------------------------\u001b[0m",
      "\u001b[0;31mKeyError\u001b[0m                                  Traceback (most recent call last)",
      "\u001b[0;32m<ipython-input-10-e0ce99c279b4>\u001b[0m in \u001b[0;36m<module>\u001b[0;34m()\u001b[0m\n\u001b[1;32m     15\u001b[0m \u001b[0;34m\u001b[0m\u001b[0m\n\u001b[1;32m     16\u001b[0m         \u001b[0;31m# 1. has photo?\u001b[0m\u001b[0;34m\u001b[0m\u001b[0;34m\u001b[0m\u001b[0m\n\u001b[0;32m---> 17\u001b[0;31m         \u001b[0;32mif\u001b[0m \u001b[0mget_media_url\u001b[0m\u001b[0;34m(\u001b[0m\u001b[0mtweet\u001b[0m\u001b[0;34m)\u001b[0m \u001b[0;32mis\u001b[0m \u001b[0;32mnot\u001b[0m \u001b[0mNone\u001b[0m\u001b[0;34m:\u001b[0m\u001b[0;34m\u001b[0m\u001b[0m\n\u001b[0m\u001b[1;32m     18\u001b[0m             \u001b[0mhasImg\u001b[0m \u001b[0;34m=\u001b[0m \u001b[0mTrue\u001b[0m\u001b[0;34m\u001b[0m\u001b[0m\n\u001b[1;32m     19\u001b[0m             \u001b[0mcountImg\u001b[0m \u001b[0;34m+=\u001b[0m \u001b[0;36m1\u001b[0m\u001b[0;34m\u001b[0m\u001b[0m\n",
      "\u001b[0;32m<ipython-input-8-588d6cb7778a>\u001b[0m in \u001b[0;36mget_media_url\u001b[0;34m(tweet)\u001b[0m\n\u001b[1;32m      1\u001b[0m \u001b[0;32mdef\u001b[0m \u001b[0mget_media_url\u001b[0m\u001b[0;34m(\u001b[0m\u001b[0mtweet\u001b[0m\u001b[0;34m)\u001b[0m\u001b[0;34m:\u001b[0m\u001b[0;34m\u001b[0m\u001b[0m\n\u001b[0;32m----> 2\u001b[0;31m     \u001b[0;32mif\u001b[0m \u001b[0;34m\"media\"\u001b[0m \u001b[0;32min\u001b[0m \u001b[0mtweet\u001b[0m\u001b[0;34m[\u001b[0m\u001b[0;34m\"entities\"\u001b[0m\u001b[0;34m]\u001b[0m\u001b[0;34m:\u001b[0m\u001b[0;34m\u001b[0m\u001b[0m\n\u001b[0m\u001b[1;32m      3\u001b[0m         \u001b[0mfoundMedia\u001b[0m \u001b[0;34m=\u001b[0m \u001b[0mtweet\u001b[0m\u001b[0;34m[\u001b[0m\u001b[0;34m\"entities\"\u001b[0m\u001b[0;34m]\u001b[0m\u001b[0;34m[\u001b[0m\u001b[0;34m\"media\"\u001b[0m\u001b[0;34m]\u001b[0m\u001b[0;34m\u001b[0m\u001b[0m\n\u001b[1;32m      4\u001b[0m         \u001b[0;32mreturn\u001b[0m \u001b[0mfoundMedia\u001b[0m\u001b[0;34m[\u001b[0m\u001b[0;36m0\u001b[0m\u001b[0;34m]\u001b[0m\u001b[0;34m[\u001b[0m\u001b[0;34m\"media_url\"\u001b[0m\u001b[0;34m]\u001b[0m\u001b[0;34m\u001b[0m\u001b[0m\n\u001b[1;32m      5\u001b[0m     \u001b[0;32melse\u001b[0m\u001b[0;34m:\u001b[0m\u001b[0;34m\u001b[0m\u001b[0m\n",
      "\u001b[0;31mKeyError\u001b[0m: 'entities'"
     ]
    }
   ],
   "source": [
    "import codecs, json\n",
    "tweetsAsDict = Tweet.getTweetAsDictionary(inputFile)\n",
    "i = 0\n",
    "countImg = 0\n",
    "countIndexEntries = 0\n",
    "countCategory = 0\n",
    "countPlace = 0\n",
    "\n",
    "with codecs.open(\"locationresults-no-ambiguity.txt\", \"w\", \"utf-8\") as f:\n",
    "    for tweet in tweetsAsDict:\n",
    "        i+=1\n",
    "        hasImg = False\n",
    "        hasCategory = False\n",
    "        hasCountry = False\n",
    "\n",
    "        # 1. has photo?\n",
    "        if get_media_url(tweet) is not None:\n",
    "            hasImg = True\n",
    "            countImg += 1\n",
    "        else:\n",
    "            continue\n",
    "\n",
    "        # 2. has food category?\n",
    "#         if get_food_category(tweet) is not None:\n",
    "#             hasCategory = True\n",
    "#             countCategory += 1\n",
    "#         else:\n",
    "#             continue\n",
    "\n",
    "        # 3. has location? we need city and country; record 2 separate fields\n",
    "        ## 3.1. check for place\n",
    "        tweet_coords, tweet_place_city, tweet_place_country, tweet_place_country_code, user_loc = getLocationData(tweet)\n",
    "        #print tweet_coords, tweet_place_city, tweet_place_country, tweet_place_country_code\n",
    "        ## 3.2. check for user location\n",
    "        if (tweet_place_country is None):\n",
    "            user_cities, user_countries = getUserLocation(user_loc, citiesIndex, citiesInfo, countriesIndex, countriesInfo)\n",
    "            inferred_countries = inferCountryFromCity(user_cities, citiesIndex, citiesInfo, ccDict)\n",
    "            city, country = getFinalUserLocation(user_cities, user_countries, inferred_countries)\n",
    "        else:\n",
    "            city = tweet_place_city\n",
    "            country = tweet_place_country\n",
    "\n",
    "        if user_loc is not None:\n",
    "            f.write(\"User_loc:\" + json.dumps(user_loc) + \"\\n\")\n",
    "            f.write(\"If Place: \" + json.dumps(tweet_place_city) + \"\\t\" + json.dumps(tweet_place_country) + \"\\n\")\n",
    "            f.write(\"Final Loc: \" + json.dumps(city) + \"\\t\" + json.dumps(country) + \"\\n\")\n",
    "            f.write(\"\\n\")\n",
    "\n",
    "        if (tweet_place_country is not None) or (country is not None):\n",
    "            hasCountry =True\n",
    "            countPlace += 1\n",
    "\n",
    "        # SEE if CONDITIONS are met\n",
    "        if hasImg and hasCategory and hasCountry:\n",
    "            countIndexEntries +=1\n",
    "\n",
    "print \"Total relevant tweets in a day: \", i\n",
    "print \"Tweets with media\", countImg\n",
    "print \"Tweets with category\", countCategory\n",
    "print \"Tweets with place\", countPlace\n",
    "print \"Tweets in index\", countIndexEntries"
   ]
  },
  {
   "cell_type": "code",
   "execution_count": null,
   "metadata": {
    "collapsed": true
   },
   "outputs": [],
   "source": []
  }
 ],
 "metadata": {
  "kernelspec": {
   "display_name": "Python 2",
   "language": "python",
   "name": "python2"
  },
  "language_info": {
   "codemirror_mode": {
    "name": "ipython",
    "version": 2
   },
   "file_extension": ".py",
   "mimetype": "text/x-python",
   "name": "python",
   "nbconvert_exporter": "python",
   "pygments_lexer": "ipython2",
   "version": "2.7.13"
  }
 },
 "nbformat": 4,
 "nbformat_minor": 2
}
