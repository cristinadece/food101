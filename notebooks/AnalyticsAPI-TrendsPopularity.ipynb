{
 "cells": [
  {
   "cell_type": "code",
   "execution_count": 1,
   "metadata": {
    "collapsed": false
   },
   "outputs": [
    {
     "name": "stdout",
     "output_type": "stream",
     "text": [
      "{\n",
      "  \"name\" : \"0PsTttc\",\n",
      "  \"cluster_name\" : \"foodmap-cluster\",\n",
      "  \"cluster_uuid\" : \"2YIbFkvuRqaPWhEjuEYnwA\",\n",
      "  \"version\" : {\n",
      "    \"number\" : \"5.4.0\",\n",
      "    \"build_hash\" : \"780f8c4\",\n",
      "    \"build_date\" : \"2017-04-28T17:43:27.229Z\",\n",
      "    \"build_snapshot\" : false,\n",
      "    \"lucene_version\" : \"6.5.0\"\n",
      "  },\n",
      "  \"tagline\" : \"You Know, for Search\"\n",
      "}\n",
      "\n"
     ]
    }
   ],
   "source": [
    "import requests\n",
    "res = requests.get('http://foodmap.isti.cnr.it:9200', auth=('elastic', 'changeme'))\n",
    "print(res.content)"
   ]
  },
  {
   "cell_type": "markdown",
   "metadata": {},
   "source": [
    "### ES Auth"
   ]
  },
  {
   "cell_type": "code",
   "execution_count": 2,
   "metadata": {
    "collapsed": false
   },
   "outputs": [
    {
     "name": "stdout",
     "output_type": "stream",
     "text": [
      "<Elasticsearch([{u'host': u'foodmap.isti.cnr.it'}])>\n"
     ]
    }
   ],
   "source": [
    "from elasticsearch import Elasticsearch\n",
    "es = Elasticsearch(['foodmap.isti.cnr.it'], http_auth=('elastic', 'changeme'), port=9200)\n",
    "print es"
   ]
  },
  {
   "cell_type": "code",
   "execution_count": 22,
   "metadata": {
    "collapsed": false
   },
   "outputs": [
    {
     "name": "stdout",
     "output_type": "stream",
     "text": [
      "28203\n",
      "{u'_score': 1.0, u'_type': u'count', u'_id': u'1115', u'_source': {u'category': u'breakfast burrito', u'date': 20170315, u'count': 35, u'country': u'united states'}, u'_index': u'agg'}\n",
      "{u'_score': 1.0, u'_type': u'count', u'_id': u'1123', u'_source': {u'category': u'breakfast burrito', u'date': 20170313, u'count': 26, u'country': u'united states'}, u'_index': u'agg'}\n",
      "{u'_score': 1.0, u'_type': u'count', u'_id': u'1124', u'_source': {u'category': u'breakfast burrito', u'date': 20170324, u'count': 25, u'country': u'united states'}, u'_index': u'agg'}\n",
      "{u'_score': 1.0, u'_type': u'count', u'_id': u'1128', u'_source': {u'category': u'breakfast burrito', u'date': 20170320, u'count': 22, u'country': u'united states'}, u'_index': u'agg'}\n",
      "{u'_score': 1.0, u'_type': u'count', u'_id': u'1131', u'_source': {u'category': u'breakfast burrito', u'date': 20170317, u'count': 20, u'country': u'united states'}, u'_index': u'agg'}\n",
      "{u'_score': 1.0, u'_type': u'count', u'_id': u'1136', u'_source': {u'category': u'breakfast burrito', u'date': 20170324, u'count': 10, u'country': u'united kingdom'}, u'_index': u'agg'}\n",
      "{u'_score': 1.0, u'_type': u'count', u'_id': u'1145', u'_source': {u'category': u'breakfast burrito', u'date': 20170316, u'count': 4, u'country': u'united kingdom'}, u'_index': u'agg'}\n",
      "{u'_score': 1.0, u'_type': u'count', u'_id': u'1146', u'_source': {u'category': u'breakfast burrito', u'date': 20170321, u'count': 4, u'country': u'united kingdom'}, u'_index': u'agg'}\n",
      "{u'_score': 1.0, u'_type': u'count', u'_id': u'1147', u'_source': {u'category': u'breakfast burrito', u'date': 20170325, u'count': 4, u'country': u'united kingdom'}, u'_index': u'agg'}\n",
      "{u'_score': 1.0, u'_type': u'count', u'_id': u'1156', u'_source': {u'category': u'breakfast burrito', u'date': 20170322, u'count': 1, u'country': u'united kingdom'}, u'_index': u'agg'}\n"
     ]
    }
   ],
   "source": [
    "result = es.search(index='agg', doc_type='count', size=1000000, body={\n",
    "    'query': {\n",
    "        \"match_all\" : {}\n",
    "    }\n",
    "})\n",
    "\n",
    "lst = [x for x in result['hits']['hits']]\n",
    "print len(lst)\n",
    "for l in lst[:10]:\n",
    "    print l"
   ]
  },
  {
   "cell_type": "markdown",
   "metadata": {},
   "source": [
    "## Query by"
   ]
  },
  {
   "cell_type": "code",
   "execution_count": 99,
   "metadata": {
    "collapsed": true
   },
   "outputs": [],
   "source": [
    "from itertools import groupby\n",
    "from collections import defaultdict\n",
    "# the interval is currently implicit\n",
    "dateBegin = 0\n",
    "dateEnd = 20180400\n",
    "category = 'sushi'\n",
    "# country = 'united states'\n",
    "country = 'italy'"
   ]
  },
  {
   "cell_type": "code",
   "execution_count": 92,
   "metadata": {
    "collapsed": false
   },
   "outputs": [],
   "source": [
    "# Query by food category - Fig. 2b,c Map/Report of Trends/Popularity\n",
    "def query_by_category(category):\n",
    "    result = es.search(index='agg', doc_type='count', size=100000, body={\n",
    "        \"query\": {        \n",
    "            \"bool\" : {                \n",
    "                \"filter\": [\n",
    "                    {\"term\" : { \"category.keyword\" : category }},\n",
    "                    {\"range\": {            \n",
    "                        \"date\" : {            \n",
    "                            \"gte\" : dateBegin,\n",
    "                            \"lte\" : dateEnd\n",
    "                        }            \n",
    "                    }}\n",
    "                ]            \n",
    "            }\n",
    "        }\n",
    "    })\n",
    "    return result"
   ]
  },
  {
   "cell_type": "code",
   "execution_count": 93,
   "metadata": {
    "collapsed": true
   },
   "outputs": [],
   "source": [
    "# Query by food category - Fig. 2a Report of Trends/Popularity\n",
    "def query_by_country(country):\n",
    "    result = es.search(index='agg', doc_type='count', size=100000, body={\n",
    "        \"query\": {        \n",
    "            \"bool\" : {                \n",
    "                \"filter\": [\n",
    "                    {\"term\" : { \"country.keyword\" : country }},\n",
    "                    {\"range\": {            \n",
    "                        \"date\" : {            \n",
    "                            \"gte\" : dateBegin,\n",
    "                            \"lte\" : dateEnd\n",
    "                        }            \n",
    "                    }}\n",
    "                ]            \n",
    "            }\n",
    "        }\n",
    "    })\n",
    "    return result"
   ]
  },
  {
   "cell_type": "markdown",
   "metadata": {},
   "source": [
    "## Trends / Popularity based on query_by_category"
   ]
  },
  {
   "cell_type": "code",
   "execution_count": 124,
   "metadata": {
    "collapsed": false
   },
   "outputs": [
    {
     "name": "stdout",
     "output_type": "stream",
     "text": [
      "[(u'east timor', 1), (u'korea, republic of', 31), (u'azerbaijan', 3), (u'uzbekistan', 2), (u'senegal', 2), (u'cambodia', 32), (u'japan', 1128), (u'taiwan', 64), (u'cyprus', 29), (u'barbados', 16), (u'the former yugoslav republic of macedonia', 1), (u'bhutan', 1), (u'switzerland', 121), (u'lithuania', 12), (u'mongolia', 2), (u'united kingdom', 13979), (u'tunisia', 24), (u'british virgin islands', 5), (u'puerto rico', 229), (u'argentina', 776), (u'norway', 84), (u'sierra leone', 1), (u'ghana', 43), (u'belarus', 14), (u'cuba', 12), (u'zambia', 3), (u'guatemala', 49), (u'zimbabwe', 21), (u'poland', 212), (u'belgium', 255), (u'haiti', 12), (u'kazakhstan', 5), (u'burkina faso', 1), (u'north korea', 1), (u'kyrgyzstan', 2), (u'netherlands', 684), (u'denmark', 76), (u'philippines', 1095), (u'moldova', 2), (u'democratic republic of the congo', 2), (u'latvia', 7), (u'namibia', 6), (u'bosnia and herzegovina', 7), (u'chad', 3), (u'sri lanka', 77), (u'saint barthelemy', 1), (u'bulgaria', 48), (u'jamaica', 84), (u'albania', 7), (u'samoa', 1), (u'colombia', 608), (u'serbia and montenegro', 7), (u'palestinian territory', 4), (u'serbia', 24), (u'malaysia', 210), (u'mozambique', 5), (u'reunion', 8), (u'nicaragua', 30), (u'new zealand', 177), (u'canada', 3364), (u'afghanistan', 9), (u'qatar', 26), (u'palau', 1), (u'curacao', 1), (u'iran (islamic republic of)', 1), (u'kuwait', 25), (u'panama', 101), (u'nepal', 24), (u'central african republic', 14), (u'luxembourg', 15), (u'somalia', 1), (u'netherlands antilles', 2), (u'croatia', 49), (u'venezuela', 728), (u'brunei', 3), (u'iran', 21), (u'united arab emirates', 300), (u'mali', 9), (u'saudi arabia', 224), (u'costa rica', 51), (u'trinidad and tobago', 19), (u'china', 76), (u'armenia', 25), (u'thailand', 294), (u'iraq', 10), (u'bangladesh', 36), (u'ukraine', 50), (u'yemen', 3), (u'isle of man', 17), (u'libya', 9), (u'mayotte', 1), (u'oman', 85), (u'finland', 199), (u'macedonia', 12), (u'mauritius', 9), (u'antigua and barbuda', 1), (u'estonia', 14), (u'syria', 5), (u'dominican republic', 54), (u'suriname', 2), (u'pakistan', 319), (u'romania', 66), (u'seychelles', 1), (u'czech republic', 60), (u'myanmar', 2), (u'el salvador', 61), (u'egypt', 125), (u'guam', 3), (u'united states', 40308), (u'austria', 192), (u'greenland', 3), (u'hungary', 92), (u'ivory coast', 5), (u'honduras', 21), (u'niger', 1), (u'fiji', 7), (u'turkey', 558), (u'andorra', 1), (u'madagascar', 3), (u'belize', 3), (u'portugal', 95), (u'bonaire, saint eustatius and saba ', 3), (u'mexico', 1710), (u'france', 1564), (u'bahamas', 13), (u'slovakia', 14), (u'gibraltar', 4), (u'peru', 184), (u'laos', 1), (u'aruba', 8), (u'nigeria', 177), (u'anguilla', 2), (u'malawi', 4), (u'ecuador', 405), (u'saint martin', 1), (u'israel', 35), (u'swaziland', 6), (u'algeria', 15), (u'lebanon', 92), (u'georgia', 61), (u'montenegro', 7), (u'togo', 19), (u'jordan', 9), (u'chile', 375), (u'martinique', 4), (u'south korea', 144), (u'spain', 2919), (u'bolivia', 29), (u'viet nam', 19), (u'brunei darussalam', 1), (u'morocco', 36), (u'sweden', 184), (u'gabon', 1), (u'guyana', 29), (u'grenada', 20), (u'guadeloupe', 4), (u'hong kong', 69), (u'russia', 146), (u'bahrain', 40), (u'macau', 2), (u'uruguay', 97), (u'greece', 329), (u'india', 2379), (u'angola', 7), (u'australia', 1120), (u'saint vincent and the grenadines', 1), (u'uganda', 18), (u'paraguay', 64), (u'kenya', 42), (u'ireland', 540), (u'macao', 4), (u'botswana', 3), (u'italy', 4923), (u'western sahara', 5), (u'south africa', 1055), (u'malta', 13), (u'ethiopia', 21), (u'bermuda', 7), (u'holy see (vatican city)', 40), (u'marshall islands', 10), (u'cameroon', 13), (u'antarctica', 1), (u'benin', 1), (u'brazil', 1707), (u\"lao people's democratic republic\", 3), (u'singapore', 209), (u'iceland', 184), (u'san marino', 6), (u'monaco', 19), (u'cayman islands', 6), (u'slovenia', 24), (u'germany', 1323), (u'dominica', 2), (u'libyan arab jamahiriya', 1), (u'eritrea', 1), (u'tonga', 1), (u'maldives', 15), (u'norfolk island', 47), (u'tanzania', 15), (u'indonesia', 656), (u'sudan', 2), (u'liechtenstein', 2), (u'vietnam', 40), (u'guernsey', 1), (u'united republic of tanzania', 1)]\n"
     ]
    }
   ],
   "source": [
    "# get trends \n",
    "result = query_by_category(category)\n",
    "\n",
    "def get_trend_per_country(query_result, analysis_type=\"trend\"):\n",
    "    country_dict = defaultdict(list)\n",
    "    for x in query_result['hits']['hits']:\n",
    "        country_dict[x[\"_source\"]['country']].append(tuple((x[\"_source\"]['date'],x[\"_source\"]['count'])))\n",
    "    \n",
    "    country_trend = defaultdict(float)\n",
    "    for country, values in country_dict.iteritems():\n",
    "        # sort list by date ascending\n",
    "        sorted_counts = sorted(values, key=lambda x: x[0])\n",
    "        # we refer to the current day in the interval\n",
    "        if analysis_type == \"frequency\":\n",
    "            country_trend[country] = sum([y for x,y in sorted_counts])\n",
    "        elif analysis_type == \"popularity\":\n",
    "            country_trend[country] = stats.zscore([y for x,y in sorted_counts])[-1] \n",
    "        elif analysis_type == \"trend\":\n",
    "            y = [y for x,y in sorted_counts]\n",
    "            x = np.arange(len(y))\n",
    "            try:\n",
    "                regression = np.polyfit(x, y, 1)\n",
    "                country_trend[country] = regression[0]\n",
    "            except:\n",
    "                # the fir doesn't work for this example: np.polyfit(np.array([0]), np.array([1]), 1)\n",
    "                # some versions of numpy return nan, as should we\n",
    "                country_trend[country] = np.nan\n",
    "            \n",
    "    return country_trend\n",
    "\n",
    "newd = get_trend_per_country(result, analysis_type=\"frequency\")\n",
    "# newd = get_category_trend_per_country(result, analysis_type=\"popularity\")\n",
    "print [(x,y) for x,y in newd.iteritems()]\n",
    "\n",
    "# WHY zscore is NaN - division by 0\n",
    "# sorted_counts_lit = sorted(country_dict['lithuania'], key=lambda x: x[0])\n",
    "# print stats.zscore([y for x,y in sorted_counts_lit])\n",
    "# print sorted_counts_lit"
   ]
  },
  {
   "cell_type": "markdown",
   "metadata": {},
   "source": [
    "## Trends / Popularity based on query_by_country"
   ]
  },
  {
   "cell_type": "code",
   "execution_count": 123,
   "metadata": {
    "collapsed": false
   },
   "outputs": [
    {
     "name": "stdout",
     "output_type": "stream",
     "text": [
      "[(u'hamburger', 417), (u'guacamole', 50), (u'dumplings', 40), (u'sushi', 1210), (u'churros', 32), (u'pizza', 4923), (u'escargots', 7), (u'falafel', 37), (u'gnocchi', 735), (u'takoyaki', 6), (u'donuts', 148), (u'macarons', 114), (u'sashimi', 87), (u'tiramisu', 338), (u'gyoza', 12), (u'cheesecake', 513), (u'scallops', 27), (u'baklava', 16), (u'ravioli', 396), (u'edamame', 18), (u'pho', 20), (u'bruschetta', 88), (u'pancakes', 312), (u'cannoli', 103), (u'tacos', 156), (u'ceviche', 38), (u'poutine', 93), (u'mussels', 42), (u'ramen', 178), (u'bibimbap', 7), (u'omelette', 102), (u'beignets', 2), (u'risotto', 1270), (u'samosa', 4), (u'hummus', 67), (u'lasagna', 381), (u'paella', 131), (u'nachos', 48), (u'steak', 181), (u'oysters', 58)]\n"
     ]
    }
   ],
   "source": [
    "# get trends\n",
    "result = query_by_country(country)\n",
    "\n",
    "def get_trend_per_category(query_result, analysis_type=\"trend\"):\n",
    "    category_dict = defaultdict(list)\n",
    "    for x in query_result['hits']['hits']:\n",
    "        category_dict[x[\"_source\"]['category']].append(tuple((x[\"_source\"]['date'], x[\"_source\"]['count'])))\n",
    "\n",
    "    category_trend = defaultdict(float)\n",
    "    for category, values in category_dict.iteritems():\n",
    "        # sort list by date ascending\n",
    "        sorted_counts = sorted(values, key=lambda x: x[0])\n",
    "        # we refer to the current day in the interval\n",
    "        if analysis_type == \"frequency\":\n",
    "            category_trend[category] = sum([y for x, y in sorted_counts])\n",
    "        elif analysis_type == \"popularity\":\n",
    "            category_trend[category] = stats.zscore([y for x, y in sorted_counts])[-1]\n",
    "        elif analysis_type == \"trend\":\n",
    "            y = [y for x, y in sorted_counts]\n",
    "            x = np.arange(len(y))\n",
    "            try:\n",
    "                regression = np.polyfit(x, y, 1)\n",
    "                category_trend[category] = regression[0]\n",
    "            except:\n",
    "                # the for doesn't work for this example: np.polyfit(np.array([0]), np.array([1]), 1)\n",
    "                # some versions of numpy return nan, as should we\n",
    "                category_trend[category] = np.nan\n",
    "\n",
    "    return category_trend\n",
    "\n",
    "newd = get_trend_per_category(result, analysis_type=\"frequency\")\n",
    "# newd = get_trend_per_category(result, analysis_type=\"popularity\")\n",
    "print [(x,y) for x,y in newd.iteritems()]\n",
    "\n",
    "# WHY zscore is NaN - division by 0\n",
    "# sorted_counts_lit = sorted(country_dict['lithuania'], key=lambda x: x[0])\n",
    "# print stats.zscore([y for x,y in sorted_counts_lit])\n",
    "# print sorted_counts_lit"
   ]
  },
  {
   "cell_type": "code",
   "execution_count": 96,
   "metadata": {
    "collapsed": false
   },
   "outputs": [
    {
     "name": "stdout",
     "output_type": "stream",
     "text": [
      "[{u'_score': 0.0, u'_type': u'count', u'_id': u'1115', u'_source': {u'category': u'breakfast burrito', u'date': 20170315, u'count': 35, u'country': u'united states'}, u'_index': u'agg'}, {u'_score': 0.0, u'_type': u'count', u'_id': u'1123', u'_source': {u'category': u'breakfast burrito', u'date': 20170313, u'count': 26, u'country': u'united states'}, u'_index': u'agg'}, {u'_score': 0.0, u'_type': u'count', u'_id': u'1124', u'_source': {u'category': u'breakfast burrito', u'date': 20170324, u'count': 25, u'country': u'united states'}, u'_index': u'agg'}, {u'_score': 0.0, u'_type': u'count', u'_id': u'1128', u'_source': {u'category': u'breakfast burrito', u'date': 20170320, u'count': 22, u'country': u'united states'}, u'_index': u'agg'}, {u'_score': 0.0, u'_type': u'count', u'_id': u'1131', u'_source': {u'category': u'breakfast burrito', u'date': 20170317, u'count': 20, u'country': u'united states'}, u'_index': u'agg'}, {u'_score': 0.0, u'_type': u'count', u'_id': u'1309', u'_source': {u'category': u'bruschetta', u'date': 20170321, u'count': 17, u'country': u'united states'}, u'_index': u'agg'}, {u'_score': 0.0, u'_type': u'count', u'_id': u'1313', u'_source': {u'category': u'bruschetta', u'date': 20170329, u'count': 12, u'country': u'united states'}, u'_index': u'agg'}, {u'_score': 0.0, u'_type': u'count', u'_id': u'1314', u'_source': {u'category': u'bruschetta', u'date': 20170320, u'count': 11, u'country': u'united states'}, u'_index': u'agg'}, {u'_score': 0.0, u'_type': u'count', u'_id': u'1315', u'_source': {u'category': u'bruschetta', u'date': 20170325, u'count': 11, u'country': u'united states'}, u'_index': u'agg'}, {u'_score': 0.0, u'_type': u'count', u'_id': u'1316', u'_source': {u'category': u'bruschetta', u'date': 20170313, u'count': 10, u'country': u'united states'}, u'_index': u'agg'}]\n"
     ]
    }
   ],
   "source": [
    "result = query_by_country(\"united states\")  # no results !!! very strange, we can see there are records in match_all\n",
    "# result = query_by_country(\"maldives\")  # no results\n",
    "first10 = [x for x in result['hits']['hits'][:10]]\n",
    "print first10"
   ]
  },
  {
   "cell_type": "markdown",
   "metadata": {},
   "source": [
    "## TRENDS\n",
    "Idea: plot trend line on scatter/line plots with daily values\n",
    "\n",
    "https://docs.scipy.org/doc/numpy-1.3.x/reference/generated/numpy.polyfit.html"
   ]
  },
  {
   "cell_type": "code",
   "execution_count": 9,
   "metadata": {
    "collapsed": false
   },
   "outputs": [
    {
     "data": {
      "text/plain": [
       "[<matplotlib.lines.Line2D at 0x7fdd0c6d42d0>]"
      ]
     },
     "execution_count": 9,
     "metadata": {},
     "output_type": "execute_result"
    },
    {
     "data": {
      "image/png": "[encoded data removed]",
      "text/plain": [
       "<matplotlib.figure.Figure at 0x7fdcd30380d0>"
      ]
     },
     "metadata": {},
     "output_type": "display_data"
    }
   ],
   "source": [
    "y = np.array([ 0.7972,  0.0767,  0.4383,  0.7866,  0.8091, 0.1954,  0.6307,  0.6599,  0.1065,  0.0508]) \n",
    "x = np.arange(len(y))\n",
    "\n",
    "regression = np.polyfit(x, y, 1)\n",
    "regression\n",
    "# y = regression[0] * x + regression[1]\n",
    "\n",
    "import matplotlib.pyplot as plt\n",
    "%matplotlib inline\n",
    "plt.plot(y)\n",
    "new_y = [regression[0]*i+regression[1] for i in x]\n",
    "plt.plot(new_y)"
   ]
  },
  {
   "cell_type": "markdown",
   "metadata": {},
   "source": [
    "## ZSCORE\n",
    "Calculates the z score of each value in the sample, relative to the sample mean and standard deviation.\n",
    "\n",
    "https://docs.scipy.org/doc/scipy-0.19.0/reference/generated/scipy.stats.zscore.html"
   ]
  },
  {
   "cell_type": "code",
   "execution_count": 5,
   "metadata": {
    "collapsed": false
   },
   "outputs": [
    {
     "data": {
      "text/plain": [
       "array([ 1.12724554, -1.2469956 , -0.05542642,  1.09231569,  1.16645923,\n",
       "       -0.8558472 ,  0.57858329,  0.67480514, -1.14879659, -1.33234306])"
      ]
     },
     "execution_count": 5,
     "metadata": {},
     "output_type": "execute_result"
    }
   ],
   "source": [
    "import numpy as np\n",
    "from scipy import stats\n",
    "\n",
    "a = np.array([ 0.7972,  0.0767,  0.4383,  0.7866,  0.8091, 0.1954,  0.6307,  0.6599,  0.1065,  0.0508])\n",
    "stats.zscore(a)"
   ]
  },
  {
   "cell_type": "markdown",
   "metadata": {},
   "source": [
    "### for vini"
   ]
  },
  {
   "cell_type": "code",
   "execution_count": 117,
   "metadata": {
    "collapsed": false
   },
   "outputs": [],
   "source": [
    "import os\n",
    "import sys\n",
    "from collections import defaultdict\n",
    "os.chdir(\"/home/foodmap/food101/\")\n",
    "from processing.location.locations import Countries\n",
    "\n",
    "def getCountriesAsList():\n",
    "    countriesIndex, countriesInfo = Countries.loadFromFile()\n",
    "    country_list = list()\n",
    "    for k,v in countriesInfo.iteritems():\n",
    "        country_list.append(v[0])\n",
    "    return country_list"
   ]
  },
  {
   "cell_type": "code",
   "execution_count": 119,
   "metadata": {
    "collapsed": false
   },
   "outputs": [
    {
     "name": "stdout",
     "output_type": "stream",
     "text": [
      "All countries with all names:  24782\n",
      "All countries unique geonameid:   251\n",
      "251 [u'vietnam', u'slovakia', u'barbados', u'sierra leone', u'republic of the congo', u'suriname', u'latvia', u'syria', u'dominica', u'uruguay', u'montenegro', u'british indian ocean territory', u'russia', u'palau', u'mayotte', u'isle of man', u'benin', u'laos', u'new caledonia', u'saint kitts and nevis', u'afghanistan', u'cameroon', u'finland', u'democratic republic of the congo', u'guatemala', u'heard island and mcdonald islands', u'saint martin', u'solomon islands', u'denmark', u'guernsey', u'iceland', u'dominican republic', u'slovenia', u'belarus', u'svalbard and jan mayen', u'gibraltar', u'puerto rico', u'djibouti', u'ethiopia', u'kosovo', u'hong kong', u'zimbabwe', u'curacao', u'tanzania', u'marshall islands', u'east timor', u'eritrea', u'macao', u'bonaire, saint eustatius and saba ', u'bermuda', u'tokelau', u'estonia', u'ukraine', u'taiwan', u'egypt', u'norfolk island', u'saint barthelemy', u'seychelles', u'cocos islands', u'bolivia', u'bouvet island', u'bangladesh', u'costa rica', u'micronesia', u'bulgaria', u'switzerland', u'south africa', u'panama', u'martinique', u'niue', u'georgia', u'ireland', u'brunei', u'jamaica', u'turkmenistan', u'bahamas', u'guinea-bissau', u'ecuador', u'uganda', u'sudan', u'saint pierre and miquelon', u'ivory coast', u'france', u'mozambique', u'cape verde', u'kazakhstan', u'papua new guinea', u'paraguay', u'belgium', u'singapore', u'malawi', u'wallis and futuna', u'czech republic', u'french polynesia', u'pakistan', u'nicaragua', u'iran', u'netherlands antilles', u'serbia and montenegro', u'namibia', u'fiji', u'tunisia', u'malta', u'north korea', u'guam', u'antarctica', u'belize', u'colombia', u'greenland', u'lebanon', u'brazil', u'pitcairn', u'cyprus', u'israel', u'montserrat', u'oman', u'ghana', u'greece', u'united states minor outlying islands', u'haiti', u'macedonia', u'northern mariana islands', u'guinea', u'saint helena', u'western sahara', u'sao tome and principe', u'anguilla', u'central african republic', u'liechtenstein', u'saint vincent and the grenadines', u'australia', u'croatia', u'libya', u'bhutan', u'tonga', u'niger', u'andorra', u'bosnia and herzegovina', u'togo', u'gabon', u'cambodia', u'turkey', u'turks and caicos islands', u'cayman islands', u'monaco', u'vanuatu', u'philippines', u'tajikistan', u'cook islands', u'moldova', u'south korea', u'gambia', u'san marino', u'angola', u'peru', u'comoros', u'chile', u'serbia', u'portugal', u'samoa', u'grenada', u'poland', u'liberia', u'palestinian territory', u'sri lanka', u'lesotho', u'romania', u'trinidad and tobago', u'tuvalu', u'swaziland', u'nigeria', u'sint maarten', u'mauritania', u'thailand', u'honduras', u'guyana', u'mali', u'azerbaijan', u'rwanda', u'faroe islands', u'new zealand', u'madagascar', u'british virgin islands', u'saint lucia', u'aland islands', u'indonesia', u'kuwait', u'armenia', u'albania', u'argentina', u'algeria', u'mongolia', u'united states', u'mauritius', u'reunion', u'qatar', u'burundi', u'south georgia and the south sandwich islands', u'united kingdom', u'kiribati', u'austria', u'u.s. virgin islands', u'iraq', u'french guiana', u'yemen', u'senegal', u'nepal', u'south sudan', u'el salvador', u'spain', u'lithuania', u'malaysia', u'kenya', u'morocco', u'luxembourg', u'christmas island', u'mexico', u'aruba', u'guadeloupe', u'norway', u'kyrgyzstan', u'japan', u'netherlands', u'antigua and barbuda', u'hungary', u'chad', u'zambia', u'china', u'burkina faso', u'venezuela', u'saudi arabia', u'myanmar', u'nauru', u'canada', u'american samoa', u'italy', u'botswana', u'cuba', u'somalia', u'equatorial guinea', u'maldives', u'falkland islands', u'united arab emirates', u'jordan', u'bahrain', u'vatican', u'india', u'uzbekistan', u'germany', u'french southern territories', u'sweden']\n"
     ]
    }
   ],
   "source": [
    "a = getCountriesAsList()\n",
    "print len(a), a"
   ]
  },
  {
   "cell_type": "code",
   "execution_count": null,
   "metadata": {
    "collapsed": true
   },
   "outputs": [],
   "source": []
  }
 ],
 "metadata": {
  "kernelspec": {
   "display_name": "Python 2",
   "language": "python",
   "name": "python2"
  },
  "language_info": {
   "codemirror_mode": {
    "name": "ipython",
    "version": 2
   },
   "file_extension": ".py",
   "mimetype": "text/x-python",
   "name": "python",
   "nbconvert_exporter": "python",
   "pygments_lexer": "ipython2",
   "version": "2.7.13"
  }
 },
 "nbformat": 4,
 "nbformat_minor": 0
}
