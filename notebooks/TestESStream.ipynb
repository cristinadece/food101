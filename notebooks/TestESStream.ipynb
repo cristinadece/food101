{
 "cells": [
  {
   "cell_type": "markdown",
   "metadata": {},
   "source": [
    "# Test the Stream Index"
   ]
  },
  {
   "cell_type": "markdown",
   "metadata": {},
   "source": [
    "## Check if index is up!"
   ]
  },
  {
   "cell_type": "code",
   "execution_count": 7,
   "metadata": {
    "collapsed": false
   },
   "outputs": [
    {
     "name": "stdout",
     "output_type": "stream",
     "text": [
      "{\n",
      "  \"name\" : \"0PsTttc\",\n",
      "  \"cluster_name\" : \"foodmap-cluster\",\n",
      "  \"cluster_uuid\" : \"2YIbFkvuRqaPWhEjuEYnwA\",\n",
      "  \"version\" : {\n",
      "    \"number\" : \"5.4.0\",\n",
      "    \"build_hash\" : \"780f8c4\",\n",
      "    \"build_date\" : \"2017-04-28T17:43:27.229Z\",\n",
      "    \"build_snapshot\" : false,\n",
      "    \"lucene_version\" : \"6.5.0\"\n",
      "  },\n",
      "  \"tagline\" : \"You Know, for Search\"\n",
      "}\n",
      "\n"
     ]
    }
   ],
   "source": [
    "import requests\n",
    "res = requests.get('http://localhost:8055')\n",
    "print(res.content)"
   ]
  },
  {
   "cell_type": "code",
   "execution_count": 8,
   "metadata": {
    "collapsed": false
   },
   "outputs": [
    {
     "name": "stdout",
     "output_type": "stream",
     "text": [
      "<Elasticsearch([{u'host': 'localhost', u'scheme': 'http'}])>\n"
     ]
    }
   ],
   "source": [
    "from elasticsearch import Elasticsearch\n",
    "es = Elasticsearch(['http://localhost'], port=8055)\n",
    "print es"
   ]
  },
  {
   "cell_type": "markdown",
   "metadata": {},
   "source": [
    "## Index operations"
   ]
  },
  {
   "cell_type": "markdown",
   "metadata": {},
   "source": [
    "#### Delete index, delete tweets by id and query"
   ]
  },
  {
   "cell_type": "code",
   "execution_count": 4,
   "metadata": {
    "collapsed": false
   },
   "outputs": [
    {
     "data": {
      "text/plain": [
       "{u'acknowledged': True}"
      ]
     },
     "execution_count": 4,
     "metadata": {},
     "output_type": "execute_result"
    }
   ],
   "source": [
    "# es.indices.delete(index='stream', ignore=[400, 404])"
   ]
  },
  {
   "cell_type": "code",
   "execution_count": 105,
   "metadata": {
    "collapsed": false
   },
   "outputs": [
    {
     "data": {
      "text/plain": [
       "{u'batches': 1,\n",
       " u'deleted': 34,\n",
       " u'failures': [],\n",
       " u'noops': 0,\n",
       " u'requests_per_second': -1.0,\n",
       " u'retries': {u'bulk': 0, u'search': 0},\n",
       " u'throttled_millis': 0,\n",
       " u'throttled_until_millis': 0,\n",
       " u'timed_out': False,\n",
       " u'took': 8,\n",
       " u'total': 34,\n",
       " u'version_conflicts': 0}"
      ]
     },
     "execution_count": 105,
     "metadata": {},
     "output_type": "execute_result"
    }
   ],
   "source": [
    "# es.delete_by_query(index='stream', doc_type='tweet', body={\n",
    "#     'query': {\n",
    "#         \"match_all\" : {}\n",
    "#     }\n",
    "# })"
   ]
  },
  {
   "cell_type": "markdown",
   "metadata": {},
   "source": [
    "#### Count elements in index"
   ]
  },
  {
   "cell_type": "code",
   "execution_count": 11,
   "metadata": {
    "collapsed": false
   },
   "outputs": [
    {
     "data": {
      "text/plain": [
       "{u'_shards': {u'failed': 0, u'successful': 5, u'total': 5}, u'count': 18522}"
      ]
     },
     "execution_count": 11,
     "metadata": {},
     "output_type": "execute_result"
    }
   ],
   "source": [
    "es.count(index='stream', doc_type='tweet')"
   ]
  },
  {
   "cell_type": "markdown",
   "metadata": {},
   "source": [
    "#### GET all docs from index"
   ]
  },
  {
   "cell_type": "code",
   "execution_count": 120,
   "metadata": {
    "collapsed": false,
    "scrolled": false
   },
   "outputs": [
    {
     "name": "stdout",
     "output_type": "stream",
     "text": [
      "{u'_score': 1.0, u'_type': u'tweet', u'_id': u'888057336996274176', u'_source': {u'username': u'ChiaraRenso', u'lang': u'und', u'text_categories': [], u'city': u'tokyo', u'text': u'#foodsigir2017 https://t.co/nCH5tezIhC', u'img_categories': [{u'score': 14.0, u'label': u'spaghetti_carbonara'}], u'hashtags': [u'#foodsigir2017'], u'img_flag': True, u'timestamp_ms': u'1500564343104', u'bounding_box': {u'type': u'Polygon', u'coordinates': [[[139.68794345855713, 35.66782614259895], [139.68760013580322, 35.662073226633424], [139.69326496124268, 35.65408818971974], [139.69918727874756, 35.64871789058102], [139.70167636871338, 35.64763681268489], [139.7023630142212, 35.64673009091096], [139.70725536346436, 35.6462069775141], [139.711332321167, 35.64903174916549], [139.7127056121826, 35.64854352416794], [139.71467971801755, 35.64840403076344], [139.71862792968747, 35.64892712977434], [139.71961498260498, 35.64871789058102], [139.72034454345703, 35.64826453711539], [139.72304821014404, 35.64763681268489], [139.72463607788086, 35.64673009091096], [139.7282838821411, 35.646869587238285], [139.73266124725342, 35.64739269629656], [139.7356653213501, 35.646590594340026], [139.73618030548096, 35.64693933531064], [139.73673820495605, 35.64882251024618], [139.73669528961182, 35.65112410821579], [139.7365665435791, 35.652728213038685], [139.73716735839844, 35.656215286299144], [139.73648071289062, 35.65767981166863], [139.73708152770996, 35.66012062760205], [139.73776817321777, 35.66113180091841], [139.7426176071167, 35.6596324703837], [139.74390506744385, 35.661829154365705], [139.74514961242676, 35.66336331051176], [139.74729537963867, 35.66189888937547], [139.7494411468506, 35.66172455173687], [139.7513723373413, 35.66106206523872], [139.75510597229004, 35.66032983692497], [139.76102828979492, 35.66733803249021], [139.7625732421875, 35.66660586173127], [139.7669506072998, 35.66967396097516], [139.7721004486084, 35.67577494427893], [139.77572679519653, 35.68170116720479], [139.77104902267456, 35.68360095138859], [139.76126432418823, 35.68565754749378], [139.75581407546997, 35.67730883242672], [139.75399017333984, 35.67814548626268], [139.74969863891602, 35.67716938926793], [139.74703788757324, 35.67995820614855], [139.73716735839844, 35.678912411239935], [139.73098754882812, 35.675077712647415], [139.72540855407715, 35.673264881898525], [139.71656799316406, 35.669865713262666], [139.7124695777893, 35.66519379916189], [139.70298528671265, 35.66951707239733], [139.69995975494385, 35.66847114066505], [139.69367265701294, 35.66826195267408], [139.69180583953857, 35.66782614259895], [139.68794345855713, 35.66782614259895]]]}, u'coords': None, u'id_str': u'888057336996274176', u'country': u'japan', u'id': 888057336996274176, u'media_url': u'http://pbs.twimg.com/media/DFMDbxhXkAAktkh.jpg', u'created_at_day': 20170720, u'created_at_datetime': u'2017-07-20T15:25:43', u'created_at_month': 20170701}, u'_index': u'stream'}\n",
      "\n"
     ]
    }
   ],
   "source": [
    "res = es.search(index=\"stream\", doc_type='tweet', size=100, body={\"query\": {\"match_all\": {}}})\n",
    "# [x['_source'] for x in res['hits']['hits']]\n",
    "for r in res['hits']['hits'][:100]:\n",
    "    if \"ChiaraRenso\" in r[\"_source\"][\"username\"]  :\n",
    "        print r\n",
    "        print "
   ]
  },
  {
   "cell_type": "markdown",
   "metadata": {},
   "source": [
    "#### GET specific tweets"
   ]
  },
  {
   "cell_type": "code",
   "execution_count": 80,
   "metadata": {
    "collapsed": false
   },
   "outputs": [],
   "source": [
    "# es.get(index='stream', doc_type='tweet', id=880404048834416644)"
   ]
  },
  {
   "cell_type": "code",
   "execution_count": 66,
   "metadata": {
    "collapsed": false,
    "scrolled": false
   },
   "outputs": [
    {
     "name": "stdout",
     "output_type": "stream",
     "text": [
      "{u'hits': {u'hits': [{u'_score': 4.1496673, u'_type': u'tweet', u'_id': u'885899203934814209', u'_source': {u'username': u'KenmareFoodies', u'lang': u'en', u'text_categories': [u'donuts'], u'city': None, u'text': u'Tuned in and waiting to hear @GastroGays talk all things food fad on @todayfm #donuts', u'img_categories': None, u'hashtags': [u'#donuts'], u'img_flag': True, u'timestamp_ms': u'1500049804086', u'bounding_box': {u'type': u'Polygon', u'coordinates': [[[-10.619545, 51.688185], [-10.619545, 52.602848], [-9.119114, 52.602848], [-9.119114, 51.688185]]]}, u'coords': None, u'id_str': u'885899203934814209', u'country': u'ireland', u'id': 885899203934814209, u'media_url': None, u'created_at_day': 20170714, u'created_at_datetime': u'2017-07-14T16:30:04', u'created_at_month': 20170701}, u'_index': u'stream'}, {u'_score': 4.1496673, u'_type': u'tweet', u'_id': u'885929891220381696', u'_source': {u'username': u'MichelleBargain', u'lang': u'en', u'text_categories': [u'donuts'], u'city': None, u'text': u\"Can't believe I'm in this darn line for #donuts looking busted AF LOL \\U0001f602 (at @KrispyKreme in Tamarac, FL) https://t.co/3F1wbmfqqN\", u'img_categories': None, u'hashtags': [u'#donuts'], u'img_flag': True, u'timestamp_ms': u'1500057120505', u'bounding_box': {u'type': u'Polygon', u'coordinates': [[[-80.298308, 26.178836], [-80.298308, 26.230749], [-80.162961, 26.230749], [-80.162961, 26.178836]]]}, u'coords': [-80.20665407, 26.18725187], u'id_str': u'885929891220381696', u'country': u'united states', u'id': 885929891220381696, u'media_url': None, u'created_at_day': 20170714, u'created_at_datetime': u'2017-07-14T18:32:00', u'created_at_month': 20170701}, u'_index': u'stream'}, {u'_score': 4.1496673, u'_type': u'tweet', u'_id': u'885970789840834560', u'_source': {u'username': u'FacilitiesMedia', u'lang': u'en', u'text_categories': [u'donuts'], u'city': None, u'text': u\"#Donuts\\n\\n#FBF to last #Friday, #Bern, #Switzerland's #train station. #eventprofs will be glad to\\u2026 https://t.co/oyGsSNmhCS\", u'img_categories': None, u'hashtags': [u'#donuts', u'#fbf', u'#friday', u'#bern', u'#switzerland', u'#train', u'#eventprofs'], u'img_flag': True, u'timestamp_ms': u'1500066871496', u'bounding_box': {u'type': u'Polygon', u'coordinates': [[[7.294318, 46.91904], [7.294318, 46.990106], [7.495553, 46.990106], [7.495553, 46.91904]]]}, u'coords': [7.43816249, 46.94861945], u'id_str': u'885970789840834560', u'country': u'switzerland', u'id': 885970789840834560, u'media_url': None, u'created_at_day': 20170714, u'created_at_datetime': u'2017-07-14T21:14:31', u'created_at_month': 20170701}, u'_index': u'stream'}], u'total': 88, u'max_score': 4.1496673}, u'_shards': {u'successful': 5, u'failed': 0, u'total': 5}, u'took': 0, u'timed_out': False}\n",
      "3\n"
     ]
    }
   ],
   "source": [
    "results = es.search(index='stream', doc_type='tweet', size=3, body={\n",
    "  'query': {\n",
    "    'match': {\n",
    "      'text_categories': 'donuts',\n",
    "#       'day': 20170618,\n",
    "#         'sort': [\n",
    "#         {'committed_date': {'order': 'desc'}}\n",
    "#       ],\n",
    "     }\n",
    "  }\n",
    "})\n",
    "\n",
    "print results\n",
    "print len(results[\"hits\"][\"hits\"])"
   ]
  },
  {
   "cell_type": "markdown",
   "metadata": {},
   "source": [
    "### Queries group by"
   ]
  },
  {
   "cell_type": "code",
   "execution_count": 73,
   "metadata": {
    "collapsed": false
   },
   "outputs": [
    {
     "name": "stdout",
     "output_type": "stream",
     "text": [
      "101\n",
      "grilled salmon\n",
      "0\n",
      "lobster roll sandwich\n",
      "0\n",
      "hamburger\n",
      "28\n",
      "churros\n",
      "22\n",
      "frozen yogurt\n",
      "0\n",
      "chicken quesadilla\n",
      "0\n",
      "samosa\n",
      "7\n",
      "pad thai\n",
      "0\n",
      "eggs benedict\n",
      "0\n",
      "peking duck\n",
      "0\n",
      "apple pie\n",
      "0\n",
      "sashimi\n",
      "17\n",
      "waffels\n",
      "0\n",
      "cup cakes\n",
      "0\n",
      "chicken curry\n",
      "0\n",
      "lobster bisque\n",
      "0\n",
      "cannoli\n",
      "3\n",
      "tacos\n",
      "19\n",
      "chocolate cake\n",
      "0\n",
      "poutine\n",
      "1\n",
      "ramen\n",
      "29\n",
      "bibimbap\n",
      "5\n",
      "beignets\n",
      "0\n",
      "risotto\n",
      "5\n",
      "chocolate mousse\n",
      "0\n",
      "paella\n",
      "12\n",
      "caesar salad\n",
      "0\n",
      "steak\n",
      "14\n",
      "spaghetti carbonara\n",
      "0\n",
      "beef tartare\n",
      "0\n",
      "falafel\n",
      "12\n",
      "chicken wings\n",
      "0\n",
      "club sandwich\n",
      "0\n",
      "ice cream\n",
      "0\n",
      "garlic bread\n",
      "0\n",
      "beef carpaccio\n",
      "0\n",
      "pork chop\n",
      "0\n",
      "escargots\n",
      "2\n",
      "tiramisu\n",
      "3\n",
      "fried rice\n",
      "0\n",
      "scallops\n",
      "3\n",
      "grilled cheese sandwich\n",
      "0\n",
      "baklava\n",
      "1\n",
      "edamame\n",
      "4\n",
      "carrot cake\n",
      "0\n",
      "pancakes\n",
      "19\n",
      "mussels\n",
      "5\n",
      "pulled pork sandwich\n",
      "0\n",
      "fried calamari\n",
      "0\n",
      "creme brulee\n",
      "0\n",
      "hummus\n",
      "6\n",
      "lasagna\n",
      "4\n",
      "red velvet cake\n",
      "0\n",
      "guacamole\n",
      "11\n",
      "clam chowder\n",
      "0\n",
      "foie gras\n",
      "0\n",
      "deviled eggs\n",
      "0\n",
      "beet salad\n",
      "0\n",
      "breakfast burrito\n",
      "0\n",
      "crab cakes\n",
      "0\n",
      "donuts\n",
      "33\n",
      "croque madame\n",
      "0\n",
      "gyoza\n",
      "3\n",
      "greek salad\n",
      "0\n",
      "ravioli\n",
      "3\n",
      "panna cotta\n",
      "0\n",
      "cheese plate\n",
      "0\n",
      "ceviche\n",
      "13\n",
      "spring rolls\n",
      "0\n",
      "bread pudding\n",
      "0\n",
      "bruschetta\n",
      "6\n",
      "shrimp and grits\n",
      "0\n",
      "french onion soup\n",
      "0\n",
      "french fries\n",
      "0\n",
      "tuna tartare\n",
      "0\n",
      "filet mignon\n",
      "0\n",
      "onion rings\n",
      "0\n",
      "seaweed salad\n",
      "0\n",
      "dumplings\n",
      "2\n",
      "sushi\n",
      "29\n",
      "spaghetti bolognese\n",
      "0\n",
      "fish and chips\n",
      "0\n",
      "caprese salad\n",
      "0\n",
      "takoyaki\n",
      "1\n",
      "french toast\n",
      "0\n",
      "macarons\n",
      "5\n",
      "baby back ribs\n",
      "0\n",
      "gnocchi\n",
      "4\n",
      "miso soup\n",
      "0\n",
      "pizza\n",
      "23\n",
      "huevos rancheros\n",
      "0\n",
      "pho\n",
      "10\n",
      "cheesecake\n",
      "10\n",
      "prime rib\n",
      "0\n",
      "omelette\n",
      "7\n",
      "hot dog\n",
      "0\n",
      "macaroni and cheese\n",
      "0\n",
      "hot and sour soup\n",
      "0\n",
      "strawberry shortcake\n",
      "0\n",
      "nachos\n",
      "7\n",
      "oysters\n",
      "12\n"
     ]
    }
   ],
   "source": [
    "import os\n",
    "import sys\n",
    "os.chdir(\"/home/foodmap/food101/\")\n",
    "sys.path.append(os.getcwd())\n",
    "from processing.load_keyword_dicts import loadCategoryDict\n",
    "\n",
    "\n",
    "cats = set(loadCategoryDict().values())\n",
    "print len(cats)\n",
    "for x in cats:\n",
    "    print x\n",
    "    results = es.search(index='stream', doc_type='tweet', size=10000, body={\n",
    "      'query': {\n",
    "        'term': {\n",
    "#             'img_flag': True,\n",
    "            'img_categories.label': x,\n",
    "#             'day': 20170629,\n",
    "    #         'sort': [\n",
    "    #         {'committed_date': {'order': 'desc'}}\n",
    "    #       ],\n",
    "         }\n",
    "      }\n",
    "    })\n",
    "    print results[\"hits\"][\"total\"]\n",
    "#     if results[\"hits\"][\"total\"]>0:\n",
    "#         print results[\"hits\"][\"hits\"]\n"
   ]
  },
  {
   "cell_type": "markdown",
   "metadata": {},
   "source": [
    "#### TEST image classifier"
   ]
  },
  {
   "cell_type": "code",
   "execution_count": null,
   "metadata": {
    "collapsed": true
   },
   "outputs": [],
   "source": [
    "# test some of the urls from the indexed tweets\n",
    "# by reclassifying it with the IMG classifier hosted on our machine\n",
    "request_string = 'http://test.tripbuilder.isti.cnr.it:8080/FoodRecognition/services/IRServices/recognizeByURL?imgURL='\n",
    "for tweet in results[\"hits\"][\"hits\"]:\n",
    "    img_url = tweet[\"_source\"][\"media_url\"]\n",
    "    res = requests.get(request_string + img_url)\n",
    "\n",
    "    print tweet[\"_source\"][\"text\"]\n",
    "    print img_url\n",
    "    print res.content\n",
    "    print json.loads(res.text)[\"guessed\"]\n",
    "    print get_image_category(img_url)\n",
    "    print \n",
    "    "
   ]
  },
  {
   "cell_type": "code",
   "execution_count": null,
   "metadata": {
    "collapsed": false
   },
   "outputs": [],
   "source": [
    "# import requests\n",
    "# import json\n",
    "\n",
    "# response = requests.get('http://test.tripbuilder.isti.cnr.it:5000/sync')\n",
    "# json_data = json.loads(response.text)\n",
    "# json_data"
   ]
  }
 ],
 "metadata": {
  "kernelspec": {
   "display_name": "Python 2",
   "language": "python",
   "name": "python2"
  },
  "language_info": {
   "codemirror_mode": {
    "name": "ipython",
    "version": 2
   },
   "file_extension": ".py",
   "mimetype": "text/x-python",
   "name": "python",
   "nbconvert_exporter": "python",
   "pygments_lexer": "ipython2",
   "version": "2.7.13"
  }
 },
 "nbformat": 4,
 "nbformat_minor": 0
}
