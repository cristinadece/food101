{
 "cells": [
  {
   "cell_type": "code",
   "execution_count": 2,
   "metadata": {
    "collapsed": false
   },
   "outputs": [
    {
     "name": "stdout",
     "output_type": "stream",
     "text": [
      "{\n",
      "  \"name\" : \"loGu88Z\",\n",
      "  \"cluster_name\" : \"foodmap-cluster\",\n",
      "  \"cluster_uuid\" : \"u6p1OlcKS8K0ulvvGBdVKw\",\n",
      "  \"version\" : {\n",
      "    \"number\" : \"5.4.0\",\n",
      "    \"build_hash\" : \"780f8c4\",\n",
      "    \"build_date\" : \"2017-04-28T17:43:27.229Z\",\n",
      "    \"build_snapshot\" : false,\n",
      "    \"lucene_version\" : \"6.5.0\"\n",
      "  },\n",
      "  \"tagline\" : \"You Know, for Search\"\n",
      "}\n",
      "\n"
     ]
    }
   ],
   "source": [
    "import requests\n",
    "res = requests.get('http://foodmap.isti.cnr.it:9200', auth=('elastic', 'changeme'))\n",
    "print(res.content)"
   ]
  },
  {
   "cell_type": "code",
   "execution_count": 3,
   "metadata": {
    "collapsed": false
   },
   "outputs": [
    {
     "name": "stdout",
     "output_type": "stream",
     "text": [
      "current dir:  /home/foodmap/food101/notebooks\n",
      "current dir:  /home/foodmap/food101\n"
     ]
    }
   ],
   "source": [
    "import os\n",
    "print \"current dir: \", os.getcwd()\n",
    "os.chdir(\"/home/foodmap/food101/\")\n",
    "print \"current dir: \", os.getcwd()"
   ]
  },
  {
   "cell_type": "code",
   "execution_count": 5,
   "metadata": {
    "collapsed": false
   },
   "outputs": [
    {
     "name": "stdout",
     "output_type": "stream",
     "text": [
      "All cities with all name:  22309\n",
      "All cities unique geonameid:   23516\n",
      "All countries with all names:  24782\n",
      "All countries unique geonameid:   251\n",
      "Len of country code dict 251\n"
     ]
    }
   ],
   "source": [
    "from stream2index import streamTweets\n",
    "from stream2index.Stream2Index import Stream2Index\n",
    "from elasticsearch import Elasticsearch\n",
    "import time\n",
    "from twython import TwythonRateLimitError"
   ]
  },
  {
   "cell_type": "code",
   "execution_count": 4,
   "metadata": {
    "collapsed": true
   },
   "outputs": [],
   "source": [
    "#### PUT CONFIG HERE\n",
    "CONSUMER_KEY = 'JzAQ0Y2GbBg900GENP444u24K'\n",
    "CONSUMER_SECRET = '5Mu6TnLR2oC7G9Z87egRzJU2X8vV3mL17qI5jBkL75g3wuLi5c'\n",
    "ACCESS_TOKEN = '308456550-i6JR7eJo8H0VfV1X0Ujg06YhL9rJOFD3Pgey3zbi'\n",
    "ACCESS_TOKEN_SECRET = 'J2rY8MCjkDblQpI3LPCXtG7v6nNO7K3YOOZbTASUGiRni'\n",
    "\n",
    "# Minimal time accepted between two Rate Limit Errors\n",
    "TOO_SOON = 10\n",
    "# Time to wait if we receive a Rate Limit Error too soon after a previous one\n",
    "WAIT_SOME_MORE = 60"
   ]
  },
  {
   "cell_type": "code",
   "execution_count": 5,
   "metadata": {
    "collapsed": true
   },
   "outputs": [],
   "source": [
    "htString = streamTweets.getKeywordsList()"
   ]
  },
  {
   "cell_type": "code",
   "execution_count": 7,
   "metadata": {
    "collapsed": false
   },
   "outputs": [],
   "source": [
    "stream = Stream2Index(CONSUMER_KEY, CONSUMER_SECRET,\n",
    "                        ACCESS_TOKEN, ACCESS_TOKEN_SECRET)"
   ]
  },
  {
   "cell_type": "code",
   "execution_count": 8,
   "metadata": {
    "collapsed": false
   },
   "outputs": [
    {
     "name": "stderr",
     "output_type": "stream",
     "text": [
      "2017-06-19 15:25:44,666 PUT http://localhost:9200/stream/tweet_snippet/876793117998948354 [status:201 request:0.085s]\n"
     ]
    },
    {
     "name": "stdout",
     "output_type": "stream",
     "text": [
      "Indexed tweet:  876793117998948354\n"
     ]
    },
    {
     "name": "stderr",
     "output_type": "stream",
     "text": [
      "2017-06-19 15:25:47,596 PUT http://otherhost:9200/stream/tweet_snippet/876793130657476609 [status:N/A request:0.018s]\n",
      "Traceback (most recent call last):\n",
      "  File \"/home/foodmap/anaconda2/lib/python2.7/site-packages/elasticsearch/connection/http_urllib3.py\", line 114, in perform_request\n",
      "    response = self.pool.urlopen(method, url, body, retries=False, headers=self.headers, **kw)\n",
      "  File \"/home/foodmap/anaconda2/lib/python2.7/site-packages/urllib3/connectionpool.py\", line 649, in urlopen\n",
      "    _stacktrace=sys.exc_info()[2])\n",
      "  File \"/home/foodmap/anaconda2/lib/python2.7/site-packages/urllib3/util/retry.py\", line 333, in increment\n",
      "    raise six.reraise(type(error), error, _stacktrace)\n",
      "  File \"/home/foodmap/anaconda2/lib/python2.7/site-packages/urllib3/connectionpool.py\", line 600, in urlopen\n",
      "    chunked=chunked)\n",
      "  File \"/home/foodmap/anaconda2/lib/python2.7/site-packages/urllib3/connectionpool.py\", line 356, in _make_request\n",
      "    conn.request(method, url, **httplib_request_kw)\n",
      "  File \"/home/foodmap/anaconda2/lib/python2.7/httplib.py\", line 1042, in request\n",
      "    self._send_request(method, url, body, headers)\n",
      "  File \"/home/foodmap/anaconda2/lib/python2.7/httplib.py\", line 1082, in _send_request\n",
      "    self.endheaders(body)\n",
      "  File \"/home/foodmap/anaconda2/lib/python2.7/httplib.py\", line 1038, in endheaders\n",
      "    self._send_output(message_body)\n",
      "  File \"/home/foodmap/anaconda2/lib/python2.7/httplib.py\", line 882, in _send_output\n",
      "    self.send(msg)\n",
      "  File \"/home/foodmap/anaconda2/lib/python2.7/httplib.py\", line 844, in send\n",
      "    self.connect()\n",
      "  File \"/home/foodmap/anaconda2/lib/python2.7/site-packages/urllib3/connection.py\", line 166, in connect\n",
      "    conn = self._new_conn()\n",
      "  File \"/home/foodmap/anaconda2/lib/python2.7/site-packages/urllib3/connection.py\", line 150, in _new_conn\n",
      "    self, \"Failed to establish a new connection: %s\" % e)\n",
      "NewConnectionError: <urllib3.connection.HTTPConnection object at 0x7f24119c5e10>: Failed to establish a new connection: [Errno -2] Name or service not known\n",
      "2017-06-19 15:25:47,602 Connection <Urllib3HttpConnection: http://otherhost:9200> has failed for 1 times in a row, putting on 60 second timeout.\n",
      "2017-06-19 15:25:47,624 PUT http://localhost:9200/stream/tweet_snippet/876793130657476609 [status:201 request:0.021s]\n"
     ]
    },
    {
     "name": "stdout",
     "output_type": "stream",
     "text": [
      "Indexed tweet:  876793130657476609\n"
     ]
    },
    {
     "name": "stderr",
     "output_type": "stream",
     "text": [
      "2017-06-19 15:26:09,515 PUT http://localhost:9200/stream/tweet_snippet/876793223204806657 [status:201 request:0.011s]\n"
     ]
    },
    {
     "name": "stdout",
     "output_type": "stream",
     "text": [
      "Indexed tweet:  876793223204806657\n"
     ]
    },
    {
     "name": "stderr",
     "output_type": "stream",
     "text": [
      "2017-06-19 15:26:14,430 PUT http://localhost:9200/stream/tweet_snippet/876793243647844353 [status:201 request:0.008s]\n"
     ]
    },
    {
     "name": "stdout",
     "output_type": "stream",
     "text": [
      "Indexed tweet:  876793243647844353\n"
     ]
    },
    {
     "name": "stderr",
     "output_type": "stream",
     "text": [
      "2017-06-19 15:26:16,506 PUT http://localhost:9200/stream/tweet_snippet/876793252522987520 [status:201 request:0.007s]\n"
     ]
    },
    {
     "name": "stdout",
     "output_type": "stream",
     "text": [
      "Indexed tweet:  876793252522987520\n"
     ]
    },
    {
     "name": "stderr",
     "output_type": "stream",
     "text": [
      "2017-06-19 15:26:26,503 PUT http://localhost:9200/stream/tweet_snippet/876793292762906629 [status:201 request:0.011s]\n"
     ]
    },
    {
     "name": "stdout",
     "output_type": "stream",
     "text": [
      "Indexed tweet:  876793292762906629\n"
     ]
    },
    {
     "name": "stderr",
     "output_type": "stream",
     "text": [
      "2017-06-19 15:26:29,396 PUT http://localhost:9200/stream/tweet_snippet/876793306390437890 [status:201 request:0.011s]\n"
     ]
    },
    {
     "name": "stdout",
     "output_type": "stream",
     "text": [
      "Indexed tweet:  876793306390437890\n"
     ]
    },
    {
     "name": "stderr",
     "output_type": "stream",
     "text": [
      "2017-06-19 15:26:31,795 PUT http://localhost:9200/stream/tweet_snippet/876793315990970372 [status:201 request:0.008s]\n"
     ]
    },
    {
     "name": "stdout",
     "output_type": "stream",
     "text": [
      "Indexed tweet:  876793315990970372\n"
     ]
    },
    {
     "name": "stderr",
     "output_type": "stream",
     "text": [
      "2017-06-19 15:26:36,323 PUT http://localhost:9200/stream/tweet_snippet/876793335461150720 [status:201 request:0.006s]\n"
     ]
    },
    {
     "name": "stdout",
     "output_type": "stream",
     "text": [
      "Indexed tweet:  876793335461150720\n"
     ]
    },
    {
     "name": "stderr",
     "output_type": "stream",
     "text": [
      "2017-06-19 15:27:00,883 Resurrecting connection <Urllib3HttpConnection: http://otherhost:9200> (force=False).\n",
      "2017-06-19 15:27:00,891 PUT http://localhost:9200/stream/tweet_snippet/876793438234058753 [status:201 request:0.007s]\n"
     ]
    },
    {
     "name": "stdout",
     "output_type": "stream",
     "text": [
      "Indexed tweet:  876793438234058753\n"
     ]
    },
    {
     "name": "stderr",
     "output_type": "stream",
     "text": [
      "2017-06-19 15:27:20,281 PUT http://otherhost:9200/stream/tweet_snippet/876793519905615872 [status:N/A request:0.001s]\n",
      "Traceback (most recent call last):\n",
      "  File \"/home/foodmap/anaconda2/lib/python2.7/site-packages/elasticsearch/connection/http_urllib3.py\", line 114, in perform_request\n",
      "    response = self.pool.urlopen(method, url, body, retries=False, headers=self.headers, **kw)\n",
      "  File \"/home/foodmap/anaconda2/lib/python2.7/site-packages/urllib3/connectionpool.py\", line 649, in urlopen\n",
      "    _stacktrace=sys.exc_info()[2])\n",
      "  File \"/home/foodmap/anaconda2/lib/python2.7/site-packages/urllib3/util/retry.py\", line 333, in increment\n",
      "    raise six.reraise(type(error), error, _stacktrace)\n",
      "  File \"/home/foodmap/anaconda2/lib/python2.7/site-packages/urllib3/connectionpool.py\", line 600, in urlopen\n",
      "    chunked=chunked)\n",
      "  File \"/home/foodmap/anaconda2/lib/python2.7/site-packages/urllib3/connectionpool.py\", line 356, in _make_request\n",
      "    conn.request(method, url, **httplib_request_kw)\n",
      "  File \"/home/foodmap/anaconda2/lib/python2.7/httplib.py\", line 1042, in request\n",
      "    self._send_request(method, url, body, headers)\n",
      "  File \"/home/foodmap/anaconda2/lib/python2.7/httplib.py\", line 1082, in _send_request\n",
      "    self.endheaders(body)\n",
      "  File \"/home/foodmap/anaconda2/lib/python2.7/httplib.py\", line 1038, in endheaders\n",
      "    self._send_output(message_body)\n",
      "  File \"/home/foodmap/anaconda2/lib/python2.7/httplib.py\", line 882, in _send_output\n",
      "    self.send(msg)\n",
      "  File \"/home/foodmap/anaconda2/lib/python2.7/httplib.py\", line 844, in send\n",
      "    self.connect()\n",
      "  File \"/home/foodmap/anaconda2/lib/python2.7/site-packages/urllib3/connection.py\", line 166, in connect\n",
      "    conn = self._new_conn()\n",
      "  File \"/home/foodmap/anaconda2/lib/python2.7/site-packages/urllib3/connection.py\", line 150, in _new_conn\n",
      "    self, \"Failed to establish a new connection: %s\" % e)\n",
      "NewConnectionError: <urllib3.connection.HTTPConnection object at 0x7f2411957ed0>: Failed to establish a new connection: [Errno -2] Name or service not known\n",
      "2017-06-19 15:27:20,283 Connection <Urllib3HttpConnection: http://otherhost:9200> has failed for 2 times in a row, putting on 120 second timeout.\n",
      "2017-06-19 15:27:20,290 PUT http://localhost:9200/stream/tweet_snippet/876793519905615872 [status:201 request:0.006s]\n"
     ]
    },
    {
     "name": "stdout",
     "output_type": "stream",
     "text": [
      "Indexed tweet:  876793519905615872\n"
     ]
    },
    {
     "name": "stderr",
     "output_type": "stream",
     "text": [
      "2017-06-19 15:27:33,078 PUT http://localhost:9200/stream/tweet_snippet/876793571482812416 [status:201 request:0.008s]\n"
     ]
    },
    {
     "name": "stdout",
     "output_type": "stream",
     "text": [
      "Indexed tweet:  876793571482812416\n"
     ]
    },
    {
     "name": "stderr",
     "output_type": "stream",
     "text": [
      "2017-06-19 15:28:02,754 PUT http://localhost:9200/stream/tweet_snippet/876793696116723712 [status:201 request:0.011s]\n"
     ]
    },
    {
     "name": "stdout",
     "output_type": "stream",
     "text": [
      "Indexed tweet:  876793696116723712\n"
     ]
    },
    {
     "name": "stderr",
     "output_type": "stream",
     "text": [
      "2017-06-19 15:28:14,306 PUT http://localhost:9200/stream/tweet_snippet/876793745970036736 [status:201 request:0.008s]\n",
      "2017-06-19 15:28:14,464 PUT http://localhost:9200/stream/tweet_snippet/876793746548858882 [status:201 request:0.006s]\n"
     ]
    },
    {
     "name": "stdout",
     "output_type": "stream",
     "text": [
      "Indexed tweet:  876793745970036736\n",
      "Indexed tweet:  876793746548858882\n"
     ]
    },
    {
     "name": "stderr",
     "output_type": "stream",
     "text": [
      "2017-06-19 15:28:22,252 PUT http://localhost:9200/stream/tweet_snippet/876793779667251201 [status:201 request:0.007s]\n"
     ]
    },
    {
     "name": "stdout",
     "output_type": "stream",
     "text": [
      "Indexed tweet:  876793779667251201\n"
     ]
    },
    {
     "name": "stderr",
     "output_type": "stream",
     "text": [
      "2017-06-19 15:28:53,145 PUT http://localhost:9200/stream/tweet_snippet/876793908361146368 [status:201 request:0.007s]\n"
     ]
    },
    {
     "name": "stdout",
     "output_type": "stream",
     "text": [
      "Indexed tweet:  876793908361146368\n"
     ]
    },
    {
     "name": "stderr",
     "output_type": "stream",
     "text": [
      "2017-06-19 15:29:06,017 PUT http://localhost:9200/stream/tweet_snippet/876793962803154944 [status:201 request:0.007s]\n"
     ]
    },
    {
     "name": "stdout",
     "output_type": "stream",
     "text": [
      "Indexed tweet:  876793962803154944\n"
     ]
    },
    {
     "name": "stderr",
     "output_type": "stream",
     "text": [
      "2017-06-19 15:29:34,988 Resurrecting connection <Urllib3HttpConnection: http://otherhost:9200> (force=False).\n",
      "2017-06-19 15:29:34,995 PUT http://localhost:9200/stream/tweet_snippet/876794084316241925 [status:201 request:0.006s]\n"
     ]
    },
    {
     "name": "stdout",
     "output_type": "stream",
     "text": [
      "Indexed tweet:  876794084316241925\n"
     ]
    },
    {
     "name": "stderr",
     "output_type": "stream",
     "text": [
      "2017-06-19 15:29:57,987 PUT http://otherhost:9200/stream/tweet_snippet/876794180714061824 [status:N/A request:0.001s]\n",
      "Traceback (most recent call last):\n",
      "  File \"/home/foodmap/anaconda2/lib/python2.7/site-packages/elasticsearch/connection/http_urllib3.py\", line 114, in perform_request\n",
      "    response = self.pool.urlopen(method, url, body, retries=False, headers=self.headers, **kw)\n",
      "  File \"/home/foodmap/anaconda2/lib/python2.7/site-packages/urllib3/connectionpool.py\", line 649, in urlopen\n",
      "    _stacktrace=sys.exc_info()[2])\n",
      "  File \"/home/foodmap/anaconda2/lib/python2.7/site-packages/urllib3/util/retry.py\", line 333, in increment\n",
      "    raise six.reraise(type(error), error, _stacktrace)\n",
      "  File \"/home/foodmap/anaconda2/lib/python2.7/site-packages/urllib3/connectionpool.py\", line 600, in urlopen\n",
      "    chunked=chunked)\n",
      "  File \"/home/foodmap/anaconda2/lib/python2.7/site-packages/urllib3/connectionpool.py\", line 356, in _make_request\n",
      "    conn.request(method, url, **httplib_request_kw)\n",
      "  File \"/home/foodmap/anaconda2/lib/python2.7/httplib.py\", line 1042, in request\n",
      "    self._send_request(method, url, body, headers)\n",
      "  File \"/home/foodmap/anaconda2/lib/python2.7/httplib.py\", line 1082, in _send_request\n",
      "    self.endheaders(body)\n",
      "  File \"/home/foodmap/anaconda2/lib/python2.7/httplib.py\", line 1038, in endheaders\n",
      "    self._send_output(message_body)\n",
      "  File \"/home/foodmap/anaconda2/lib/python2.7/httplib.py\", line 882, in _send_output\n",
      "    self.send(msg)\n",
      "  File \"/home/foodmap/anaconda2/lib/python2.7/httplib.py\", line 844, in send\n",
      "    self.connect()\n",
      "  File \"/home/foodmap/anaconda2/lib/python2.7/site-packages/urllib3/connection.py\", line 166, in connect\n",
      "    conn = self._new_conn()\n",
      "  File \"/home/foodmap/anaconda2/lib/python2.7/site-packages/urllib3/connection.py\", line 150, in _new_conn\n",
      "    self, \"Failed to establish a new connection: %s\" % e)\n",
      "NewConnectionError: <urllib3.connection.HTTPConnection object at 0x7f241196e5d0>: Failed to establish a new connection: [Errno -2] Name or service not known\n",
      "2017-06-19 15:29:57,988 Connection <Urllib3HttpConnection: http://otherhost:9200> has failed for 3 times in a row, putting on 240 second timeout.\n",
      "2017-06-19 15:29:57,995 PUT http://localhost:9200/stream/tweet_snippet/876794180714061824 [status:201 request:0.006s]\n"
     ]
    },
    {
     "name": "stdout",
     "output_type": "stream",
     "text": [
      "Indexed tweet:  876794180714061824\n"
     ]
    },
    {
     "name": "stderr",
     "output_type": "stream",
     "text": [
      "2017-06-19 15:30:01,727 PUT http://localhost:9200/stream/tweet_snippet/876794196455071744 [status:201 request:0.007s]\n"
     ]
    },
    {
     "name": "stdout",
     "output_type": "stream",
     "text": [
      "Indexed tweet:  876794196455071744\n"
     ]
    },
    {
     "name": "stderr",
     "output_type": "stream",
     "text": [
      "2017-06-19 15:30:03,354 PUT http://localhost:9200/stream/tweet_snippet/876794202285371394 [status:201 request:0.014s]\n"
     ]
    },
    {
     "name": "stdout",
     "output_type": "stream",
     "text": [
      "Indexed tweet:  876794202285371394\n"
     ]
    },
    {
     "name": "stderr",
     "output_type": "stream",
     "text": [
      "2017-06-19 15:30:03,750 PUT http://localhost:9200/stream/tweet_snippet/876794203774341123 [status:201 request:0.006s]\n"
     ]
    },
    {
     "name": "stdout",
     "output_type": "stream",
     "text": [
      "Indexed tweet:  876794203774341123\n"
     ]
    },
    {
     "name": "stderr",
     "output_type": "stream",
     "text": [
      "2017-06-19 15:30:05,572 PUT http://localhost:9200/stream/tweet_snippet/876794201429614592 [status:201 request:0.007s]\n"
     ]
    },
    {
     "name": "stdout",
     "output_type": "stream",
     "text": [
      "Indexed tweet:  876794201429614592\n"
     ]
    },
    {
     "name": "stderr",
     "output_type": "stream",
     "text": [
      "2017-06-19 15:30:07,249 PUT http://localhost:9200/stream/tweet_snippet/876794219943178242 [status:201 request:0.007s]\n"
     ]
    },
    {
     "name": "stdout",
     "output_type": "stream",
     "text": [
      "Indexed tweet:  876794219943178242\n"
     ]
    },
    {
     "name": "stderr",
     "output_type": "stream",
     "text": [
      "2017-06-19 15:30:08,874 PUT http://localhost:9200/stream/tweet_snippet/876794226297712640 [status:201 request:0.007s]\n"
     ]
    },
    {
     "name": "stdout",
     "output_type": "stream",
     "text": [
      "Indexed tweet:  876794226297712640\n"
     ]
    },
    {
     "name": "stderr",
     "output_type": "stream",
     "text": [
      "2017-06-19 15:30:10,738 PUT http://localhost:9200/stream/tweet_snippet/876794234182844418 [status:201 request:0.006s]\n"
     ]
    },
    {
     "name": "stdout",
     "output_type": "stream",
     "text": [
      "Indexed tweet:  876794234182844418\n"
     ]
    },
    {
     "name": "stderr",
     "output_type": "stream",
     "text": [
      "2017-06-19 15:30:14,312 PUT http://localhost:9200/stream/tweet_snippet/876794249207066624 [status:201 request:0.008s]\n"
     ]
    },
    {
     "name": "stdout",
     "output_type": "stream",
     "text": [
      "Indexed tweet:  876794249207066624\n"
     ]
    },
    {
     "name": "stderr",
     "output_type": "stream",
     "text": [
      "2017-06-19 15:30:16,402 PUT http://localhost:9200/stream/tweet_snippet/876794257117523968 [status:201 request:0.009s]\n"
     ]
    },
    {
     "name": "stdout",
     "output_type": "stream",
     "text": [
      "Indexed tweet:  876794257117523968\n"
     ]
    },
    {
     "name": "stderr",
     "output_type": "stream",
     "text": [
      "2017-06-19 15:30:22,866 PUT http://localhost:9200/stream/tweet_snippet/876794284640489474 [status:201 request:0.007s]\n"
     ]
    },
    {
     "name": "stdout",
     "output_type": "stream",
     "text": [
      "Indexed tweet:  876794284640489474\n"
     ]
    },
    {
     "name": "stderr",
     "output_type": "stream",
     "text": [
      "2017-06-19 15:30:23,395 PUT http://localhost:9200/stream/tweet_snippet/876794287815569408 [status:201 request:0.006s]\n"
     ]
    },
    {
     "name": "stdout",
     "output_type": "stream",
     "text": [
      "Indexed tweet:  876794287815569408\n"
     ]
    },
    {
     "name": "stderr",
     "output_type": "stream",
     "text": [
      "2017-06-19 15:30:26,246 PUT http://localhost:9200/stream/tweet_snippet/876794299475783682 [status:201 request:0.008s]\n"
     ]
    },
    {
     "name": "stdout",
     "output_type": "stream",
     "text": [
      "Indexed tweet:  876794299475783682\n"
     ]
    },
    {
     "name": "stderr",
     "output_type": "stream",
     "text": [
      "2017-06-19 15:30:27,157 PUT http://localhost:9200/stream/tweet_snippet/876794302957064193 [status:201 request:0.008s]\n"
     ]
    },
    {
     "name": "stdout",
     "output_type": "stream",
     "text": [
      "Indexed tweet:  876794302957064193\n"
     ]
    },
    {
     "name": "stderr",
     "output_type": "stream",
     "text": [
      "2017-06-19 15:30:27,887 PUT http://localhost:9200/stream/tweet_snippet/876794306085965824 [status:201 request:0.008s]\n"
     ]
    },
    {
     "name": "stdout",
     "output_type": "stream",
     "text": [
      "Indexed tweet:  876794306085965824\n"
     ]
    },
    {
     "name": "stderr",
     "output_type": "stream",
     "text": [
      "2017-06-19 15:30:28,526 PUT http://localhost:9200/stream/tweet_snippet/876794307721789440 [status:201 request:0.008s]\n"
     ]
    },
    {
     "name": "stdout",
     "output_type": "stream",
     "text": [
      "Indexed tweet:  876794307721789440\n"
     ]
    },
    {
     "name": "stderr",
     "output_type": "stream",
     "text": [
      "2017-06-19 15:30:46,024 PUT http://localhost:9200/stream/tweet_snippet/876794382611091460 [status:201 request:0.006s]\n"
     ]
    },
    {
     "name": "stdout",
     "output_type": "stream",
     "text": [
      "Indexed tweet:  876794382611091460\n"
     ]
    },
    {
     "name": "stderr",
     "output_type": "stream",
     "text": [
      "2017-06-19 15:30:47,738 PUT http://localhost:9200/stream/tweet_snippet/876794389854597122 [status:201 request:0.006s]\n"
     ]
    },
    {
     "name": "stdout",
     "output_type": "stream",
     "text": [
      "Indexed tweet:  876794389854597122\n"
     ]
    },
    {
     "name": "stderr",
     "output_type": "stream",
     "text": [
      "2017-06-19 15:30:54,195 PUT http://localhost:9200/stream/tweet_snippet/876794416748482562 [status:201 request:0.018s]\n"
     ]
    },
    {
     "name": "stdout",
     "output_type": "stream",
     "text": [
      "Indexed tweet:  876794416748482562\n"
     ]
    },
    {
     "name": "stderr",
     "output_type": "stream",
     "text": [
      "2017-06-19 15:31:06,079 PUT http://localhost:9200/stream/tweet_snippet/876794463678496769 [status:201 request:0.007s]\n"
     ]
    },
    {
     "name": "stdout",
     "output_type": "stream",
     "text": [
      "Indexed tweet:  876794463678496769\n"
     ]
    },
    {
     "name": "stderr",
     "output_type": "stream",
     "text": [
      "2017-06-19 15:31:17,492 PUT http://localhost:9200/stream/tweet_snippet/876794512726798336 [status:201 request:0.007s]\n"
     ]
    },
    {
     "name": "stdout",
     "output_type": "stream",
     "text": [
      "Indexed tweet:  876794512726798336\n"
     ]
    },
    {
     "name": "stderr",
     "output_type": "stream",
     "text": [
      "2017-06-19 15:31:21,016 PUT http://localhost:9200/stream/tweet_snippet/876794529688453123 [status:201 request:0.007s]\n"
     ]
    },
    {
     "name": "stdout",
     "output_type": "stream",
     "text": [
      "Indexed tweet:  876794529688453123\n"
     ]
    },
    {
     "name": "stderr",
     "output_type": "stream",
     "text": [
      "2017-06-19 15:31:22,434 PUT http://localhost:9200/stream/tweet_snippet/876794535501844481 [status:201 request:0.006s]\n"
     ]
    },
    {
     "name": "stdout",
     "output_type": "stream",
     "text": [
      "Indexed tweet:  876794535501844481\n"
     ]
    },
    {
     "name": "stderr",
     "output_type": "stream",
     "text": [
      "2017-06-19 15:31:33,317 PUT http://localhost:9200/stream/tweet_snippet/876794581219725312 [status:201 request:0.007s]\n"
     ]
    },
    {
     "name": "stdout",
     "output_type": "stream",
     "text": [
      "Indexed tweet:  876794581219725312\n"
     ]
    },
    {
     "name": "stderr",
     "output_type": "stream",
     "text": [
      "2017-06-19 15:31:43,150 PUT http://localhost:9200/stream/tweet_snippet/876794619752841216 [status:201 request:0.007s]\n"
     ]
    },
    {
     "name": "stdout",
     "output_type": "stream",
     "text": [
      "Indexed tweet:  876794619752841216\n"
     ]
    },
    {
     "name": "stderr",
     "output_type": "stream",
     "text": [
      "2017-06-19 15:31:46,525 PUT http://localhost:9200/stream/tweet_snippet/876794634286100481 [status:201 request:0.007s]\n"
     ]
    },
    {
     "name": "stdout",
     "output_type": "stream",
     "text": [
      "Indexed tweet:  876794634286100481\n"
     ]
    },
    {
     "name": "stderr",
     "output_type": "stream",
     "text": [
      "2017-06-19 15:31:58,840 PUT http://localhost:9200/stream/tweet_snippet/876794685699874816 [status:201 request:0.007s]\n"
     ]
    },
    {
     "name": "stdout",
     "output_type": "stream",
     "text": [
      "Indexed tweet:  876794685699874816\n"
     ]
    },
    {
     "name": "stderr",
     "output_type": "stream",
     "text": [
      "2017-06-19 15:32:04,747 PUT http://localhost:9200/stream/tweet_snippet/876794712006561793 [status:201 request:0.006s]\n"
     ]
    },
    {
     "name": "stdout",
     "output_type": "stream",
     "text": [
      "Indexed tweet:  876794712006561793\n"
     ]
    },
    {
     "name": "stderr",
     "output_type": "stream",
     "text": [
      "2017-06-19 15:32:14,514 PUT http://localhost:9200/stream/tweet_snippet/876794753291083778 [status:201 request:0.007s]\n"
     ]
    },
    {
     "name": "stdout",
     "output_type": "stream",
     "text": [
      "Indexed tweet:  876794753291083778\n"
     ]
    },
    {
     "name": "stderr",
     "output_type": "stream",
     "text": [
      "2017-06-19 15:32:19,040 PUT http://localhost:9200/stream/tweet_snippet/876794772475617280 [status:201 request:0.013s]\n"
     ]
    },
    {
     "name": "stdout",
     "output_type": "stream",
     "text": [
      "Indexed tweet:  876794772475617280\n"
     ]
    },
    {
     "name": "stderr",
     "output_type": "stream",
     "text": [
      "2017-06-19 15:32:34,541 PUT http://localhost:9200/stream/tweet_snippet/876794837978279937 [status:201 request:0.006s]\n"
     ]
    },
    {
     "name": "stdout",
     "output_type": "stream",
     "text": [
      "Indexed tweet:  876794837978279937\n"
     ]
    },
    {
     "ename": "KeyboardInterrupt",
     "evalue": "",
     "traceback": [
      "\u001b[0;31m---------------------------------------------------------------------------\u001b[0m",
      "\u001b[0;31mKeyboardInterrupt\u001b[0m                         Traceback (most recent call last)",
      "\u001b[0;32m<ipython-input-8-974447ff9d71>\u001b[0m in \u001b[0;36m<module>\u001b[0;34m()\u001b[0m\n\u001b[1;32m      1\u001b[0m \u001b[0;32mtry\u001b[0m\u001b[0;34m:\u001b[0m\u001b[0;34m\u001b[0m\u001b[0m\n\u001b[1;32m      2\u001b[0m     \u001b[0;31m# FILTER\u001b[0m\u001b[0;34m\u001b[0m\u001b[0;34m\u001b[0m\u001b[0m\n\u001b[0;32m----> 3\u001b[0;31m     \u001b[0mstream\u001b[0m\u001b[0;34m.\u001b[0m\u001b[0mstatuses\u001b[0m\u001b[0;34m.\u001b[0m\u001b[0mfilter\u001b[0m\u001b[0;34m(\u001b[0m\u001b[0mtrack\u001b[0m\u001b[0;34m=\u001b[0m\u001b[0mhtString\u001b[0m\u001b[0;34m)\u001b[0m\u001b[0;34m\u001b[0m\u001b[0m\n\u001b[0m\u001b[1;32m      4\u001b[0m \u001b[0;32mexcept\u001b[0m \u001b[0mTwythonRateLimitError\u001b[0m \u001b[0;32mas\u001b[0m \u001b[0me\u001b[0m\u001b[0;34m:\u001b[0m\u001b[0;34m\u001b[0m\u001b[0m\n\u001b[1;32m      5\u001b[0m     \u001b[0;31m# If this error is received after only few calls (10 seconds of calls) wait just a minute\u001b[0m\u001b[0;34m\u001b[0m\u001b[0;34m\u001b[0m\u001b[0m\n",
      "\u001b[0;32m/home/foodmap/anaconda2/lib/python2.7/site-packages/twython-3.2.0-py2.7.egg/twython/streaming/types.py\u001b[0m in \u001b[0;36mfilter\u001b[0;34m(self, **params)\u001b[0m\n\u001b[1;32m     63\u001b[0m         \u001b[0murl\u001b[0m \u001b[0;34m=\u001b[0m \u001b[0;34m'https://stream.twitter.com/%s/statuses/filter.json'\u001b[0m\u001b[0;31m \u001b[0m\u001b[0;31m\\\u001b[0m\u001b[0;34m\u001b[0m\u001b[0m\n\u001b[1;32m     64\u001b[0m               \u001b[0;34m%\u001b[0m \u001b[0mself\u001b[0m\u001b[0;34m.\u001b[0m\u001b[0mstreamer\u001b[0m\u001b[0;34m.\u001b[0m\u001b[0mapi_version\u001b[0m\u001b[0;34m\u001b[0m\u001b[0m\n\u001b[0;32m---> 65\u001b[0;31m         \u001b[0mself\u001b[0m\u001b[0;34m.\u001b[0m\u001b[0mstreamer\u001b[0m\u001b[0;34m.\u001b[0m\u001b[0m_request\u001b[0m\u001b[0;34m(\u001b[0m\u001b[0murl\u001b[0m\u001b[0;34m,\u001b[0m \u001b[0;34m'POST'\u001b[0m\u001b[0;34m,\u001b[0m \u001b[0mparams\u001b[0m\u001b[0;34m=\u001b[0m\u001b[0mparams\u001b[0m\u001b[0;34m)\u001b[0m\u001b[0;34m\u001b[0m\u001b[0m\n\u001b[0m\u001b[1;32m     66\u001b[0m \u001b[0;34m\u001b[0m\u001b[0m\n\u001b[1;32m     67\u001b[0m     \u001b[0;32mdef\u001b[0m \u001b[0msample\u001b[0m\u001b[0;34m(\u001b[0m\u001b[0mself\u001b[0m\u001b[0;34m,\u001b[0m \u001b[0;34m**\u001b[0m\u001b[0mparams\u001b[0m\u001b[0;34m)\u001b[0m\u001b[0;34m:\u001b[0m\u001b[0;34m\u001b[0m\u001b[0m\n",
      "\u001b[0;32m/home/foodmap/anaconda2/lib/python2.7/site-packages/twython-3.2.0-py2.7.egg/twython/streaming/api.py\u001b[0m in \u001b[0;36m_request\u001b[0;34m(self, url, method, params)\u001b[0m\n\u001b[1;32m    139\u001b[0m             \u001b[0mresponse\u001b[0m \u001b[0;34m=\u001b[0m \u001b[0m_send\u001b[0m\u001b[0;34m(\u001b[0m\u001b[0mretry_counter\u001b[0m\u001b[0;34m)\u001b[0m\u001b[0;34m\u001b[0m\u001b[0m\n\u001b[1;32m    140\u001b[0m \u001b[0;34m\u001b[0m\u001b[0m\n\u001b[0;32m--> 141\u001b[0;31m             \u001b[0;32mfor\u001b[0m \u001b[0mline\u001b[0m \u001b[0;32min\u001b[0m \u001b[0mresponse\u001b[0m\u001b[0;34m.\u001b[0m\u001b[0miter_lines\u001b[0m\u001b[0;34m(\u001b[0m\u001b[0mself\u001b[0m\u001b[0;34m.\u001b[0m\u001b[0mchunk_size\u001b[0m\u001b[0;34m)\u001b[0m\u001b[0;34m:\u001b[0m\u001b[0;34m\u001b[0m\u001b[0m\n\u001b[0m\u001b[1;32m    142\u001b[0m                 \u001b[0;32mif\u001b[0m \u001b[0;32mnot\u001b[0m \u001b[0mself\u001b[0m\u001b[0;34m.\u001b[0m\u001b[0mconnected\u001b[0m\u001b[0;34m:\u001b[0m\u001b[0;34m\u001b[0m\u001b[0m\n\u001b[1;32m    143\u001b[0m                     \u001b[0;32mbreak\u001b[0m\u001b[0;34m\u001b[0m\u001b[0m\n",
      "\u001b[0;32m/home/foodmap/anaconda2/lib/python2.7/site-packages/requests/models.pyc\u001b[0m in \u001b[0;36miter_lines\u001b[0;34m(self, chunk_size, decode_unicode, delimiter)\u001b[0m\n\u001b[1;32m    745\u001b[0m         \u001b[0mpending\u001b[0m \u001b[0;34m=\u001b[0m \u001b[0mNone\u001b[0m\u001b[0;34m\u001b[0m\u001b[0m\n\u001b[1;32m    746\u001b[0m \u001b[0;34m\u001b[0m\u001b[0m\n\u001b[0;32m--> 747\u001b[0;31m         \u001b[0;32mfor\u001b[0m \u001b[0mchunk\u001b[0m \u001b[0;32min\u001b[0m \u001b[0mself\u001b[0m\u001b[0;34m.\u001b[0m\u001b[0miter_content\u001b[0m\u001b[0;34m(\u001b[0m\u001b[0mchunk_size\u001b[0m\u001b[0;34m=\u001b[0m\u001b[0mchunk_size\u001b[0m\u001b[0;34m,\u001b[0m \u001b[0mdecode_unicode\u001b[0m\u001b[0;34m=\u001b[0m\u001b[0mdecode_unicode\u001b[0m\u001b[0;34m)\u001b[0m\u001b[0;34m:\u001b[0m\u001b[0;34m\u001b[0m\u001b[0m\n\u001b[0m\u001b[1;32m    748\u001b[0m \u001b[0;34m\u001b[0m\u001b[0m\n\u001b[1;32m    749\u001b[0m             \u001b[0;32mif\u001b[0m \u001b[0mpending\u001b[0m \u001b[0;32mis\u001b[0m \u001b[0;32mnot\u001b[0m \u001b[0mNone\u001b[0m\u001b[0;34m:\u001b[0m\u001b[0;34m\u001b[0m\u001b[0m\n",
      "\u001b[0;32m/home/foodmap/anaconda2/lib/python2.7/site-packages/requests/models.pyc\u001b[0m in \u001b[0;36mgenerate\u001b[0;34m()\u001b[0m\n\u001b[1;32m    701\u001b[0m             \u001b[0;32mif\u001b[0m \u001b[0mhasattr\u001b[0m\u001b[0;34m(\u001b[0m\u001b[0mself\u001b[0m\u001b[0;34m.\u001b[0m\u001b[0mraw\u001b[0m\u001b[0;34m,\u001b[0m \u001b[0;34m'stream'\u001b[0m\u001b[0;34m)\u001b[0m\u001b[0;34m:\u001b[0m\u001b[0;34m\u001b[0m\u001b[0m\n\u001b[1;32m    702\u001b[0m                 \u001b[0;32mtry\u001b[0m\u001b[0;34m:\u001b[0m\u001b[0;34m\u001b[0m\u001b[0m\n\u001b[0;32m--> 703\u001b[0;31m                     \u001b[0;32mfor\u001b[0m \u001b[0mchunk\u001b[0m \u001b[0;32min\u001b[0m \u001b[0mself\u001b[0m\u001b[0;34m.\u001b[0m\u001b[0mraw\u001b[0m\u001b[0;34m.\u001b[0m\u001b[0mstream\u001b[0m\u001b[0;34m(\u001b[0m\u001b[0mchunk_size\u001b[0m\u001b[0;34m,\u001b[0m \u001b[0mdecode_content\u001b[0m\u001b[0;34m=\u001b[0m\u001b[0mTrue\u001b[0m\u001b[0;34m)\u001b[0m\u001b[0;34m:\u001b[0m\u001b[0;34m\u001b[0m\u001b[0m\n\u001b[0m\u001b[1;32m    704\u001b[0m                         \u001b[0;32myield\u001b[0m \u001b[0mchunk\u001b[0m\u001b[0;34m\u001b[0m\u001b[0m\n\u001b[1;32m    705\u001b[0m                 \u001b[0;32mexcept\u001b[0m \u001b[0mProtocolError\u001b[0m \u001b[0;32mas\u001b[0m \u001b[0me\u001b[0m\u001b[0;34m:\u001b[0m\u001b[0;34m\u001b[0m\u001b[0m\n",
      "\u001b[0;32m/home/foodmap/anaconda2/lib/python2.7/site-packages/requests/packages/urllib3/response.pyc\u001b[0m in \u001b[0;36mstream\u001b[0;34m(self, amt, decode_content)\u001b[0m\n\u001b[1;32m    426\u001b[0m         \"\"\"\n\u001b[1;32m    427\u001b[0m         \u001b[0;32mif\u001b[0m \u001b[0mself\u001b[0m\u001b[0;34m.\u001b[0m\u001b[0mchunked\u001b[0m \u001b[0;32mand\u001b[0m \u001b[0mself\u001b[0m\u001b[0;34m.\u001b[0m\u001b[0msupports_chunked_reads\u001b[0m\u001b[0;34m(\u001b[0m\u001b[0;34m)\u001b[0m\u001b[0;34m:\u001b[0m\u001b[0;34m\u001b[0m\u001b[0m\n\u001b[0;32m--> 428\u001b[0;31m             \u001b[0;32mfor\u001b[0m \u001b[0mline\u001b[0m \u001b[0;32min\u001b[0m \u001b[0mself\u001b[0m\u001b[0;34m.\u001b[0m\u001b[0mread_chunked\u001b[0m\u001b[0;34m(\u001b[0m\u001b[0mamt\u001b[0m\u001b[0;34m,\u001b[0m \u001b[0mdecode_content\u001b[0m\u001b[0;34m=\u001b[0m\u001b[0mdecode_content\u001b[0m\u001b[0;34m)\u001b[0m\u001b[0;34m:\u001b[0m\u001b[0;34m\u001b[0m\u001b[0m\n\u001b[0m\u001b[1;32m    429\u001b[0m                 \u001b[0;32myield\u001b[0m \u001b[0mline\u001b[0m\u001b[0;34m\u001b[0m\u001b[0m\n\u001b[1;32m    430\u001b[0m         \u001b[0;32melse\u001b[0m\u001b[0;34m:\u001b[0m\u001b[0;34m\u001b[0m\u001b[0m\n",
      "\u001b[0;32m/home/foodmap/anaconda2/lib/python2.7/site-packages/requests/packages/urllib3/response.pyc\u001b[0m in \u001b[0;36mread_chunked\u001b[0;34m(self, amt, decode_content)\u001b[0m\n\u001b[1;32m    588\u001b[0m         \u001b[0;32mwith\u001b[0m \u001b[0mself\u001b[0m\u001b[0;34m.\u001b[0m\u001b[0m_error_catcher\u001b[0m\u001b[0;34m(\u001b[0m\u001b[0;34m)\u001b[0m\u001b[0;34m:\u001b[0m\u001b[0;34m\u001b[0m\u001b[0m\n\u001b[1;32m    589\u001b[0m             \u001b[0;32mwhile\u001b[0m \u001b[0mTrue\u001b[0m\u001b[0;34m:\u001b[0m\u001b[0;34m\u001b[0m\u001b[0m\n\u001b[0;32m--> 590\u001b[0;31m                 \u001b[0mself\u001b[0m\u001b[0;34m.\u001b[0m\u001b[0m_update_chunk_length\u001b[0m\u001b[0;34m(\u001b[0m\u001b[0;34m)\u001b[0m\u001b[0;34m\u001b[0m\u001b[0m\n\u001b[0m\u001b[1;32m    591\u001b[0m                 \u001b[0;32mif\u001b[0m \u001b[0mself\u001b[0m\u001b[0;34m.\u001b[0m\u001b[0mchunk_left\u001b[0m \u001b[0;34m==\u001b[0m \u001b[0;36m0\u001b[0m\u001b[0;34m:\u001b[0m\u001b[0;34m\u001b[0m\u001b[0m\n\u001b[1;32m    592\u001b[0m                     \u001b[0;32mbreak\u001b[0m\u001b[0;34m\u001b[0m\u001b[0m\n",
      "\u001b[0;32m/home/foodmap/anaconda2/lib/python2.7/site-packages/requests/packages/urllib3/response.pyc\u001b[0m in \u001b[0;36m_update_chunk_length\u001b[0;34m(self)\u001b[0m\n\u001b[1;32m    530\u001b[0m         \u001b[0;32mif\u001b[0m \u001b[0mself\u001b[0m\u001b[0;34m.\u001b[0m\u001b[0mchunk_left\u001b[0m \u001b[0;32mis\u001b[0m \u001b[0;32mnot\u001b[0m \u001b[0mNone\u001b[0m\u001b[0;34m:\u001b[0m\u001b[0;34m\u001b[0m\u001b[0m\n\u001b[1;32m    531\u001b[0m             \u001b[0;32mreturn\u001b[0m\u001b[0;34m\u001b[0m\u001b[0m\n\u001b[0;32m--> 532\u001b[0;31m         \u001b[0mline\u001b[0m \u001b[0;34m=\u001b[0m \u001b[0mself\u001b[0m\u001b[0;34m.\u001b[0m\u001b[0m_fp\u001b[0m\u001b[0;34m.\u001b[0m\u001b[0mfp\u001b[0m\u001b[0;34m.\u001b[0m\u001b[0mreadline\u001b[0m\u001b[0;34m(\u001b[0m\u001b[0;34m)\u001b[0m\u001b[0;34m\u001b[0m\u001b[0m\n\u001b[0m\u001b[1;32m    533\u001b[0m         \u001b[0mline\u001b[0m \u001b[0;34m=\u001b[0m \u001b[0mline\u001b[0m\u001b[0;34m.\u001b[0m\u001b[0msplit\u001b[0m\u001b[0;34m(\u001b[0m\u001b[0;34mb';'\u001b[0m\u001b[0;34m,\u001b[0m \u001b[0;36m1\u001b[0m\u001b[0;34m)\u001b[0m\u001b[0;34m[\u001b[0m\u001b[0;36m0\u001b[0m\u001b[0;34m]\u001b[0m\u001b[0;34m\u001b[0m\u001b[0m\n\u001b[1;32m    534\u001b[0m         \u001b[0;32mtry\u001b[0m\u001b[0;34m:\u001b[0m\u001b[0;34m\u001b[0m\u001b[0m\n",
      "\u001b[0;32m/home/foodmap/anaconda2/lib/python2.7/socket.pyc\u001b[0m in \u001b[0;36mreadline\u001b[0;34m(self, size)\u001b[0m\n\u001b[1;32m    449\u001b[0m             \u001b[0;32mwhile\u001b[0m \u001b[0mTrue\u001b[0m\u001b[0;34m:\u001b[0m\u001b[0;34m\u001b[0m\u001b[0m\n\u001b[1;32m    450\u001b[0m                 \u001b[0;32mtry\u001b[0m\u001b[0;34m:\u001b[0m\u001b[0;34m\u001b[0m\u001b[0m\n\u001b[0;32m--> 451\u001b[0;31m                     \u001b[0mdata\u001b[0m \u001b[0;34m=\u001b[0m \u001b[0mself\u001b[0m\u001b[0;34m.\u001b[0m\u001b[0m_sock\u001b[0m\u001b[0;34m.\u001b[0m\u001b[0mrecv\u001b[0m\u001b[0;34m(\u001b[0m\u001b[0mself\u001b[0m\u001b[0;34m.\u001b[0m\u001b[0m_rbufsize\u001b[0m\u001b[0;34m)\u001b[0m\u001b[0;34m\u001b[0m\u001b[0m\n\u001b[0m\u001b[1;32m    452\u001b[0m                 \u001b[0;32mexcept\u001b[0m \u001b[0merror\u001b[0m\u001b[0;34m,\u001b[0m \u001b[0me\u001b[0m\u001b[0;34m:\u001b[0m\u001b[0;34m\u001b[0m\u001b[0m\n\u001b[1;32m    453\u001b[0m                     \u001b[0;32mif\u001b[0m \u001b[0me\u001b[0m\u001b[0;34m.\u001b[0m\u001b[0margs\u001b[0m\u001b[0;34m[\u001b[0m\u001b[0;36m0\u001b[0m\u001b[0;34m]\u001b[0m \u001b[0;34m==\u001b[0m \u001b[0mEINTR\u001b[0m\u001b[0;34m:\u001b[0m\u001b[0;34m\u001b[0m\u001b[0m\n",
      "\u001b[0;32m/home/foodmap/anaconda2/lib/python2.7/site-packages/requests/packages/urllib3/contrib/pyopenssl.pyc\u001b[0m in \u001b[0;36mrecv\u001b[0;34m(self, *args, **kwargs)\u001b[0m\n\u001b[1;32m    244\u001b[0m         \u001b[0;32mexcept\u001b[0m \u001b[0mOpenSSL\u001b[0m\u001b[0;34m.\u001b[0m\u001b[0mSSL\u001b[0m\u001b[0;34m.\u001b[0m\u001b[0mWantReadError\u001b[0m\u001b[0;34m:\u001b[0m\u001b[0;34m\u001b[0m\u001b[0m\n\u001b[1;32m    245\u001b[0m             rd, wd, ed = select.select(\n\u001b[0;32m--> 246\u001b[0;31m                 [self.socket], [], [], self.socket.gettimeout())\n\u001b[0m\u001b[1;32m    247\u001b[0m             \u001b[0;32mif\u001b[0m \u001b[0;32mnot\u001b[0m \u001b[0mrd\u001b[0m\u001b[0;34m:\u001b[0m\u001b[0;34m\u001b[0m\u001b[0m\n\u001b[1;32m    248\u001b[0m                 \u001b[0;32mraise\u001b[0m \u001b[0mtimeout\u001b[0m\u001b[0;34m(\u001b[0m\u001b[0;34m'The read operation timed out'\u001b[0m\u001b[0;34m)\u001b[0m\u001b[0;34m\u001b[0m\u001b[0m\n",
      "\u001b[0;31mKeyboardInterrupt\u001b[0m: "
     ],
     "output_type": "error"
    }
   ],
   "source": [
    "try:\n",
    "    # FILTER\n",
    "    stream.statuses.filter(track=htString)\n",
    "except TwythonRateLimitError as e:\n",
    "    # If this error is received after only few calls (10 seconds of calls) wait just a minute\n",
    "    if time.time() - start < TOO_SOON:\n",
    "        log('Waiting %s seconds more for resuming download after recurrent rate limit error ...'\n",
    "            % WAIT_SOME_MORE)\n",
    "        time.sleep(WAIT_SOME_MORE)\n",
    "    else:\n",
    "        log(e, id)\n",
    "        log('Waiting %s seconds for resuming download after rate limit error ...')\n",
    "        time.sleep(60)"
   ]
  },
  {
   "cell_type": "code",
   "execution_count": 7,
   "metadata": {
    "collapsed": false
   },
   "outputs": [],
   "source": [
    "es = Elasticsearch(['localhost'], http_auth=('elastic', 'changeme'), port=9200)"
   ]
  },
  {
   "cell_type": "code",
   "execution_count": 19,
   "metadata": {
    "collapsed": false
   },
   "outputs": [
    {
     "name": "stderr",
     "output_type": "stream",
     "text": [
      "2017-06-19 15:43:02,862 GET http://localhost:9200/stream/tweet_snippet/876794234182844418 [status:200 request:0.003s]\n"
     ]
    },
    {
     "data": {
      "text/plain": [
       "{u'_id': u'876794234182844418',\n",
       " u'_index': u'stream',\n",
       " u'_source': {u'city': u'milwaukee',\n",
       "  u'country': u'united states',\n",
       "  u'created_at': u'Mon Jun 19 13:30:10 +0000 2017',\n",
       "  u'day': 20170619,\n",
       "  u'id': 876794234182844418,\n",
       "  u'img_category': u'Pizza',\n",
       "  u'media_url': u'http://pbs.twimg.com/media/DCr_tTXVYAAvc2i.jpg',\n",
       "  u'text': u'What\\u2019s your favorite salad topping? #Chickpeas #Edamame #Groats #Seeds https://t.co/sK6GF9K7T5',\n",
       "  u'username': u'JoeMcAlpine'},\n",
       " u'_type': u'tweet_snippet',\n",
       " u'_version': 1,\n",
       " u'found': True}"
      ]
     },
     "execution_count": 19,
     "metadata": {},
     "output_type": "execute_result"
    }
   ],
   "source": [
    "es.get(index='stream', doc_type='tweet_snippet', id=876794234182844418)"
   ]
  },
  {
   "cell_type": "code",
   "execution_count": 51,
   "metadata": {
    "collapsed": false
   },
   "outputs": [
    {
     "ename": "TypeError",
     "evalue": "get() takes at least 3 arguments (4 given)",
     "traceback": [
      "\u001b[0;31m---------------------------------------------------------------------------\u001b[0m",
      "\u001b[0;31mTypeError\u001b[0m                                 Traceback (most recent call last)",
      "\u001b[0;32m<ipython-input-51-3518da997e5b>\u001b[0m in \u001b[0;36m<module>\u001b[0;34m()\u001b[0m\n\u001b[0;32m----> 1\u001b[0;31m \u001b[0mes\u001b[0m\u001b[0;34m.\u001b[0m\u001b[0mget\u001b[0m\u001b[0;34m(\u001b[0m\u001b[0mindex\u001b[0m\u001b[0;34m=\u001b[0m\u001b[0;34m'stream'\u001b[0m\u001b[0;34m,\u001b[0m \u001b[0mdoc_type\u001b[0m\u001b[0;34m=\u001b[0m\u001b[0;34m'tweet_snippet'\u001b[0m\u001b[0;34m)\u001b[0m\u001b[0;34m\u001b[0m\u001b[0m\n\u001b[0m",
      "\u001b[0;32m/home/foodmap/anaconda2/lib/python2.7/site-packages/elasticsearch/client/utils.pyc\u001b[0m in \u001b[0;36m_wrapped\u001b[0;34m(*args, **kwargs)\u001b[0m\n\u001b[1;32m     71\u001b[0m                 \u001b[0;32mif\u001b[0m \u001b[0mp\u001b[0m \u001b[0;32min\u001b[0m \u001b[0mkwargs\u001b[0m\u001b[0;34m:\u001b[0m\u001b[0;34m\u001b[0m\u001b[0m\n\u001b[1;32m     72\u001b[0m                     \u001b[0mparams\u001b[0m\u001b[0;34m[\u001b[0m\u001b[0mp\u001b[0m\u001b[0;34m]\u001b[0m \u001b[0;34m=\u001b[0m \u001b[0mkwargs\u001b[0m\u001b[0;34m.\u001b[0m\u001b[0mpop\u001b[0m\u001b[0;34m(\u001b[0m\u001b[0mp\u001b[0m\u001b[0;34m)\u001b[0m\u001b[0;34m\u001b[0m\u001b[0m\n\u001b[0;32m---> 73\u001b[0;31m             \u001b[0;32mreturn\u001b[0m \u001b[0mfunc\u001b[0m\u001b[0;34m(\u001b[0m\u001b[0;34m*\u001b[0m\u001b[0margs\u001b[0m\u001b[0;34m,\u001b[0m \u001b[0mparams\u001b[0m\u001b[0;34m=\u001b[0m\u001b[0mparams\u001b[0m\u001b[0;34m,\u001b[0m \u001b[0;34m**\u001b[0m\u001b[0mkwargs\u001b[0m\u001b[0;34m)\u001b[0m\u001b[0;34m\u001b[0m\u001b[0m\n\u001b[0m\u001b[1;32m     74\u001b[0m         \u001b[0;32mreturn\u001b[0m \u001b[0m_wrapped\u001b[0m\u001b[0;34m\u001b[0m\u001b[0m\n\u001b[1;32m     75\u001b[0m     \u001b[0;32mreturn\u001b[0m \u001b[0m_wrapper\u001b[0m\u001b[0;34m\u001b[0m\u001b[0m\n",
      "\u001b[0;31mTypeError\u001b[0m: get() takes at least 3 arguments (4 given)"
     ],
     "output_type": "error"
    }
   ],
   "source": [
    "es.count(index='stream', doc_type='tweet_snippet')"
   ]
  },
  {
   "cell_type": "code",
   "execution_count": 22,
   "metadata": {
    "collapsed": false
   },
   "outputs": [
    {
     "name": "stderr",
     "output_type": "stream",
     "text": [
      "2017-06-19 15:55:12,742 DELETE http://localhost:9200/stream/tweet_snippet/876794234182844418 [status:200 request:0.008s]\n"
     ]
    },
    {
     "data": {
      "text/plain": [
       "{u'_id': u'876794234182844418',\n",
       " u'_index': u'stream',\n",
       " u'_shards': {u'failed': 0, u'successful': 1, u'total': 2},\n",
       " u'_type': u'tweet_snippet',\n",
       " u'_version': 2,\n",
       " u'found': True,\n",
       " u'result': u'deleted'}"
      ]
     },
     "execution_count": 22,
     "metadata": {},
     "output_type": "execute_result"
    }
   ],
   "source": [
    "es.delete(index='stream', doc_type='tweet_snippet', id=876794234182844418)"
   ]
  },
  {
   "cell_type": "code",
   "execution_count": 38,
   "metadata": {
    "collapsed": false,
    "scrolled": false
   },
   "outputs": [
    {
     "name": "stderr",
     "output_type": "stream",
     "text": [
      "2017-06-20 15:51:41,692 GET http://localhost:9200/stream/tweet_snippet/_search?size=100 [status:200 request:0.003s]\n"
     ]
    },
    {
     "name": "stdout",
     "output_type": "stream",
     "text": [
      "Mon #lunch @bonhomieparis in the 10th. Two thumbs up. #paris https://t.co/qyK5e3AWUX\n",
      "http://pbs.twimg.com/media/DCr_gc1XgAAGbIE.jpg\n",
      "{u'queryURL': u'http://food.isti.cnr.it/deepQueries/1497966701802.jpg', u'guessed': [], u'visuallySimilar': []}\n",
      "\n",
      "\n",
      "Chocolate coating with nuts? How can you say no? #SwensensIceCream #Swensens #icecream https://t.co/WDi9kqfryC\n",
      "http://pbs.twimg.com/media/DCr_2OKXkAAY1b1.jpg\n",
      "{u'queryURL': u'http://food.isti.cnr.it/deepQueries/1497966703063.jpg', u'guessed': [{u'score': 10.0, u'label': u'ice_cream'}], u'visuallySimilar': [{u'url': u'http://food.isti.cnr.it/foodimages/ice_cream/1665520.jpg', u'score': 0.38908094, u'id': u'ice_cream/1665520'}, {u'url': u'http://food.isti.cnr.it/foodimages/ice_cream/1114199.jpg', u'score': 0.37357256, u'id': u'ice_cream/1114199'}, {u'url': u'http://food.isti.cnr.it/foodimages/ice_cream/579407.jpg', u'score': 0.36637047, u'id': u'ice_cream/579407'}, {u'url': u'http://food.isti.cnr.it/foodimages/ice_cream/519719.jpg', u'score': 0.36238173, u'id': u'ice_cream/519719'}, {u'url': u'http://food.isti.cnr.it/foodimages/breakfast_burrito/92985.jpg', u'score': 0.3623705, u'id': u'breakfast_burrito/92985'}, {u'url': u'http://food.isti.cnr.it/foodimages/ice_cream/2120757.jpg', u'score': 0.3503798, u'id': u'ice_cream/2120757'}, {u'url': u'http://food.isti.cnr.it/foodimages/donuts/1600988.jpg', u'score': 0.33999968, u'id': u'donuts/1600988'}, {u'url': u'http://food.isti.cnr.it/foodimages/ice_cream/822123.jpg', u'score': 0.3377431, u'id': u'ice_cream/822123'}, {u'url': u'http://food.isti.cnr.it/foodimages/ice_cream/96935.jpg', u'score': 0.33022568, u'id': u'ice_cream/96935'}, {u'url': u'http://food.isti.cnr.it/foodimages/omelette/440211.jpg', u'score': 0.32867405, u'id': u'omelette/440211'}, {u'url': u'http://food.isti.cnr.it/foodimages/ice_cream/565649.jpg', u'score': 0.32603765, u'id': u'ice_cream/565649'}, {u'url': u'http://food.isti.cnr.it/foodimages/ice_cream/2516341.jpg', u'score': 0.32599333, u'id': u'ice_cream/2516341'}, {u'url': u'http://food.isti.cnr.it/foodimages/hamburger/3479742.jpg', u'score': 0.32505953, u'id': u'hamburger/3479742'}, {u'url': u'http://food.isti.cnr.it/foodimages/ice_cream/2223225.jpg', u'score': 0.32411614, u'id': u'ice_cream/2223225'}, {u'url': u'http://food.isti.cnr.it/foodimages/omelette/315169.jpg', u'score': 0.32382452, u'id': u'omelette/315169'}]}\n",
      "\n",
      "\n",
      "#vegas #buffet #restaurant #2for1 #menu #reservation #openbar #brunch #dinner #lunch https://t.co/Oom3EQTIP8\n",
      "http://pbs.twimg.com/media/DCr_s4cXUAEyu-K.jpg\n",
      "{u'queryURL': u'http://food.isti.cnr.it/deepQueries/1497966704196.jpg', u'guessed': [], u'visuallySimilar': []}\n",
      "\n",
      "\n",
      "Nothing Beats a Hot FRESH PIZZA !!#pizza #OrlandPark #Italianvillapizza https://t.co/jiFrAl9qDA\n",
      "http://pbs.twimg.com/media/DCr_weWXUAEKFIv.jpg\n",
      "{u'queryURL': u'http://food.isti.cnr.it/deepQueries/1497966705292.jpg', u'guessed': [], u'visuallySimilar': []}\n",
      "\n",
      "\n",
      "Thinking of having a Calzone? Call us @ 708-403-3335 #pizza #italianvilllapizza #OrlandPark #calzones https://t.co/PB1yZpQV0J\n",
      "http://pbs.twimg.com/media/DCr_xVCWAAAHnOg.jpg\n",
      "{u'queryURL': u'http://food.isti.cnr.it/deepQueries/1497966706379.jpg', u'guessed': [{u'score': 5.0, u'label': u'omelette'}, {u'score': 5.0, u'label': u'chicken_quesadilla'}], u'visuallySimilar': [{u'url': u'http://food.isti.cnr.it/foodimages/chicken_quesadilla/3283682.jpg', u'score': 0.39202663, u'id': u'chicken_quesadilla/3283682'}, {u'url': u'http://food.isti.cnr.it/foodimages/omelette/1323602.jpg', u'score': 0.3766736, u'id': u'omelette/1323602'}, {u'url': u'http://food.isti.cnr.it/foodimages/pancakes/597573.jpg', u'score': 0.35463548, u'id': u'pancakes/597573'}, {u'url': u'http://food.isti.cnr.it/foodimages/chicken_quesadilla/3779734.jpg', u'score': 0.3508889, u'id': u'chicken_quesadilla/3779734'}, {u'url': u'http://food.isti.cnr.it/foodimages/omelette/3844844.jpg', u'score': 0.35057783, u'id': u'omelette/3844844'}, {u'url': u'http://food.isti.cnr.it/foodimages/pizza/3170114.jpg', u'score': 0.3408438, u'id': u'pizza/3170114'}, {u'url': u'http://food.isti.cnr.it/foodimages/garlic_bread/1219294.jpg', u'score': 0.34032696, u'id': u'garlic_bread/1219294'}, {u'url': u'http://food.isti.cnr.it/foodimages/chicken_quesadilla/77884.jpg', u'score': 0.33954093, u'id': u'chicken_quesadilla/77884'}, {u'url': u'http://food.isti.cnr.it/foodimages/omelette/2871321.jpg', u'score': 0.33887932, u'id': u'omelette/2871321'}, {u'url': u'http://food.isti.cnr.it/foodimages/huevos_rancheros/1294370.jpg', u'score': 0.3384817, u'id': u'huevos_rancheros/1294370'}, {u'url': u'http://food.isti.cnr.it/foodimages/omelette/3226425.jpg', u'score': 0.32924235, u'id': u'omelette/3226425'}, {u'url': u'http://food.isti.cnr.it/foodimages/chicken_quesadilla/1032360.jpg', u'score': 0.32904136, u'id': u'chicken_quesadilla/1032360'}, {u'url': u'http://food.isti.cnr.it/foodimages/chicken_quesadilla/2064133.jpg', u'score': 0.32776952, u'id': u'chicken_quesadilla/2064133'}, {u'url': u'http://food.isti.cnr.it/foodimages/omelette/2143748.jpg', u'score': 0.32774484, u'id': u'omelette/2143748'}, {u'url': u'http://food.isti.cnr.it/foodimages/pizza/3312584.jpg', u'score': 0.3259837, u'id': u'pizza/3312584'}]}\n",
      "\n",
      "\n",
      "Will Amazon change the food business &amp;mdash; or will the food business change Amazon?\n",
      "#food #foods #business https://t.co/1dn5qUtfuE\n",
      "http://pbs.twimg.com/media/DCr_aOrWsAAbB5P.jpg\n",
      "{u'queryURL': u'http://food.isti.cnr.it/deepQueries/1497966707473.jpg', u'guessed': [], u'visuallySimilar': []}\n",
      "\n",
      "\n",
      "RT @Hamletgarcia17: Great #dinner #TONIGHT at @MajesticResorts #majesticResorts #Puntacana #Lobster https://t.co/gsFtTWv1m8\n",
      "http://pbs.twimg.com/media/DCpY05AXkAAau6m.jpg\n",
      "{u'queryURL': u'http://food.isti.cnr.it/deepQueries/1497966708564.jpg', u'guessed': [], u'visuallySimilar': []}\n",
      "\n",
      "\n",
      "Nothing Beats a Hot FRESH PIZZA !!#pizza #OrlandPark #Italianvillapizza https://t.co/oNwXNm16Gx\n",
      "http://pbs.twimg.com/media/DCr_uPrXYAAXLoR.jpg\n",
      "{u'queryURL': u'http://food.isti.cnr.it/deepQueries/1497966709695.jpg', u'guessed': [{u'score': 5.0, u'label': u'pizza'}], u'visuallySimilar': [{u'url': u'http://food.isti.cnr.it/foodimages/pizza/3312584.jpg', u'score': 0.40773827, u'id': u'pizza/3312584'}, {u'url': u'http://food.isti.cnr.it/foodimages/chicken_quesadilla/3779734.jpg', u'score': 0.38422388, u'id': u'chicken_quesadilla/3779734'}, {u'url': u'http://food.isti.cnr.it/foodimages/pizza/1678284.jpg', u'score': 0.35957265, u'id': u'pizza/1678284'}, {u'url': u'http://food.isti.cnr.it/foodimages/omelette/3211497.jpg', u'score': 0.3577698, u'id': u'omelette/3211497'}, {u'url': u'http://food.isti.cnr.it/foodimages/pizza/40231.jpg', u'score': 0.35728303, u'id': u'pizza/40231'}, {u'url': u'http://food.isti.cnr.it/foodimages/pizza/59445.jpg', u'score': 0.351976, u'id': u'pizza/59445'}, {u'url': u'http://food.isti.cnr.it/foodimages/chicken_quesadilla/714845.jpg', u'score': 0.34998757, u'id': u'chicken_quesadilla/714845'}, {u'url': u'http://food.isti.cnr.it/foodimages/pizza/1962101.jpg', u'score': 0.34734213, u'id': u'pizza/1962101'}, {u'url': u'http://food.isti.cnr.it/foodimages/omelette/1750908.jpg', u'score': 0.3466748, u'id': u'omelette/1750908'}, {u'url': u'http://food.isti.cnr.it/foodimages/huevos_rancheros/1033838.jpg', u'score': 0.34645113, u'id': u'huevos_rancheros/1033838'}, {u'url': u'http://food.isti.cnr.it/foodimages/omelette/3844844.jpg', u'score': 0.3438403, u'id': u'omelette/3844844'}, {u'url': u'http://food.isti.cnr.it/foodimages/omelette/2565840.jpg', u'score': 0.34195787, u'id': u'omelette/2565840'}, {u'url': u'http://food.isti.cnr.it/foodimages/gyoza/931606.jpg', u'score': 0.3418836, u'id': u'gyoza/931606'}, {u'url': u'http://food.isti.cnr.it/foodimages/garlic_bread/3893509.jpg', u'score': 0.34188014, u'id': u'garlic_bread/3893509'}, {u'url': u'http://food.isti.cnr.it/foodimages/chicken_quesadilla/3283682.jpg', u'score': 0.33969778, u'id': u'chicken_quesadilla/3283682'}]}\n",
      "\n",
      "\n",
      "Ten Waitrose wines for summer #vino #food #winelover #winetasting #winelovers #terroir #vin #cellar #winecellar https://t.co/raJl7sUPcQ\n",
      "http://pbs.twimg.com/media/DCr-yhyXsAYLLmB.jpg\n",
      "{u'queryURL': u'http://food.isti.cnr.it/deepQueries/1497966710795.jpg', u'guessed': [], u'visuallySimilar': []}\n",
      "\n",
      "\n",
      "#Turth -\n",
      "#dogs #dog #food https://t.co/5UjM8hD2fl\n",
      "http://pbs.twimg.com/media/DCr_6qSXYAAG3Es.jpg\n",
      "{u'queryURL': u'http://food.isti.cnr.it/deepQueries/1497966711848.jpg', u'guessed': [], u'visuallySimilar': []}\n",
      "\n",
      "\n",
      "{in the kitchen} the most glorious summer chicken soup • https://t.co/MHTR4AlP36 #foodie #RecipeOfTheDay https://t.co/cNlkgL0gUK\n",
      "http://pbs.twimg.com/media/DCjP4TwXkAAEsNk.jpg\n",
      "{u'queryURL': u'http://food.isti.cnr.it/deepQueries/1497966712923.jpg', u'guessed': [], u'visuallySimilar': []}\n",
      "\n",
      "\n",
      "RT @Hamletgarcia17: Great #dinner #TONIGHT at @MajesticResorts #majesticResorts #Puntacana #Lobster https://t.co/gsFtTWv1m8\n",
      "http://pbs.twimg.com/media/DCpY05AXkAAau6m.jpg\n",
      "{u'queryURL': u'http://food.isti.cnr.it/deepQueries/1497966714049.jpg', u'guessed': [], u'visuallySimilar': []}\n",
      "\n",
      "\n",
      "HAMBURGUESA CON BRIE Y PATATAS de nuestro menú del día #mikitxen https://t.co/v69tysp5Zx  #madrid #foodie https://t.co/i0rgxM3wU8\n",
      "http://pbs.twimg.com/media/DCsAHT3XUAA5SjJ.jpg\n",
      "{u'queryURL': u'http://food.isti.cnr.it/deepQueries/1497966715189.jpg', u'guessed': [], u'visuallySimilar': []}\n",
      "\n",
      "\n",
      "Everyone enjoying the sunshine ☀️@BanyanMCR today #lunch #cocktails #fizz #AlFresco 🍸🍾☀️️🕶 https://t.co/QXtQLfPjHP\n",
      "http://pbs.twimg.com/media/DCr_xF2XgAAg6k-.jpg\n",
      "{u'queryURL': u'http://food.isti.cnr.it/deepQueries/1497966716287.jpg', u'guessed': [], u'visuallySimilar': []}\n",
      "\n",
      "\n",
      "Aperçu d'une vie équilibrée today #mangeprieaime #illustration #food #fashion #graphicdesign #mood https://t.co/PozrgjGIWA\n",
      "http://pbs.twimg.com/media/DCr_2iJXUAA8R7d.jpg\n",
      "{u'queryURL': u'http://food.isti.cnr.it/deepQueries/1497966717372.jpg', u'guessed': [], u'visuallySimilar': []}\n",
      "\n",
      "\n",
      "RT @Hamletgarcia17: Great #dinner #TONIGHT at @MajesticResorts #majesticResorts #Puntacana #Lobster https://t.co/gsFtTWv1m8\n",
      "http://pbs.twimg.com/media/DCpY05AXkAAau6m.jpg\n",
      "{u'queryURL': u'http://food.isti.cnr.it/deepQueries/1497966718479.jpg', u'guessed': [], u'visuallySimilar': []}\n",
      "\n",
      "\n",
      "#Pizza, the answer to all of our problems!! #Italianvillapizza #orlandpark https://t.co/Xnq1RrugxV\n",
      "http://pbs.twimg.com/media/DCr_wQCXoAErNlr.jpg\n",
      "{u'queryURL': u'http://food.isti.cnr.it/deepQueries/1497966719622.jpg', u'guessed': [], u'visuallySimilar': []}\n",
      "\n",
      "\n",
      "I be lost without #Showbox, #porn, #pizza n #beer https://t.co/hNEKkwst3K\n",
      "http://pbs.twimg.com/tweet_video_thumb/DCr_3OaWAAA0rOx.jpg\n",
      "{u'queryURL': u'http://food.isti.cnr.it/deepQueries/1497966720732.jpg', u'guessed': [], u'visuallySimilar': []}\n",
      "\n",
      "\n"
     ]
    }
   ],
   "source": [
    "results = es.search(index='stream', doc_type='tweet_snippet', size=100, body={\n",
    "  'query': {\n",
    "    'match': {\n",
    "      'img_category': 'Sushi',\n",
    "#       'day': 20170618,\n",
    "#         'sort': [\n",
    "#         {'committed_date': {'order': 'desc'}}\n",
    "#       ],\n",
    "     }\n",
    "  }\n",
    "})\n",
    "\n",
    "# print results\n",
    "# print len(results[\"hits\"][\"hits\"])\n",
    "\n",
    "\n",
    "request_string = 'http://test.tripbuilder.isti.cnr.it:8080/FoodRecognition/services/IRServices/recognizeByURL?imgURL='\n",
    "for tweet in results[\"hits\"][\"hits\"]:\n",
    "    img_url = tweet[\"_source\"][\"media_url\"]\n",
    "    res = requests.get(request_string + img_url)\n",
    "    print tweet[\"_source\"][\"text\"]\n",
    "    print img_url\n",
    "    print json.loads(res.text)\n",
    "    print\n",
    "    print"
   ]
  },
  {
   "cell_type": "markdown",
   "metadata": {},
   "source": [
    "### get all docs from index"
   ]
  },
  {
   "cell_type": "code",
   "execution_count": 29,
   "metadata": {
    "collapsed": false
   },
   "outputs": [
    {
     "name": "stderr",
     "output_type": "stream",
     "text": [
      "2017-06-19 19:29:18,670 GET http://localhost:9200/stream/tweet_snippet/_search?size=100 [status:200 request:0.004s]\n"
     ]
    },
    {
     "data": {
      "text/plain": [
       "[{u'city': u'london',\n",
       "  u'country': u'united kingdom',\n",
       "  u'created_at': u'Mon Jun 19 13:30:02 +0000 2017',\n",
       "  u'day': 20170619,\n",
       "  u'id': 876794201429614592,\n",
       "  u'img_category': u'Sushi',\n",
       "  u'media_url': u'http://pbs.twimg.com/media/DCjP4TwXkAAEsNk.jpg',\n",
       "  u'text': u'{in the kitchen} the most glorious summer chicken soup \\u2022 https://t.co/MHTR4AlP36 #foodie #RecipeOfTheDay https://t.co/cNlkgL0gUK',\n",
       "  u'username': u'chevronseclairs'},\n",
       " {u'city': u'london',\n",
       "  u'country': u'united kingdom',\n",
       "  u'created_at': u'Mon Jun 19 13:31:21 +0000 2017',\n",
       "  u'day': 20170619,\n",
       "  u'id': 876794535501844481,\n",
       "  u'img_category': u'Pasta',\n",
       "  u'media_url': u'http://pbs.twimg.com/media/DCr8TBlXcAA_8un.jpg',\n",
       "  u'text': u'RT @Clementinecom: Day 2 of our trip to @FranciacortaUK - wine journey discovery #wine #food #trip #press https://t.co/VQ4yYSYj8w',\n",
       "  u'username': u'theIWSC'},\n",
       " {u'city': u'new york city',\n",
       "  u'country': u'united states',\n",
       "  u'created_at': u'Mon Jun 19 13:26:28 +0000 2017',\n",
       "  u'day': 20170619,\n",
       "  u'id': 876793306390437890,\n",
       "  u'img_category': u'Sushi',\n",
       "  u'media_url': u'http://pbs.twimg.com/media/DCpY05AXkAAau6m.jpg',\n",
       "  u'text': u'RT @Hamletgarcia17: Great #dinner #TONIGHT at @MajesticResorts #majesticResorts #Puntacana #Lobster https://t.co/gsFtTWv1m8',\n",
       "  u'username': u'wdearmno'},\n",
       " {u'city': u'virginia',\n",
       "  u'country': u'south africa',\n",
       "  u'created_at': u'Mon Jun 19 13:26:31 +0000 2017',\n",
       "  u'day': 20170619,\n",
       "  u'id': 876793315990970372,\n",
       "  u'img_category': u'Pizza',\n",
       "  u'media_url': u'http://pbs.twimg.com/media/DCpY05AXkAAau6m.jpg',\n",
       "  u'text': u'RT @Hamletgarcia17: Great #dinner #TONIGHT at @MajesticResorts #majesticResorts #Puntacana #Lobster https://t.co/gsFtTWv1m8',\n",
       "  u'username': u'ScottPhislip'},\n",
       " {u'city': u'tampa',\n",
       "  u'country': u'united states',\n",
       "  u'created_at': u'Mon Jun 19 13:28:21 +0000 2017',\n",
       "  u'day': 20170619,\n",
       "  u'id': 876793779667251201,\n",
       "  u'img_category': u'Pizza',\n",
       "  u'media_url': u'http://pbs.twimg.com/media/DCpY05AXkAAau6m.jpg',\n",
       "  u'text': u'RT @Hamletgarcia17: Great #dinner #TONIGHT at @MajesticResorts #majesticResorts #Puntacana #Lobster https://t.co/gsFtTWv1m8',\n",
       "  u'username': u'pyrosparto711n'},\n",
       " {u'city': u'madrid',\n",
       "  u'country': u'spain',\n",
       "  u'created_at': u'Mon Jun 19 13:31:57 +0000 2017',\n",
       "  u'day': 20170619,\n",
       "  u'id': 876794685699874816,\n",
       "  u'img_category': u'Sushi',\n",
       "  u'media_url': u'http://pbs.twimg.com/media/DCsAHT3XUAA5SjJ.jpg',\n",
       "  u'text': u'HAMBURGUESA CON BRIE Y PATATAS de nuestro men\\xfa del d\\xeda #mikitxen https://t.co/v69tysp5Zx  #madrid #foodie https://t.co/i0rgxM3wU8',\n",
       "  u'username': u'mikitxen'},\n",
       " {u'city': u'marion',\n",
       "  u'country': u'united states',\n",
       "  u'created_at': u'Mon Jun 19 13:26:13 +0000 2017',\n",
       "  u'day': 20170619,\n",
       "  u'id': 876793243647844353,\n",
       "  u'img_category': u'Pizza',\n",
       "  u'media_url': u'http://pbs.twimg.com/media/DCpY05AXkAAau6m.jpg',\n",
       "  u'text': u'RT @Hamletgarcia17: Great #dinner #TONIGHT at @MajesticResorts #majesticResorts #Puntacana #Lobster https://t.co/gsFtTWv1m8',\n",
       "  u'username': u'natoex'},\n",
       " {u'city': None,\n",
       "  u'country': u'united kingdom',\n",
       "  u'created_at': u'Mon Jun 19 13:30:25 +0000 2017',\n",
       "  u'day': 20170619,\n",
       "  u'id': 876794299475783682,\n",
       "  u'img_category': u'Sushi',\n",
       "  u'media_url': u'http://pbs.twimg.com/media/DCr_xF2XgAAg6k-.jpg',\n",
       "  u'text': u'Everyone enjoying the sunshine \\u2600\\ufe0f@BanyanMCR today #lunch #cocktails #fizz #AlFresco \\U0001f378\\U0001f37e\\u2600\\ufe0f\\ufe0f\\U0001f576 https://t.co/QXtQLfPjHP',\n",
       "  u'username': u'ConfettiQueens'},\n",
       " {u'city': None,\n",
       "  u'country': u'france',\n",
       "  u'created_at': u'Mon Jun 19 13:31:16 +0000 2017',\n",
       "  u'day': 20170619,\n",
       "  u'id': 876794512726798336,\n",
       "  u'img_category': u'Sushi',\n",
       "  u'media_url': u'http://pbs.twimg.com/media/DCr_2iJXUAA8R7d.jpg',\n",
       "  u'text': u\"Aper\\xe7u d'une vie \\xe9quilibr\\xe9e today #mangeprieaime #illustration #food #fashion #graphicdesign #mood https://t.co/PozrgjGIWA\",\n",
       "  u'username': u'JulieB60'},\n",
       " {u'city': u'university',\n",
       "  u'country': u'united states',\n",
       "  u'created_at': u'Mon Jun 19 13:29:57 +0000 2017',\n",
       "  u'day': 20170619,\n",
       "  u'id': 876794180714061824,\n",
       "  u'img_category': u'Sushi',\n",
       "  u'media_url': u'http://pbs.twimg.com/media/DCpY05AXkAAau6m.jpg',\n",
       "  u'text': u'RT @Hamletgarcia17: Great #dinner #TONIGHT at @MajesticResorts #majesticResorts #Puntacana #Lobster https://t.co/gsFtTWv1m8',\n",
       "  u'username': u'inezporte'},\n",
       " {u'city': None,\n",
       "  u'country': u'indonesia',\n",
       "  u'created_at': u'Mon Jun 19 13:30:02 +0000 2017',\n",
       "  u'day': 20170619,\n",
       "  u'id': 876794202285371394,\n",
       "  u'img_category': u'Pasta',\n",
       "  u'media_url': u'http://pbs.twimg.com/media/DCrxpMtUAAAfEAp.jpg',\n",
       "  u'text': u'#Lunch Special for Two Only Rp 100.000 at PAPAJO Eatery #LippoMallPuri https://t.co/VUt0WzLj5E',\n",
       "  u'username': u'LippoMallPuri'},\n",
       " {u'city': u'orland park',\n",
       "  u'country': u'united states',\n",
       "  u'created_at': u'Mon Jun 19 13:30:15 +0000 2017',\n",
       "  u'day': 20170619,\n",
       "  u'id': 876794257117523968,\n",
       "  u'img_category': u'Pasta',\n",
       "  u'media_url': u'http://pbs.twimg.com/media/DCr_ut8XkAAmHWQ.jpg',\n",
       "  u'text': u'Nothing Beats a Hot FRESH PIZZA !!!! 20% OFF Thu-Sun 4-8 pm!!! #pizza #OrlandPark #Italianvillapizza https://t.co/HNwrA3uLSa',\n",
       "  u'username': u'IVPizza'},\n",
       " {u'city': u'orland park',\n",
       "  u'country': u'united states',\n",
       "  u'created_at': u'Mon Jun 19 13:30:22 +0000 2017',\n",
       "  u'day': 20170619,\n",
       "  u'id': 876794284640489474,\n",
       "  u'img_category': u'Sushi',\n",
       "  u'media_url': u'http://pbs.twimg.com/media/DCr_wQCXoAErNlr.jpg',\n",
       "  u'text': u'#Pizza, the answer to all of our problems!! #Italianvillapizza #orlandpark https://t.co/Xnq1RrugxV',\n",
       "  u'username': u'IVPizza'},\n",
       " {u'city': u'bridgend',\n",
       "  u'country': u'united kingdom',\n",
       "  u'created_at': u'Mon Jun 19 13:30:45 +0000 2017',\n",
       "  u'day': 20170619,\n",
       "  u'id': 876794382611091460,\n",
       "  u'img_category': u'Pizza',\n",
       "  u'media_url': u'http://pbs.twimg.com/media/DCr_1zqXYAAmpUM.jpg',\n",
       "  u'text': u'FREE #C1stBridgend #food safety course @ #Evanstown Community Centre 30 June! https://t.co/3dSdvSW8xI https://t.co/lC3MMojkZA',\n",
       "  u'username': u'c1stBridgend'},\n",
       " {u'city': None,\n",
       "  u'country': u'ireland',\n",
       "  u'created_at': u'Mon Jun 19 13:30:53 +0000 2017',\n",
       "  u'day': 20170619,\n",
       "  u'id': 876794416748482562,\n",
       "  u'img_category': u'Sushi',\n",
       "  u'media_url': u'http://pbs.twimg.com/tweet_video_thumb/DCr_3OaWAAA0rOx.jpg',\n",
       "  u'text': u'I be lost without #Showbox, #porn, #pizza n #beer https://t.co/hNEKkwst3K',\n",
       "  u'username': u'blahdiblaahh'},\n",
       " {u'city': u'scottsdale',\n",
       "  u'country': u'united states',\n",
       "  u'created_at': u'Mon Jun 19 13:30:27 +0000 2017',\n",
       "  u'day': 20170619,\n",
       "  u'id': 876794306085965824,\n",
       "  u'img_category': u'Pasta',\n",
       "  u'media_url': u'http://pbs.twimg.com/media/DCr_xgdWsAAP0iz.jpg',\n",
       "  u'text': u'Mention this post to the cashier for your discount! #breakfast #chickenscoopaz https://t.co/zLlHZiN57c',\n",
       "  u'username': u'ChickenScoopAZ'},\n",
       " {u'city': u'paris',\n",
       "  u'country': u'france',\n",
       "  u'created_at': u'Mon Jun 19 13:30:27 +0000 2017',\n",
       "  u'day': 20170619,\n",
       "  u'id': 876794307721789440,\n",
       "  u'img_category': u'Sushi',\n",
       "  u'media_url': u'http://pbs.twimg.com/media/DCr_gc1XgAAGbIE.jpg',\n",
       "  u'text': u'Mon #lunch @bonhomieparis in the 10th. Two thumbs up. #paris https://t.co/qyK5e3AWUX',\n",
       "  u'username': u'LunchinParis1'},\n",
       " {u'city': u'indore',\n",
       "  u'country': u'india',\n",
       "  u'created_at': u'Mon Jun 19 13:30:01 +0000 2017',\n",
       "  u'day': 20170619,\n",
       "  u'id': 876794196455071744,\n",
       "  u'img_category': u'Pizza',\n",
       "  u'media_url': u'http://pbs.twimg.com/media/DCreF5YVYAAvgQn.jpg',\n",
       "  u'text': u'Express your feeling in the comment when you see a waiter bringing food towards you.\\n\\n#Foodie #Food #Indore https://t.co/ahQJceU1U2',\n",
       "  u'username': u'FagunRestaurant'},\n",
       " {u'city': u'kansas city',\n",
       "  u'country': u'united states',\n",
       "  u'created_at': u'Mon Jun 19 13:28:13 +0000 2017',\n",
       "  u'day': 20170619,\n",
       "  u'id': 876793746548858882,\n",
       "  u'img_category': u'Pasta',\n",
       "  u'media_url': u'http://pbs.twimg.com/media/DCpY05AXkAAau6m.jpg',\n",
       "  u'text': u'RT @Hamletgarcia17: Great #dinner #TONIGHT at @MajesticResorts #majesticResorts #Puntacana #Lobster https://t.co/gsFtTWv1m8',\n",
       "  u'username': u'ArthurVComrcmee'},\n",
       " {u'city': u'san francisco',\n",
       "  u'country': u'united states',\n",
       "  u'created_at': u'Mon Jun 19 13:30:47 +0000 2017',\n",
       "  u'day': 20170619,\n",
       "  u'id': 876794389854597122,\n",
       "  u'img_category': u'Sushi',\n",
       "  u'media_url': u'http://pbs.twimg.com/media/DCr_2OKXkAAY1b1.jpg',\n",
       "  u'text': u'Chocolate coating with nuts? How can you say no? #SwensensIceCream #Swensens #icecream https://t.co/WDi9kqfryC',\n",
       "  u'username': u'swensens'},\n",
       " {u'city': u'las vegas',\n",
       "  u'country': u'united states',\n",
       "  u'created_at': u'Mon Jun 19 13:30:08 +0000 2017',\n",
       "  u'day': 20170619,\n",
       "  u'id': 876794226297712640,\n",
       "  u'img_category': u'Sushi',\n",
       "  u'media_url': u'http://pbs.twimg.com/media/DCr_s4cXUAEyu-K.jpg',\n",
       "  u'text': u'#vegas #buffet #restaurant #2for1 #menu #reservation #openbar #brunch #dinner #lunch https://t.co/Oom3EQTIP8',\n",
       "  u'username': u'vegas_hotspots'},\n",
       " {u'city': u'virginia',\n",
       "  u'country': u'south africa',\n",
       "  u'created_at': u'Mon Jun 19 13:29:34 +0000 2017',\n",
       "  u'day': 20170619,\n",
       "  u'id': 876794084316241925,\n",
       "  u'img_category': u'Pizza',\n",
       "  u'media_url': u'http://pbs.twimg.com/media/DCpY05AXkAAau6m.jpg',\n",
       "  u'text': u'RT @Hamletgarcia17: Great #dinner #TONIGHT at @MajesticResorts #majesticResorts #Puntacana #Lobster https://t.co/gsFtTWv1m8',\n",
       "  u'username': u'mdacsandoz'},\n",
       " {u'city': u'toledo',\n",
       "  u'country': u'united states',\n",
       "  u'created_at': u'Mon Jun 19 13:26:35 +0000 2017',\n",
       "  u'day': 20170619,\n",
       "  u'id': 876793335461150720,\n",
       "  u'img_category': u'Pasta',\n",
       "  u'media_url': u'http://pbs.twimg.com/media/DCpY05AXkAAau6m.jpg',\n",
       "  u'text': u'RT @Hamletgarcia17: Great #dinner #TONIGHT at @MajesticResorts #majesticResorts #Puntacana #Lobster https://t.co/gsFtTWv1m8',\n",
       "  u'username': u'imckses'},\n",
       " {u'city': u'la guaira',\n",
       "  u'country': u'venezuela',\n",
       "  u'created_at': u'Mon Jun 19 13:26:16 +0000 2017',\n",
       "  u'day': 20170619,\n",
       "  u'id': 876793252522987520,\n",
       "  u'img_category': u'Pizza',\n",
       "  u'media_url': u'http://pbs.twimg.com/media/CUlJAXXXIAAUOis.jpg',\n",
       "  u'text': u\"RT @FoodPornsx: Reese's n Oreo ice cream! ??#icecream https://t.co/uQVvBbqKfN\",\n",
       "  u'username': u'alvarosanchez84'},\n",
       " {u'city': None,\n",
       "  u'country': u'united kingdom',\n",
       "  u'created_at': u'Mon Jun 19 13:30:02 +0000 2017',\n",
       "  u'day': 20170619,\n",
       "  u'id': 876794203774341123,\n",
       "  u'img_category': u'Pasta',\n",
       "  u'media_url': u'http://pbs.twimg.com/media/DCr_rgDU0AAHS1Y.jpg',\n",
       "  u'text': u'@_austrian Airlines - What a #Breakfast! #traveltreats @eurochangefx https://t.co/QfZsZGs2y7 @inflightFeed https://t.co/YbYhvyQ1Ew',\n",
       "  u'username': u'eurochangeFX'},\n",
       " {u'city': None,\n",
       "  u'country': u'united states',\n",
       "  u'created_at': u'Mon Jun 19 13:26:25 +0000 2017',\n",
       "  u'day': 20170619,\n",
       "  u'id': 876793292762906629,\n",
       "  u'img_category': u'Pasta',\n",
       "  u'media_url': u'http://pbs.twimg.com/media/DCr-2e6UIAEX7yw.jpg',\n",
       "  u'text': u'Do you have the right ingredients to make this #guacamole? #recipes  https://t.co/9Qbd24l788 https://t.co/f3Hl6hbC81',\n",
       "  u'username': u'JohnCap523'},\n",
       " {u'city': None,\n",
       "  u'country': u'united states',\n",
       "  u'created_at': u'Mon Jun 19 13:31:32 +0000 2017',\n",
       "  u'day': 20170619,\n",
       "  u'id': 876794581219725312,\n",
       "  u'img_category': u'Pasta',\n",
       "  u'media_url': u'http://pbs.twimg.com/media/DCr_Gc0VYAEIRTd.jpg',\n",
       "  u'text': u'RT @photobyAko: *\\n\\u30a4\\u30af\\u30e9\\u304a\\u3044\\u3057\\u304b\\u3063\\u305f\\u2661\\n\\u4eca\\u65e5\\u306f\\u307e\\u3060\\u307e\\u3060\\u884c\\u304f ( \\uff61\\u2022\\u0300_\\u2022\\u0301\\uff61)\\n\\n#foodporn https://t.co/rE9IyFqLUy',\n",
       "  u'username': u'2MotherForkers'},\n",
       " {u'city': u'monterey',\n",
       "  u'country': u'united states',\n",
       "  u'created_at': u'Mon Jun 19 13:32:18 +0000 2017',\n",
       "  u'day': 20170619,\n",
       "  u'id': 876794772475617280,\n",
       "  u'img_category': u'Pizza',\n",
       "  u'media_url': u'http://pbs.twimg.com/media/DCpY05AXkAAau6m.jpg',\n",
       "  u'text': u'RT @Hamletgarcia17: Great #dinner #TONIGHT at @MajesticResorts #majesticResorts #Puntacana #Lobster https://t.co/gsFtTWv1m8',\n",
       "  u'username': u'diretmsc'},\n",
       " {u'city': u'miami',\n",
       "  u'country': u'united states',\n",
       "  u'created_at': u'Mon Jun 19 13:25:47 +0000 2017',\n",
       "  u'day': 20170619,\n",
       "  u'id': 876793130657476609,\n",
       "  u'img_category': u'Pasta',\n",
       "  u'media_url': u'http://pbs.twimg.com/media/DCr-tH_XcAAT8TI.jpg',\n",
       "  u'text': u\"#Vegan coconut yogurt with fruit is what's on for #Breakfast. Recipe from @thekitchn --&gt; https://t.co/g4PebUyggO https://t.co/6E3l6qocLB\",\n",
       "  u'username': u'MgourmetM'},\n",
       " {u'city': u'washington',\n",
       "  u'country': u'united kingdom',\n",
       "  u'created_at': u'Mon Jun 19 13:28:52 +0000 2017',\n",
       "  u'day': 20170619,\n",
       "  u'id': 876793908361146368,\n",
       "  u'img_category': u'Sushi',\n",
       "  u'media_url': u'http://pbs.twimg.com/media/DCr_aOrWsAAbB5P.jpg',\n",
       "  u'text': u'Will Amazon change the food business &amp;mdash; or will the food business change Amazon?\\n#food #foods #business https://t.co/1dn5qUtfuE',\n",
       "  u'username': u'raisiwardres191'},\n",
       " {u'city': u'westerville',\n",
       "  u'country': u'united states',\n",
       "  u'created_at': u'Mon Jun 19 13:30:06 +0000 2017',\n",
       "  u'day': 20170619,\n",
       "  u'id': 876794219943178242,\n",
       "  u'img_category': u'Pizza',\n",
       "  u'media_url': u'http://pbs.twimg.com/media/DCpY05AXkAAau6m.jpg',\n",
       "  u'text': u'RT @Hamletgarcia17: Great #dinner #TONIGHT at @MajesticResorts #majesticResorts #Puntacana #Lobster https://t.co/gsFtTWv1m8',\n",
       "  u'username': u'philliphaohwrt'},\n",
       " {u'city': u'livonia',\n",
       "  u'country': u'united states',\n",
       "  u'created_at': u'Mon Jun 19 13:27:19 +0000 2017',\n",
       "  u'day': 20170619,\n",
       "  u'id': 876793519905615872,\n",
       "  u'img_category': u'Pizza',\n",
       "  u'media_url': u'http://pbs.twimg.com/media/DCpY05AXkAAau6m.jpg',\n",
       "  u'text': u'RT @Hamletgarcia17: Great #dinner #TONIGHT at @MajesticResorts #majesticResorts #Puntacana #Lobster https://t.co/gsFtTWv1m8',\n",
       "  u'username': u'JamieNietoFnsa'},\n",
       " {u'city': u'palm coast',\n",
       "  u'country': u'united states',\n",
       "  u'created_at': u'Mon Jun 19 13:27:00 +0000 2017',\n",
       "  u'day': 20170619,\n",
       "  u'id': 876793438234058753,\n",
       "  u'img_category': u'Sushi',\n",
       "  u'media_url': u'http://pbs.twimg.com/media/DCpY05AXkAAau6m.jpg',\n",
       "  u'text': u'RT @Hamletgarcia17: Great #dinner #TONIGHT at @MajesticResorts #majesticResorts #Puntacana #Lobster https://t.co/gsFtTWv1m8',\n",
       "  u'username': u'danplleow'},\n",
       " {u'city': u'oak park',\n",
       "  u'country': u'united states',\n",
       "  u'created_at': u'Mon Jun 19 13:31:04 +0000 2017',\n",
       "  u'day': 20170619,\n",
       "  u'id': 876794463678496769,\n",
       "  u'img_category': u'Pizza',\n",
       "  u'media_url': u'http://pbs.twimg.com/ext_tw_video_thumb/876794441746575360/pu/img/E4RpwDX-t2z_g4S_.jpg',\n",
       "  u'text': u'#breakfast #sandwich via https://t.co/6K9SnnaFdt https://t.co/cRftHAZlVO',\n",
       "  u'username': u'SlimShoppin'},\n",
       " {u'city': u'orland park',\n",
       "  u'country': u'united states',\n",
       "  u'created_at': u'Mon Jun 19 13:30:13 +0000 2017',\n",
       "  u'day': 20170619,\n",
       "  u'id': 876794249207066624,\n",
       "  u'img_category': u'Sushi',\n",
       "  u'media_url': u'http://pbs.twimg.com/media/DCr_uPrXYAAXLoR.jpg',\n",
       "  u'text': u'Nothing Beats a Hot FRESH PIZZA !!#pizza #OrlandPark #Italianvillapizza https://t.co/oNwXNm16Gx',\n",
       "  u'username': u'IVPizza'},\n",
       " {u'city': u'Southampton',\n",
       "  u'country': u'United Kingdom',\n",
       "  u'created_at': u'Mon Jun 19 13:29:05 +0000 2017',\n",
       "  u'day': 20170619,\n",
       "  u'id': 876793962803154944,\n",
       "  u'img_category': u'Pizza',\n",
       "  u'media_url': u'http://pbs.twimg.com/media/DCr_KOpW0AE7nI8.jpg',\n",
       "  u'text': u'Another happy customer! #food #Southampton #shamrockquay https://t.co/WlOXsj70Tr',\n",
       "  u'username': u'visitcove'},\n",
       " {u'city': None,\n",
       "  u'country': u'united states',\n",
       "  u'created_at': u'Mon Jun 19 13:26:09 +0000 2017',\n",
       "  u'day': 20170619,\n",
       "  u'id': 876793223204806657,\n",
       "  u'img_category': u'Sushi',\n",
       "  u'media_url': u'http://pbs.twimg.com/media/DCr-yhyXsAYLLmB.jpg',\n",
       "  u'text': u'Ten Waitrose wines for summer #vino #food #winelover #winetasting #winelovers #terroir #vin #cellar #winecellar https://t.co/raJl7sUPcQ',\n",
       "  u'username': u'winevoy'},\n",
       " {u'city': None,\n",
       "  u'country': u'united states',\n",
       "  u'created_at': u'Mon Jun 19 13:31:20 +0000 2017',\n",
       "  u'day': 20170619,\n",
       "  u'id': 876794529688453123,\n",
       "  u'img_category': u'Sushi',\n",
       "  u'media_url': u'http://pbs.twimg.com/media/DCr_6qSXYAAG3Es.jpg',\n",
       "  u'text': u'#Turth -\\n#dogs #dog #food https://t.co/5UjM8hD2fl',\n",
       "  u'username': u'GregoryJevyak'},\n",
       " {u'city': u'ontario',\n",
       "  u'country': u'united states',\n",
       "  u'created_at': u'Mon Jun 19 13:31:42 +0000 2017',\n",
       "  u'day': 20170619,\n",
       "  u'id': 876794619752841216,\n",
       "  u'img_category': u'Pasta',\n",
       "  u'media_url': u'http://pbs.twimg.com/media/DCsAC2tWsAInGJq.jpg',\n",
       "  u'text': u'#Breakfast time in Grade 5/6! @AJCharbonneauPS @RCDSB https://t.co/hlEmt6yxmP',\n",
       "  u'username': u'LisaConway17'},\n",
       " {u'city': u'bengaluru',\n",
       "  u'country': u'india',\n",
       "  u'created_at': u'Mon Jun 19 13:32:13 +0000 2017',\n",
       "  u'day': 20170619,\n",
       "  u'id': 876794753291083778,\n",
       "  u'img_category': u'Pasta',\n",
       "  u'media_url': u'http://pbs.twimg.com/media/DCsALkTUMAEfNcL.jpg',\n",
       "  u'text': u'Creamy Cucumber Salad#food #cooking #recipe https://t.co/ri0fQB4MTY https://t.co/OyHXWr8crf',\n",
       "  u'username': u'sense_nosense'},\n",
       " {u'city': None,\n",
       "  u'country': u'japan',\n",
       "  u'created_at': u'Mon Jun 19 13:25:44 +0000 2017',\n",
       "  u'day': 20170619,\n",
       "  u'id': 876793117998948354,\n",
       "  u'img_category': u'Pizza',\n",
       "  u'media_url': u'http://pbs.twimg.com/tweet_video_thumb/DCqpZCYUIAImCNv.jpg',\n",
       "  u'text': u'RT @kenja_jp: \\u30af\\u30ea\\u30fc\\u30e0\\u306e\\u4e57\\u8eca\\u7387\\u3001120\\uff05\\u3002\\nhttps://t.co/X9jIt7Nhc5\\n#\\u3069\\u3093\\u306a\\u3068\\u304d\\u3082\\u8ce2\\u8005\\u3068 #\\u8ce2\\u8005\\u306e\\u98df\\u5353 #\\u30b7\\u30e5\\u30fc\\u30af\\u30ea\\u30fc\\u30e0 #\\u30b7\\u30e5\\u30fc\\u30af\\u30ea\\u30fc\\u30e0\\u306e\\u65e5 #\\u98ef\\u30c6\\u30ed #foodporn #gifoods https://t.co/qlDxPXQG5j',\n",
       "  u'username': u'kumiko_310'},\n",
       " {u'city': u'\\u5ea7\\u9593\\u5e02',\n",
       "  u'country': u'\\u65e5\\u672c',\n",
       "  u'created_at': u'Mon Jun 19 13:27:32 +0000 2017',\n",
       "  u'day': 20170619,\n",
       "  u'id': 876793571482812416,\n",
       "  u'img_category': u'Pizza',\n",
       "  u'media_url': u'http://pbs.twimg.com/media/DCr_Gc0VYAEIRTd.jpg',\n",
       "  u'text': u'*\\n\\u30a4\\u30af\\u30e9\\u304a\\u3044\\u3057\\u304b\\u3063\\u305f\\u2661\\n\\u4eca\\u65e5\\u306f\\u307e\\u3060\\u307e\\u3060\\u884c\\u304f ( \\uff61\\u2022\\u0300_\\u2022\\u0301\\uff61)\\n\\n#foodporn https://t.co/rE9IyFqLUy',\n",
       "  u'username': u'photobyAko'},\n",
       " {u'city': u'london',\n",
       "  u'country': u'united kingdom',\n",
       "  u'created_at': u'Mon Jun 19 13:28:01 +0000 2017',\n",
       "  u'day': 20170619,\n",
       "  u'id': 876793696116723712,\n",
       "  u'img_category': u'Pasta',\n",
       "  u'media_url': u'http://pbs.twimg.com/media/DCr_OAaXoAEt5TX.jpg',\n",
       "  u'text': u'Grab a bargain in our June #Sale! Get up to 50% off selected products here: https://t.co/phYayM6Gh3\\n#Foodie #Offer https://t.co/mOkWIPFyUs',\n",
       "  u'username': u'EATAPAS'},\n",
       " {u'city': u'new york city',\n",
       "  u'country': u'united states',\n",
       "  u'created_at': u'Mon Jun 19 13:28:13 +0000 2017',\n",
       "  u'day': 20170619,\n",
       "  u'id': 876793745970036736,\n",
       "  u'img_category': u'Pasta',\n",
       "  u'media_url': u'http://pbs.twimg.com/media/DCpY05AXkAAau6m.jpg',\n",
       "  u'text': u'RT @Hamletgarcia17: Great #dinner #TONIGHT at @MajesticResorts #majesticResorts #Puntacana #Lobster https://t.co/gsFtTWv1m8',\n",
       "  u'username': u'wvcamille4lfei'},\n",
       " {u'city': u'orland park',\n",
       "  u'country': u'united states',\n",
       "  u'created_at': u'Mon Jun 19 13:30:22 +0000 2017',\n",
       "  u'day': 20170619,\n",
       "  u'id': 876794287815569408,\n",
       "  u'img_category': u'Sushi',\n",
       "  u'media_url': u'http://pbs.twimg.com/media/DCr_weWXUAEKFIv.jpg',\n",
       "  u'text': u'Nothing Beats a Hot FRESH PIZZA !!#pizza #OrlandPark #Italianvillapizza https://t.co/jiFrAl9qDA',\n",
       "  u'username': u'IVPizza'},\n",
       " {u'city': u'orland park',\n",
       "  u'country': u'united states',\n",
       "  u'created_at': u'Mon Jun 19 13:30:26 +0000 2017',\n",
       "  u'day': 20170619,\n",
       "  u'id': 876794302957064193,\n",
       "  u'img_category': u'Sushi',\n",
       "  u'media_url': u'http://pbs.twimg.com/media/DCr_xVCWAAAHnOg.jpg',\n",
       "  u'text': u'Thinking of having a Calzone? Call us @ 708-403-3335 #pizza #italianvilllapizza #OrlandPark #calzones https://t.co/PB1yZpQV0J',\n",
       "  u'username': u'IVPizza'},\n",
       " {u'city': u'toms river',\n",
       "  u'country': u'united states',\n",
       "  u'created_at': u'Mon Jun 19 13:31:45 +0000 2017',\n",
       "  u'day': 20170619,\n",
       "  u'id': 876794634286100481,\n",
       "  u'img_category': u'Pasta',\n",
       "  u'media_url': u'http://pbs.twimg.com/media/DCsAELrVoAAv02y.jpg',\n",
       "  u'text': u'#food shopping is a must but an empty #fridge makes it easy for cleaning https://t.co/U0ApEoyGHP',\n",
       "  u'username': u'CantinaBeal'},\n",
       " {u'city': u'chicago',\n",
       "  u'country': u'united states',\n",
       "  u'created_at': u'Mon Jun 19 13:32:04 +0000 2017',\n",
       "  u'day': 20170619,\n",
       "  u'id': 876794712006561793,\n",
       "  u'img_category': u'Pizza',\n",
       "  u'media_url': u'http://pbs.twimg.com/media/DCsAIyaUAAE2R2E.jpg',\n",
       "  u'text': u'11 core guidelines to know before buying grow lights:\\n\\n&gt; https://t.co/QvNWfueQR9\\n\\n#urbanfarming #food https://t.co/VWYKQ6XZIu',\n",
       "  u'username': u'UFninja'},\n",
       " {u'city': u'whittier',\n",
       "  u'country': u'united states',\n",
       "  u'created_at': u'Mon Jun 19 13:32:34 +0000 2017',\n",
       "  u'day': 20170619,\n",
       "  u'id': 876794837978279937,\n",
       "  u'img_category': u'Pasta',\n",
       "  u'media_url': u'http://pbs.twimg.com/media/DCpY05AXkAAau6m.jpg',\n",
       "  u'text': u'RT @Hamletgarcia17: Great #dinner #TONIGHT at @MajesticResorts #majesticResorts #Puntacana #Lobster https://t.co/gsFtTWv1m8',\n",
       "  u'username': u'Cait_hoCsa'}]"
      ]
     },
     "execution_count": 29,
     "metadata": {},
     "output_type": "execute_result"
    }
   ],
   "source": [
    "res = es.search(index=\"stream\", doc_type='tweet_snippet', size=100, body={\"query\": {\"match_all\": {}}})\n",
    "[x['_source'] for x in res['hits']['hits']]"
   ]
  },
  {
   "cell_type": "code",
   "execution_count": 34,
   "metadata": {
    "collapsed": false
   },
   "outputs": [
    {
     "data": {
      "text/plain": [
       "[{u'city': u'london',\n",
       "  u'country': u'united kingdom',\n",
       "  u'created_at': u'Mon Jun 19 13:30:02 +0000 2017',\n",
       "  u'day': 20170619,\n",
       "  u'id': 876794201429614592,\n",
       "  u'img_category': u'Sushi',\n",
       "  u'media_url': u'http://pbs.twimg.com/media/DCjP4TwXkAAEsNk.jpg',\n",
       "  u'text': u'{in the kitchen} the most glorious summer chicken soup \\u2022 https://t.co/MHTR4AlP36 #foodie #RecipeOfTheDay https://t.co/cNlkgL0gUK',\n",
       "  u'username': u'chevronseclairs'},\n",
       " {u'city': u'london',\n",
       "  u'country': u'united kingdom',\n",
       "  u'created_at': u'Mon Jun 19 13:31:21 +0000 2017',\n",
       "  u'day': 20170619,\n",
       "  u'id': 876794535501844481,\n",
       "  u'img_category': u'Pasta',\n",
       "  u'media_url': u'http://pbs.twimg.com/media/DCr8TBlXcAA_8un.jpg',\n",
       "  u'text': u'RT @Clementinecom: Day 2 of our trip to @FranciacortaUK - wine journey discovery #wine #food #trip #press https://t.co/VQ4yYSYj8w',\n",
       "  u'username': u'theIWSC'},\n",
       " {u'city': u'new york city',\n",
       "  u'country': u'united states',\n",
       "  u'created_at': u'Mon Jun 19 13:26:28 +0000 2017',\n",
       "  u'day': 20170619,\n",
       "  u'id': 876793306390437890,\n",
       "  u'img_category': u'Sushi',\n",
       "  u'media_url': u'http://pbs.twimg.com/media/DCpY05AXkAAau6m.jpg',\n",
       "  u'text': u'RT @Hamletgarcia17: Great #dinner #TONIGHT at @MajesticResorts #majesticResorts #Puntacana #Lobster https://t.co/gsFtTWv1m8',\n",
       "  u'username': u'wdearmno'},\n",
       " {u'city': u'virginia',\n",
       "  u'country': u'south africa',\n",
       "  u'created_at': u'Mon Jun 19 13:26:31 +0000 2017',\n",
       "  u'day': 20170619,\n",
       "  u'id': 876793315990970372,\n",
       "  u'img_category': u'Pizza',\n",
       "  u'media_url': u'http://pbs.twimg.com/media/DCpY05AXkAAau6m.jpg',\n",
       "  u'text': u'RT @Hamletgarcia17: Great #dinner #TONIGHT at @MajesticResorts #majesticResorts #Puntacana #Lobster https://t.co/gsFtTWv1m8',\n",
       "  u'username': u'ScottPhislip'},\n",
       " {u'city': u'tampa',\n",
       "  u'country': u'united states',\n",
       "  u'created_at': u'Mon Jun 19 13:28:21 +0000 2017',\n",
       "  u'day': 20170619,\n",
       "  u'id': 876793779667251201,\n",
       "  u'img_category': u'Pizza',\n",
       "  u'media_url': u'http://pbs.twimg.com/media/DCpY05AXkAAau6m.jpg',\n",
       "  u'text': u'RT @Hamletgarcia17: Great #dinner #TONIGHT at @MajesticResorts #majesticResorts #Puntacana #Lobster https://t.co/gsFtTWv1m8',\n",
       "  u'username': u'pyrosparto711n'},\n",
       " {u'city': u'madrid',\n",
       "  u'country': u'spain',\n",
       "  u'created_at': u'Mon Jun 19 13:31:57 +0000 2017',\n",
       "  u'day': 20170619,\n",
       "  u'id': 876794685699874816,\n",
       "  u'img_category': u'Sushi',\n",
       "  u'media_url': u'http://pbs.twimg.com/media/DCsAHT3XUAA5SjJ.jpg',\n",
       "  u'text': u'HAMBURGUESA CON BRIE Y PATATAS de nuestro men\\xfa del d\\xeda #mikitxen https://t.co/v69tysp5Zx  #madrid #foodie https://t.co/i0rgxM3wU8',\n",
       "  u'username': u'mikitxen'},\n",
       " {u'city': u'marion',\n",
       "  u'country': u'united states',\n",
       "  u'created_at': u'Mon Jun 19 13:26:13 +0000 2017',\n",
       "  u'day': 20170619,\n",
       "  u'id': 876793243647844353,\n",
       "  u'img_category': u'Pizza',\n",
       "  u'media_url': u'http://pbs.twimg.com/media/DCpY05AXkAAau6m.jpg',\n",
       "  u'text': u'RT @Hamletgarcia17: Great #dinner #TONIGHT at @MajesticResorts #majesticResorts #Puntacana #Lobster https://t.co/gsFtTWv1m8',\n",
       "  u'username': u'natoex'},\n",
       " {u'city': None,\n",
       "  u'country': u'united kingdom',\n",
       "  u'created_at': u'Mon Jun 19 13:30:25 +0000 2017',\n",
       "  u'day': 20170619,\n",
       "  u'id': 876794299475783682,\n",
       "  u'img_category': u'Sushi',\n",
       "  u'media_url': u'http://pbs.twimg.com/media/DCr_xF2XgAAg6k-.jpg',\n",
       "  u'text': u'Everyone enjoying the sunshine \\u2600\\ufe0f@BanyanMCR today #lunch #cocktails #fizz #AlFresco \\U0001f378\\U0001f37e\\u2600\\ufe0f\\ufe0f\\U0001f576 https://t.co/QXtQLfPjHP',\n",
       "  u'username': u'ConfettiQueens'},\n",
       " {u'city': None,\n",
       "  u'country': u'france',\n",
       "  u'created_at': u'Mon Jun 19 13:31:16 +0000 2017',\n",
       "  u'day': 20170619,\n",
       "  u'id': 876794512726798336,\n",
       "  u'img_category': u'Sushi',\n",
       "  u'media_url': u'http://pbs.twimg.com/media/DCr_2iJXUAA8R7d.jpg',\n",
       "  u'text': u\"Aper\\xe7u d'une vie \\xe9quilibr\\xe9e today #mangeprieaime #illustration #food #fashion #graphicdesign #mood https://t.co/PozrgjGIWA\",\n",
       "  u'username': u'JulieB60'},\n",
       " {u'city': u'university',\n",
       "  u'country': u'united states',\n",
       "  u'created_at': u'Mon Jun 19 13:29:57 +0000 2017',\n",
       "  u'day': 20170619,\n",
       "  u'id': 876794180714061824,\n",
       "  u'img_category': u'Sushi',\n",
       "  u'media_url': u'http://pbs.twimg.com/media/DCpY05AXkAAau6m.jpg',\n",
       "  u'text': u'RT @Hamletgarcia17: Great #dinner #TONIGHT at @MajesticResorts #majesticResorts #Puntacana #Lobster https://t.co/gsFtTWv1m8',\n",
       "  u'username': u'inezporte'},\n",
       " {u'city': None,\n",
       "  u'country': u'indonesia',\n",
       "  u'created_at': u'Mon Jun 19 13:30:02 +0000 2017',\n",
       "  u'day': 20170619,\n",
       "  u'id': 876794202285371394,\n",
       "  u'img_category': u'Pasta',\n",
       "  u'media_url': u'http://pbs.twimg.com/media/DCrxpMtUAAAfEAp.jpg',\n",
       "  u'text': u'#Lunch Special for Two Only Rp 100.000 at PAPAJO Eatery #LippoMallPuri https://t.co/VUt0WzLj5E',\n",
       "  u'username': u'LippoMallPuri'},\n",
       " {u'city': u'orland park',\n",
       "  u'country': u'united states',\n",
       "  u'created_at': u'Mon Jun 19 13:30:15 +0000 2017',\n",
       "  u'day': 20170619,\n",
       "  u'id': 876794257117523968,\n",
       "  u'img_category': u'Pasta',\n",
       "  u'media_url': u'http://pbs.twimg.com/media/DCr_ut8XkAAmHWQ.jpg',\n",
       "  u'text': u'Nothing Beats a Hot FRESH PIZZA !!!! 20% OFF Thu-Sun 4-8 pm!!! #pizza #OrlandPark #Italianvillapizza https://t.co/HNwrA3uLSa',\n",
       "  u'username': u'IVPizza'},\n",
       " {u'city': u'orland park',\n",
       "  u'country': u'united states',\n",
       "  u'created_at': u'Mon Jun 19 13:30:22 +0000 2017',\n",
       "  u'day': 20170619,\n",
       "  u'id': 876794284640489474,\n",
       "  u'img_category': u'Sushi',\n",
       "  u'media_url': u'http://pbs.twimg.com/media/DCr_wQCXoAErNlr.jpg',\n",
       "  u'text': u'#Pizza, the answer to all of our problems!! #Italianvillapizza #orlandpark https://t.co/Xnq1RrugxV',\n",
       "  u'username': u'IVPizza'},\n",
       " {u'city': u'bridgend',\n",
       "  u'country': u'united kingdom',\n",
       "  u'created_at': u'Mon Jun 19 13:30:45 +0000 2017',\n",
       "  u'day': 20170619,\n",
       "  u'id': 876794382611091460,\n",
       "  u'img_category': u'Pizza',\n",
       "  u'media_url': u'http://pbs.twimg.com/media/DCr_1zqXYAAmpUM.jpg',\n",
       "  u'text': u'FREE #C1stBridgend #food safety course @ #Evanstown Community Centre 30 June! https://t.co/3dSdvSW8xI https://t.co/lC3MMojkZA',\n",
       "  u'username': u'c1stBridgend'},\n",
       " {u'city': None,\n",
       "  u'country': u'ireland',\n",
       "  u'created_at': u'Mon Jun 19 13:30:53 +0000 2017',\n",
       "  u'day': 20170619,\n",
       "  u'id': 876794416748482562,\n",
       "  u'img_category': u'Sushi',\n",
       "  u'media_url': u'http://pbs.twimg.com/tweet_video_thumb/DCr_3OaWAAA0rOx.jpg',\n",
       "  u'text': u'I be lost without #Showbox, #porn, #pizza n #beer https://t.co/hNEKkwst3K',\n",
       "  u'username': u'blahdiblaahh'},\n",
       " {u'city': u'scottsdale',\n",
       "  u'country': u'united states',\n",
       "  u'created_at': u'Mon Jun 19 13:30:27 +0000 2017',\n",
       "  u'day': 20170619,\n",
       "  u'id': 876794306085965824,\n",
       "  u'img_category': u'Pasta',\n",
       "  u'media_url': u'http://pbs.twimg.com/media/DCr_xgdWsAAP0iz.jpg',\n",
       "  u'text': u'Mention this post to the cashier for your discount! #breakfast #chickenscoopaz https://t.co/zLlHZiN57c',\n",
       "  u'username': u'ChickenScoopAZ'},\n",
       " {u'city': u'paris',\n",
       "  u'country': u'france',\n",
       "  u'created_at': u'Mon Jun 19 13:30:27 +0000 2017',\n",
       "  u'day': 20170619,\n",
       "  u'id': 876794307721789440,\n",
       "  u'img_category': u'Sushi',\n",
       "  u'media_url': u'http://pbs.twimg.com/media/DCr_gc1XgAAGbIE.jpg',\n",
       "  u'text': u'Mon #lunch @bonhomieparis in the 10th. Two thumbs up. #paris https://t.co/qyK5e3AWUX',\n",
       "  u'username': u'LunchinParis1'},\n",
       " {u'city': u'indore',\n",
       "  u'country': u'india',\n",
       "  u'created_at': u'Mon Jun 19 13:30:01 +0000 2017',\n",
       "  u'day': 20170619,\n",
       "  u'id': 876794196455071744,\n",
       "  u'img_category': u'Pizza',\n",
       "  u'media_url': u'http://pbs.twimg.com/media/DCreF5YVYAAvgQn.jpg',\n",
       "  u'text': u'Express your feeling in the comment when you see a waiter bringing food towards you.\\n\\n#Foodie #Food #Indore https://t.co/ahQJceU1U2',\n",
       "  u'username': u'FagunRestaurant'},\n",
       " {u'city': u'kansas city',\n",
       "  u'country': u'united states',\n",
       "  u'created_at': u'Mon Jun 19 13:28:13 +0000 2017',\n",
       "  u'day': 20170619,\n",
       "  u'id': 876793746548858882,\n",
       "  u'img_category': u'Pasta',\n",
       "  u'media_url': u'http://pbs.twimg.com/media/DCpY05AXkAAau6m.jpg',\n",
       "  u'text': u'RT @Hamletgarcia17: Great #dinner #TONIGHT at @MajesticResorts #majesticResorts #Puntacana #Lobster https://t.co/gsFtTWv1m8',\n",
       "  u'username': u'ArthurVComrcmee'},\n",
       " {u'city': u'san francisco',\n",
       "  u'country': u'united states',\n",
       "  u'created_at': u'Mon Jun 19 13:30:47 +0000 2017',\n",
       "  u'day': 20170619,\n",
       "  u'id': 876794389854597122,\n",
       "  u'img_category': u'Sushi',\n",
       "  u'media_url': u'http://pbs.twimg.com/media/DCr_2OKXkAAY1b1.jpg',\n",
       "  u'text': u'Chocolate coating with nuts? How can you say no? #SwensensIceCream #Swensens #icecream https://t.co/WDi9kqfryC',\n",
       "  u'username': u'swensens'},\n",
       " {u'city': u'las vegas',\n",
       "  u'country': u'united states',\n",
       "  u'created_at': u'Mon Jun 19 13:30:08 +0000 2017',\n",
       "  u'day': 20170619,\n",
       "  u'id': 876794226297712640,\n",
       "  u'img_category': u'Sushi',\n",
       "  u'media_url': u'http://pbs.twimg.com/media/DCr_s4cXUAEyu-K.jpg',\n",
       "  u'text': u'#vegas #buffet #restaurant #2for1 #menu #reservation #openbar #brunch #dinner #lunch https://t.co/Oom3EQTIP8',\n",
       "  u'username': u'vegas_hotspots'},\n",
       " {u'city': u'virginia',\n",
       "  u'country': u'south africa',\n",
       "  u'created_at': u'Mon Jun 19 13:29:34 +0000 2017',\n",
       "  u'day': 20170619,\n",
       "  u'id': 876794084316241925,\n",
       "  u'img_category': u'Pizza',\n",
       "  u'media_url': u'http://pbs.twimg.com/media/DCpY05AXkAAau6m.jpg',\n",
       "  u'text': u'RT @Hamletgarcia17: Great #dinner #TONIGHT at @MajesticResorts #majesticResorts #Puntacana #Lobster https://t.co/gsFtTWv1m8',\n",
       "  u'username': u'mdacsandoz'},\n",
       " {u'city': u'toledo',\n",
       "  u'country': u'united states',\n",
       "  u'created_at': u'Mon Jun 19 13:26:35 +0000 2017',\n",
       "  u'day': 20170619,\n",
       "  u'id': 876793335461150720,\n",
       "  u'img_category': u'Pasta',\n",
       "  u'media_url': u'http://pbs.twimg.com/media/DCpY05AXkAAau6m.jpg',\n",
       "  u'text': u'RT @Hamletgarcia17: Great #dinner #TONIGHT at @MajesticResorts #majesticResorts #Puntacana #Lobster https://t.co/gsFtTWv1m8',\n",
       "  u'username': u'imckses'},\n",
       " {u'city': u'la guaira',\n",
       "  u'country': u'venezuela',\n",
       "  u'created_at': u'Mon Jun 19 13:26:16 +0000 2017',\n",
       "  u'day': 20170619,\n",
       "  u'id': 876793252522987520,\n",
       "  u'img_category': u'Pizza',\n",
       "  u'media_url': u'http://pbs.twimg.com/media/CUlJAXXXIAAUOis.jpg',\n",
       "  u'text': u\"RT @FoodPornsx: Reese's n Oreo ice cream! ??#icecream https://t.co/uQVvBbqKfN\",\n",
       "  u'username': u'alvarosanchez84'},\n",
       " {u'city': None,\n",
       "  u'country': u'united kingdom',\n",
       "  u'created_at': u'Mon Jun 19 13:30:02 +0000 2017',\n",
       "  u'day': 20170619,\n",
       "  u'id': 876794203774341123,\n",
       "  u'img_category': u'Pasta',\n",
       "  u'media_url': u'http://pbs.twimg.com/media/DCr_rgDU0AAHS1Y.jpg',\n",
       "  u'text': u'@_austrian Airlines - What a #Breakfast! #traveltreats @eurochangefx https://t.co/QfZsZGs2y7 @inflightFeed https://t.co/YbYhvyQ1Ew',\n",
       "  u'username': u'eurochangeFX'},\n",
       " {u'city': None,\n",
       "  u'country': u'united states',\n",
       "  u'created_at': u'Mon Jun 19 13:26:25 +0000 2017',\n",
       "  u'day': 20170619,\n",
       "  u'id': 876793292762906629,\n",
       "  u'img_category': u'Pasta',\n",
       "  u'media_url': u'http://pbs.twimg.com/media/DCr-2e6UIAEX7yw.jpg',\n",
       "  u'text': u'Do you have the right ingredients to make this #guacamole? #recipes  https://t.co/9Qbd24l788 https://t.co/f3Hl6hbC81',\n",
       "  u'username': u'JohnCap523'},\n",
       " {u'city': None,\n",
       "  u'country': u'united states',\n",
       "  u'created_at': u'Mon Jun 19 13:31:32 +0000 2017',\n",
       "  u'day': 20170619,\n",
       "  u'id': 876794581219725312,\n",
       "  u'img_category': u'Pasta',\n",
       "  u'media_url': u'http://pbs.twimg.com/media/DCr_Gc0VYAEIRTd.jpg',\n",
       "  u'text': u'RT @photobyAko: *\\n\\u30a4\\u30af\\u30e9\\u304a\\u3044\\u3057\\u304b\\u3063\\u305f\\u2661\\n\\u4eca\\u65e5\\u306f\\u307e\\u3060\\u307e\\u3060\\u884c\\u304f ( \\uff61\\u2022\\u0300_\\u2022\\u0301\\uff61)\\n\\n#foodporn https://t.co/rE9IyFqLUy',\n",
       "  u'username': u'2MotherForkers'},\n",
       " {u'city': u'monterey',\n",
       "  u'country': u'united states',\n",
       "  u'created_at': u'Mon Jun 19 13:32:18 +0000 2017',\n",
       "  u'day': 20170619,\n",
       "  u'id': 876794772475617280,\n",
       "  u'img_category': u'Pizza',\n",
       "  u'media_url': u'http://pbs.twimg.com/media/DCpY05AXkAAau6m.jpg',\n",
       "  u'text': u'RT @Hamletgarcia17: Great #dinner #TONIGHT at @MajesticResorts #majesticResorts #Puntacana #Lobster https://t.co/gsFtTWv1m8',\n",
       "  u'username': u'diretmsc'},\n",
       " {u'city': u'miami',\n",
       "  u'country': u'united states',\n",
       "  u'created_at': u'Mon Jun 19 13:25:47 +0000 2017',\n",
       "  u'day': 20170619,\n",
       "  u'id': 876793130657476609,\n",
       "  u'img_category': u'Pasta',\n",
       "  u'media_url': u'http://pbs.twimg.com/media/DCr-tH_XcAAT8TI.jpg',\n",
       "  u'text': u\"#Vegan coconut yogurt with fruit is what's on for #Breakfast. Recipe from @thekitchn --&gt; https://t.co/g4PebUyggO https://t.co/6E3l6qocLB\",\n",
       "  u'username': u'MgourmetM'},\n",
       " {u'city': u'washington',\n",
       "  u'country': u'united kingdom',\n",
       "  u'created_at': u'Mon Jun 19 13:28:52 +0000 2017',\n",
       "  u'day': 20170619,\n",
       "  u'id': 876793908361146368,\n",
       "  u'img_category': u'Sushi',\n",
       "  u'media_url': u'http://pbs.twimg.com/media/DCr_aOrWsAAbB5P.jpg',\n",
       "  u'text': u'Will Amazon change the food business &amp;mdash; or will the food business change Amazon?\\n#food #foods #business https://t.co/1dn5qUtfuE',\n",
       "  u'username': u'raisiwardres191'},\n",
       " {u'city': u'westerville',\n",
       "  u'country': u'united states',\n",
       "  u'created_at': u'Mon Jun 19 13:30:06 +0000 2017',\n",
       "  u'day': 20170619,\n",
       "  u'id': 876794219943178242,\n",
       "  u'img_category': u'Pizza',\n",
       "  u'media_url': u'http://pbs.twimg.com/media/DCpY05AXkAAau6m.jpg',\n",
       "  u'text': u'RT @Hamletgarcia17: Great #dinner #TONIGHT at @MajesticResorts #majesticResorts #Puntacana #Lobster https://t.co/gsFtTWv1m8',\n",
       "  u'username': u'philliphaohwrt'},\n",
       " {u'city': u'livonia',\n",
       "  u'country': u'united states',\n",
       "  u'created_at': u'Mon Jun 19 13:27:19 +0000 2017',\n",
       "  u'day': 20170619,\n",
       "  u'id': 876793519905615872,\n",
       "  u'img_category': u'Pizza',\n",
       "  u'media_url': u'http://pbs.twimg.com/media/DCpY05AXkAAau6m.jpg',\n",
       "  u'text': u'RT @Hamletgarcia17: Great #dinner #TONIGHT at @MajesticResorts #majesticResorts #Puntacana #Lobster https://t.co/gsFtTWv1m8',\n",
       "  u'username': u'JamieNietoFnsa'},\n",
       " {u'city': u'palm coast',\n",
       "  u'country': u'united states',\n",
       "  u'created_at': u'Mon Jun 19 13:27:00 +0000 2017',\n",
       "  u'day': 20170619,\n",
       "  u'id': 876793438234058753,\n",
       "  u'img_category': u'Sushi',\n",
       "  u'media_url': u'http://pbs.twimg.com/media/DCpY05AXkAAau6m.jpg',\n",
       "  u'text': u'RT @Hamletgarcia17: Great #dinner #TONIGHT at @MajesticResorts #majesticResorts #Puntacana #Lobster https://t.co/gsFtTWv1m8',\n",
       "  u'username': u'danplleow'},\n",
       " {u'city': u'oak park',\n",
       "  u'country': u'united states',\n",
       "  u'created_at': u'Mon Jun 19 13:31:04 +0000 2017',\n",
       "  u'day': 20170619,\n",
       "  u'id': 876794463678496769,\n",
       "  u'img_category': u'Pizza',\n",
       "  u'media_url': u'http://pbs.twimg.com/ext_tw_video_thumb/876794441746575360/pu/img/E4RpwDX-t2z_g4S_.jpg',\n",
       "  u'text': u'#breakfast #sandwich via https://t.co/6K9SnnaFdt https://t.co/cRftHAZlVO',\n",
       "  u'username': u'SlimShoppin'},\n",
       " {u'city': u'orland park',\n",
       "  u'country': u'united states',\n",
       "  u'created_at': u'Mon Jun 19 13:30:13 +0000 2017',\n",
       "  u'day': 20170619,\n",
       "  u'id': 876794249207066624,\n",
       "  u'img_category': u'Sushi',\n",
       "  u'media_url': u'http://pbs.twimg.com/media/DCr_uPrXYAAXLoR.jpg',\n",
       "  u'text': u'Nothing Beats a Hot FRESH PIZZA !!#pizza #OrlandPark #Italianvillapizza https://t.co/oNwXNm16Gx',\n",
       "  u'username': u'IVPizza'},\n",
       " {u'city': u'Southampton',\n",
       "  u'country': u'United Kingdom',\n",
       "  u'created_at': u'Mon Jun 19 13:29:05 +0000 2017',\n",
       "  u'day': 20170619,\n",
       "  u'id': 876793962803154944,\n",
       "  u'img_category': u'Pizza',\n",
       "  u'media_url': u'http://pbs.twimg.com/media/DCr_KOpW0AE7nI8.jpg',\n",
       "  u'text': u'Another happy customer! #food #Southampton #shamrockquay https://t.co/WlOXsj70Tr',\n",
       "  u'username': u'visitcove'},\n",
       " {u'city': None,\n",
       "  u'country': u'united states',\n",
       "  u'created_at': u'Mon Jun 19 13:26:09 +0000 2017',\n",
       "  u'day': 20170619,\n",
       "  u'id': 876793223204806657,\n",
       "  u'img_category': u'Sushi',\n",
       "  u'media_url': u'http://pbs.twimg.com/media/DCr-yhyXsAYLLmB.jpg',\n",
       "  u'text': u'Ten Waitrose wines for summer #vino #food #winelover #winetasting #winelovers #terroir #vin #cellar #winecellar https://t.co/raJl7sUPcQ',\n",
       "  u'username': u'winevoy'},\n",
       " {u'city': None,\n",
       "  u'country': u'united states',\n",
       "  u'created_at': u'Mon Jun 19 13:31:20 +0000 2017',\n",
       "  u'day': 20170619,\n",
       "  u'id': 876794529688453123,\n",
       "  u'img_category': u'Sushi',\n",
       "  u'media_url': u'http://pbs.twimg.com/media/DCr_6qSXYAAG3Es.jpg',\n",
       "  u'text': u'#Turth -\\n#dogs #dog #food https://t.co/5UjM8hD2fl',\n",
       "  u'username': u'GregoryJevyak'},\n",
       " {u'city': u'ontario',\n",
       "  u'country': u'united states',\n",
       "  u'created_at': u'Mon Jun 19 13:31:42 +0000 2017',\n",
       "  u'day': 20170619,\n",
       "  u'id': 876794619752841216,\n",
       "  u'img_category': u'Pasta',\n",
       "  u'media_url': u'http://pbs.twimg.com/media/DCsAC2tWsAInGJq.jpg',\n",
       "  u'text': u'#Breakfast time in Grade 5/6! @AJCharbonneauPS @RCDSB https://t.co/hlEmt6yxmP',\n",
       "  u'username': u'LisaConway17'},\n",
       " {u'city': u'bengaluru',\n",
       "  u'country': u'india',\n",
       "  u'created_at': u'Mon Jun 19 13:32:13 +0000 2017',\n",
       "  u'day': 20170619,\n",
       "  u'id': 876794753291083778,\n",
       "  u'img_category': u'Pasta',\n",
       "  u'media_url': u'http://pbs.twimg.com/media/DCsALkTUMAEfNcL.jpg',\n",
       "  u'text': u'Creamy Cucumber Salad#food #cooking #recipe https://t.co/ri0fQB4MTY https://t.co/OyHXWr8crf',\n",
       "  u'username': u'sense_nosense'},\n",
       " {u'city': None,\n",
       "  u'country': u'japan',\n",
       "  u'created_at': u'Mon Jun 19 13:25:44 +0000 2017',\n",
       "  u'day': 20170619,\n",
       "  u'id': 876793117998948354,\n",
       "  u'img_category': u'Pizza',\n",
       "  u'media_url': u'http://pbs.twimg.com/tweet_video_thumb/DCqpZCYUIAImCNv.jpg',\n",
       "  u'text': u'RT @kenja_jp: \\u30af\\u30ea\\u30fc\\u30e0\\u306e\\u4e57\\u8eca\\u7387\\u3001120\\uff05\\u3002\\nhttps://t.co/X9jIt7Nhc5\\n#\\u3069\\u3093\\u306a\\u3068\\u304d\\u3082\\u8ce2\\u8005\\u3068 #\\u8ce2\\u8005\\u306e\\u98df\\u5353 #\\u30b7\\u30e5\\u30fc\\u30af\\u30ea\\u30fc\\u30e0 #\\u30b7\\u30e5\\u30fc\\u30af\\u30ea\\u30fc\\u30e0\\u306e\\u65e5 #\\u98ef\\u30c6\\u30ed #foodporn #gifoods https://t.co/qlDxPXQG5j',\n",
       "  u'username': u'kumiko_310'},\n",
       " {u'city': u'\\u5ea7\\u9593\\u5e02',\n",
       "  u'country': u'\\u65e5\\u672c',\n",
       "  u'created_at': u'Mon Jun 19 13:27:32 +0000 2017',\n",
       "  u'day': 20170619,\n",
       "  u'id': 876793571482812416,\n",
       "  u'img_category': u'Pizza',\n",
       "  u'media_url': u'http://pbs.twimg.com/media/DCr_Gc0VYAEIRTd.jpg',\n",
       "  u'text': u'*\\n\\u30a4\\u30af\\u30e9\\u304a\\u3044\\u3057\\u304b\\u3063\\u305f\\u2661\\n\\u4eca\\u65e5\\u306f\\u307e\\u3060\\u307e\\u3060\\u884c\\u304f ( \\uff61\\u2022\\u0300_\\u2022\\u0301\\uff61)\\n\\n#foodporn https://t.co/rE9IyFqLUy',\n",
       "  u'username': u'photobyAko'},\n",
       " {u'city': u'london',\n",
       "  u'country': u'united kingdom',\n",
       "  u'created_at': u'Mon Jun 19 13:28:01 +0000 2017',\n",
       "  u'day': 20170619,\n",
       "  u'id': 876793696116723712,\n",
       "  u'img_category': u'Pasta',\n",
       "  u'media_url': u'http://pbs.twimg.com/media/DCr_OAaXoAEt5TX.jpg',\n",
       "  u'text': u'Grab a bargain in our June #Sale! Get up to 50% off selected products here: https://t.co/phYayM6Gh3\\n#Foodie #Offer https://t.co/mOkWIPFyUs',\n",
       "  u'username': u'EATAPAS'},\n",
       " {u'city': u'new york city',\n",
       "  u'country': u'united states',\n",
       "  u'created_at': u'Mon Jun 19 13:28:13 +0000 2017',\n",
       "  u'day': 20170619,\n",
       "  u'id': 876793745970036736,\n",
       "  u'img_category': u'Pasta',\n",
       "  u'media_url': u'http://pbs.twimg.com/media/DCpY05AXkAAau6m.jpg',\n",
       "  u'text': u'RT @Hamletgarcia17: Great #dinner #TONIGHT at @MajesticResorts #majesticResorts #Puntacana #Lobster https://t.co/gsFtTWv1m8',\n",
       "  u'username': u'wvcamille4lfei'},\n",
       " {u'city': u'orland park',\n",
       "  u'country': u'united states',\n",
       "  u'created_at': u'Mon Jun 19 13:30:22 +0000 2017',\n",
       "  u'day': 20170619,\n",
       "  u'id': 876794287815569408,\n",
       "  u'img_category': u'Sushi',\n",
       "  u'media_url': u'http://pbs.twimg.com/media/DCr_weWXUAEKFIv.jpg',\n",
       "  u'text': u'Nothing Beats a Hot FRESH PIZZA !!#pizza #OrlandPark #Italianvillapizza https://t.co/jiFrAl9qDA',\n",
       "  u'username': u'IVPizza'},\n",
       " {u'city': u'orland park',\n",
       "  u'country': u'united states',\n",
       "  u'created_at': u'Mon Jun 19 13:30:26 +0000 2017',\n",
       "  u'day': 20170619,\n",
       "  u'id': 876794302957064193,\n",
       "  u'img_category': u'Sushi',\n",
       "  u'media_url': u'http://pbs.twimg.com/media/DCr_xVCWAAAHnOg.jpg',\n",
       "  u'text': u'Thinking of having a Calzone? Call us @ 708-403-3335 #pizza #italianvilllapizza #OrlandPark #calzones https://t.co/PB1yZpQV0J',\n",
       "  u'username': u'IVPizza'},\n",
       " {u'city': u'toms river',\n",
       "  u'country': u'united states',\n",
       "  u'created_at': u'Mon Jun 19 13:31:45 +0000 2017',\n",
       "  u'day': 20170619,\n",
       "  u'id': 876794634286100481,\n",
       "  u'img_category': u'Pasta',\n",
       "  u'media_url': u'http://pbs.twimg.com/media/DCsAELrVoAAv02y.jpg',\n",
       "  u'text': u'#food shopping is a must but an empty #fridge makes it easy for cleaning https://t.co/U0ApEoyGHP',\n",
       "  u'username': u'CantinaBeal'},\n",
       " {u'city': u'chicago',\n",
       "  u'country': u'united states',\n",
       "  u'created_at': u'Mon Jun 19 13:32:04 +0000 2017',\n",
       "  u'day': 20170619,\n",
       "  u'id': 876794712006561793,\n",
       "  u'img_category': u'Pizza',\n",
       "  u'media_url': u'http://pbs.twimg.com/media/DCsAIyaUAAE2R2E.jpg',\n",
       "  u'text': u'11 core guidelines to know before buying grow lights:\\n\\n&gt; https://t.co/QvNWfueQR9\\n\\n#urbanfarming #food https://t.co/VWYKQ6XZIu',\n",
       "  u'username': u'UFninja'},\n",
       " {u'city': u'whittier',\n",
       "  u'country': u'united states',\n",
       "  u'created_at': u'Mon Jun 19 13:32:34 +0000 2017',\n",
       "  u'day': 20170619,\n",
       "  u'id': 876794837978279937,\n",
       "  u'img_category': u'Pasta',\n",
       "  u'media_url': u'http://pbs.twimg.com/media/DCpY05AXkAAau6m.jpg',\n",
       "  u'text': u'RT @Hamletgarcia17: Great #dinner #TONIGHT at @MajesticResorts #majesticResorts #Puntacana #Lobster https://t.co/gsFtTWv1m8',\n",
       "  u'username': u'Cait_hoCsa'}]"
      ]
     },
     "execution_count": 34,
     "metadata": {},
     "output_type": "execute_result"
    }
   ],
   "source": [
    "import requests\n",
    "import json\n",
    "\n",
    "response = requests.get('http://test.tripbuilder.isti.cnr.it:5000/sync')\n",
    "json_data = json.loads(response.text)\n",
    "json_data"
   ]
  }
 ],
 "metadata": {
  "kernelspec": {
   "display_name": "Python 2",
   "language": "python",
   "name": "python2"
  },
  "language_info": {
   "codemirror_mode": {
    "name": "ipython",
    "version": 2.0
   },
   "file_extension": ".py",
   "mimetype": "text/x-python",
   "name": "python",
   "nbconvert_exporter": "python",
   "pygments_lexer": "ipython2",
   "version": "2.7.13"
  }
 },
 "nbformat": 4,
 "nbformat_minor": 0
}