{
 "cells": [
  {
   "cell_type": "markdown",
   "metadata": {},
   "source": [
    "# Test the Trend Index"
   ]
  },
  {
   "cell_type": "markdown",
   "metadata": {},
   "source": [
    "## Check if index is up!"
   ]
  },
  {
   "cell_type": "code",
   "execution_count": 23,
   "metadata": {
    "collapsed": false
   },
   "outputs": [
    {
     "name": "stdout",
     "output_type": "stream",
     "text": [
      "{\n",
      "  \"name\" : \"0PsTttc\",\n",
      "  \"cluster_name\" : \"foodmap-cluster\",\n",
      "  \"cluster_uuid\" : \"2YIbFkvuRqaPWhEjuEYnwA\",\n",
      "  \"version\" : {\n",
      "    \"number\" : \"5.4.0\",\n",
      "    \"build_hash\" : \"780f8c4\",\n",
      "    \"build_date\" : \"2017-04-28T17:43:27.229Z\",\n",
      "    \"build_snapshot\" : false,\n",
      "    \"lucene_version\" : \"6.5.0\"\n",
      "  },\n",
      "  \"tagline\" : \"You Know, for Search\"\n",
      "}\n",
      "\n"
     ]
    }
   ],
   "source": [
    "import requests\n",
    "res = requests.get('http://foodmap.isti.cnr.it:9200', auth=('elastic', 'changeme'))\n",
    "print(res.content)"
   ]
  },
  {
   "cell_type": "code",
   "execution_count": 2,
   "metadata": {
    "collapsed": false
   },
   "outputs": [
    {
     "name": "stdout",
     "output_type": "stream",
     "text": [
      "<Elasticsearch([{u'host': u'foodmap.isti.cnr.it'}])>\n"
     ]
    }
   ],
   "source": [
    "from elasticsearch import Elasticsearch\n",
    "es = Elasticsearch(['foodmap.isti.cnr.it'], http_auth=('elastic', 'changeme'), port=9200)\n",
    "print es"
   ]
  },
  {
   "cell_type": "markdown",
   "metadata": {},
   "source": [
    "## Index operations"
   ]
  },
  {
   "cell_type": "markdown",
   "metadata": {},
   "source": [
    "#### Delete index, delete tweets by id and query"
   ]
  },
  {
   "cell_type": "code",
   "execution_count": 7,
   "metadata": {
    "collapsed": false
   },
   "outputs": [
    {
     "data": {
      "text/plain": [
       "{u'acknowledged': True}"
      ]
     },
     "execution_count": 7,
     "metadata": {},
     "output_type": "execute_result"
    }
   ],
   "source": [
    "# es.indices.delete(index='trend', ignore=[400, 404])"
   ]
  },
  {
   "cell_type": "code",
   "execution_count": 46,
   "metadata": {
    "collapsed": false
   },
   "outputs": [
    {
     "data": {
      "text/plain": [
       "{u'batches': 278,\n",
       " u'deleted': 277519,\n",
       " u'failures': [],\n",
       " u'noops': 0,\n",
       " u'requests_per_second': -1.0,\n",
       " u'retries': {u'bulk': 0, u'search': 0},\n",
       " u'throttled_millis': 0,\n",
       " u'throttled_until_millis': 0,\n",
       " u'timed_out': False,\n",
       " u'took': 3802,\n",
       " u'total': 277519,\n",
       " u'version_conflicts': 0}"
      ]
     },
     "execution_count": 46,
     "metadata": {},
     "output_type": "execute_result"
    }
   ],
   "source": [
    "# es.delete_by_query(index='trend', doc_type='tweet', body={\n",
    "#     'query': {\n",
    "#         \"match_all\" : {}\n",
    "#     }\n",
    "# })"
   ]
  },
  {
   "cell_type": "markdown",
   "metadata": {},
   "source": [
    "#### Count elements in index"
   ]
  },
  {
   "cell_type": "code",
   "execution_count": 62,
   "metadata": {
    "collapsed": false
   },
   "outputs": [
    {
     "data": {
      "text/plain": [
       "{u'_shards': {u'failed': 0, u'successful': 5, u'total': 5}, u'count': 1334742}"
      ]
     },
     "execution_count": 62,
     "metadata": {},
     "output_type": "execute_result"
    }
   ],
   "source": [
    "es.count(index='trend', doc_type='tweet')"
   ]
  },
  {
   "cell_type": "code",
   "execution_count": 63,
   "metadata": {
    "collapsed": false
   },
   "outputs": [],
   "source": [
    "# counting tweets per day!\n",
    "results_agg = es.search(index='trend', doc_type='tweet', size=0, body={                 \n",
    "        \"aggs\": {\n",
    "            \"days\" : {\n",
    "            \"terms\" : \n",
    "                {\"field\" : \"created_at_day\", \n",
    "                \"size\": 1000000 }\n",
    "                    }\n",
    "              }\n",
    "        }) "
   ]
  },
  {
   "cell_type": "code",
   "execution_count": 64,
   "metadata": {
    "collapsed": false
   },
   "outputs": [
    {
     "name": "stdout",
     "output_type": "stream",
     "text": [
      "total 1334744\n",
      "20170310 5048\n",
      "20170311 8762\n",
      "20170312 8135\n",
      "20170313 7543\n",
      "20170314 9093\n",
      "20170315 8809\n",
      "20170316 8483\n",
      "20170317 9284\n",
      "20170318 8735\n",
      "20170319 8585\n",
      "20170320 8491\n",
      "20170321 9415\n",
      "20170322 9272\n",
      "20170323 8577\n",
      "20170324 11727\n",
      "20170325 9498\n",
      "20170326 8867\n",
      "20170327 8317\n",
      "20170328 8194\n",
      "20170329 8300\n",
      "20170330 8507\n",
      "20170331 9898\n",
      "20170401 8673\n",
      "20170402 8826\n",
      "20170403 10043\n",
      "20170404 11714\n",
      "20170405 11804\n",
      "20170406 12225\n",
      "20170407 11118\n",
      "20170408 9567\n",
      "20170409 8500\n",
      "20170410 7913\n",
      "20170411 8803\n",
      "20170412 9508\n",
      "20170413 9029\n",
      "20170414 9481\n",
      "20170415 9300\n",
      "20170416 7784\n",
      "20170417 7903\n",
      "20170418 9225\n",
      "20170419 8340\n",
      "20170420 8568\n",
      "20170421 9568\n",
      "20170422 9113\n",
      "20170423 8195\n",
      "20170424 7574\n",
      "20170425 8299\n",
      "20170426 8438\n",
      "20170427 8443\n",
      "20170428 9138\n",
      "20170429 8593\n",
      "20170430 8265\n",
      "20170501 8161\n",
      "20170502 8539\n",
      "20170503 8824\n",
      "20170504 8906\n",
      "20170505 10205\n",
      "20170506 9749\n",
      "20170507 8355\n",
      "20170508 8450\n",
      "20170509 10320\n",
      "20170510 8325\n",
      "20170511 6224\n",
      "20170512 9747\n",
      "20170513 10034\n",
      "20170514 7922\n",
      "20170515 7775\n",
      "20170516 8149\n",
      "20170517 8239\n",
      "20170518 8085\n",
      "20170519 8226\n",
      "20170520 8627\n",
      "20170521 7899\n",
      "20170522 8658\n",
      "20170523 8297\n",
      "20170524 7992\n",
      "20170525 8376\n",
      "20170526 9268\n",
      "20170527 8878\n",
      "20170528 8590\n",
      "20170529 20747\n",
      "20170530 12480\n",
      "20170531 9666\n",
      "20170601 8527\n",
      "20170602 13090\n",
      "20170603 9293\n",
      "20170604 8255\n",
      "20170605 8265\n",
      "20170606 7943\n",
      "20170607 8385\n",
      "20170608 7946\n",
      "20170609 9024\n",
      "20170610 8551\n",
      "20170611 8233\n",
      "20170612 8077\n",
      "20170613 10029\n",
      "20170614 8582\n",
      "20170615 9593\n",
      "20170616 9805\n",
      "20170617 9178\n",
      "20170618 9818\n",
      "20170619 8490\n",
      "20170620 8565\n",
      "20170621 8719\n",
      "20170622 8266\n",
      "20170623 8812\n",
      "20170624 8380\n",
      "20170625 8040\n",
      "20170626 12856\n",
      "20170627 13113\n",
      "20170628 11168\n",
      "20170629 11927\n",
      "20170630 11432\n",
      "20170701 10691\n",
      "20170702 9627\n",
      "20170703 10358\n",
      "20170704 10500\n",
      "20170705 10197\n",
      "20170706 11508\n",
      "20170707 12073\n",
      "20170708 11224\n",
      "20170709 11255\n",
      "20170710 10612\n",
      "20170711 11176\n",
      "20170712 10754\n",
      "20170713 11099\n",
      "20170714 10841\n",
      "20170715 10812\n",
      "20170716 10936\n",
      "20170717 10203\n",
      "20170718 10488\n",
      "20170719 11588\n",
      "20170720 10172\n",
      "20170721 11689\n",
      "20170722 10438\n",
      "20170723 9773\n",
      "20170724 9334\n",
      "20170725 10506\n",
      "20170726 10350\n",
      "20170727 10108\n",
      "20170728 10854\n",
      "20170729 4013\n"
     ]
    }
   ],
   "source": [
    "# viewing lists per day\n",
    "list_raw = results_agg[\"aggregations\"][\"days\"][\"buckets\"]\n",
    "new_list = sorted(list_raw, key=lambda k: k['key']) \n",
    "suma = sum(item['doc_count'] for item in new_list)\n",
    "print \"total\", suma\n",
    "for elem in new_list:\n",
    "    print elem[\"key\"], elem[\"doc_count\"]"
   ]
  },
  {
   "cell_type": "code",
   "execution_count": null,
   "metadata": {
    "collapsed": true
   },
   "outputs": [],
   "source": [
    "# 1. numero tweet classificati con testo\n",
    "# 2. numero tweet classificati con immagine per le tre soglie di confidenza\n",
    "# 3. accuratezza media classificazione immagini \n",
    "# in base alla distribuzione di frequenza delle classi"
   ]
  },
  {
   "cell_type": "code",
   "execution_count": 81,
   "metadata": {
    "collapsed": false
   },
   "outputs": [],
   "source": [
    "# counting tweets per IMG category!\n",
    "results_agg = es.search(index='trend', doc_type='tweet', size=0, body={                 \n",
    "        \"aggs\": {\n",
    "            \"imgCats\" : {\n",
    "            \"terms\" : \n",
    "                {\"field\" : \"img_categories.label.keyword\", \n",
    "                \"size\": 1000000 }\n",
    "                    }\n",
    "              }\n",
    "        }) "
   ]
  },
  {
   "cell_type": "code",
   "execution_count": 82,
   "metadata": {
    "collapsed": false
   },
   "outputs": [
    {
     "name": "stdout",
     "output_type": "stream",
     "text": [
      "5\n",
      "101\n",
      "pizza 22570\n",
      "cup_cakes 9739\n",
      "ice_cream 7050\n",
      "sushi 6031\n",
      "donuts 5812\n",
      "cheese_plate 5071\n",
      "chocolate_cake 3984\n",
      "pancakes 3859\n",
      "hamburger 3641\n",
      "ramen 3582\n",
      "churros 3429\n",
      "tacos 3357\n",
      "sashimi 3241\n",
      "paella 3156\n",
      "frozen_yogurt 3079\n",
      "seaweed_salad 2880\n",
      "cheesecake 2554\n",
      "macarons 2476\n",
      "ceviche 2425\n",
      "prime_rib 2205\n",
      "grilled_salmon 2078\n",
      "baby_back_ribs 2077\n",
      "steak 1969\n",
      "panna_cotta 1945\n",
      "fish_and_chips 1905\n",
      "oysters 1897\n",
      "chicken_curry 1893\n",
      "chocolate_mousse 1854\n",
      "french_toast 1809\n",
      "guacamole 1767\n",
      "nachos 1762\n",
      "omelette 1717\n",
      "waffles 1697\n",
      "bruschetta 1635\n",
      "filet_mignon 1561\n",
      "hummus 1560\n",
      "apple_pie 1544\n",
      "falafel 1471\n",
      "croque_madame 1436\n",
      "pulled_pork_sandwich 1416\n",
      "crab_cakes 1398\n",
      "grilled_cheese_sandwich 1367\n",
      "macaroni_and_cheese 1317\n",
      "caesar_salad 1278\n",
      "chicken_wings 1273\n",
      "huevos_rancheros 1270\n",
      "lasagna 1260\n",
      "pho 1248\n",
      "peking_duck 1190\n",
      "eggs_benedict 1183\n",
      "clam_chowder 1054\n",
      "french_fries 1041\n",
      "beef_carpaccio 1033\n",
      "lobster_roll_sandwich 1024\n",
      "greek_salad 1023\n",
      "hot_dog 985\n",
      "strawberry_shortcake 971\n",
      "bibimbap 952\n",
      "samosa 949\n",
      "mussels 916\n",
      "creme_brulee 905\n",
      "breakfast_burrito 888\n",
      "beignets 876\n",
      "risotto 868\n",
      "fried_rice 794\n",
      "chicken_quesadilla 768\n",
      "club_sandwich 768\n",
      "pork_chop 753\n",
      "tiramisu 743\n",
      "gnocchi 737\n",
      "cannoli 730\n",
      "poutine 728\n",
      "scallops 691\n",
      "spring_rolls 684\n",
      "caprese_salad 658\n",
      "miso_soup 636\n",
      "lobster_bisque 632\n",
      "fried_calamari 627\n",
      "bread_pudding 623\n",
      "beet_salad 611\n",
      "tuna_tartare 601\n",
      "red_velvet_cake 600\n",
      "edamame 589\n",
      "baklava 578\n",
      "carrot_cake 578\n",
      "pad_thai 578\n",
      "spaghetti_carbonara 578\n",
      "foie_gras 535\n",
      "beef_tartare 488\n",
      "spaghetti_bolognese 452\n",
      "takoyaki 429\n",
      "gyoza 427\n",
      "garlic_bread 395\n",
      "escargots 393\n",
      "dumplings 343\n",
      "french_onion_soup 339\n",
      "deviled_eggs 314\n",
      "ravioli 257\n",
      "shrimp_and_grits 257\n",
      "onion_rings 256\n",
      "hot_and_sour_soup 107\n",
      "Total tweets with img cat 181680\n"
     ]
    }
   ],
   "source": [
    "# viewing lists per day\n",
    "from collections import defaultdict\n",
    "imgCatDict = defaultdict(int)\n",
    "\n",
    "print len(results_agg)\n",
    "list_raw = results_agg[\"aggregations\"][\"imgCats\"][\"buckets\"]\n",
    "print len(list_raw)\n",
    "countTweetsWithImg = 0\n",
    "for elem in list_raw:\n",
    "    countTweetsWithImg += elem[\"doc_count\"]\n",
    "    print elem[\"key\"], elem[\"doc_count\"]\n",
    "    imgCatDict[elem[\"key\"]] += elem[\"doc_count\"]\n",
    "    \n",
    "\n",
    "print \"Total tweets with img cat\", countTweetsWithImg"
   ]
  },
  {
   "cell_type": "code",
   "execution_count": 93,
   "metadata": {
    "collapsed": false
   },
   "outputs": [
    {
     "name": "stdout",
     "output_type": "stream",
     "text": [
      "181680\n",
      "Label;accuracy\r\n",
      "\n",
      "1 ['apple_pie', '0.576'] 1544\n",
      "2 ['baby_back_ribs', '0.796'] 2077\n",
      "3 ['baklava', '0.872'] 578\n",
      "4 ['beef_carpaccio', '0.84'] 1033\n",
      "5 ['beef_tartare', '0.752'] 488\n",
      "6 ['beet_salad', '0.72'] 611\n",
      "7 ['beignets', '0.896'] 876\n",
      "8 ['bibimbap', '0.892'] 952\n",
      "9 ['bread_pudding', '0.524'] 623\n",
      "10 ['breakfast_burrito', '0.704'] 888\n",
      "11 ['bruschetta', '0.644'] 1635\n",
      "12 ['caesar_salad', '0.868'] 1278\n",
      "13 ['cannoli', '0.812'] 730\n",
      "14 ['caprese_salad', '0.804'] 658\n",
      "15 ['carrot_cake', '0.748'] 578\n",
      "16 ['ceviche', '0.636'] 2425\n",
      "17 ['cheese_plate', '0.88'] 5071\n",
      "18 ['cheesecake', '0.684'] 2554\n",
      "19 ['chicken_curry', '0.712'] 1893\n",
      "20 ['chicken_quesadilla', '0.768'] 768\n",
      "21 ['chicken_wings', '0.844'] 1273\n",
      "22 ['chocolate_cake', '0.728'] 3984\n",
      "23 ['chocolate_mousse', '0.588'] 1854\n",
      "24 ['churros', '0.876'] 3429\n",
      "25 ['clam_chowder', '0.884'] 1054\n",
      "26 ['club_sandwich', '0.796'] 768\n",
      "27 ['crab_cakes', '0.708'] 1398\n",
      "28 ['creme_brulee', '0.872'] 905\n",
      "29 ['croque_madame', '0.876'] 1436\n",
      "30 ['cup_cakes', '0.856'] 9739\n",
      "31 ['deviled_eggs', '0.892'] 314\n",
      "32 ['donuts', '0.808'] 5812\n",
      "33 ['dumplings', '0.884'] 343\n",
      "34 ['edamame', '0.984'] 589\n",
      "35 ['eggs_benedict', '0.9'] 1183\n",
      "36 ['escargots', '0.82'] 393\n",
      "37 ['falafel', '0.704'] 1471\n",
      "38 ['filet_mignon', '0.62'] 1561\n",
      "39 ['fish_and_chips', '0.864'] 1905\n",
      "40 ['foie_gras', '0.448'] 535\n",
      "41 ['french_fries', '0.904'] 1041\n",
      "42 ['french_onion_soup', '0.808'] 339\n",
      "43 ['french_toast', '0.732'] 1809\n",
      "44 ['fried_calamari', '0.812'] 627\n",
      "45 ['fried_rice', '0.812'] 794\n",
      "46 ['frozen_yogurt', '0.888'] 3079\n",
      "47 ['garlic_bread', '0.612'] 395\n",
      "48 ['gnocchi', '0.656'] 737\n",
      "49 ['greek_salad', '0.836'] 1023\n",
      "50 ['grilled_cheese_sandwich', '0.712'] 1367\n",
      "51 ['grilled_salmon', '0.684'] 2078\n",
      "52 ['guacamole', '0.932'] 1767\n",
      "53 ['gyoza', '0.82'] 427\n",
      "54 ['hamburger', '0.732'] 3641\n",
      "55 ['hot_and_sour_soup', '0.952'] 107\n",
      "56 ['hot_dog', '0.78'] 985\n",
      "57 ['huevos_rancheros', '0.58'] 1270\n",
      "58 ['hummus', '0.664'] 1560\n",
      "59 ['ice_cream', '0.648'] 7050\n",
      "60 ['lasagna', '0.668'] 1260\n",
      "61 ['lobster_bisque', '0.848'] 632\n",
      "62 ['lobster_roll_sandwich', '0.892'] 1024\n",
      "63 ['macaroni_and_cheese', '0.768'] 1317\n",
      "64 ['macarons', '0.936'] 2476\n",
      "65 ['miso_soup', '0.868'] 636\n",
      "66 ['mussels', '0.86'] 916\n",
      "67 ['nachos', '0.724'] 1762\n",
      "68 ['omelette', '0.636'] 1717\n",
      "69 ['onion_rings', '0.92'] 256\n",
      "70 ['oysters', '0.936'] 1897\n",
      "71 ['pad_thai', '0.924'] 578\n",
      "72 ['paella', '0.784'] 3156\n",
      "73 ['pancakes', '0.864'] 3859\n",
      "74 ['panna_cotta', '0.712'] 1945\n",
      "75 ['peking_duck', '0.82'] 1190\n",
      "76 ['pho', '0.928'] 1248\n",
      "77 ['pizza', '0.836'] 22570\n",
      "78 ['pork_chop', '0.608'] 753\n",
      "79 ['poutine', '0.86'] 728\n",
      "80 ['prime_rib', '0.832'] 2205\n",
      "81 ['pulled_pork_sandwich', '0.74'] 1416\n",
      "82 ['ramen', '0.772'] 3582\n",
      "83 ['ravioli', '0.492'] 257\n",
      "84 ['red_velvet_cake', '0.86'] 600\n",
      "85 ['risotto', '0.632'] 868\n",
      "86 ['samosa', '0.76'] 949\n",
      "87 ['sashimi', '0.908'] 3241\n",
      "88 ['scallops', '0.66'] 691\n",
      "89 ['seaweed_salad', '0.936'] 2880\n",
      "90 ['shrimp_and_grits', '0.764'] 257\n",
      "91 ['spaghetti_bolognese', '0.876'] 452\n",
      "92 ['spaghetti_carbonara', '0.924'] 578\n",
      "93 ['spring_rolls', '0.78'] 684\n",
      "94 ['steak', '0.472'] 1969\n",
      "95 ['strawberry_shortcake', '0.788'] 971\n",
      "96 ['sushi', '0.784'] 6031\n",
      "97 ['tacos', '0.72'] 3357\n",
      "98 ['takoyaki', '0.92'] 429\n",
      "99 ['tiramisu', '0.712'] 743\n",
      "100 ['tuna_tartare', '0.644'] 601\n",
      "101 ['waffles', '0.832'] 1697\n",
      "102 ['Average', '0.780633'] 0\n",
      "0.787855900484\n"
     ]
    }
   ],
   "source": [
    "# READ FROM FILE\n",
    "# compute average\n",
    "\n",
    "print sum(imgCatDict.values()) \n",
    "\n",
    "partialSums = 0\n",
    "with open(\"/home/foodmap/data/accuracy.csv\") as f:\n",
    "    print f.readline()\n",
    "    i = 0\n",
    "    for line in f:\n",
    "        i += 1\n",
    "        data = line.strip().split(\";\")\n",
    "        print i, data, imgCatDict[data[0]]\n",
    "        partialSums += float(data[1]) * imgCatDict[data[0]]\n",
    "\n",
    "\n",
    "accuracy =  partialSums / float(sum(imgCatDict.values()) )\n",
    "print accuracy\n",
    "\n",
    "# for k,v in imgCatDict.iteritems():\n",
    "#     print k, v"
   ]
  },
  {
   "cell_type": "code",
   "execution_count": 47,
   "metadata": {
    "collapsed": false
   },
   "outputs": [],
   "source": [
    "# counting tweets per TEXT category!\n",
    "results_agg = es.search(index='trend', doc_type='tweet', size=0, body={                 \n",
    "        \"aggs\": {\n",
    "            \"textCats\" : {\n",
    "            \"terms\" : \n",
    "                {\"field\" : \"text_categories.keyword\", \n",
    "                \"size\": 1000000 }\n",
    "                    }\n",
    "              }\n",
    "        }) "
   ]
  },
  {
   "cell_type": "code",
   "execution_count": 48,
   "metadata": {
    "collapsed": false
   },
   "outputs": [
    {
     "name": "stdout",
     "output_type": "stream",
     "text": [
      "5\n",
      "101\n",
      "pizza 261359\n",
      "ice_cream 132616\n",
      "sushi 97761\n",
      "poutine 69480\n",
      "tacos 69018\n",
      "cup_cakes 65067\n",
      "steak 54800\n",
      "donuts 52950\n",
      "pancakes 42904\n",
      "ramen 38212\n",
      "cheesecake 37473\n",
      "macarons 18893\n",
      "oysters 18865\n",
      "waffels 18142\n",
      "paella 16229\n",
      "hot_dog 15843\n",
      "fish_and_chips 15646\n",
      "hamburger 14263\n",
      "hummus 13001\n",
      "risotto 12133\n",
      "nachos 11595\n",
      "foie_gras 10815\n",
      "guacamole 10507\n",
      "lasagna 9573\n",
      "sashimi 9465\n",
      "fried_rice 9422\n",
      "baby_back_ribs 9057\n",
      "omelette 8409\n",
      "ceviche 8175\n",
      "pho 7995\n",
      "dumplings 7514\n",
      "chocolate_cake 7272\n",
      "scallops 7113\n",
      "churros 6999\n",
      "tiramisu 6524\n",
      "breakfast_burrito 6407\n",
      "gnocchi 6006\n",
      "falafel 5772\n",
      "french_fries 5443\n",
      "mussels 5213\n",
      "french_toast 5053\n",
      "ravioli 4975\n",
      "carrot_cake 4112\n",
      "chicken_wings 3999\n",
      "baklava 3843\n",
      "apple_pie 3670\n",
      "bruschetta 3644\n",
      "filet_mignon 2904\n",
      "cannoli 2856\n",
      "gyoza 2494\n",
      "samosa 2420\n",
      "frozen_yogurt 2374\n",
      "edamame 2210\n",
      "strawberry_shortcake 2198\n",
      "eggs_benedict 2185\n",
      "pad_thai 2040\n",
      "takoyaki 1999\n",
      "bibimbap 1985\n",
      "beignets 1973\n",
      "deviled_eggs 1693\n",
      "garlic_bread 1565\n",
      "onion_rings 1506\n",
      "prime_rib 1451\n",
      "creme_brulee 1427\n",
      "panna_cotta 1411\n",
      "crab_cakes 1337\n",
      "pork_chop 1106\n",
      "red_velvet_cake 1057\n",
      "spring_rolls 1046\n",
      "caesar_salad 824\n",
      "greek_salad 803\n",
      "club_sandwich 796\n",
      "chicken_curry 774\n",
      "shrimp_and_grits 761\n",
      "bread_pudding 722\n",
      "miso_soup 718\n",
      "huevos_rancheros 629\n",
      "chocolate_mousse 593\n",
      "clam_chowder 583\n",
      "cheese_plate 444\n",
      "lobster_roll_sandwich 444\n",
      "macaroni_and_cheese 381\n",
      "peking_duck 376\n",
      "caprese_salad 366\n",
      "escargots 319\n",
      "french_onion_soup 311\n",
      "croque_madame 305\n",
      "grilled_salmon 251\n",
      "tuna_tartare 210\n",
      "beet_salad 176\n",
      "spaghetti_bolognese 173\n",
      "lobster_bisque 166\n",
      "grilled_cheese_sandwich 164\n",
      "beef_tartare 148\n",
      "seaweed_salad 124\n",
      "fried_calamari 106\n",
      "spaghetti_carbonara 105\n",
      "pulled_pork_sandwich 84\n",
      "beef_carpaccio 83\n",
      "chicken_quesadilla 66\n",
      "hot_and_sour_soup 55\n",
      "Total tweets with text cats 1306524\n"
     ]
    }
   ],
   "source": [
    "# viewing lists per day\n",
    "print len(results_agg)\n",
    "list_raw = results_agg[\"aggregations\"][\"textCats\"][\"buckets\"]\n",
    "print len(list_raw)\n",
    "countTweetsWithTextCat = 0\n",
    "for elem in list_raw:\n",
    "    countTweetsWithTextCat += elem[\"doc_count\"]\n",
    "    print elem[\"key\"], elem[\"doc_count\"]\n",
    "    \n",
    "print \"Total tweets with text cats\", countTweetsWithTextCat"
   ]
  },
  {
   "cell_type": "code",
   "execution_count": 79,
   "metadata": {
    "collapsed": false
   },
   "outputs": [],
   "source": [
    "# counting tweets per SCORE interval\n",
    "# Note that this aggregation includes the from value and excludes the to value for each range.\n",
    "results_agg = es.search(index='trend', doc_type='tweet', size=0, body={                 \n",
    "        \"aggs\": {\n",
    "            \"score_ranges\" : {\n",
    "            \"range\" : {\n",
    "                \"field\" : \"img_categories.score\",\n",
    "                \"ranges\" : [\n",
    "                    { \"to\" : 7.0 },\n",
    "                    { \"from\" : 7.0, \"to\" : 10.0 },\n",
    "                    { \"from\" : 10.0 }\n",
    "                ]\n",
    "            }\n",
    "        }\n",
    "        }\n",
    "}) "
   ]
  },
  {
   "cell_type": "code",
   "execution_count": 80,
   "metadata": {
    "collapsed": false
   },
   "outputs": [
    {
     "name": "stdout",
     "output_type": "stream",
     "text": [
      "5\n",
      "3\n",
      "*-7.0 40462\n",
      "7.0-10.0 50740\n",
      "10.0-* 87429\n",
      "Total tweets with img categories scores 178631\n"
     ]
    }
   ],
   "source": [
    "# viewing lists per day\n",
    "print len(results_agg)\n",
    "list_raw = results_agg[\"aggregations\"][\"score_ranges\"][\"buckets\"]\n",
    "print len(list_raw)\n",
    "countTweetsWithTextCat = 0\n",
    "for elem in list_raw:\n",
    "    countTweetsWithTextCat += elem[\"doc_count\"]\n",
    "    print elem[\"key\"], elem[\"doc_count\"]\n",
    "    \n",
    "print \"Total tweets with img categories scores\", countTweetsWithTextCat"
   ]
  },
  {
   "cell_type": "markdown",
   "metadata": {},
   "source": [
    "#### GET all docs from index"
   ]
  },
  {
   "cell_type": "code",
   "execution_count": 29,
   "metadata": {
    "collapsed": false,
    "scrolled": false
   },
   "outputs": [
    {
     "name": "stdout",
     "output_type": "stream",
     "text": [
      "{u'_score': 1.0, u'_type': u'tweet', u'_id': u'840200729801416704', u'_source': {u'username': u'maslarovira', u'lang': u'und', u'text_categories': [u'hummus'], u'city': None, u'text': u'#hummus #bacall\\xe0esqueixat #taronjasanguina #espinacs #yummy #brutal #espinelves #viladrau\\u2026 https://t.co/bSnFsBlnyt', u'img_categories': None, u'hashtags': [u'#hummus', u'#bacall\\xe0esqueixat', u'#taronjasanguina', u'#espinacs', u'#yummy', u'#brutal', u'#espinelves', u'#viladrau\\u2026'], u'img_flag': True, u'timestamp_ms': u'1489154438816', u'bounding_box': {u'type': u'Polygon', u'coordinates': [[[2.392246, 41.849277], [2.392246, 41.896344], [2.454142, 41.896344], [2.454142, 41.849277]]]}, u'coords': [2.41838, 41.86547], u'id_str': u'840200729801416704', u'country': u'spain', u'id': 840200729801416704, u'media_url': None, u'created_at_day': 20170310, u'created_at_datetime': u'2017-03-10T14:00:38', u'created_at_month': 20170301}, u'_index': u'trend'}\n",
      "\n",
      "{u'_score': 1.0, u'_type': u'tweet', u'_id': u'840200823909019649', u'_source': {u'username': u'guynesher123', u'lang': u'en', u'text_categories': [u'cheesecake'], u'city': u'london', u'text': u'RT @HappyLemonUK: #Win #BubbleTea &amp; #cheesecake for 4!\\nTo enter Just tell us what is it about #Spring that makes YOU #happy? \\U0001f917 https://t.co\\u2026', u'img_categories': None, u'hashtags': [u'#win', u'#bubbletea', u'#cheesecake', u'#spring', u'#happy'], u'img_flag': True, u'timestamp_ms': u'1489154461253', u'bounding_box': None, u'coords': None, u'id_str': u'840200823909019649', u'country': u'united kingdom', u'id': 840200823909019649, u'media_url': None, u'created_at_day': 20170310, u'created_at_datetime': u'2017-03-10T14:01:01', u'created_at_month': 20170301}, u'_index': u'trend'}\n",
      "\n",
      "{u'_score': 1.0, u'_type': u'tweet', u'_id': u'840200868871921665', u'_source': {u'username': u'_eelbm', u'lang': u'th', u'text_categories': [u'ice_cream'], u'city': None, u'text': u'RT @IamNaZza: \\u0e44\\u0e2d\\u0e28\\u0e23\\u0e35\\u0e21\\u0e1a\\u0e30\\u0e2b\\u0e21\\u0e35\\u0e48\\u0e23\\u0e32\\u0e21\\u0e22\\u0e2d\\u0e19 \\U0001f367\\U0001f35c#Ramyeon #Icecream \\u0e17\\u0e33\\u0e40\\u0e2b\\u0e21\\u0e37\\u0e2d\\u0e19\\u0e14\\u0e35\\u0e40\\u0e19\\u0e2d\\u0e30 \\u0e15\\u0e2d\\u0e19\\u0e19\\u0e35\\u0e49\\u0e21\\u0e35 2 \\u0e23\\u0e2a\\u0e0a\\u0e32\\u0e15\\u0e34 \\u0e2a\\u0e15\\u0e23\\u0e2d\\u0e40\\u0e1a\\u0e2d\\u0e23\\u0e4c\\u0e23\\u0e35\\u0e48\\u0e41\\u0e25\\u0e30\\u0e0a\\u0e2d\\u0e01\\u0e42\\u0e01\\u0e41\\u0e25\\u0e15 \\U0001f353\\U0001f36b\\U0001f60b \\u0e19\\u0e48\\u0e32\\u0e2d\\u0e23\\u0e48\\u0e2d\\u0e22\\u0e46\\u2026 ', u'img_categories': None, u'hashtags': [u'#icecream'], u'img_flag': True, u'timestamp_ms': u'1489154471973', u'bounding_box': None, u'coords': None, u'id_str': u'840200868871921665', u'country': u'thailand', u'id': 840200868871921665, u'media_url': None, u'created_at_day': 20170310, u'created_at_datetime': u'2017-03-10T14:01:11', u'created_at_month': 20170301}, u'_index': u'trend'}\n",
      "\n",
      "{u'_score': 1.0, u'_type': u'tweet', u'_id': u'840201409094123521', u'_source': {u'username': u'SACHINTAK55', u'lang': u'en', u'text_categories': [u'ice_cream'], u'city': None, u'text': u'@Rssamul  #next #metro#city #Apsara #icecream #pune https://t.co/jzYGlHVw0U', u'img_categories': [], u'hashtags': [u'#next', u'#metro#city', u'#apsara', u'#icecream', u'#pune'], u'img_flag': True, u'timestamp_ms': u'1489154600772', u'bounding_box': {u'type': u'Polygon', u'coordinates': [[[73.803107, 18.457165], [73.803107, 18.584363], [73.965657, 18.584363], [73.965657, 18.457165]]]}, u'coords': None, u'id_str': u'840201409094123521', u'country': u'india', u'id': 840201409094123521, u'media_url': u'http://pbs.twimg.com/media/C6j-s3lWsAEi_Xi.jpg', u'created_at_day': 20170310, u'created_at_datetime': u'2017-03-10T14:03:20', u'created_at_month': 20170301}, u'_index': u'trend'}\n",
      "\n",
      "{u'_score': 1.0, u'_type': u'tweet', u'_id': u'840201478308581376', u'_source': {u'username': u'davincenzoresto', u'lang': u'und', u'text_categories': [u'risotto'], u'city': u'florian\\xf3polis', u'text': u'#pratododia #davincenzorestaurante #trindadeshopping #ufsc #italianfood #risotto #almo\\xe7o https://t.co/oMP30v2j1F', u'img_categories': None, u'hashtags': [u'#pratododia', u'#davincenzorestaurante', u'#trindadeshopping', u'#ufsc', u'#italianfood', u'#risotto', u'#almo\\xe7o'], u'img_flag': True, u'timestamp_ms': u'1489154617274', u'bounding_box': None, u'coords': None, u'id_str': u'840201478308581376', u'country': u'brazil', u'id': 840201478308581376, u'media_url': None, u'created_at_day': 20170310, u'created_at_datetime': u'2017-03-10T14:03:37', u'created_at_month': 20170301}, u'_index': u'trend'}\n",
      "\n",
      "{u'_score': 1.0, u'_type': u'tweet', u'_id': u'840201587414949889', u'_source': {u'username': u'EJaarinen', u'lang': u'fi', u'text_categories': [u'sushi'], u'city': u'espoo', u'text': u'Perjantai \\U0001f60a Sushilounas - suosin meid\\xe4n paikallista Teid\\xe4n Sushia! #vallikallio #espoo #lepp\\xe4vaara #sushi #parasta\\u2026 https://t.co/pByvygbKJO', u'img_categories': None, u'hashtags': [u'#vallikallio', u'#espoo', u'#lepp\\xe4vaara', u'#sushi', u'#parasta\\u2026'], u'img_flag': True, u'timestamp_ms': u'1489154643287', u'bounding_box': None, u'coords': None, u'id_str': u'840201587414949889', u'country': u'finland', u'id': 840201587414949889, u'media_url': None, u'created_at_day': 20170310, u'created_at_datetime': u'2017-03-10T14:04:03', u'created_at_month': 20170301}, u'_index': u'trend'}\n",
      "\n",
      "{u'_score': 1.0, u'_type': u'tweet', u'_id': u'840201612694028289', u'_source': {u'username': u'PerutGendutID', u'lang': u'en', u'text_categories': [u'sushi'], u'city': None, u'text': u'The Art Of Sushi Making https://t.co/sGBDp6h4e1 #Food #Kuliner #News #Video #Japan #Sushi https://t.co/WX6DkJF5HC', u'img_categories': [{u'score': 13.0, u'label': u'sushi'}], u'hashtags': [u'#food', u'#kuliner', u'#news', u'#video', u'#japan', u'#sushi'], u'img_flag': True, u'timestamp_ms': u'1489154649314', u'bounding_box': None, u'coords': None, u'id_str': u'840201612694028289', u'country': u'indonesia', u'id': 840201612694028289, u'media_url': u'http://pbs.twimg.com/media/C6j-6eqWwAItAte.jpg', u'created_at_day': 20170310, u'created_at_datetime': u'2017-03-10T14:04:09', u'created_at_month': 20170301}, u'_index': u'trend'}\n",
      "\n",
      "{u'_score': 1.0, u'_type': u'tweet', u'_id': u'840201734198833154', u'_source': {u'username': u'mommalewsblog', u'lang': u'en', u'text_categories': [u'pizza'], u'city': u'princeton', u'text': u'RT @CoffeeWithUs3: Family Pizza Night #Recipes https://t.co/yw5FMVpCtY #dinner', u'img_categories': None, u'hashtags': [u'#recipes', u'#dinner'], u'img_flag': True, u'timestamp_ms': u'1489154678283', u'bounding_box': None, u'coords': None, u'id_str': u'840201734198833154', u'country': u'united states', u'id': 840201734198833154, u'media_url': None, u'created_at_day': 20170310, u'created_at_datetime': u'2017-03-10T14:04:38', u'created_at_month': 20170301}, u'_index': u'trend'}\n",
      "\n",
      "{u'_score': 1.0, u'_type': u'tweet', u'_id': u'840201935521218561', u'_source': {u'username': u'monstruorecetas', u'lang': u'es', u'text_categories': [u'hummus'], u'city': None, u'text': u'Hummus de garbanzos --&gt; https://t.co/WGa8YKF9oI #hummus #garbanzos #receta #aperitivo', u'img_categories': None, u'hashtags': [u'#hummus', u'#garbanzos', u'#receta', u'#aperitivo'], u'img_flag': True, u'timestamp_ms': u'1489154726282', u'bounding_box': None, u'coords': None, u'id_str': u'840201935521218561', u'country': u'spain', u'id': 840201935521218561, u'media_url': None, u'created_at_day': 20170310, u'created_at_datetime': u'2017-03-10T14:05:26', u'created_at_month': 20170301}, u'_index': u'trend'}\n",
      "\n",
      "{u'_score': 1.0, u'_type': u'tweet', u'_id': u'840203240427925505', u'_source': {u'username': u'geekazine', u'lang': u'en', u'text_categories': [u'tacos'], u'city': u'madison', u'text': u'I think I got my taco fix for the day... #sxsw #austin #tacos https://t.co/kmoaeIhvdK', u'img_categories': [], u'hashtags': [u'#sxsw', u'#austin', u'#tacos'], u'img_flag': True, u'timestamp_ms': u'1489155037396', u'bounding_box': None, u'coords': None, u'id_str': u'840203240427925505', u'country': u'united states', u'id': 840203240427925505, u'media_url': u'http://pbs.twimg.com/media/C6kAZL4WsAEO3uh.jpg', u'created_at_day': 20170310, u'created_at_datetime': u'2017-03-10T14:10:37', u'created_at_month': 20170301}, u'_index': u'trend'}\n",
      "\n"
     ]
    }
   ],
   "source": [
    "res = es.search(index=\"trend\", doc_type='tweet', size=10, body={\"query\": {\"match_all\": {}}})\n",
    "# [x['_source'] for x in res['hits']['hits']]\n",
    "for r in res['hits']['hits'][:20]:\n",
    "    print r\n",
    "    print "
   ]
  },
  {
   "cell_type": "markdown",
   "metadata": {},
   "source": [
    "#### GET specific tweets"
   ]
  },
  {
   "cell_type": "code",
   "execution_count": null,
   "metadata": {
    "collapsed": false
   },
   "outputs": [],
   "source": [
    "es.get(index='trend', doc_type='tweet', id=880404048834416644)"
   ]
  },
  {
   "cell_type": "code",
   "execution_count": 69,
   "metadata": {
    "collapsed": false,
    "scrolled": false
   },
   "outputs": [
    {
     "name": "stdout",
     "output_type": "stream",
     "text": [
      "11168\n",
      "{u'_score': 1.0, u'_type': u'tweet', u'_id': u'879852557551755264', u'_source': {u'username': u'glavportal', u'lang': u'en', u'text_categories': [], u'city': u'minneapolis', u'text': u'Get the recipe Grilled Hawaiian Barbecue Chicken Best to Eat!...\\n#Dinner\\nhttps://t.co/GsRrRotqrk https://t.co/U6xtAODcd2', u'img_categories': [{u'score': 6.0, u'label': u'paella'}], u'hashtags': [u'#dinner'], u'img_flag': True, u'timestamp_ms': u'1498608171247', u'bounding_box': None, u'coords': None, u'id_str': u'879852557551755264', u'country': u'united states', u'id': 879852557551755264, u'media_url': u'http://pbs.twimg.com/media/DDXdPNMXsAExIDg.jpg', u'created_at_day': 20170628, u'created_at_datetime': u'2017-06-28T00:02:51', u'created_at_month': 20170601}, u'_index': u'trend'}\n",
      "\n",
      "{u'_score': 1.0, u'_type': u'tweet', u'_id': u'879852211014168576', u'_source': {u'username': u'Monaca6', u'lang': u'en', u'text_categories': [u'risotto'], u'city': None, u'text': u'RT @ericgarland: Roger Stone: Lawyered up, and ready to fight with...BWAHAHA...sorry...\\n\\nBWAHAHHAA PODESTA #risotto https://t.co/Zf5ykqUPtt', u'img_categories': None, u'hashtags': [u'#risotto'], u'img_flag': True, u'timestamp_ms': u'1498608088626', u'bounding_box': None, u'coords': None, u'id_str': u'879852211014168576', u'country': u'colombia', u'id': 879852211014168576, u'media_url': None, u'created_at_day': 20170628, u'created_at_datetime': u'2017-06-28T00:01:28', u'created_at_month': 20170601}, u'_index': u'trend'}\n",
      "\n",
      "{u'_score': 1.0, u'_type': u'tweet', u'_id': u'879852227434762240', u'_source': {u'username': u'Glenn3094', u'lang': u'en', u'text_categories': [u'risotto'], u'city': u'seattle', u'text': u'RT @ericgarland: Roger Stone: Lawyered up, and ready to fight with...BWAHAHA...sorry...\\n\\nBWAHAHHAA PODESTA #risotto https://t.co/Zf5ykqUPtt', u'img_categories': None, u'hashtags': [u'#risotto'], u'img_flag': True, u'timestamp_ms': u'1498608092541', u'bounding_box': None, u'coords': None, u'id_str': u'879852227434762240', u'country': u'united states', u'id': 879852227434762240, u'media_url': None, u'created_at_day': 20170628, u'created_at_datetime': u'2017-06-28T00:01:32', u'created_at_month': 20170601}, u'_index': u'trend'}\n",
      "\n",
      "{u'_score': 1.0, u'_type': u'tweet', u'_id': u'879852229179715584', u'_source': {u'username': u'yolopido', u'lang': u'es', u'text_categories': [u'pizza'], u'city': None, u'text': u'\\xbfQu\\xe9 sientes cuando la #pizza \\xe9sta muy caliente pero mueres por comer? #Maracaibo #foodporn https://t.co/XHdvsVcQmy https://t.co/7R2b0fzbxT', u'img_categories': [], u'hashtags': [u'#pizza', u'#maracaibo', u'#foodporn'], u'img_flag': True, u'timestamp_ms': u'1498608092957', u'bounding_box': None, u'coords': None, u'id_str': u'879852229179715584', u'country': u'venezuela', u'id': 879852229179715584, u'media_url': u'http://pbs.twimg.com/media/DDXc8EoWsAEriso.jpg', u'created_at_day': 20170628, u'created_at_datetime': u'2017-06-28T00:01:32', u'created_at_month': 20170601}, u'_index': u'trend'}\n",
      "\n",
      "{u'_score': 1.0, u'_type': u'tweet', u'_id': u'879852659259301888', u'_source': {u'username': u'MODPizzaJobs', u'lang': u'en', u'text_categories': [u'pizza'], u'city': u'bellevue', u'text': u\"We're #hiring! Click to apply: MOD Pizza is Hiring- Shift Leaders Cooks and Cashiers! - https://t.co/dOdZ8L3nkO #pizza #custserv #Job\", u'img_categories': None, u'hashtags': [u'#hiring', u'#pizza', u'#custserv', u'#job'], u'img_flag': True, u'timestamp_ms': u'1498608195496', u'bounding_box': None, u'coords': None, u'id_str': u'879852659259301888', u'country': u'united states', u'id': 879852659259301888, u'media_url': None, u'created_at_day': 20170628, u'created_at_datetime': u'2017-06-28T00:03:15', u'created_at_month': 20170601}, u'_index': u'trend'}\n",
      "\n",
      "{u'_score': 1.0, u'_type': u'tweet', u'_id': u'879851927420514304', u'_source': {u'username': u'XoximilcoCancun', u'lang': u'es', u'text_categories': [u'tacos'], u'city': None, u'text': u\"La mera verda' compadres. #Tacos https://t.co/F2HAIzqTZP\", u'img_categories': [], u'hashtags': [u'#tacos'], u'img_flag': True, u'timestamp_ms': u'1498608021012', u'bounding_box': None, u'coords': None, u'id_str': u'879851927420514304', u'country': u'mexico', u'id': 879851927420514304, u'media_url': u'http://pbs.twimg.com/media/DDXcqa6XkAAypMh.jpg', u'created_at_day': 20170628, u'created_at_datetime': u'2017-06-28T00:00:21', u'created_at_month': 20170601}, u'_index': u'trend'}\n",
      "\n",
      "{u'_score': 1.0, u'_type': u'tweet', u'_id': u'879852340559437824', u'_source': {u'username': u'SkolBros', u'lang': u'en', u'text_categories': [u'pizza'], u'city': u'minneapolis', u'text': u\"I figured I'd create a separate Twitter handle for my pizza reviews. Give it a follow @CheesePizzaLife  \\U0001f355 https://t.co/UXxdz7cQwN\", u'img_categories': None, u'hashtags': [], u'img_flag': True, u'timestamp_ms': u'1498608119512', u'bounding_box': None, u'coords': None, u'id_str': u'879852340559437824', u'country': u'united states', u'id': 879852340559437824, u'media_url': None, u'created_at_day': 20170628, u'created_at_datetime': u'2017-06-28T00:01:59', u'created_at_month': 20170601}, u'_index': u'trend'}\n",
      "\n",
      "{u'_score': 1.0, u'_type': u'tweet', u'_id': u'879858148386983936', u'_source': {u'username': u'JAMRehoboth', u'lang': u'en', u'text_categories': [], u'city': u'delaware', u'text': u'Pan Seared #Salmon Cakes #Tuesday #Dinner https://t.co/Gmbe9FRsVv', u'img_categories': [{u'score': 13.0, u'label': u'crab_cakes'}], u'hashtags': [u'#salmon', u'#tuesday', u'#dinner'], u'img_flag': True, u'timestamp_ms': u'1498609504206', u'bounding_box': None, u'coords': None, u'id_str': u'879858148386983936', u'country': u'united states', u'id': 879858148386983936, u'media_url': u'http://pbs.twimg.com/media/DDXiUj2XkAAsLuu.jpg', u'created_at_day': 20170628, u'created_at_datetime': u'2017-06-28T00:25:04', u'created_at_month': 20170601}, u'_index': u'trend'}\n",
      "\n",
      "{u'_score': 1.0, u'_type': u'tweet', u'_id': u'879858205618319360', u'_source': {u'username': u'linksteroh', u'lang': u'en', u'text_categories': [u'risotto'], u'city': u'new york city', u'text': u'RT @ericgarland: Roger Stone: Lawyered up, and ready to fight with...BWAHAHA...sorry...\\n\\nBWAHAHHAA PODESTA #risotto https://t.co/Zf5ykqUPtt', u'img_categories': None, u'hashtags': [u'#risotto'], u'img_flag': True, u'timestamp_ms': u'1498609517851', u'bounding_box': None, u'coords': None, u'id_str': u'879858205618319360', u'country': u'united states', u'id': 879858205618319360, u'media_url': None, u'created_at_day': 20170628, u'created_at_datetime': u'2017-06-28T00:25:17', u'created_at_month': 20170601}, u'_index': u'trend'}\n",
      "\n",
      "{u'_score': 1.0, u'_type': u'tweet', u'_id': u'879858207086174209', u'_source': {u'username': u'_AllOverHealthy', u'lang': u'en', u'text_categories': [u'sushi'], u'city': u'new york city', u'text': u'Carp #Sushi | https://t.co/jlTjEQGRgO #Japanese #Seafood #Japanese_Recipes #Sushi_Recipe #alloverhealthy', u'img_categories': None, u'hashtags': [u'#sushi', u'#japanese', u'#seafood', u'#japanese_recipes', u'#sushi_recipe', u'#alloverhealthy'], u'img_flag': True, u'timestamp_ms': u'1498609518201', u'bounding_box': None, u'coords': None, u'id_str': u'879858207086174209', u'country': u'united states', u'id': 879858207086174209, u'media_url': None, u'created_at_day': 20170628, u'created_at_datetime': u'2017-06-28T00:25:18', u'created_at_month': 20170601}, u'_index': u'trend'}\n",
      "\n",
      "{u'_score': 1.0, u'_type': u'tweet', u'_id': u'879857002855489536', u'_source': {u'username': u'dinecrg', u'lang': u'en', u'text_categories': [u'tacos'], u'city': u'san diego', u'text': u\"Talkin' #tacos with KUSI News &amp; San Diego Food Bank this morning! \\U0001f32e #dinecrg #tacoslibertad https://t.co/0RH6bA3r0L\", u'img_categories': [], u'hashtags': [u'#tacos', u'#dinecrg', u'#tacoslibertad'], u'img_flag': True, u'timestamp_ms': u'1498609231090', u'bounding_box': None, u'coords': None, u'id_str': u'879857002855489536', u'country': u'united states', u'id': 879857002855489536, u'media_url': u'http://pbs.twimg.com/media/DDXhR6IXcAAeSGD.jpg', u'created_at_day': 20170628, u'created_at_datetime': u'2017-06-28T00:20:31', u'created_at_month': 20170601}, u'_index': u'trend'}\n",
      "\n",
      "{u'_score': 1.0, u'_type': u'tweet', u'_id': u'879857127413731329', u'_source': {u'username': u'lindaturner997', u'lang': u'en', u'text_categories': [u'pizza'], u'city': u'glasgow', u'text': u'RT @Hyperec_HRS: #Competition #giveaway #WIN a \\xa320 Pizza Express Gift Card! To be in with a chance, simply RT and follow\\u2026 ', u'img_categories': None, u'hashtags': [u'#competition', u'#giveaway', u'#win'], u'img_flag': True, u'timestamp_ms': u'1498609260787', u'bounding_box': None, u'coords': None, u'id_str': u'879857127413731329', u'country': u'united kingdom', u'id': 879857127413731329, u'media_url': None, u'created_at_day': 20170628, u'created_at_datetime': u'2017-06-28T00:21:00', u'created_at_month': 20170601}, u'_index': u'trend'}\n",
      "\n",
      "{u'_score': 1.0, u'_type': u'tweet', u'_id': u'879858975361183748', u'_source': {u'username': u'TheDiningDolls', u'lang': u'it', u'text_categories': [u'sashimi'], u'city': u'los angeles', u'text': u'Hamachi \\u2022 Nori, Avocado, Bontio, Cherry Tomato \\u2022 A classic @otiumla \\n#Otium #DTLA #hamachi #sashimi #foodporn #foo\\u2026\\u2026 https://t.co/n3tqbdSUep', u'img_categories': None, u'hashtags': [u'#otium', u'#dtla', u'#hamachi', u'#sashimi', u'#foodporn', u'#foo\\u2026\\u2026'], u'img_flag': True, u'timestamp_ms': u'1498609701372', u'bounding_box': None, u'coords': None, u'id_str': u'879858975361183748', u'country': u'united states', u'id': 879858975361183748, u'media_url': None, u'created_at_day': 20170628, u'created_at_datetime': u'2017-06-28T00:28:21', u'created_at_month': 20170601}, u'_index': u'trend'}\n",
      "\n",
      "{u'_score': 1.0, u'_type': u'tweet', u'_id': u'879858998866046976', u'_source': {u'username': u'nae1869', u'lang': u'en', u'text_categories': [u'risotto'], u'city': None, u'text': u'RT @ericgarland: Roger Stone: Lawyered up, and ready to fight with...BWAHAHA...sorry...\\n\\nBWAHAHHAA PODESTA #risotto https://t.co/Zf5ykqUPtt', u'img_categories': None, u'hashtags': [u'#risotto'], u'img_flag': True, u'timestamp_ms': u'1498609706976', u'bounding_box': None, u'coords': None, u'id_str': u'879858998866046976', u'country': u'united states', u'id': 879858998866046976, u'media_url': None, u'created_at_day': 20170628, u'created_at_datetime': u'2017-06-28T00:28:26', u'created_at_month': 20170601}, u'_index': u'trend'}\n",
      "\n",
      "{u'_score': 1.0, u'_type': u'tweet', u'_id': u'879858519876481024', u'_source': {u'username': u'ohellokimi', u'lang': u'en', u'text_categories': [u'steak'], u'city': None, u'text': u'Steak with mushrooms and onions #quick #dinner #getinmybelly https://t.co/JWVuev4Nyc', u'img_categories': None, u'hashtags': [u'#quick', u'#dinner', u'#getinmybelly'], u'img_flag': True, u'timestamp_ms': u'1498609592776', u'bounding_box': None, u'coords': None, u'id_str': u'879858519876481024', u'country': u'united states', u'id': 879858519876481024, u'media_url': None, u'created_at_day': 20170628, u'created_at_datetime': u'2017-06-28T00:26:32', u'created_at_month': 20170601}, u'_index': u'trend'}\n",
      "\n",
      "{u'_score': 1.0, u'_type': u'tweet', u'_id': u'879858528869134336', u'_source': {u'username': u'playboic1', u'lang': u'en', u'text_categories': [u'falafel'], u'city': u'los angeles', u'text': u'~ #castrooil is doing wonders and #fasting process is good .. BUT I miss #falafel DAMMIT', u'img_categories': None, u'hashtags': [u'#castrooil', u'#fasting', u'#falafel'], u'img_flag': True, u'timestamp_ms': u'1498609594920', u'bounding_box': None, u'coords': None, u'id_str': u'879858528869134336', u'country': u'united states', u'id': 879858528869134336, u'media_url': None, u'created_at_day': 20170628, u'created_at_datetime': u'2017-06-28T00:26:34', u'created_at_month': 20170601}, u'_index': u'trend'}\n",
      "\n",
      "{u'_score': 1.0, u'_type': u'tweet', u'_id': u'879857133197697024', u'_source': {u'username': u'EasyRecipesrss', u'lang': u'en', u'text_categories': [], u'city': None, u'text': u'Please RT #recipes #food #cooking #delicious #cook #recipe How To Buy Citrus https://t.co/oBILRXXWUV https://t.co/H47nwMLx7C', u'img_categories': [{u'score': 5.0, u'label': u'donuts'}, {u'score': 5.0, u'label': u'macarons'}], u'hashtags': [u'#recipes', u'#food', u'#cooking', u'#delicious', u'#cook', u'#recipe'], u'img_flag': True, u'timestamp_ms': u'1498609262166', u'bounding_box': None, u'coords': None, u'id_str': u'879857133197697024', u'country': u'united kingdom', u'id': 879857133197697024, u'media_url': u'http://pbs.twimg.com/media/DDXhZeCXUAAkbFr.jpg', u'created_at_day': 20170628, u'created_at_datetime': u'2017-06-28T00:21:02', u'created_at_month': 20170601}, u'_index': u'trend'}\n",
      "\n",
      "{u'_score': 1.0, u'_type': u'tweet', u'_id': u'879857635545292800', u'_source': {u'username': u'connor122506', u'lang': u'en', u'text_categories': [u'pancakes'], u'city': u'virginia', u'text': u'RT @DliciousRcipss: Please RT!! #recipes #food #cooking #delicious #cook #recipe (F*ck Forks) Poppable Pancakes | The...\\u2026 ', u'img_categories': None, u'hashtags': [u'#recipes', u'#food', u'#cooking', u'#delicious', u'#cook', u'#recipe'], u'img_flag': True, u'timestamp_ms': u'1498609381935', u'bounding_box': None, u'coords': None, u'id_str': u'879857635545292800', u'country': u'south africa', u'id': 879857635545292800, u'media_url': None, u'created_at_day': 20170628, u'created_at_datetime': u'2017-06-28T00:23:01', u'created_at_month': 20170601}, u'_index': u'trend'}\n",
      "\n",
      "{u'_score': 1.0, u'_type': u'tweet', u'_id': u'879858656610791427', u'_source': {u'username': u'WallacePeets', u'lang': u'en', u'text_categories': [u'risotto'], u'city': u'yeadon', u'text': u'RT @ericgarland: Roger Stone: Lawyered up, and ready to fight with...BWAHAHA...sorry...\\n\\nBWAHAHHAA PODESTA #risotto https://t.co/Zf5ykqUPtt', u'img_categories': None, u'hashtags': [u'#risotto'], u'img_flag': True, u'timestamp_ms': u'1498609625376', u'bounding_box': None, u'coords': None, u'id_str': u'879858656610791427', u'country': u'united kingdom', u'id': 879858656610791427, u'media_url': None, u'created_at_day': 20170628, u'created_at_datetime': u'2017-06-28T00:27:05', u'created_at_month': 20170601}, u'_index': u'trend'}\n",
      "\n",
      "{u'_score': 1.0, u'_type': u'tweet', u'_id': u'879858625669451776', u'_source': {u'username': u'sooze555', u'lang': u'en', u'text_categories': [u'risotto'], u'city': u'ontario', u'text': u'RT @ericgarland: Roger Stone: Lawyered up, and ready to fight with...BWAHAHA...sorry...\\n\\nBWAHAHHAA PODESTA #risotto https://t.co/Zf5ykqUPtt', u'img_categories': None, u'hashtags': [u'#risotto'], u'img_flag': True, u'timestamp_ms': u'1498609617999', u'bounding_box': None, u'coords': None, u'id_str': u'879858625669451776', u'country': u'united states', u'id': 879858625669451776, u'media_url': None, u'created_at_day': 20170628, u'created_at_datetime': u'2017-06-28T00:26:57', u'created_at_month': 20170601}, u'_index': u'trend'}\n",
      "\n"
     ]
    }
   ],
   "source": [
    "results = es.search(index='trend', doc_type='tweet', size=100000, body={\n",
    "  'query': {\n",
    "    'match': {\n",
    "#       'text_categories': 'hot_dog',\n",
    "      'created_at_day': 20170628,\n",
    "#         'sort': [\n",
    "#         {'committed_date': {'order': 'desc'}}\n",
    "#       ],\n",
    "     }\n",
    "  }\n",
    "})\n",
    "\n",
    "# print results\n",
    "print len(results[\"hits\"][\"hits\"])\n",
    "\n",
    "for r in results['hits']['hits'][:20]:\n",
    "    print r\n",
    "    print \n",
    "    \n",
    "### we have 3 cases! when img_cat is {None, [], [list of categories with core and labe]}\n",
    "### I believe the first case happens when we reindexed and used the classifier \n",
    "# but there was no image\n",
    "### the second case was when we did batch processing and there was no img category,\n",
    "# so we put an empty list. this record was not updated with the reindexing ... don't know\n",
    "# why"
   ]
  },
  {
   "cell_type": "markdown",
   "metadata": {},
   "source": [
    "#### TEST image classifier"
   ]
  },
  {
   "cell_type": "code",
   "execution_count": 65,
   "metadata": {
    "collapsed": false
   },
   "outputs": [
    {
     "name": "stdout",
     "output_type": "stream",
     "text": [
      "I have an unnatural love for a #hotdog .\n",
      "@focalmark #liveauthentic #foodbeast #eeeeeats #eatfamous #feedfeed #dail…… https://t.co/JxB2QIdi6V\n",
      "None\n",
      "<built-in method items of dict object at 0x7f990ca5ca28>\n"
     ]
    },
    {
     "ename": "AttributeError",
     "evalue": "'dict' object has no attribute 'text'",
     "output_type": "error",
     "traceback": [
      "\u001b[0;31m---------------------------------------------------------------------------\u001b[0m",
      "\u001b[0;31mAttributeError\u001b[0m                            Traceback (most recent call last)",
      "\u001b[0;32m<ipython-input-65-e60184274c01>\u001b[0m in \u001b[0;36m<module>\u001b[0;34m()\u001b[0m\n\u001b[1;32m     11\u001b[0m     \u001b[0;32mprint\u001b[0m \u001b[0mimg_url\u001b[0m\u001b[0;34m\u001b[0m\u001b[0m\n\u001b[1;32m     12\u001b[0m     \u001b[0;32mprint\u001b[0m \u001b[0mres\u001b[0m\u001b[0;34m.\u001b[0m\u001b[0mitems\u001b[0m\u001b[0;34m\u001b[0m\u001b[0m\n\u001b[0;32m---> 13\u001b[0;31m     \u001b[0;32mprint\u001b[0m \u001b[0mjson\u001b[0m\u001b[0;34m.\u001b[0m\u001b[0mloads\u001b[0m\u001b[0;34m(\u001b[0m\u001b[0mres\u001b[0m\u001b[0;34m.\u001b[0m\u001b[0mtext\u001b[0m\u001b[0;34m)\u001b[0m\u001b[0;34m[\u001b[0m\u001b[0;34m\"guessed\"\u001b[0m\u001b[0;34m]\u001b[0m\u001b[0;34m\u001b[0m\u001b[0m\n\u001b[0m\u001b[1;32m     14\u001b[0m     \u001b[0;32mprint\u001b[0m \u001b[0mget_image_category\u001b[0m\u001b[0;34m(\u001b[0m\u001b[0mimg_url\u001b[0m\u001b[0;34m)\u001b[0m\u001b[0;34m\u001b[0m\u001b[0m\n\u001b[1;32m     15\u001b[0m     \u001b[0;32mprint\u001b[0m\u001b[0;34m\u001b[0m\u001b[0m\n",
      "\u001b[0;31mAttributeError\u001b[0m: 'dict' object has no attribute 'text'"
     ]
    }
   ],
   "source": [
    "# test some of the urls from the indexed tweets\n",
    "# by reclassifying it with the IMG classifier hosted on our machine\n",
    "import json\n",
    "request_string = 'http://test.tripbuilder.isti.cnr.it:8080/FoodRecognition/services/IRServices/recognizeByURL?imgURL='\n",
    "for tweet in results[\"hits\"][\"hits\"][:10]:\n",
    "    img_url = tweet[\"_source\"][\"media_url\"]\n",
    "    if img_url:\n",
    "        res = requests.get(request_string + img_url)\n",
    "\n",
    "    print tweet[\"_source\"][\"text\"]\n",
    "    print img_url\n",
    "    print res.items\n",
    "    print json.loads(res.text)[\"guessed\"]\n",
    "    print get_image_category(img_url)\n",
    "    print \n",
    "    print"
   ]
  },
  {
   "cell_type": "code",
   "execution_count": null,
   "metadata": {
    "collapsed": false
   },
   "outputs": [],
   "source": [
    "# import requests\n",
    "# import json\n",
    "\n",
    "# response = requests.get('http://test.tripbuilder.isti.cnr.it:5000/sync')\n",
    "# json_data = json.loads(response.text)\n",
    "# json_data"
   ]
  },
  {
   "cell_type": "markdown",
   "metadata": {
    "collapsed": true
   },
   "source": [
    "### Index from file"
   ]
  },
  {
   "cell_type": "code",
   "execution_count": null,
   "metadata": {
    "collapsed": false
   },
   "outputs": [],
   "source": [
    "import json\n",
    "import os\n",
    "import sys\n",
    "import time\n",
    "os.chdir(\"/home/foodmap/food101/\")\n",
    "sys.path.append(os.getcwd())\n",
    "from elasticsearch import Elasticsearch, RequestError\n",
    "from processing.preprocess_tweet import process_tweet\n",
    "from processing.twitter.Tweet import Tweet"
   ]
  },
  {
   "cell_type": "code",
   "execution_count": null,
   "metadata": {
    "collapsed": false
   },
   "outputs": [],
   "source": [
    "inputFile=\"/home/foodmap/data/food-tweets/food-tweets-2017-03-10.json.gz\"\n",
    "indexName=\"trend\"\n",
    "\n",
    "tweetsAsDict = Tweet.getTweetAsDictionary(inputFile)\n",
    "i = 0\n",
    "numIndex = 0\n",
    "for tweet in tweetsAsDict:\n",
    "    i += 1\n",
    "    if i % 10 == 0:\n",
    "        print \"Processed tweets: \", i\n",
    "        print \"Indexed tweets: \", numIndex\n",
    "\n",
    "    new_tweet = process_tweet(tweet, forStream=False)\n",
    "    if new_tweet is None:\n",
    "        continue\n",
    "\n",
    "    try:\n",
    "        if i > 1480:\n",
    "            print new_tweet\n",
    "        # added request_timeout to avoid elasticsearch.exceptions.ConnectionTimeout\n",
    "        es.index(index=indexName, doc_type='tweet', id=new_tweet[\"id\"], body=new_tweet)\n",
    "        numIndex += 1\n",
    "        # print \"Indexed tweet: \", new_tweet[\"id\"]\n",
    "    except RequestError as e:\n",
    "        print \"Couldn't index tweet id: \", new_tweet[\"id\"]\n",
    "        print e.status_code, e.message\n",
    "        time.sleep(60)\n",
    "\n",
    "print \"Processed tweets: \", i\n",
    "print \"Indexed tweets: \", numIndex"
   ]
  }
 ],
 "metadata": {
  "kernelspec": {
   "display_name": "Python 2",
   "language": "python",
   "name": "python2"
  },
  "language_info": {
   "codemirror_mode": {
    "name": "ipython",
    "version": 2
   },
   "file_extension": ".py",
   "mimetype": "text/x-python",
   "name": "python",
   "nbconvert_exporter": "python",
   "pygments_lexer": "ipython2",
   "version": "2.7.13"
  }
 },
 "nbformat": 4,
 "nbformat_minor": 0
}
