{
 "cells": [
  {
   "cell_type": "code",
   "execution_count": 1,
   "metadata": {
    "collapsed": false
   },
   "outputs": [
    {
     "name": "stdout",
     "output_type": "stream",
     "text": [
      "{\n",
      "  \"name\" : \"0PsTttc\",\n",
      "  \"cluster_name\" : \"foodmap-cluster\",\n",
      "  \"cluster_uuid\" : \"2YIbFkvuRqaPWhEjuEYnwA\",\n",
      "  \"version\" : {\n",
      "    \"number\" : \"5.4.0\",\n",
      "    \"build_hash\" : \"780f8c4\",\n",
      "    \"build_date\" : \"2017-04-28T17:43:27.229Z\",\n",
      "    \"build_snapshot\" : false,\n",
      "    \"lucene_version\" : \"6.5.0\"\n",
      "  },\n",
      "  \"tagline\" : \"You Know, for Search\"\n",
      "}\n",
      "\n"
     ]
    }
   ],
   "source": [
    "import requests\n",
    "res = requests.get('http://foodmap.isti.cnr.it:9200', auth=('elastic', 'changeme'))\n",
    "print(res.content)"
   ]
  },
  {
   "cell_type": "markdown",
   "metadata": {},
   "source": [
    "### ES Auth"
   ]
  },
  {
   "cell_type": "code",
   "execution_count": 2,
   "metadata": {
    "collapsed": false
   },
   "outputs": [
    {
     "name": "stdout",
     "output_type": "stream",
     "text": [
      "<Elasticsearch([{u'host': u'foodmap.isti.cnr.it'}])>\n"
     ]
    }
   ],
   "source": [
    "from elasticsearch import Elasticsearch\n",
    "es = Elasticsearch(['foodmap.isti.cnr.it'], http_auth=('elastic', 'changeme'), port=9200)\n",
    "print es"
   ]
  },
  {
   "cell_type": "code",
   "execution_count": 22,
   "metadata": {
    "collapsed": false
   },
   "outputs": [
    {
     "name": "stdout",
     "output_type": "stream",
     "text": [
      "28203\n",
      "{u'_score': 1.0, u'_type': u'count', u'_id': u'1115', u'_source': {u'category': u'breakfast burrito', u'date': 20170315, u'count': 35, u'country': u'united states'}, u'_index': u'agg'}\n",
      "{u'_score': 1.0, u'_type': u'count', u'_id': u'1123', u'_source': {u'category': u'breakfast burrito', u'date': 20170313, u'count': 26, u'country': u'united states'}, u'_index': u'agg'}\n",
      "{u'_score': 1.0, u'_type': u'count', u'_id': u'1124', u'_source': {u'category': u'breakfast burrito', u'date': 20170324, u'count': 25, u'country': u'united states'}, u'_index': u'agg'}\n",
      "{u'_score': 1.0, u'_type': u'count', u'_id': u'1128', u'_source': {u'category': u'breakfast burrito', u'date': 20170320, u'count': 22, u'country': u'united states'}, u'_index': u'agg'}\n",
      "{u'_score': 1.0, u'_type': u'count', u'_id': u'1131', u'_source': {u'category': u'breakfast burrito', u'date': 20170317, u'count': 20, u'country': u'united states'}, u'_index': u'agg'}\n",
      "{u'_score': 1.0, u'_type': u'count', u'_id': u'1136', u'_source': {u'category': u'breakfast burrito', u'date': 20170324, u'count': 10, u'country': u'united kingdom'}, u'_index': u'agg'}\n",
      "{u'_score': 1.0, u'_type': u'count', u'_id': u'1145', u'_source': {u'category': u'breakfast burrito', u'date': 20170316, u'count': 4, u'country': u'united kingdom'}, u'_index': u'agg'}\n",
      "{u'_score': 1.0, u'_type': u'count', u'_id': u'1146', u'_source': {u'category': u'breakfast burrito', u'date': 20170321, u'count': 4, u'country': u'united kingdom'}, u'_index': u'agg'}\n",
      "{u'_score': 1.0, u'_type': u'count', u'_id': u'1147', u'_source': {u'category': u'breakfast burrito', u'date': 20170325, u'count': 4, u'country': u'united kingdom'}, u'_index': u'agg'}\n",
      "{u'_score': 1.0, u'_type': u'count', u'_id': u'1156', u'_source': {u'category': u'breakfast burrito', u'date': 20170322, u'count': 1, u'country': u'united kingdom'}, u'_index': u'agg'}\n"
     ]
    }
   ],
   "source": [
    "result = es.search(index='agg', doc_type='count', size=1000000, body={\n",
    "    'query': {\n",
    "        \"match_all\" : {}\n",
    "    }\n",
    "})\n",
    "\n",
    "lst = [x for x in result['hits']['hits']]\n",
    "print len(lst)\n",
    "for l in lst[:10]:\n",
    "    print l"
   ]
  },
  {
   "cell_type": "markdown",
   "metadata": {},
   "source": [
    "## Query by"
   ]
  },
  {
   "cell_type": "code",
   "execution_count": 51,
   "metadata": {
    "collapsed": true
   },
   "outputs": [],
   "source": [
    "from itertools import groupby\n",
    "from collections import defaultdict\n",
    "# the interval is currently implicit\n",
    "dateBegin = 0\n",
    "dateEnd = 20180400\n",
    "category = 'pizza'\n",
    "country = 'united states'"
   ]
  },
  {
   "cell_type": "code",
   "execution_count": 28,
   "metadata": {
    "collapsed": false
   },
   "outputs": [],
   "source": [
    "# Query by food category - Fig. 2c MAP of Trends/Popularity\n",
    "# this query doesn't work!!!\n",
    "def query_by_category(category):\n",
    "    result = es.search(index='agg', doc_type='count', size=10000, body={\n",
    "        \"query\": {        \n",
    "            \"bool\" : {                \n",
    "                \"filter\": [\n",
    "                    {\"term\" : { \"category\" : category }},\n",
    "                    {\"range\": {            \n",
    "                        \"date\" : {            \n",
    "                            \"gte\" : dateBegin,\n",
    "                            \"lte\" : dateEnd\n",
    "                        }            \n",
    "                    }}\n",
    "                ]            \n",
    "            }\n",
    "        }\n",
    "    })\n",
    "    return result"
   ]
  },
  {
   "cell_type": "code",
   "execution_count": 82,
   "metadata": {
    "collapsed": false
   },
   "outputs": [
    {
     "name": "stdout",
     "output_type": "stream",
     "text": [
      "[(u'east timor', nan), (u'mexico', -0.056465273856578381), (u'alemania', nan), (u'saint barth\\xe9lemy', nan), (u'cayman islands', -9.9301366129890942e-17), (u'royaume du maroc', -1.1102230246251565e-16), (u'uzbekistan', nan), (u'senegal', nan), (u'curazoa', 0.14285714285714274), (u'malta', -0.10000000000000002), (u'japan', -0.54488989271597932), (u'taiwan', -0.0021978021978021952), (u'cyprus', -0.072727272727272654), (u'danmark', -1.1868783374443499e-16), (u'barbados', -0.10000000000000009), (u'canad\\xe1', nan), (u'canad\\xe0', -1.1102230246251565e-16), (u'venezuela', -0.10841332580463046), (u'bhutan', nan), (u'\\u092d\\u093e\\u0930\\u0924', 0.071428571428571425), (u'panam\\xe1', -1.1102230246251565e-16), (u'malasia', nan), (u'lithuania', -1.1868783374443499e-16), (u'united kingdom', -1.3670242800677737), (u'tunisia', 0.090909090909090898), (u\"people's republic of china\", -2.9790409838967281e-16), (u'british virgin islands', 0.0), (u'puerto rico', 0.0033879164313946634), (u'argentina', -0.58215697346132145), (u'norway', 0.051470588235294122), (u'bahrain', -0.01748251748251747), (u'messico', nan), (u'australia', 0.15753811405985294), (u'chile', -0.11349520045172221), (u'cuba', -1.6215845185301651e-16), (u'zambia', nan), (u'reino unido', 0.0), (u'azerbaijan', nan), (u'guatemala', 0.010294117647058853), (u'zimbabwe', -0.059523809523809486), (u'belgium', 0.019198193111236619), (u'sverige', -2.327659924188193e-17), (u'haiti', 0.50000000000000089), (u'macau', nan), (u'kazakhstan', -9.9301366129890942e-17), (u'germania', 0.0), (u'kyrgyzstan', nan), (u'\\u0e1b\\u0e23\\u0e30\\u0e40\\u0e17\\u0e28\\u0e44\\u0e17\\u0e22', 0.016666666666666743), (u'royaume-uni', -1.1102230246251565e-16), (u'denmark', 0.02683178534571723), (u'philippines', -0.0062111801242237547), (u'deutschland', 0.16240601503759378), (u'moldova', -1.1102230246251565e-16), (u'democratic republic of the congo', nan), (u'latvia', -1.1868783374443499e-16), (u'namibia', -9.9301366129890942e-17), (u'bosnia and herzegovina', -1.1102230246251565e-16), (u'chad', -1.1102230246251565e-16), (u'switzerland', -0.018181818181818143), (u'saint barthelemy', nan), (u'mali', 0.69999999999999996), (u'belgi\\xeb', -0.60000000000000031), (u'bulgaria', -0.024999999999999967), (u'jamaica', 0.14962406015037588), (u'greenland', nan), (u'honduras', 0.042424242424242434), (u'ivory coast', 0.49999999999999978), (u'serbia and montenegro', 0.0), (u'lebanon', -0.094736842105263258), (u'malaysia', 0.049689440993788678), (u'mozambique', nan), (u'reunion', -1.1102230246251565e-16), (u'nicaragua', -0.26190476190476197), (u'brazil', -0.19762845849802332), (u'afghanistan', nan), (u'qatar', -0.054545454545454501), (u'espa\\xf1a', 0.80293619424054163), (u'palau', nan), (u'kuwait', -5.9880976840464417e-17), (u'panama', 0.053921568627450935), (u'nepal', 0.06666666666666668), (u'central african republic', -1.6215845185301651e-16), (u'luxembourg', 0.17142857142857124), (u'\\u067e\\u0627\\u06a9\\u0633\\u062a\\u0627\\u0646', nan), (u'\\u0440\\u043e\\u0441\\u0441\\u0438\\u044f', 0.14285714285714282), (u'netherlands', 0.10446075663466974), (u'it\\xe1lia', -1.1102230246251565e-16), (u'francia', 0.0), (u'croatia', 0.031578947368421033), (u'united arab emirates', 0.051948051948051889), (u'republic of the philippines', 0.052512704686617805), (u'vi\\u1ec7t nam', 0.99999999999999978), (u'brunei', -1.1102230246251565e-16), (u'iran', 7.5064777036761089e-17), (u'republic of mauritius', -0.5), (u'republic of mozambique', nan), (u'republic of croatia', 0.29999999999999999), (u'madagascar', nan), (u'trinidad and tobago', 0.29999999999999999), (u'belgique', -1.1102230246251565e-16), (u'georgia', 0.11818181818181822), (u'armenia', -1.1868783374443499e-16), (u'spagna', -1.1102230246251565e-16), (u'thailand', 0.3145115753811405), (u'iraq', -2.0), (u'ukraine', 0.098901098901098938), (u'northern mariana islands', nan), (u'libya', -1.6215845185301651e-16), (u'\\ub300\\ud55c\\ubbfc\\uad6d', -0.10000000000000002), (u'oman', 0.10000000000000005), (u'finland', 0.12597402597402596), (u'macedonia', -0.4000000000000003), (u'mauritius', 0.0), (u'marshall islands', -1.0), (u'estonia', -1.1102230246251565e-16), (u'china', -0.046568627450980428), (u'dominican republic', -0.061764705882352902), (u'espanya', 0.0), (u'pakistan', 0.038396386222473051), (u'romania', -0.011764705882352967), (u'seychelles', nan), (u'czech republic', -0.0060606060606059331), (u'myanmar', nan), (u'\\u0431\\u0435\\u043b\\u0430\\u0440\\u0443\\u0441\\u044c', nan), (u'egypt', -0.03088235294117651), (u'guam', nan), (u'brasile', nan), (u'tunisie', -1.1102230246251565e-16), (u'united states', 2.8119706380575757), (u'austria', 0.09411764705882357), (u'albania', nan), (u'hungary', -0.052631578947368543), (u'colombia', 0.073404856013551567), (u'slovakia', -9.9301366129890942e-17), (u'angola', -1.1102230246251565e-16), (u'new zealand', 0.034586466165413249), (u'france', 0.18746470920383884), (u'fiji', 0.99999999999999978), (u'irlanda', nan), (u'bahamas', 0.49999999999999978), (u'saudi arabia', -0.014035087719298298), (u'bangladesh', -0.0088235294117646763), (u'espagne', nan), (u'bolivia', 0.090909090909090912), (u'bonaire, saint eustatius and saba ', 0.99999999999999978), (u'etats-unis', -1.1102230246251565e-16), (u'turkey', -0.73009599096555633), (u'italie', -9.9301366129890942e-17), (u'republic of korea', 0.071428571428571272), (u'gibraltar', -1.1102230246251565e-16), (u'peru', 0.091473743647656577), (u'laos', nan), (u'aruba', nan), (u'nigeria', -0.24561403508771948), (u'anguilla', nan), (u'malawi', nan), (u'ecuador', -0.073969508752117455), (u'republic of serbia', -1.1102230246251565e-16), (u'\\u65e5\\u672c', -0.1766917293233089), (u'israel', 0.027472527472527514), (u'ireland', -0.026538678712591798), (u'nederland', -0.071428571428571438), (u'el salvador', -0.0029411764705881789), (u'serbia', -0.028571428571428602), (u'tanzania', -0.035714285714285691), (u'grecia', nan), (u'montenegro', -9.9301366129890942e-17), (u'm\\xe9xico', -0.090344438170525135), (u'sri lanka', -0.046153846153846267), (u'togo', -2.327659924188193e-17), (u'jordan', 0.99999999999999978), (u'indonesien', nan), (u'schweiz', nan), (u'south korea', -0.0038961038961037799), (u'spain', 0.01468097120270955), (u'brasil', 0.029926595143986306), (u'isle of man', 0.25), (u'indonesia', -0.19819311123658945), (u'polska', -0.13333333333333328), (u'\\u4e2d\\u534e\\u4eba\\u6c11\\u5171\\u548c\\u56fd', -1.1868783374443499e-16), (u'suomi', 3.1092463804238912e-17), (u'allemagne', nan), (u'\\xf6sterreich', 0.19999999999999979), (u'morocco', -0.078787878787878851), (u'sweden', 0.0079051383399208856), (u'islamic republic of iran', nan), (u'gabon', nan), (u'guyana', 0.0058823529411764835), (u'grenada', -0.29999999999999999), (u'guadeloupe', -1.0), (u'hong kong', 0.036764705882352929), (u'russia', -0.019607843137254975), (u'ghana', 0.11515151515151521), (u'the netherlands', -0.10000000000000001), (u'kingdom of saudi arabia', 0.19999999999999979), (u'regno unito', -0.50000000000000022), (u'portugal', -0.072275550536420152), (u'uruguay', -0.046439628482972076), (u'greece', -0.50649350649350644), (u'india', 0.63805759457933398), (u'ruman\\xeda', nan), (u'antarctica', nan), (u'vereinigtes k\\xf6nigreich', -1.1102230246251565e-16), (u'uganda', 0.08333333333333337), (u'paraguay', 0.054945054945054951), (u'kenya', 0.027972027972028059), (u'\\u0443\\u043a\\u0440\\u0430\\u0457\\u043d\\u0430', nan), (u'macao', nan), (u'\\u0443\\u043a\\u0440\\u0430\\u0438\\u043d\\u0430', -2.4323767777952478e-16), (u'magyarorsz\\xe1g', -0.5), (u'b\\xe9lgica', nan), (u'italy', 0.24618859401468052), (u'western sahara', 0.99999999999999978), (u'south africa', -0.079616036137774834), (u'liechtenstein', -1.1102230246251565e-16), (u'cambodia', 0.10000000000000002), (u'\\u53f0\\u7063', -8.1079225926508253e-17), (u'bermuda', -0.099999999999999936), (u'\\u05d9\\u05e9\\u05e8\\u05d0\\u05dc', nan), (u't\\xfcrkiye', 0.1032967032967033), (u'giappone', -1.1102230246251565e-16), (u'cameroon', 0.37142857142857133), (u'canada', -0.0095990965556199005), (u'italien', 0.99999999999999978), (u'singapore', -0.043859649122807133), (u'iceland', -0.11236589497459064), (u'costa rica', 0.19090909090909086), (u'slovenia', -0.024242424242424194), (u'germany', 0.28119706380575915), (u'estados unidos', -0.018181818181818056), (u'syria', 0.99999999999999978), (u'tyskland', nan), (u'stati uniti', 0.0), (u'slovensk\\xe1 republika', nan), (u'rom\\xe2nia', 0.99999999999999978), (u'tonga', nan), (u'maldives', 0.31428571428571422), (u'algeria', 0.29999999999999999), (u'verenigde staten', nan), (u'norfolk island', -0.074303405572755388), (u'poland', -0.38961038961038968), (u'italia', -0.083003952569169981), (u'belarus', 0.0), (u'vietnam', 0.065934065934066005), (u'monaco', -5.9880976840464417e-17), (u'vereinigte staaten', -1.1868783374443499e-16)]\n"
     ]
    }
   ],
   "source": [
    "# get trends\n",
    "result = query_by_category(category)\n",
    "\n",
    "def get_category_trend_per_country(query_result, analysis_type=\"trend\"):\n",
    "    country_dict = defaultdict(list)\n",
    "    for x in result['hits']['hits']:\n",
    "        country_dict[x[\"_source\"]['country']].append(tuple((x[\"_source\"]['date'],x[\"_source\"]['count'])))\n",
    "    \n",
    "    country_trend = defaultdict(float)\n",
    "    for country, values in country_dict.iteritems():\n",
    "        # sort list by date ascending\n",
    "        sorted_counts = sorted(values, key=lambda x: x[0])\n",
    "        # we refer to the current day in the interval\n",
    "        if analysis_type == \"popularity\":\n",
    "            country_trend[country] = stats.zscore([y for x,y in sorted_counts])[-1] \n",
    "        elif analysis_type == \"trend\":\n",
    "            y = [y for x,y in sorted_counts]\n",
    "            x = np.arange(len(y))\n",
    "            try:\n",
    "                regression = np.polyfit(x, y, 1)\n",
    "                country_trend[country] = regression[0]\n",
    "            except:\n",
    "                # the fir doesn't work for this example: np.polyfit(np.array([0]), np.array([1]), 1)\n",
    "                # some versions of numpy return nan, as should we\n",
    "                country_trend[country] = np.nan\n",
    "            \n",
    "    return country_trend\n",
    "\n",
    "newd = get_category_trend_per_country(result, analysis_type=\"trend\")\n",
    "# newd = get_category_trend_per_country(result, analysis_type=\"popularity\")\n",
    "print [(x,y) for x,y in newd.iteritems()]\n",
    "\n",
    "# WHY zscore is NaN - division by 0\n",
    "# sorted_counts_lit = sorted(country_dict['lithuania'], key=lambda x: x[0])\n",
    "# print stats.zscore([y for x,y in sorted_counts_lit])\n",
    "# print sorted_counts_lit\n"
   ]
  },
  {
   "cell_type": "code",
   "execution_count": 41,
   "metadata": {
    "collapsed": true
   },
   "outputs": [],
   "source": [
    "def query_by_country(country):\n",
    "    result = es.search(index='agg', doc_type='count', size=10000, body={\n",
    "        \"query\": {        \n",
    "            \"bool\" : {                \n",
    "                \"filter\": [\n",
    "                    {\"term\" : { \"country\" : country }},\n",
    "                    {\"range\": {            \n",
    "                        \"date\" : {            \n",
    "                            \"gte\" : dateBegin,\n",
    "                            \"lte\" : dateEnd\n",
    "                        }            \n",
    "                    }}\n",
    "                ]            \n",
    "            }\n",
    "        }\n",
    "    })\n",
    "    return result\n",
    "\n",
    "    "
   ]
  },
  {
   "cell_type": "code",
   "execution_count": 42,
   "metadata": {
    "collapsed": false
   },
   "outputs": [
    {
     "name": "stdout",
     "output_type": "stream",
     "text": [
      "[{u'_score': 0.0, u'_type': u'count', u'_id': u'1563', u'_source': {u'category': u'caesar salad', u'date': 20170319, u'count': 1, u'country': u'maldives'}, u'_index': u'agg'}, {u'_score': 0.0, u'_type': u'count', u'_id': u'1564', u'_source': {u'category': u'caesar salad', u'date': 20170321, u'count': 1, u'country': u'maldives'}, u'_index': u'agg'}, {u'_score': 0.0, u'_type': u'count', u'_id': u'6635', u'_source': {u'category': u'donuts', u'date': 20170318, u'count': 1, u'country': u'maldives'}, u'_index': u'agg'}, {u'_score': 0.0, u'_type': u'count', u'_id': u'7767', u'_source': {u'category': u'filet mignon', u'date': 20170323, u'count': 2, u'country': u'maldives'}, u'_index': u'agg'}, {u'_score': 0.0, u'_type': u'count', u'_id': u'7290', u'_source': {u'category': u'eggs benedict', u'date': 20170319, u'count': 1, u'country': u'maldives'}, u'_index': u'agg'}, {u'_score': 0.0, u'_type': u'count', u'_id': u'13262', u'_source': {u'category': u'ice cream', u'date': 20170320, u'count': 1, u'country': u'maldives'}, u'_index': u'agg'}, {u'_score': 0.0, u'_type': u'count', u'_id': u'13722', u'_source': {u'category': u'lasagna', u'date': 20170329, u'count': 1, u'country': u'maldives'}, u'_index': u'agg'}, {u'_score': 0.0, u'_type': u'count', u'_id': u'20018', u'_source': {u'category': u'pizza', u'date': 20170315, u'count': 2, u'country': u'maldives'}, u'_index': u'agg'}, {u'_score': 0.0, u'_type': u'count', u'_id': u'20021', u'_source': {u'category': u'pizza', u'date': 20170310, u'count': 1, u'country': u'maldives'}, u'_index': u'agg'}, {u'_score': 0.0, u'_type': u'count', u'_id': u'26694', u'_source': {u'category': u'sushi', u'date': 20170313, u'count': 1, u'country': u'maldives'}, u'_index': u'agg'}]\n"
     ]
    }
   ],
   "source": [
    "result = query_by_country(\"united states\")  # no results !!! very strange, we can see there are records in match_all\n",
    "result = query_by_country(\"maldives\")  # no results\n",
    "first10 = [x for x in result['hits']['hits'][:10]]\n",
    "print first10"
   ]
  },
  {
   "cell_type": "code",
   "execution_count": null,
   "metadata": {
    "collapsed": true
   },
   "outputs": [],
   "source": []
  },
  {
   "cell_type": "markdown",
   "metadata": {},
   "source": [
    "## TRENDS\n",
    "Idea: plot trend line on scatter/line plots with daily values\n",
    "\n",
    "https://docs.scipy.org/doc/numpy-1.3.x/reference/generated/numpy.polyfit.html"
   ]
  },
  {
   "cell_type": "code",
   "execution_count": 9,
   "metadata": {
    "collapsed": false
   },
   "outputs": [
    {
     "data": {
      "text/plain": [
       "[<matplotlib.lines.Line2D at 0x7fdd0c6d42d0>]"
      ]
     },
     "execution_count": 9,
     "metadata": {},
     "output_type": "execute_result"
    },
    {
     "data": {
      "image/png": "[encoded data removed]",
      "text/plain": [
       "<matplotlib.figure.Figure at 0x7fdcd30380d0>"
      ]
     },
     "metadata": {},
     "output_type": "display_data"
    }
   ],
   "source": [
    "y = np.array([ 0.7972,  0.0767,  0.4383,  0.7866,  0.8091, 0.1954,  0.6307,  0.6599,  0.1065,  0.0508]) \n",
    "x = np.arange(len(y))\n",
    "\n",
    "regression = np.polyfit(x, y, 1)\n",
    "regression\n",
    "\n",
    "# y = regression[0] * x + regression[1]\n",
    "\n",
    "\n",
    "import matplotlib.pyplot as plt\n",
    "%matplotlib inline\n",
    "plt.plot(y)\n",
    "new_y = [regression[0]*i+regression[1] for i in x]\n",
    "plt.plot(new_y)"
   ]
  },
  {
   "cell_type": "markdown",
   "metadata": {},
   "source": [
    "## ZSCORE\n",
    "Calculates the z score of each value in the sample, relative to the sample mean and standard deviation.\n",
    "\n",
    "https://docs.scipy.org/doc/scipy-0.19.0/reference/generated/scipy.stats.zscore.html"
   ]
  },
  {
   "cell_type": "code",
   "execution_count": 5,
   "metadata": {
    "collapsed": false
   },
   "outputs": [
    {
     "data": {
      "text/plain": [
       "array([ 1.12724554, -1.2469956 , -0.05542642,  1.09231569,  1.16645923,\n",
       "       -0.8558472 ,  0.57858329,  0.67480514, -1.14879659, -1.33234306])"
      ]
     },
     "execution_count": 5,
     "metadata": {},
     "output_type": "execute_result"
    }
   ],
   "source": [
    "import numpy as np\n",
    "from scipy import stats\n",
    "\n",
    "\n",
    "\n",
    "a = np.array([ 0.7972,  0.0767,  0.4383,  0.7866,  0.8091, 0.1954,  0.6307,  0.6599,  0.1065,  0.0508])\n",
    "stats.zscore(a)"
   ]
  },
  {
   "cell_type": "code",
   "execution_count": null,
   "metadata": {
    "collapsed": true
   },
   "outputs": [],
   "source": []
  }
 ],
 "metadata": {
  "kernelspec": {
   "display_name": "Python 2",
   "language": "python",
   "name": "python2"
  },
  "language_info": {
   "codemirror_mode": {
    "name": "ipython",
    "version": 2
   },
   "file_extension": ".py",
   "mimetype": "text/x-python",
   "name": "python",
   "nbconvert_exporter": "python",
   "pygments_lexer": "ipython2",
   "version": "2.7.13"
  }
 },
 "nbformat": 4,
 "nbformat_minor": 2
}
