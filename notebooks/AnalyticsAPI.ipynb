{
 "cells": [
  {
   "cell_type": "code",
   "execution_count": 1,
   "metadata": {
    "collapsed": false
   },
   "outputs": [
    {
     "name": "stdout",
     "output_type": "stream",
     "text": [
      "{\n",
      "  \"name\" : \"0PsTttc\",\n",
      "  \"cluster_name\" : \"foodmap-cluster\",\n",
      "  \"cluster_uuid\" : \"2YIbFkvuRqaPWhEjuEYnwA\",\n",
      "  \"version\" : {\n",
      "    \"number\" : \"5.4.0\",\n",
      "    \"build_hash\" : \"780f8c4\",\n",
      "    \"build_date\" : \"2017-04-28T17:43:27.229Z\",\n",
      "    \"build_snapshot\" : false,\n",
      "    \"lucene_version\" : \"6.5.0\"\n",
      "  },\n",
      "  \"tagline\" : \"You Know, for Search\"\n",
      "}\n",
      "\n"
     ]
    }
   ],
   "source": [
    "import requests\n",
    "res = requests.get('http://foodmap.isti.cnr.it:9200', auth=('elastic', 'changeme'))\n",
    "print(res.content)"
   ]
  },
  {
   "cell_type": "markdown",
   "metadata": {},
   "source": [
    "### ES Auth"
   ]
  },
  {
   "cell_type": "code",
   "execution_count": 3,
   "metadata": {
    "collapsed": false
   },
   "outputs": [
    {
     "name": "stdout",
     "output_type": "stream",
     "text": [
      "<Elasticsearch([{u'host': u'foodmap.isti.cnr.it'}])>\n"
     ]
    }
   ],
   "source": [
    "from elasticsearch import Elasticsearch\n",
    "es = Elasticsearch(['foodmap.isti.cnr.it'], http_auth=('elastic', 'changeme'), port=9200)\n",
    "print es"
   ]
  },
  {
   "cell_type": "code",
   "execution_count": 71,
   "metadata": {
    "collapsed": false
   },
   "outputs": [],
   "source": [
    "# res = es.search(index=\"agg\", doc_type='count', size=100, body={\"query\": {\"match_all\": {}}})\n",
    "# res"
   ]
  },
  {
   "cell_type": "markdown",
   "metadata": {},
   "source": [
    "### Carto Auth"
   ]
  },
  {
   "cell_type": "code",
   "execution_count": 72,
   "metadata": {
    "collapsed": true
   },
   "outputs": [],
   "source": [
    "from carto.auth import APIKeyAuthClient\n",
    "from carto.sql import SQLClient\n",
    "from carto.exceptions import CartoException\n",
    "\n",
    "\n",
    "USERNAME=\"hpclab\"\n",
    "APIKEY = \"e97d6bbf73f61f1faa5a3bafb81c370bdc131de5\"\n",
    "USR_BASE_URL = \"https://{user}.carto.com/\".format(user=USERNAME)\n",
    "auth_client = APIKeyAuthClient(api_key=APIKEY, base_url=USR_BASE_URL)"
   ]
  },
  {
   "cell_type": "code",
   "execution_count": 94,
   "metadata": {
    "collapsed": false
   },
   "outputs": [
    {
     "name": "stdout",
     "output_type": "stream",
     "text": [
      "{u'_score': 1.0, u'_type': u'count', u'_id': u'1115', u'_source': {u'category': u'breakfast burrito', u'date': 20170315, u'count': 35, u'country': u'united states'}, u'_index': u'agg'}\n",
      "{u'_score': 1.0, u'_type': u'count', u'_id': u'1123', u'_source': {u'category': u'breakfast burrito', u'date': 20170313, u'count': 26, u'country': u'united states'}, u'_index': u'agg'}\n",
      "{u'_score': 1.0, u'_type': u'count', u'_id': u'1124', u'_source': {u'category': u'breakfast burrito', u'date': 20170324, u'count': 25, u'country': u'united states'}, u'_index': u'agg'}\n",
      "{u'_score': 1.0, u'_type': u'count', u'_id': u'1128', u'_source': {u'category': u'breakfast burrito', u'date': 20170320, u'count': 22, u'country': u'united states'}, u'_index': u'agg'}\n",
      "{u'_score': 1.0, u'_type': u'count', u'_id': u'1131', u'_source': {u'category': u'breakfast burrito', u'date': 20170317, u'count': 20, u'country': u'united states'}, u'_index': u'agg'}\n",
      "{u'_score': 1.0, u'_type': u'count', u'_id': u'1136', u'_source': {u'category': u'breakfast burrito', u'date': 20170324, u'count': 10, u'country': u'united kingdom'}, u'_index': u'agg'}\n",
      "{u'_score': 1.0, u'_type': u'count', u'_id': u'1145', u'_source': {u'category': u'breakfast burrito', u'date': 20170316, u'count': 4, u'country': u'united kingdom'}, u'_index': u'agg'}\n",
      "{u'_score': 1.0, u'_type': u'count', u'_id': u'1146', u'_source': {u'category': u'breakfast burrito', u'date': 20170321, u'count': 4, u'country': u'united kingdom'}, u'_index': u'agg'}\n",
      "{u'_score': 1.0, u'_type': u'count', u'_id': u'1147', u'_source': {u'category': u'breakfast burrito', u'date': 20170325, u'count': 4, u'country': u'united kingdom'}, u'_index': u'agg'}\n",
      "{u'_score': 1.0, u'_type': u'count', u'_id': u'1156', u'_source': {u'category': u'breakfast burrito', u'date': 20170322, u'count': 1, u'country': u'united kingdom'}, u'_index': u'agg'}\n"
     ]
    }
   ],
   "source": [
    "result = es.search(index='agg', doc_type='count', size=1000000, body={\n",
    "    'query': {\n",
    "        \"match_all\" : {}\n",
    "    }\n",
    "})\n",
    "\n",
    "\n",
    "# lst = [x['_source']['country']for x in result['hits']['hits']]\n",
    "lst = [x for x in result['hits']['hits']]\n",
    "for l in lst[:10]:\n",
    "    print l"
   ]
  },
  {
   "cell_type": "markdown",
   "metadata": {},
   "source": [
    "### Resources"
   ]
  },
  {
   "cell_type": "code",
   "execution_count": 88,
   "metadata": {
    "collapsed": false
   },
   "outputs": [
    {
     "name": "stdout",
     "output_type": "stream",
     "text": [
      "finished!\n"
     ]
    }
   ],
   "source": [
    "from itertools import groupby\n",
    "\n",
    "dateBegin = 0\n",
    "dateEnd = 20180400\n",
    "category = 'pizza'\n",
    "section = 'gafnjlan3'\n",
    "\n",
    "result = es.search(index='agg', doc_type='count', size=10000, body={\n",
    "    \"query\": {        \n",
    "        \"bool\" : {                \n",
    "            \"filter\": [\n",
    "                {\"term\" : { \"category.keyword\" : str(category) }},\n",
    "                {\"range\": {            \n",
    "                    \"date\" : {            \n",
    "                        \"gte\" : dateBegin,\n",
    "                        \"lte\" : dateEnd\n",
    "                    }            \n",
    "                }}\n",
    "            ]            \n",
    "        }\n",
    "    }\n",
    "})\n",
    "\n",
    "lst_country = [(x[\"_source\"]['country'],x[\"_source\"]['count']) for x in result['hits']['hits']]\n",
    "f0 = lambda x: x[0]\n",
    "f1 = lambda x: x[1]\n",
    "\n",
    "# sql = SQLClient(auth_client)\n",
    "# sql_str = \"delete from trend_value where section = '{section}';\".format(section=section)\n",
    "# print sql_str\n",
    "\n",
    "# sql.send(sql_str)\n",
    "\n",
    "\n",
    "# for key, group in groupby(sorted(lst_country, key=f0), f0):\n",
    "#     dic_value = {'country': unicode(key), 'value': sum(map(f1, list(group))), 'section': section, 'category': category}\n",
    "    \n",
    "#     try:        \n",
    "#         insert_value = \"'{country}', {value}, '{section}', '{category}'\".format(country=dic_value['country'], value=dic_value['value'],section=dic_value['section'], category=dic_value['category'])                \n",
    "#         sql_str = \"insert into trend_value (country, value, section, category) values ({insert_value});\".format(insert_value=insert_value)\n",
    "#         sql.send(sql_str)        \n",
    "#     except Exception as e:\n",
    "#         print \"some error ocurred\", e, sql_str\n",
    "\n",
    "# lst_country = list(set(lst_country))\n",
    "print 'finished!'\n"
   ]
  },
  {
   "cell_type": "code",
   "execution_count": 68,
   "metadata": {
    "collapsed": false
   },
   "outputs": [
    {
     "name": "stdout",
     "output_type": "stream",
     "text": [
      "australia 7\n",
      "austria 4\n",
      "brazil 1\n",
      "canada 6\n",
      "colombia 2\n",
      "cyprus 1\n",
      "france 1\n",
      "germany 9\n",
      "greece 3\n",
      "india 5\n",
      "iraq 1\n",
      "ireland 5\n",
      "israel 2\n",
      "italy 6\n",
      "japan 1\n",
      "kingdom of saudi arabia 1\n",
      "lebanon 1\n",
      "malaysia 1\n",
      "nederland 1\n",
      "netherlands 13\n",
      "oman 2\n",
      "romania 1\n",
      "serbia 1\n",
      "slovenia 2\n",
      "south africa 1\n",
      "sweden 2\n",
      "turkey 34\n",
      "türkiye 3\n",
      "united arab emirates 1\n",
      "united kingdom 21\n",
      "united states 85\n",
      "venezuela 2\n",
      "поранешна југословенска република македонија 1\n"
     ]
    }
   ],
   "source": [
    "\n",
    "\n",
    "\n",
    "    # print key,sum()"
   ]
  }
 ],
 "metadata": {
  "kernelspec": {
   "display_name": "Python 2",
   "language": "python",
   "name": "python2"
  },
  "language_info": {
   "codemirror_mode": {
    "name": "ipython",
    "version": 2
   },
   "file_extension": ".py",
   "mimetype": "text/x-python",
   "name": "python",
   "nbconvert_exporter": "python",
   "pygments_lexer": "ipython2",
   "version": "2.7.13"
  }
 },
 "nbformat": 4,
 "nbformat_minor": 2
}
