{
 "cells": [
  {
   "cell_type": "markdown",
   "metadata": {},
   "source": [
    "# Test the Stream Index"
   ]
  },
  {
   "cell_type": "markdown",
   "metadata": {},
   "source": [
    "## Check if index is up!"
   ]
  },
  {
   "cell_type": "code",
   "execution_count": 2,
   "metadata": {
    "collapsed": false
   },
   "outputs": [
    {
     "name": "stdout",
     "output_type": "stream",
     "text": [
      "{\n",
      "  \"name\" : \"loGu88Z\",\n",
      "  \"cluster_name\" : \"foodmap-cluster\",\n",
      "  \"cluster_uuid\" : \"u6p1OlcKS8K0ulvvGBdVKw\",\n",
      "  \"version\" : {\n",
      "    \"number\" : \"5.4.0\",\n",
      "    \"build_hash\" : \"780f8c4\",\n",
      "    \"build_date\" : \"2017-04-28T17:43:27.229Z\",\n",
      "    \"build_snapshot\" : false,\n",
      "    \"lucene_version\" : \"6.5.0\"\n",
      "  },\n",
      "  \"tagline\" : \"You Know, for Search\"\n",
      "}\n",
      "\n"
     ]
    }
   ],
   "source": [
    "import requests\n",
    "res = requests.get('http://foodmap.isti.cnr.it:9200', auth=('elastic', 'changeme'))\n",
    "print(res.content)"
   ]
  },
  {
   "cell_type": "code",
   "execution_count": 3,
   "metadata": {
    "collapsed": false
   },
   "outputs": [
    {
     "name": "stdout",
     "output_type": "stream",
     "text": [
      "<Elasticsearch([{u'host': u'foodmap.isti.cnr.it'}])>\n"
     ]
    }
   ],
   "source": [
    "from elasticsearch import Elasticsearch\n",
    "es = Elasticsearch(['foodmap.isti.cnr.it'], http_auth=('elastic', 'changeme'), port=9200)\n",
    "print es"
   ]
  },
  {
   "cell_type": "markdown",
   "metadata": {},
   "source": [
    "## Index operations"
   ]
  },
  {
   "cell_type": "markdown",
   "metadata": {},
   "source": [
    "#### Delete index, delete tweets by id and query"
   ]
  },
  {
   "cell_type": "code",
   "execution_count": 8,
   "metadata": {
    "collapsed": false
   },
   "outputs": [
    {
     "data": {
      "text/plain": [
       "{u'acknowledged': True}"
      ]
     },
     "execution_count": 8,
     "metadata": {},
     "output_type": "execute_result"
    }
   ],
   "source": [
    "# es.indices.delete(index='stream', ignore=[400, 404])"
   ]
  },
  {
   "cell_type": "code",
   "execution_count": null,
   "metadata": {
    "collapsed": false
   },
   "outputs": [],
   "source": [
    "# es.delete_by_query(index='stream', doc_type='tweet', body={\n",
    "#     'query': {\n",
    "#         \"match_all\" : {}\n",
    "#     }\n",
    "# })"
   ]
  },
  {
   "cell_type": "markdown",
   "metadata": {},
   "source": [
    "#### Count elements in index"
   ]
  },
  {
   "cell_type": "code",
   "execution_count": 7,
   "metadata": {
    "collapsed": false
   },
   "outputs": [
    {
     "data": {
      "text/plain": [
       "{u'_shards': {u'failed': 0, u'successful': 5, u'total': 5}, u'count': 68}"
      ]
     },
     "execution_count": 7,
     "metadata": {},
     "output_type": "execute_result"
    }
   ],
   "source": [
    "es.count(index='stream', doc_type='tweet')"
   ]
  },
  {
   "cell_type": "markdown",
   "metadata": {},
   "source": [
    "#### GET all docs from index"
   ]
  },
  {
   "cell_type": "code",
   "execution_count": 21,
   "metadata": {
    "collapsed": false,
    "scrolled": false
   },
   "outputs": [
    {
     "name": "stdout",
     "output_type": "stream",
     "text": [
      "{u'_score': 1.0, u'_type': u'tweet', u'_id': u'880404200684957696', u'_source': {u'username': u'akikosenda', u'lang': u'tl', u'text_categories': [u' sashimi'], u'city': u'Ishigaki-shi', u'text': u'First meal in Okinawa \\U0001f41f#yum #sashimi #okinawa #travel @ Ishigaki, Okinawa https://t.co/jQeK9NoSJX', u'img_categories': None, u'hashtags': [u'#sashimi', u'#okinawa', u'#travel'], u'img_flag': True, u'timestamp_ms': u'1498739693219', u'bounding_box': {u'type': u'Polygon', u'coordinates': [[[124.06912, 24.327426], [124.06912, 24.61218], [124.340891, 24.61218], [124.340891, 24.327426]]]}, u'coords': [124.15, 24.3333], u'id_str': u'880404200684957696', u'country': u'Japan', u'id': 880404200684957696, u'created_at_day': 20170629, u'created_at_datetime': u'2017-06-29T12:34:53', u'media_url': None}, u'_index': u'stream'}\n",
      "\n",
      "{u'_score': 1.0, u'_type': u'tweet', u'_id': u'880405312171278336', u'_source': {u'username': u'ervarungoyal', u'lang': u'en', u'text_categories': [u' pizza'], u'city': u'Gurgaon', u'text': u'Thanks @dominos_india For This Amazing Contest. Truly made my day in borring office work. Wish to play the same again #AsFastAsJonty #Pizza', u'img_categories': None, u'hashtags': [u'#asfastasjonty', u'#pizza'], u'img_flag': True, u'timestamp_ms': u'1498739958218', u'bounding_box': {u'type': u'Polygon', u'coordinates': [[[76.707671, 28.199529], [76.707671, 28.537521], [77.241711, 28.537521], [77.241711, 28.199529]]]}, u'coords': None, u'id_str': u'880405312171278336', u'country': u'India', u'id': 880405312171278336, u'created_at_day': 20170629, u'created_at_datetime': u'2017-06-29T12:39:18', u'media_url': None}, u'_index': u'stream'}\n",
      "\n",
      "{u'_score': 1.0, u'_type': u'tweet', u'_id': u'880406341071798272', u'_source': {u'username': u'stadiyums', u'lang': u'en', u'text_categories': [u' nachos'], u'city': u'Chicago', u'text': u'Helmet nachos with a view @whitesox #stadiumfood #Stadiyums #foodporn #foodie #food #Whitesox\\u2026 https://t.co/g5iXasU7ju', u'img_categories': None, u'hashtags': [u'#stadiumfood', u'#stadiyums', u'#foodporn', u'#foodie', u'#food', u'#whitesox\\u2026'], u'img_flag': True, u'timestamp_ms': u'1498740203527', u'bounding_box': {u'type': u'Polygon', u'coordinates': [[[-87.940033, 41.644102], [-87.940033, 42.023067], [-87.523993, 42.023067], [-87.523993, 41.644102]]]}, u'coords': [-87.63388171, 41.83006718], u'id_str': u'880406341071798272', u'country': u'United States', u'id': 880406341071798272, u'created_at_day': 20170629, u'created_at_datetime': u'2017-06-29T12:43:23', u'media_url': None}, u'_index': u'stream'}\n",
      "\n",
      "{u'_score': 1.0, u'_type': u'tweet', u'_id': u'880404048834416644', u'_source': {u'username': u'oshmacaroni', u'lang': u'en', u'text_categories': [u' donuts'], u'city': u'Quezon City', u'text': u'donuts on stick. \\U0001f369 #foodie #foodporn @ Kantorini Food Park https://t.co/OghzOaiJuK', u'img_categories': None, u'hashtags': [u'#foodie', u'#foodporn'], u'img_flag': True, u'timestamp_ms': u'1498739657015', u'bounding_box': {u'type': u'Polygon', u'coordinates': [[[120.989705, 14.589376], [120.989705, 14.776648], [121.135766, 14.776648], [121.135766, 14.589376]]]}, u'coords': [121.07463598, 14.63343778], u'id_str': u'880404048834416644', u'country': u'Republic of the Philippines', u'id': 880404048834416644, u'created_at_day': 20170629, u'created_at_datetime': u'2017-06-29T12:34:17', u'media_url': None}, u'_index': u'stream'}\n",
      "\n",
      "{u'_score': 1.0, u'_type': u'tweet', u'_id': u'880404106199932928', u'_source': {u'username': u'CecilliaY', u'lang': u'in', u'text_categories': [u' steak'], u'city': u'Tamansari', u'text': u'T-bone \\U0001f42e\\U0001f37d\\n#steak #tbone #beef #dinner #eatwithcecil @ Abuba Steak Gajah Mada https://t.co/w2o7UERa2S', u'img_categories': None, u'hashtags': [u'#steak', u'#tbone', u'#beef', u'#dinner', u'#eatwithcecil'], u'img_flag': True, u'timestamp_ms': u'1498739670692', u'bounding_box': {u'type': u'Polygon', u'coordinates': [[[106.814694, -6.159043], [106.814694, -6.131796], [106.83619, -6.131796], [106.83619, -6.159043]]]}, u'coords': [106.81813, -6.15636], u'id_str': u'880404106199932928', u'country': u'Indonesia', u'id': 880404106199932928, u'created_at_day': 20170629, u'created_at_datetime': u'2017-06-29T12:34:30', u'media_url': None}, u'_index': u'stream'}\n",
      "\n",
      "{u'_score': 1.0, u'_type': u'tweet', u'_id': u'880405327195369472', u'_source': {u'username': u'StudioBTS', u'lang': u'en', u'text_categories': [], u'city': None, u'text': u'A peek at our #kitchen and #accessories shoot in the #studio today #StudioBTS #Food #Styling https://t.co/4XSYc8UxLc', u'img_categories': [{u'score': 5.0, u'label': u'chocolate_cake'}], u'hashtags': [u'#kitchen', u'#accessories', u'#studio', u'#studiobts', u'#food', u'#styling'], u'img_flag': True, u'timestamp_ms': u'1498739961800', u'bounding_box': {u'type': u'Polygon', u'coordinates': [[[-3.640637, 52.947131], [-3.640637, 55.188879], [-1.909626, 55.188879], [-1.909626, 52.947131]]]}, u'coords': None, u'id_str': u'880405327195369472', u'country': u'United Kingdom', u'id': 880405327195369472, u'created_at_day': 20170629, u'created_at_datetime': u'2017-06-29T12:39:21', u'media_url': u'http://pbs.twimg.com/ext_tw_video_thumb/880404707201732608/pu/img/Que0-NW73-M97JQW.jpg'}, u'_index': u'stream'}\n",
      "\n",
      "{u'_score': 1.0, u'_type': u'tweet', u'_id': u'880405573069615104', u'_source': {u'username': u'___DRE4MC4TCHER', u'lang': u'en', u'text_categories': [u' sushi'], u'city': u'Genova', u'text': u'#sushi mode! My fav #lunch break \\U0001f363 #foodporn @stefanomuscolo #loveit @ Yoshi https://t.co/Bl5QvDEvhT', u'img_categories': None, u'hashtags': [u'#sushi', u'#lunch', u'#foodporn', u'#loveit'], u'img_flag': True, u'timestamp_ms': u'1498740020421', u'bounding_box': {u'type': u'Polygon', u'coordinates': [[[8.665852, 44.379083], [8.665852, 44.519915], [9.095838, 44.519915], [9.095838, 44.379083]]]}, u'coords': [8.94349308, 44.40298415], u'id_str': u'880405573069615104', u'country': u'Italia', u'id': 880405573069615104, u'created_at_day': 20170629, u'created_at_datetime': u'2017-06-29T12:40:20', u'media_url': None}, u'_index': u'stream'}\n",
      "\n",
      "{u'_score': 1.0, u'_type': u'tweet', u'_id': u'880404233396334592', u'_source': {u'username': u'doped_peter', u'lang': u'tl', u'text_categories': [u' ramen'], u'city': None, u'text': u'Lumalaban si Ippudo MBS. \\U0001f44d\\U0001f3fb\\U0001f44d\\U0001f3fb\\U0001f60b\\U0001f60b\\U0001f1f8\\U0001f1ec #singapore #ramen #ippudo @ Ippudo Ramen at Marina Bay Sands https://t.co/hOxQDPtkci', u'img_categories': None, u'hashtags': [u'#singapore', u'#ramen', u'#ippudo'], u'img_flag': True, u'timestamp_ms': u'1498739701018', u'bounding_box': {u'type': u'Polygon', u'coordinates': [[[103.74996, 1.212314], [103.74996, 1.368745], [103.918427, 1.368745], [103.918427, 1.212314]]]}, u'coords': [103.8599052, 1.28610977], u'id_str': u'880404233396334592', u'country': u'Singapore', u'id': 880404233396334592, u'created_at_day': 20170629, u'created_at_datetime': u'2017-06-29T12:35:01', u'media_url': None}, u'_index': u'stream'}\n",
      "\n",
      "{u'_score': 1.0, u'_type': u'tweet', u'_id': u'880404773568000001', u'_source': {u'username': u'Artem_Sadriev', u'lang': u'en', u'text_categories': [u' waffels'], u'city': u'Nizhniy Novgorod', u'text': u'Oh this waf waf waffles!, damn good and fresh, #sovok #\\u0441\\u043e\\u0432\\u043e\\u043a #nijniynovgorod #food #instafood\\u2026 https://t.co/dV42viaKcT', u'img_categories': None, u'hashtags': [u'#sovok', u'#\\u0441\\u043e\\u0432\\u043e\\u043a', u'#nijniynovgorod', u'#food', u'#instafood\\u2026'], u'img_flag': True, u'timestamp_ms': u'1498739829805', u'bounding_box': {u'type': u'Polygon', u'coordinates': [[[43.546463, 56.148407], [43.546463, 56.421064], [44.154548, 56.421064], [44.154548, 56.148407]]]}, u'coords': [44.00417, 56.32545], u'id_str': u'880404773568000001', u'country': u'Russia', u'id': 880404773568000001, u'created_at_day': 20170629, u'created_at_datetime': u'2017-06-29T12:37:09', u'media_url': None}, u'_index': u'stream'}\n",
      "\n",
      "{u'_score': 1.0, u'_type': u'tweet', u'_id': u'880404842010824704', u'_source': {u'username': u'giuliagourmet', u'lang': u'und', u'text_categories': [u' risotto'], u'city': u'Naples', u'text': u'#buonappetito #risotto #chef #magda #amazing #foodporn #dinner #deliciousfood #summer\\u2026 https://t.co/2xDOxMbhMZ', u'img_categories': None, u'hashtags': [u'#buonappetito', u'#risotto', u'#chef', u'#magda', u'#amazing', u'#foodporn', u'#dinner', u'#deliciousfood', u'#summer\\u2026'], u'img_flag': True, u'timestamp_ms': u'1498739846123', u'bounding_box': {u'type': u'Polygon', u'coordinates': [[[14.133201, 40.79207], [14.133201, 40.916155], [14.353703, 40.916155], [14.353703, 40.79207]]]}, u'coords': [14.25, 40.8333], u'id_str': u'880404842010824704', u'country': u'Italy', u'id': 880404842010824704, u'created_at_day': 20170629, u'created_at_datetime': u'2017-06-29T12:37:26', u'media_url': None}, u'_index': u'stream'}\n",
      "\n",
      "{u'_score': 1.0, u'_type': u'tweet', u'_id': u'880405378021904384', u'_source': {u'username': u'kellypetts', u'lang': u'en', u'text_categories': [], u'city': u'Harwich', u'text': u'Lunch #yummy #toastie @Stuckinthe80s19 https://t.co/rzX8ogEzd8', u'img_categories': [{u'score': 10.0, u'label': u'grilled_cheese_sandwich'}], u'hashtags': [u'#yummy', u'#toastie'], u'img_flag': True, u'timestamp_ms': u'1498739973918', u'bounding_box': {u'type': u'Polygon', u'coordinates': [[[1.220058, 51.913809], [1.220058, 51.94971], [1.291808, 51.94971], [1.291808, 51.913809]]]}, u'coords': None, u'id_str': u'880405378021904384', u'country': u'United Kingdom', u'id': 880405378021904384, u'created_at_day': 20170629, u'created_at_datetime': u'2017-06-29T12:39:33', u'media_url': u'http://pbs.twimg.com/media/DDfUAIOXoAEV8CH.jpg'}, u'_index': u'stream'}\n",
      "\n",
      "{u'_score': 1.0, u'_type': u'tweet', u'_id': u'880405386892890112', u'_source': {u'username': u'TheWaymarker', u'lang': u'en', u'text_categories': [u' scallops'], u'city': None, u'text': u'Lush day-boat #falmouth bay #scallops from @seabournefish13 served with crispy bacon, spinach mash &amp; peppercorn sau\\u2026 https://t.co/HlGer9A7lD', u'img_categories': None, u'hashtags': [u'#falmouth', u'#scallops'], u'img_flag': True, u'timestamp_ms': u'1498739976033', u'bounding_box': {u'type': u'Polygon', u'coordinates': [[[-6.368504, 49.882472], [-6.368504, 52.112542], [-1.485734, 52.112542], [-1.485734, 49.882472]]]}, u'coords': None, u'id_str': u'880405386892890112', u'country': u'United Kingdom', u'id': 880405386892890112, u'created_at_day': 20170629, u'created_at_datetime': u'2017-06-29T12:39:36', u'media_url': None}, u'_index': u'stream'}\n",
      "\n",
      "{u'_score': 1.0, u'_type': u'tweet', u'_id': u'880405861679730689', u'_source': {u'username': u'SultanCork', u'lang': u'en', u'text_categories': [u' falafel'], u'city': u'Cork', u'text': u'Thursday lunch Offer from 12:00 until 15:00\\n#home #made #Falafel #sandwich served with chips \\U0001f35f and mix berries, ban\\u2026 https://t.co/rXUUAoFwok', u'img_categories': None, u'hashtags': [u'#home', u'#made', u'#falafel', u'#sandwich'], u'img_flag': True, u'timestamp_ms': u'1498740089231', u'bounding_box': {u'type': u'Polygon', u'coordinates': [[[-10.22546, 51.419215], [-10.22546, 52.388511], [-7.841153, 52.388511], [-7.841153, 51.419215]]]}, u'coords': None, u'id_str': u'880405861679730689', u'country': u'Ireland', u'id': 880405861679730689, u'created_at_day': 20170629, u'created_at_datetime': u'2017-06-29T12:41:29', u'media_url': None}, u'_index': u'stream'}\n",
      "\n",
      "{u'_score': 1.0, u'_type': u'tweet', u'_id': u'880404253155749888', u'_source': {u'username': u'Ari_ekaputri', u'lang': u'sv', u'text_categories': [u' pizza'], u'city': u'Mantrijeron', u'text': u'Pizza Bakar nan krezzz.... \\U0001f44d\\n\\n-\\n-\\n-\\n-\\n-\\n\\n#foodporn #foodie #foodgasm #instafood #yogya\\u2026 https://t.co/HFPucnpL73', u'img_categories': None, u'hashtags': [u'#foodporn', u'#foodie', u'#foodgasm', u'#instafood', u'#yogya\\u2026'], u'img_flag': True, u'timestamp_ms': u'1498739705729', u'bounding_box': {u'type': u'Polygon', u'coordinates': [[[110.35101, -7.825785], [110.35101, -7.807768], [110.368481, -7.807768], [110.368481, -7.825785]]]}, u'coords': [110.36271355, -7.81788956], u'id_str': u'880404253155749888', u'country': u'Indonesia', u'id': 880404253155749888, u'created_at_day': 20170629, u'created_at_datetime': u'2017-06-29T12:35:05', u'media_url': None}, u'_index': u'stream'}\n",
      "\n"
     ]
    }
   ],
   "source": [
    "res = es.search(index=\"stream\", doc_type='tweet', size=100, body={\"query\": {\"match_all\": {}}})\n",
    "# [x['_source'] for x in res['hits']['hits']]\n",
    "for r in res['hits']['hits']:\n",
    "    print r\n",
    "    print "
   ]
  },
  {
   "cell_type": "markdown",
   "metadata": {},
   "source": [
    "#### GET specific tweets"
   ]
  },
  {
   "cell_type": "code",
   "execution_count": 15,
   "metadata": {
    "collapsed": false
   },
   "outputs": [
    {
     "data": {
      "text/plain": [
       "{u'_id': u'880404048834416644',\n",
       " u'_index': u'stream',\n",
       " u'_source': {u'bounding_box': {u'coordinates': [[[120.989705, 14.589376],\n",
       "     [120.989705, 14.776648],\n",
       "     [121.135766, 14.776648],\n",
       "     [121.135766, 14.589376]]],\n",
       "   u'type': u'Polygon'},\n",
       "  u'city': u'Quezon City',\n",
       "  u'coords': [121.07463598, 14.63343778],\n",
       "  u'country': u'Republic of the Philippines',\n",
       "  u'created_at_datetime': u'2017-06-29T12:34:17',\n",
       "  u'created_at_day': 20170629,\n",
       "  u'hashtags': [u'#foodie', u'#foodporn'],\n",
       "  u'id': 880404048834416644,\n",
       "  u'id_str': u'880404048834416644',\n",
       "  u'img_categories': None,\n",
       "  u'img_flag': True,\n",
       "  u'lang': u'en',\n",
       "  u'media_url': None,\n",
       "  u'text': u'donuts on stick. \\U0001f369 #foodie #foodporn @ Kantorini Food Park https://t.co/OghzOaiJuK',\n",
       "  u'text_categories': [u' donuts'],\n",
       "  u'timestamp_ms': u'1498739657015',\n",
       "  u'username': u'oshmacaroni'},\n",
       " u'_type': u'tweet',\n",
       " u'_version': 1,\n",
       " u'found': True}"
      ]
     },
     "execution_count": 15,
     "metadata": {},
     "output_type": "execute_result"
    }
   ],
   "source": [
    "es.get(index='stream', doc_type='tweet', id=880404048834416644)"
   ]
  },
  {
   "cell_type": "code",
   "execution_count": 19,
   "metadata": {
    "collapsed": false,
    "scrolled": false
   },
   "outputs": [
    {
     "name": "stdout",
     "output_type": "stream",
     "text": [
      "{u'hits': {u'hits': [{u'_score': 0.6931472, u'_type': u'tweet', u'_id': u'880404048834416644', u'_source': {u'username': u'oshmacaroni', u'lang': u'en', u'text_categories': [u' donuts'], u'city': u'Quezon City', u'text': u'donuts on stick. \\U0001f369 #foodie #foodporn @ Kantorini Food Park https://t.co/OghzOaiJuK', u'img_categories': None, u'hashtags': [u'#foodie', u'#foodporn'], u'img_flag': True, u'timestamp_ms': u'1498739657015', u'bounding_box': {u'type': u'Polygon', u'coordinates': [[[120.989705, 14.589376], [120.989705, 14.776648], [121.135766, 14.776648], [121.135766, 14.589376]]]}, u'coords': [121.07463598, 14.63343778], u'id_str': u'880404048834416644', u'country': u'Republic of the Philippines', u'id': 880404048834416644, u'created_at_day': 20170629, u'created_at_datetime': u'2017-06-29T12:34:17', u'media_url': None}, u'_index': u'stream'}], u'total': 1, u'max_score': 0.6931472}, u'_shards': {u'successful': 5, u'failed': 0, u'total': 5}, u'took': 2, u'timed_out': False}\n",
      "1\n"
     ]
    }
   ],
   "source": [
    "results = es.search(index='stream', doc_type='tweet', size=100, body={\n",
    "  'query': {\n",
    "    'match': {\n",
    "      'text_categories': 'donuts',\n",
    "#       'day': 20170618,\n",
    "#         'sort': [\n",
    "#         {'committed_date': {'order': 'desc'}}\n",
    "#       ],\n",
    "     }\n",
    "  }\n",
    "})\n",
    "\n",
    "print results\n",
    "print len(results[\"hits\"][\"hits\"])"
   ]
  },
  {
   "cell_type": "markdown",
   "metadata": {},
   "source": [
    "#### TEST image classifier"
   ]
  },
  {
   "cell_type": "code",
   "execution_count": null,
   "metadata": {
    "collapsed": true
   },
   "outputs": [],
   "source": [
    "# test some of the urls from the indexed tweets\n",
    "# by reclassifying it with the IMG classifier hosted on our machine\n",
    "request_string = 'http://test.tripbuilder.isti.cnr.it:8080/FoodRecognition/services/IRServices/recognizeByURL?imgURL='\n",
    "for tweet in results[\"hits\"][\"hits\"]:\n",
    "    img_url = tweet[\"_source\"][\"media_url\"]\n",
    "    res = requests.get(request_string + img_url)\n",
    "\n",
    "    print tweet[\"_source\"][\"text\"]\n",
    "    print img_url\n",
    "    print res.content\n",
    "    print json.loads(res.text)[\"guessed\"]\n",
    "    print get_image_category(img_url)\n",
    "    print \n",
    "    print"
   ]
  },
  {
   "cell_type": "code",
   "execution_count": null,
   "metadata": {
    "collapsed": false
   },
   "outputs": [],
   "source": [
    "# import requests\n",
    "# import json\n",
    "\n",
    "# response = requests.get('http://test.tripbuilder.isti.cnr.it:5000/sync')\n",
    "# json_data = json.loads(response.text)\n",
    "# json_data"
   ]
  },
  {
   "cell_type": "code",
   "execution_count": null,
   "metadata": {
    "collapsed": true
   },
   "outputs": [],
   "source": []
  }
 ],
 "metadata": {
  "kernelspec": {
   "display_name": "Python 2",
   "language": "python",
   "name": "python2"
  },
  "language_info": {
   "codemirror_mode": {
    "name": "ipython",
    "version": 2
   },
   "file_extension": ".py",
   "mimetype": "text/x-python",
   "name": "python",
   "nbconvert_exporter": "python",
   "pygments_lexer": "ipython2",
   "version": "2.7.13"
  }
 },
 "nbformat": 4,
 "nbformat_minor": 0
}
