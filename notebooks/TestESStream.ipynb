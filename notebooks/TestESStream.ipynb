{
 "cells": [
  {
   "cell_type": "markdown",
   "metadata": {},
   "source": [
    "# Test the Stream Index"
   ]
  },
  {
   "cell_type": "markdown",
   "metadata": {},
   "source": [
    "## Check if index is up!"
   ]
  },
  {
   "cell_type": "code",
   "execution_count": 56,
   "metadata": {
    "collapsed": false
   },
   "outputs": [
    {
     "name": "stdout",
     "output_type": "stream",
     "text": [
      "{\n",
      "  \"name\" : \"0PsTttc\",\n",
      "  \"cluster_name\" : \"foodmap-cluster\",\n",
      "  \"cluster_uuid\" : \"2YIbFkvuRqaPWhEjuEYnwA\",\n",
      "  \"version\" : {\n",
      "    \"number\" : \"5.4.0\",\n",
      "    \"build_hash\" : \"780f8c4\",\n",
      "    \"build_date\" : \"2017-04-28T17:43:27.229Z\",\n",
      "    \"build_snapshot\" : false,\n",
      "    \"lucene_version\" : \"6.5.0\"\n",
      "  },\n",
      "  \"tagline\" : \"You Know, for Search\"\n",
      "}\n",
      "\n"
     ]
    }
   ],
   "source": [
    "import requests\n",
    "res = requests.get('http://foodmap.isti.cnr.it:9200', auth=('elastic', 'changeme'))\n",
    "print(res.content)"
   ]
  },
  {
   "cell_type": "code",
   "execution_count": 57,
   "metadata": {
    "collapsed": false
   },
   "outputs": [
    {
     "name": "stdout",
     "output_type": "stream",
     "text": [
      "<Elasticsearch([{u'host': u'foodmap.isti.cnr.it'}])>\n"
     ]
    }
   ],
   "source": [
    "from elasticsearch import Elasticsearch\n",
    "es = Elasticsearch(['foodmap.isti.cnr.it'], http_auth=('elastic', 'changeme'), port=9200)\n",
    "print es"
   ]
  },
  {
   "cell_type": "markdown",
   "metadata": {},
   "source": [
    "## Index operations"
   ]
  },
  {
   "cell_type": "markdown",
   "metadata": {},
   "source": [
    "#### Delete index, delete tweets by id and query"
   ]
  },
  {
   "cell_type": "code",
   "execution_count": 4,
   "metadata": {
    "collapsed": false
   },
   "outputs": [
    {
     "data": {
      "text/plain": [
       "{u'acknowledged': True}"
      ]
     },
     "execution_count": 4,
     "metadata": {},
     "output_type": "execute_result"
    }
   ],
   "source": [
    "# es.indices.delete(index='stream', ignore=[400, 404])"
   ]
  },
  {
   "cell_type": "code",
   "execution_count": 45,
   "metadata": {
    "collapsed": false
   },
   "outputs": [
    {
     "data": {
      "text/plain": [
       "{u'batches': 1,\n",
       " u'deleted': 40,\n",
       " u'failures': [],\n",
       " u'noops': 0,\n",
       " u'requests_per_second': -1.0,\n",
       " u'retries': {u'bulk': 0, u'search': 0},\n",
       " u'throttled_millis': 0,\n",
       " u'throttled_until_millis': 0,\n",
       " u'timed_out': False,\n",
       " u'took': 10,\n",
       " u'total': 40,\n",
       " u'version_conflicts': 0}"
      ]
     },
     "execution_count": 45,
     "metadata": {},
     "output_type": "execute_result"
    }
   ],
   "source": [
    "es.delete_by_query(index='stream', doc_type='tweet', body={\n",
    "    'query': {\n",
    "        \"match_all\" : {}\n",
    "    }\n",
    "})"
   ]
  },
  {
   "cell_type": "markdown",
   "metadata": {},
   "source": [
    "#### Count elements in index"
   ]
  },
  {
   "cell_type": "code",
   "execution_count": 65,
   "metadata": {
    "collapsed": false
   },
   "outputs": [
    {
     "data": {
      "text/plain": [
       "{u'_shards': {u'failed': 0, u'successful': 5, u'total': 5}, u'count': 3005}"
      ]
     },
     "execution_count": 65,
     "metadata": {},
     "output_type": "execute_result"
    }
   ],
   "source": [
    "es.count(index='stream', doc_type='tweet')"
   ]
  },
  {
   "cell_type": "markdown",
   "metadata": {},
   "source": [
    "#### GET all docs from index"
   ]
  },
  {
   "cell_type": "code",
   "execution_count": 64,
   "metadata": {
    "collapsed": false,
    "scrolled": false
   },
   "outputs": [
    {
     "name": "stdout",
     "output_type": "stream",
     "text": [
      "{u'_score': 1.0, u'_type': u'tweet', u'_id': u'885894744911605761', u'_source': {u'username': u'ChecarmeloCu', u'lang': u'es', u'text_categories': [u'sushi'], u'city': None, u'text': u'Este viernes 14 vuelve el #sushi a #CheCarmelo del #ClubUruguay Info, reservas o delivery al 4542 2591 \\U0001f363\\U0001f363\\U0001f363\\U0001f364\\U0001f364\\U0001f364 https://t.co/EVNYJBiifm', u'img_categories': [{u'score': 15.0, u'label': u'sushi'}], u'hashtags': [u'#sushi', u'#checarmelo', u'#cluburuguay'], u'img_flag': True, u'timestamp_ms': u'1500048740972', u'bounding_box': {u'type': u'Polygon', u'coordinates': [[[-58.438154, -34.476211], [-58.438154, -33.79374], [-56.983277, -33.79374], [-56.983277, -34.476211]]]}, u'coords': [-58.28391167, -33.996695], u'id_str': u'885894744911605761', u'country': u'uruguay', u'id': 885894744911605761, u'media_url': u'http://pbs.twimg.com/media/DEtUka3XcAEvULL.jpg', u'created_at_day': 20170714, u'created_at_datetime': u'2017-07-14T16:12:20', u'created_at_month': 20170701}, u'_index': u'stream'}\n",
      "\n",
      "{u'_score': 1.0, u'_type': u'tweet', u'_id': u'885885186755489792', u'_source': {u'username': u'dan_souza', u'lang': u'pt', u'text_categories': [u'ceviche'], u'city': None, u'text': u'Hoje tem #Ceviche! \\U0001f64c\\U0001f3fe\\U0001f41f https://t.co/RnUtQENkgd', u'img_categories': [{u'score': 8.0, u'label': u'ceviche'}], u'hashtags': [u'#ceviche'], u'img_flag': True, u'timestamp_ms': u'1500046462130', u'bounding_box': {u'type': u'Polygon', u'coordinates': [[[-46.826039, -24.008814], [-46.826039, -23.356792], [-46.365052, -23.356792], [-46.365052, -24.008814]]]}, u'coords': None, u'id_str': u'885885186755489792', u'country': u'brazil', u'id': 885885186755489792, u'media_url': u'http://pbs.twimg.com/media/DEtL3YqWAAAKeoH.jpg', u'created_at_day': 20170714, u'created_at_datetime': u'2017-07-14T15:34:22', u'created_at_month': 20170701}, u'_index': u'stream'}\n",
      "\n",
      "{u'_score': 1.0, u'_type': u'tweet', u'_id': u'885884009674231809', u'_source': {u'username': u'JonathanScottLV', u'lang': u'es', u'text_categories': [u'caesar_salad'], u'city': None, u'text': u'#vegasnonstop #food #wine #friends #caesarsalad #crimestory #scof #vegasbaby @ Andiamo Las Vegas https://t.co/RKdmmlL2mI', u'img_categories': None, u'hashtags': [u'#vegasnonstop', u'#food', u'#wine', u'#friends', u'#caesarsalad', u'#crimestory', u'#scof', u'#vegasbaby'], u'img_flag': True, u'timestamp_ms': u'1500046181492', u'bounding_box': {u'type': u'Polygon', u'coordinates': [[[-115.384091, 36.129459], [-115.384091, 36.336371], [-115.062159, 36.336371], [-115.062159, 36.129459]]]}, u'coords': [-115.14285, 36.16983], u'id_str': u'885884009674231809', u'country': u'united states', u'id': 885884009674231809, u'media_url': None, u'created_at_day': 20170714, u'created_at_datetime': u'2017-07-14T15:29:41', u'created_at_month': 20170701}, u'_index': u'stream'}\n",
      "\n",
      "{u'_score': 1.0, u'_type': u'tweet', u'_id': u'885882919272808448', u'_source': {u'username': u'GregZimmerman93', u'lang': u'en', u'text_categories': [], u'city': None, u'text': u'Need this right now!! #Lunch https://t.co/pTjHQNuT8k', u'img_categories': [{u'score': 9.0, u'label': u'pizza'}], u'hashtags': [u'#lunch'], u'img_flag': True, u'timestamp_ms': u'1500045921520', u'bounding_box': {u'type': u'Polygon', u'coordinates': [[[-83.67529, 36.540739], [-83.67529, 39.466012], [-75.16644, 39.466012], [-75.16644, 36.540739]]]}, u'coords': None, u'id_str': u'885882919272808448', u'country': u'united states', u'id': 885882919272808448, u'media_url': u'http://pbs.twimg.com/tweet_video_thumb/DEtJxafXcAEvqSW.jpg', u'created_at_day': 20170714, u'created_at_datetime': u'2017-07-14T15:25:21', u'created_at_month': 20170701}, u'_index': u'stream'}\n",
      "\n",
      "{u'_score': 1.0, u'_type': u'tweet', u'_id': u'885884175923990528', u'_source': {u'username': u'JungCjpr', u'lang': u'und', u'text_categories': [u'pizza'], u'city': None, u'text': u'#notmuchleft #dessert #pizza #friday #drinks #friends  #chatter #lovemylife #arbonneaussies @\\u2026 https://t.co/OTQdwcJ9si', u'img_categories': None, u'hashtags': [u'#notmuchleft', u'#dessert', u'#pizza', u'#friday', u'#drinks', u'#friends', u'#chatter', u'#lovemylife', u'#arbonneaussies'], u'img_flag': True, u'timestamp_ms': u'1500046221129', u'bounding_box': {u'type': u'Polygon', u'coordinates': [[[115.617614, -32.675715], [115.617614, -31.624486], [116.239023, -31.624486], [116.239023, -32.675715]]]}, u'coords': [115.95, -31.9], u'id_str': u'885884175923990528', u'country': u'australia', u'id': 885884175923990528, u'media_url': None, u'created_at_day': 20170714, u'created_at_datetime': u'2017-07-14T15:30:21', u'created_at_month': 20170701}, u'_index': u'stream'}\n",
      "\n",
      "{u'_score': 1.0, u'_type': u'tweet', u'_id': u'885895345997262848', u'_source': {u'username': u'Sjobbe66', u'lang': u'sv', u'text_categories': [u'hamburger'], u'city': None, u'text': u'Ett g\\xe4ng lammf\\xe4rsburgare! Vi \\xe4r ju 2 som skall dela #summer #sommar #grillat #hamburger @\\u2026 https://t.co/DGj68HogH7', u'img_categories': None, u'hashtags': [u'#summer', u'#sommar', u'#grillat', u'#hamburger'], u'img_flag': True, u'timestamp_ms': u'1500048884282', u'bounding_box': {u'type': u'Polygon', u'coordinates': [[[13.66394, 57.539146], [13.66394, 58.190958], [14.653512, 58.190958], [14.653512, 57.539146]]]}, u'coords': [14.11863, 57.69156], u'id_str': u'885895345997262848', u'country': u'sweden', u'id': 885895345997262848, u'media_url': None, u'created_at_day': 20170714, u'created_at_datetime': u'2017-07-14T16:14:44', u'created_at_month': 20170701}, u'_index': u'stream'}\n",
      "\n",
      "{u'_score': 1.0, u'_type': u'tweet', u'_id': u'885898778355650560', u'_source': {u'username': u'JaciDaCosta_76', u'lang': u'en', u'text_categories': [u'donuts'], u'city': None, u'text': u\"Because working downtown has it's perks @kneaddoughnuts #donuts #knead #providence @ KNEAD\\u2026 https://t.co/TUoNS4DNTg\", u'img_categories': None, u'hashtags': [u'#donuts', u'#knead', u'#providence'], u'img_flag': True, u'timestamp_ms': u'1500049702620', u'bounding_box': {u'type': u'Polygon', u'coordinates': [[[-71.474186, 41.772455], [-71.474186, 41.861713], [-71.369479, 41.861713], [-71.369479, 41.772455]]]}, u'coords': [-71.40917, 41.82408], u'id_str': u'885898778355650560', u'country': u'united states', u'id': 885898778355650560, u'media_url': None, u'created_at_day': 20170714, u'created_at_datetime': u'2017-07-14T16:28:22', u'created_at_month': 20170701}, u'_index': u'stream'}\n",
      "\n",
      "{u'_score': 1.0, u'_type': u'tweet', u'_id': u'885900763972677632', u'_source': {u'username': u'JoukoPakarinen', u'lang': u'en', u'text_categories': [u'ice_cream', u'hot_dog'], u'city': None, u'text': u'#hotdog #icecream @ Kalkstrands Grill https://t.co/z9T8QJDLcl', u'img_categories': None, u'hashtags': [u'#hotdog', u'#icecream'], u'img_flag': True, u'timestamp_ms': u'1500050176028', u'bounding_box': {u'type': u'Polygon', u'coordinates': [[[25.101704, 60.075017], [25.101704, 60.506438], [25.526485, 60.506438], [25.526485, 60.075017]]]}, u'coords': [25.39139991, 60.25327269], u'id_str': u'885900763972677632', u'country': u'finland', u'id': 885900763972677632, u'media_url': None, u'created_at_day': 20170714, u'created_at_datetime': u'2017-07-14T16:36:16', u'created_at_month': 20170701}, u'_index': u'stream'}\n",
      "\n",
      "{u'_score': 1.0, u'_type': u'tweet', u'_id': u'885883977541840896', u'_source': {u'username': u'BihJoBe', u'lang': u'en', u'text_categories': [u'steak'], u'city': None, u'text': u\"#breakfast (@ Jocko's Steak House in Nipomo, CA) https://t.co/j9jy2tI48m\", u'img_categories': None, u'hashtags': [u'#breakfast'], u'img_flag': True, u'timestamp_ms': u'1500046173831', u'bounding_box': {u'type': u'Polygon', u'coordinates': [[[-120.533212, 35.003173], [-120.533212, 35.052688], [-120.447468, 35.052688], [-120.447468, 35.003173]]]}, u'coords': [-120.47643685, 35.04301539], u'id_str': u'885883977541840896', u'country': u'united states', u'id': 885883977541840896, u'media_url': None, u'created_at_day': 20170714, u'created_at_datetime': u'2017-07-14T15:29:33', u'created_at_month': 20170701}, u'_index': u'stream'}\n",
      "\n",
      "{u'_score': 1.0, u'_type': u'tweet', u'_id': u'885887736271351810', u'_source': {u'username': u'Tlaloc_SF', u'lang': u'en', u'text_categories': [u'ceviche'], u'city': None, u'text': u'The #weekend is around the corner! #Friday Have you tried our #ceviche pairs really well with our #sangria \\u203c\\ufe0f\\U0001f631\\u2026 https://t.co/ifMuPrsR4h', u'img_categories': None, u'hashtags': [u'#weekend', u'#friday', u'#ceviche', u'#sangria'], u'img_flag': True, u'timestamp_ms': u'1500047069982', u'bounding_box': {u'type': u'Polygon', u'coordinates': [[[-122.401748, 37.79422], [-122.401748, 37.79422], [-122.401748, 37.79422], [-122.401748, 37.79422]]]}, u'coords': None, u'id_str': u'885887736271351810', u'country': None, u'id': 885887736271351810, u'media_url': None, u'created_at_day': 20170714, u'created_at_datetime': u'2017-07-14T15:44:29', u'created_at_month': 20170701}, u'_index': u'stream'}\n",
      "\n"
     ]
    }
   ],
   "source": [
    "res = es.search(index=\"stream\", doc_type='tweet', size=100, body={\"query\": {\"match_all\": {}}})\n",
    "# [x['_source'] for x in res['hits']['hits']]\n",
    "for r in res['hits']['hits'][:10]:\n",
    "    print r\n",
    "    print "
   ]
  },
  {
   "cell_type": "markdown",
   "metadata": {},
   "source": [
    "#### GET specific tweets"
   ]
  },
  {
   "cell_type": "code",
   "execution_count": 60,
   "metadata": {
    "collapsed": false
   },
   "outputs": [],
   "source": [
    "# es.get(index='stream', doc_type='tweet', id=880404048834416644)"
   ]
  },
  {
   "cell_type": "code",
   "execution_count": 66,
   "metadata": {
    "collapsed": false,
    "scrolled": false
   },
   "outputs": [
    {
     "name": "stdout",
     "output_type": "stream",
     "text": [
      "{u'hits': {u'hits': [{u'_score': 4.1496673, u'_type': u'tweet', u'_id': u'885899203934814209', u'_source': {u'username': u'KenmareFoodies', u'lang': u'en', u'text_categories': [u'donuts'], u'city': None, u'text': u'Tuned in and waiting to hear @GastroGays talk all things food fad on @todayfm #donuts', u'img_categories': None, u'hashtags': [u'#donuts'], u'img_flag': True, u'timestamp_ms': u'1500049804086', u'bounding_box': {u'type': u'Polygon', u'coordinates': [[[-10.619545, 51.688185], [-10.619545, 52.602848], [-9.119114, 52.602848], [-9.119114, 51.688185]]]}, u'coords': None, u'id_str': u'885899203934814209', u'country': u'ireland', u'id': 885899203934814209, u'media_url': None, u'created_at_day': 20170714, u'created_at_datetime': u'2017-07-14T16:30:04', u'created_at_month': 20170701}, u'_index': u'stream'}, {u'_score': 4.1496673, u'_type': u'tweet', u'_id': u'885929891220381696', u'_source': {u'username': u'MichelleBargain', u'lang': u'en', u'text_categories': [u'donuts'], u'city': None, u'text': u\"Can't believe I'm in this darn line for #donuts looking busted AF LOL \\U0001f602 (at @KrispyKreme in Tamarac, FL) https://t.co/3F1wbmfqqN\", u'img_categories': None, u'hashtags': [u'#donuts'], u'img_flag': True, u'timestamp_ms': u'1500057120505', u'bounding_box': {u'type': u'Polygon', u'coordinates': [[[-80.298308, 26.178836], [-80.298308, 26.230749], [-80.162961, 26.230749], [-80.162961, 26.178836]]]}, u'coords': [-80.20665407, 26.18725187], u'id_str': u'885929891220381696', u'country': u'united states', u'id': 885929891220381696, u'media_url': None, u'created_at_day': 20170714, u'created_at_datetime': u'2017-07-14T18:32:00', u'created_at_month': 20170701}, u'_index': u'stream'}, {u'_score': 4.1496673, u'_type': u'tweet', u'_id': u'885970789840834560', u'_source': {u'username': u'FacilitiesMedia', u'lang': u'en', u'text_categories': [u'donuts'], u'city': None, u'text': u\"#Donuts\\n\\n#FBF to last #Friday, #Bern, #Switzerland's #train station. #eventprofs will be glad to\\u2026 https://t.co/oyGsSNmhCS\", u'img_categories': None, u'hashtags': [u'#donuts', u'#fbf', u'#friday', u'#bern', u'#switzerland', u'#train', u'#eventprofs'], u'img_flag': True, u'timestamp_ms': u'1500066871496', u'bounding_box': {u'type': u'Polygon', u'coordinates': [[[7.294318, 46.91904], [7.294318, 46.990106], [7.495553, 46.990106], [7.495553, 46.91904]]]}, u'coords': [7.43816249, 46.94861945], u'id_str': u'885970789840834560', u'country': u'switzerland', u'id': 885970789840834560, u'media_url': None, u'created_at_day': 20170714, u'created_at_datetime': u'2017-07-14T21:14:31', u'created_at_month': 20170701}, u'_index': u'stream'}], u'total': 88, u'max_score': 4.1496673}, u'_shards': {u'successful': 5, u'failed': 0, u'total': 5}, u'took': 0, u'timed_out': False}\n",
      "3\n"
     ]
    }
   ],
   "source": [
    "results = es.search(index='stream', doc_type='tweet', size=3, body={\n",
    "  'query': {\n",
    "    'match': {\n",
    "      'text_categories': 'donuts',\n",
    "#       'day': 20170618,\n",
    "#         'sort': [\n",
    "#         {'committed_date': {'order': 'desc'}}\n",
    "#       ],\n",
    "     }\n",
    "  }\n",
    "})\n",
    "\n",
    "print results\n",
    "print len(results[\"hits\"][\"hits\"])"
   ]
  },
  {
   "cell_type": "markdown",
   "metadata": {},
   "source": [
    "### Queries group by"
   ]
  },
  {
   "cell_type": "code",
   "execution_count": 73,
   "metadata": {
    "collapsed": false
   },
   "outputs": [
    {
     "name": "stdout",
     "output_type": "stream",
     "text": [
      "101\n",
      "grilled salmon\n",
      "0\n",
      "lobster roll sandwich\n",
      "0\n",
      "hamburger\n",
      "28\n",
      "churros\n",
      "22\n",
      "frozen yogurt\n",
      "0\n",
      "chicken quesadilla\n",
      "0\n",
      "samosa\n",
      "7\n",
      "pad thai\n",
      "0\n",
      "eggs benedict\n",
      "0\n",
      "peking duck\n",
      "0\n",
      "apple pie\n",
      "0\n",
      "sashimi\n",
      "17\n",
      "waffels\n",
      "0\n",
      "cup cakes\n",
      "0\n",
      "chicken curry\n",
      "0\n",
      "lobster bisque\n",
      "0\n",
      "cannoli\n",
      "3\n",
      "tacos\n",
      "19\n",
      "chocolate cake\n",
      "0\n",
      "poutine\n",
      "1\n",
      "ramen\n",
      "29\n",
      "bibimbap\n",
      "5\n",
      "beignets\n",
      "0\n",
      "risotto\n",
      "5\n",
      "chocolate mousse\n",
      "0\n",
      "paella\n",
      "12\n",
      "caesar salad\n",
      "0\n",
      "steak\n",
      "14\n",
      "spaghetti carbonara\n",
      "0\n",
      "beef tartare\n",
      "0\n",
      "falafel\n",
      "12\n",
      "chicken wings\n",
      "0\n",
      "club sandwich\n",
      "0\n",
      "ice cream\n",
      "0\n",
      "garlic bread\n",
      "0\n",
      "beef carpaccio\n",
      "0\n",
      "pork chop\n",
      "0\n",
      "escargots\n",
      "2\n",
      "tiramisu\n",
      "3\n",
      "fried rice\n",
      "0\n",
      "scallops\n",
      "3\n",
      "grilled cheese sandwich\n",
      "0\n",
      "baklava\n",
      "1\n",
      "edamame\n",
      "4\n",
      "carrot cake\n",
      "0\n",
      "pancakes\n",
      "19\n",
      "mussels\n",
      "5\n",
      "pulled pork sandwich\n",
      "0\n",
      "fried calamari\n",
      "0\n",
      "creme brulee\n",
      "0\n",
      "hummus\n",
      "6\n",
      "lasagna\n",
      "4\n",
      "red velvet cake\n",
      "0\n",
      "guacamole\n",
      "11\n",
      "clam chowder\n",
      "0\n",
      "foie gras\n",
      "0\n",
      "deviled eggs\n",
      "0\n",
      "beet salad\n",
      "0\n",
      "breakfast burrito\n",
      "0\n",
      "crab cakes\n",
      "0\n",
      "donuts\n",
      "33\n",
      "croque madame\n",
      "0\n",
      "gyoza\n",
      "3\n",
      "greek salad\n",
      "0\n",
      "ravioli\n",
      "3\n",
      "panna cotta\n",
      "0\n",
      "cheese plate\n",
      "0\n",
      "ceviche\n",
      "13\n",
      "spring rolls\n",
      "0\n",
      "bread pudding\n",
      "0\n",
      "bruschetta\n",
      "6\n",
      "shrimp and grits\n",
      "0\n",
      "french onion soup\n",
      "0\n",
      "french fries\n",
      "0\n",
      "tuna tartare\n",
      "0\n",
      "filet mignon\n",
      "0\n",
      "onion rings\n",
      "0\n",
      "seaweed salad\n",
      "0\n",
      "dumplings\n",
      "2\n",
      "sushi\n",
      "29\n",
      "spaghetti bolognese\n",
      "0\n",
      "fish and chips\n",
      "0\n",
      "caprese salad\n",
      "0\n",
      "takoyaki\n",
      "1\n",
      "french toast\n",
      "0\n",
      "macarons\n",
      "5\n",
      "baby back ribs\n",
      "0\n",
      "gnocchi\n",
      "4\n",
      "miso soup\n",
      "0\n",
      "pizza\n",
      "23\n",
      "huevos rancheros\n",
      "0\n",
      "pho\n",
      "10\n",
      "cheesecake\n",
      "10\n",
      "prime rib\n",
      "0\n",
      "omelette\n",
      "7\n",
      "hot dog\n",
      "0\n",
      "macaroni and cheese\n",
      "0\n",
      "hot and sour soup\n",
      "0\n",
      "strawberry shortcake\n",
      "0\n",
      "nachos\n",
      "7\n",
      "oysters\n",
      "12\n"
     ]
    }
   ],
   "source": [
    "import os\n",
    "import sys\n",
    "os.chdir(\"/home/foodmap/food101/\")\n",
    "sys.path.append(os.getcwd())\n",
    "from processing.load_keyword_dicts import loadCategoryDict\n",
    "\n",
    "\n",
    "cats = set(loadCategoryDict().values())\n",
    "print len(cats)\n",
    "for x in cats:\n",
    "    print x\n",
    "    results = es.search(index='stream', doc_type='tweet', size=10000, body={\n",
    "      'query': {\n",
    "        'term': {\n",
    "#             'img_flag': True,\n",
    "            'img_categories.label': x,\n",
    "#             'day': 20170629,\n",
    "    #         'sort': [\n",
    "    #         {'committed_date': {'order': 'desc'}}\n",
    "    #       ],\n",
    "         }\n",
    "      }\n",
    "    })\n",
    "    print results[\"hits\"][\"total\"]\n",
    "#     if results[\"hits\"][\"total\"]>0:\n",
    "#         print results[\"hits\"][\"hits\"]\n"
   ]
  },
  {
   "cell_type": "markdown",
   "metadata": {},
   "source": [
    "#### TEST image classifier"
   ]
  },
  {
   "cell_type": "code",
   "execution_count": null,
   "metadata": {
    "collapsed": true
   },
   "outputs": [],
   "source": [
    "# test some of the urls from the indexed tweets\n",
    "# by reclassifying it with the IMG classifier hosted on our machine\n",
    "request_string = 'http://test.tripbuilder.isti.cnr.it:8080/FoodRecognition/services/IRServices/recognizeByURL?imgURL='\n",
    "for tweet in results[\"hits\"][\"hits\"]:\n",
    "    img_url = tweet[\"_source\"][\"media_url\"]\n",
    "    res = requests.get(request_string + img_url)\n",
    "\n",
    "    print tweet[\"_source\"][\"text\"]\n",
    "    print img_url\n",
    "    print res.content\n",
    "    print json.loads(res.text)[\"guessed\"]\n",
    "    print get_image_category(img_url)\n",
    "    print \n",
    "    "
   ]
  },
  {
   "cell_type": "code",
   "execution_count": null,
   "metadata": {
    "collapsed": false
   },
   "outputs": [],
   "source": [
    "# import requests\n",
    "# import json\n",
    "\n",
    "# response = requests.get('http://test.tripbuilder.isti.cnr.it:5000/sync')\n",
    "# json_data = json.loads(response.text)\n",
    "# json_data"
   ]
  }
 ],
 "metadata": {
  "kernelspec": {
   "display_name": "Python 2",
   "language": "python",
   "name": "python2"
  },
  "language_info": {
   "codemirror_mode": {
    "name": "ipython",
    "version": 2
   },
   "file_extension": ".py",
   "mimetype": "text/x-python",
   "name": "python",
   "nbconvert_exporter": "python",
   "pygments_lexer": "ipython2",
   "version": "2.7.13"
  }
 },
 "nbformat": 4,
 "nbformat_minor": 0
}
