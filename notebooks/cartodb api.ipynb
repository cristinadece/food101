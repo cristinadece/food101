{
 "cells": [
  {
   "cell_type": "code",
   "execution_count": 31,
   "metadata": {
    "collapsed": false
   },
   "outputs": [],
   "source": [
    "from carto.auth import APIKeyAuthClient\n",
    "from carto.sql import SQLClient\n",
    "from carto.exceptions import CartoException\n",
    "from elasticsearch import Elasticsearch\n",
    "import requests\n",
    "import json"
   ]
  },
  {
   "cell_type": "markdown",
   "metadata": {},
   "source": [
    "### Auxiliar function"
   ]
  },
  {
   "cell_type": "markdown",
   "metadata": {},
   "source": [
    "## authentication"
   ]
  },
  {
   "cell_type": "code",
   "execution_count": 4,
   "metadata": {
    "collapsed": false
   },
   "outputs": [],
   "source": [
    "# For unauthenticated requests, we need to create a NoAuthClient object:\n",
    "# USERNAME=\"hpclab\"\n",
    "# USR_BASE_URL = \"https://{user}.carto.com/\".format(user=USERNAME)\n",
    "# auth_client = NoAuthClient(base_url=USR_BASE_URL)"
   ]
  },
  {
   "cell_type": "code",
   "execution_count": 8,
   "metadata": {
    "collapsed": false
   },
   "outputs": [
    {
     "data": {
      "text/plain": [
       "<requests.sessions.Session at 0x7f025d62e0d0>"
      ]
     },
     "execution_count": 8,
     "metadata": {},
     "output_type": "execute_result"
    }
   ],
   "source": [
    "# For API key authenticated requests, we need to create an APIKeyAuthClient instance:\n",
    "USERNAME=\"hpclab\"\n",
    "APIKEY = \"e97d6bbf73f61f1faa5a3bafb81c370bdc131de5\"\n",
    "USR_BASE_URL = \"https://{user}.carto.com/\".format(user=USERNAME)\n",
    "auth_client = APIKeyAuthClient(api_key=APIKEY, base_url=USR_BASE_URL)\n"
   ]
  },
  {
   "cell_type": "code",
   "execution_count": 99,
   "metadata": {
    "collapsed": true
   },
   "outputs": [],
   "source": [
    "## common queries \n",
    "# query all the data\n",
    "query_all={\"query\": {\"match_all\": {}}}"
   ]
  },
  {
   "cell_type": "markdown",
   "metadata": {},
   "source": [
    "## ES - retrieval"
   ]
  },
  {
   "cell_type": "code",
   "execution_count": 182,
   "metadata": {
    "collapsed": false
   },
   "outputs": [
    {
     "data": {
      "text/plain": [
       "'I m'"
      ]
     },
     "execution_count": 182,
     "metadata": {},
     "output_type": "execute_result"
    }
   ],
   "source": [
    "str_a = \"I'm\"\n",
    "str_a.replace('\\'',  \" \")\n"
   ]
  },
  {
   "cell_type": "code",
   "execution_count": 184,
   "metadata": {
    "collapsed": false
   },
   "outputs": [
    {
     "name": "stdout",
     "output_type": "stream",
     "text": [
      "tweets 100\n"
     ]
    }
   ],
   "source": [
    "# es_url = 'test.tripbuilder.isti.cnr.it'\n",
    "# es_port = 9200\n",
    "# sync_cycle = 10\n",
    "\n",
    "# # query last hour\n",
    "# query_last_hour={    \n",
    "#     \"query\": {\n",
    "#         \"range\" : {\n",
    "#             \"created_at\" : {\n",
    "#                 \"gte\" : \"now-1h\"                \n",
    "#             }\n",
    "#         }\n",
    "#     }\n",
    "# }\n",
    "\n",
    "# # search on es\n",
    "# es = Elasticsearch([es_url], http_auth=('elastic', 'changeme'), port=es_port)\n",
    "# response = es.search(index=\"stream\", doc_type='tweet_snippet', size=100\n",
    "#                      , body=query_last_hour\n",
    "#                      , sort={\"created_at\": {\"order\" : \"asc\"}})\n",
    "\n",
    "# # cleaning results\n",
    "# tweets = [x['_source'] for x in response['hits']['hits']]\n",
    "\n",
    "# text as unicode\n",
    "for i in range(0, len(tweets)):\n",
    "    # tweets[i]['text'] = tweets[i]['text'].encode('utf-8')\n",
    "    tweets[i]['text'] = tweets[i]['text'].replace('\\'',  \" \")   \n",
    "    \n",
    "print \"tweets\", len(tweets)    "
   ]
  },
  {
   "cell_type": "markdown",
   "metadata": {},
   "source": [
    "## sql api"
   ]
  },
  {
   "cell_type": "code",
   "execution_count": 107,
   "metadata": {
    "collapsed": false
   },
   "outputs": [
    {
     "name": "stdout",
     "output_type": "stream",
     "text": [
      "[{u'the_geom_webmercator': None, u'cartodb_id': 2, u'the_geom': None, u'name': u'str', u'description': u'str'}, {u'the_geom_webmercator': None, u'cartodb_id': 1, u'the_geom': None, u'name': u'test', u'description': u'ops'}, {u'the_geom_webmercator': u'0101000020110F00007AAC558CFF2C5EC12EB177BA36925741', u'cartodb_id': 3, u'the_geom': u'0101000020E61000003CDBA337DCC351C06D37C1374D374840', u'name': u'str', u'description': u'str'}, {u'the_geom_webmercator': u'0101000020110F00007AAC558CFF2C5EC12EB177BA36925741', u'cartodb_id': 4, u'the_geom': u'0101000020E61000003CDBA337DCC351C06D37C1374D374840', u'name': u'str', u'description': u'str'}, {u'the_geom_webmercator': u'0101000020110F0000AC881E18CAAE55C1F9D630B76FEF5341', u'cartodb_id': 5, u'the_geom': u'0101000020E610000078B6476FB88749C06D37C1374D374540', u'name': u'str', u'description': u'str'}]\n"
     ]
    }
   ],
   "source": [
    "# select\n",
    "sql = SQLClient(auth_client)\n",
    "\n",
    "try:\n",
    "    data = sql.send('select * from test_table')\n",
    "except CartoException as e:\n",
    "    print(\"some error ocurred\", e)\n",
    "\n",
    "print data['rows']"
   ]
  },
  {
   "cell_type": "code",
   "execution_count": 151,
   "metadata": {
    "collapsed": true
   },
   "outputs": [],
   "source": [
    "def centroid(points):    \n",
    "    x_coords = [p[0] for p in points]\n",
    "    y_coords = [p[1] for p in points]   \n",
    "    _len = len(points)\n",
    "    centroid_x = sum(x_coords)/_len\n",
    "    centroid_y = sum(y_coords)/_len\n",
    "    return [centroid_x, centroid_y]"
   ]
  },
  {
   "cell_type": "code",
   "execution_count": 153,
   "metadata": {
    "collapsed": false
   },
   "outputs": [
    {
     "name": "stdout",
     "output_type": "stream",
     "text": [
      "[[-76.889372, 39.076292], [-76.889372, 39.115394], [-76.827105, 39.115394], [-76.827105, 39.076292]]\n",
      "[-76.8582385, 39.095843]\n",
      "[u'username', u'text', u'created_at', u'coordinates', u'id', u'bounding_box', u'img_category', u'day', u'media_url']\n"
     ]
    }
   ],
   "source": [
    "print tweets[2]['bounding_box']['coordinates'][0]\n",
    "print centroid(tweets[2]['bounding_box']['coordinates'][0])\n",
    "\n",
    "\n",
    "# print len(tweets[2]['bounding_box']['coordinates'][0])\n",
    "\n",
    "\n",
    "# sudo apt-get install libgeos-dev\n",
    "# sudo yum install geos-devel\n",
    "\n",
    "print tweets[2].keys()\n"
   ]
  },
  {
   "cell_type": "code",
   "execution_count": 166,
   "metadata": {
    "collapsed": false
   },
   "outputs": [
    {
     "name": "stdout",
     "output_type": "stream",
     "text": [
      "100\n"
     ]
    }
   ],
   "source": [
    "print len(tweets)"
   ]
  },
  {
   "cell_type": "code",
   "execution_count": 188,
   "metadata": {
    "collapsed": false
   },
   "outputs": [],
   "source": [
    "# insert\n",
    "\n",
    "import random\n",
    "import time\n",
    "\n",
    "# while True:\n",
    "#     print random.randint(0, 2)\n",
    "#     time.sleep(1)\n",
    "\n",
    "\n",
    "sql = SQLClient(auth_client)\n",
    "sql_str = ''\n",
    "for tweet in tweets:    \n",
    "    try:    \n",
    "        coordinates =  tweet['coordinates'] if tweet['coordinates'] is not None else centroid(tweet['bounding_box']['coordinates'][0])\n",
    "        the_geom = \"ST_GeomFromText('POINT({lng} {lat})', 4326)\".format(lng=coordinates[0], lat= coordinates[1])\n",
    "        \n",
    "        insert_value = \"{the_geom}, '{username}', '{img_category}', '{text}', {id}, '{media_url}', {day}\".format(\n",
    "            the_geom=the_geom, username=tweet['username'], img_category=tweet['img_category'], text=tweet['text'], id=tweet['id'], media_url=tweet['media_url'], day=tweet['day'])        \n",
    "        \n",
    "        sql_str = \"insert into tweets_stream (the_geom, username, img_category, text, id, media_url, day) values ({insert_value});\".format(insert_value=insert_value)    \n",
    "        # print sql_str\n",
    "        sql.send(sql_str)\n",
    "        \n",
    "        # time.sleep(15)\n",
    "        \n",
    "    except CartoException as e:\n",
    "        print \"some error ocurred\", e, sql_str\n",
    "        \n",
    "# print data['rows']"
   ]
  }
 ],
 "metadata": {
  "kernelspec": {
   "display_name": "Python 2",
   "language": "python",
   "name": "python2"
  },
  "language_info": {
   "codemirror_mode": {
    "name": "ipython",
    "version": 2
   },
   "file_extension": ".py",
   "mimetype": "text/x-python",
   "name": "python",
   "nbconvert_exporter": "python",
   "pygments_lexer": "ipython2",
   "version": "2.7.13"
  }
 },
 "nbformat": 4,
 "nbformat_minor": 2
}
